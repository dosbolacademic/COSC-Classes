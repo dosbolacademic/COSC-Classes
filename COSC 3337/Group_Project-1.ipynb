{
 "cells": [
  {
   "cell_type": "code",
   "execution_count": 5,
   "id": "626db25f",
   "metadata": {},
   "outputs": [],
   "source": [
    "import numpy as np\n",
    "import pandas as pd\n",
    "import matplotlib.pyplot as plt\n",
    "import seaborn as sns\n",
    "import warnings\n",
    "warnings.filterwarnings(\"ignore\")\n",
    "import plotly.express as px"
   ]
  },
  {
   "cell_type": "code",
   "execution_count": 6,
   "id": "8bb0cf77",
   "metadata": {},
   "outputs": [
    {
     "data": {
      "text/html": [
       "<div>\n",
       "<style scoped>\n",
       "    .dataframe tbody tr th:only-of-type {\n",
       "        vertical-align: middle;\n",
       "    }\n",
       "\n",
       "    .dataframe tbody tr th {\n",
       "        vertical-align: top;\n",
       "    }\n",
       "\n",
       "    .dataframe thead th {\n",
       "        text-align: right;\n",
       "    }\n",
       "</style>\n",
       "<table border=\"1\" class=\"dataframe\">\n",
       "  <thead>\n",
       "    <tr style=\"text-align: right;\">\n",
       "      <th></th>\n",
       "      <th>Index</th>\n",
       "      <th>Title</th>\n",
       "      <th>Artist</th>\n",
       "      <th>Top Genre</th>\n",
       "      <th>Year</th>\n",
       "      <th>Beats Per Minute (BPM)</th>\n",
       "      <th>Energy</th>\n",
       "      <th>Danceability</th>\n",
       "      <th>Loudness (dB)</th>\n",
       "      <th>Liveness</th>\n",
       "      <th>Valence</th>\n",
       "      <th>Length (Duration)</th>\n",
       "      <th>Acousticness</th>\n",
       "      <th>Speechiness</th>\n",
       "      <th>Popularity</th>\n",
       "    </tr>\n",
       "  </thead>\n",
       "  <tbody>\n",
       "    <tr>\n",
       "      <th>0</th>\n",
       "      <td>1</td>\n",
       "      <td>Sunrise</td>\n",
       "      <td>Norah Jones</td>\n",
       "      <td>adult standards</td>\n",
       "      <td>2004</td>\n",
       "      <td>157</td>\n",
       "      <td>30</td>\n",
       "      <td>53</td>\n",
       "      <td>-14</td>\n",
       "      <td>11</td>\n",
       "      <td>68</td>\n",
       "      <td>201</td>\n",
       "      <td>94</td>\n",
       "      <td>3</td>\n",
       "      <td>71</td>\n",
       "    </tr>\n",
       "    <tr>\n",
       "      <th>1</th>\n",
       "      <td>2</td>\n",
       "      <td>Black Night</td>\n",
       "      <td>Deep Purple</td>\n",
       "      <td>album rock</td>\n",
       "      <td>2000</td>\n",
       "      <td>135</td>\n",
       "      <td>79</td>\n",
       "      <td>50</td>\n",
       "      <td>-11</td>\n",
       "      <td>17</td>\n",
       "      <td>81</td>\n",
       "      <td>207</td>\n",
       "      <td>17</td>\n",
       "      <td>7</td>\n",
       "      <td>39</td>\n",
       "    </tr>\n",
       "    <tr>\n",
       "      <th>2</th>\n",
       "      <td>3</td>\n",
       "      <td>Clint Eastwood</td>\n",
       "      <td>Gorillaz</td>\n",
       "      <td>alternative hip hop</td>\n",
       "      <td>2001</td>\n",
       "      <td>168</td>\n",
       "      <td>69</td>\n",
       "      <td>66</td>\n",
       "      <td>-9</td>\n",
       "      <td>7</td>\n",
       "      <td>52</td>\n",
       "      <td>341</td>\n",
       "      <td>2</td>\n",
       "      <td>17</td>\n",
       "      <td>69</td>\n",
       "    </tr>\n",
       "    <tr>\n",
       "      <th>3</th>\n",
       "      <td>4</td>\n",
       "      <td>The Pretender</td>\n",
       "      <td>Foo Fighters</td>\n",
       "      <td>alternative metal</td>\n",
       "      <td>2007</td>\n",
       "      <td>173</td>\n",
       "      <td>96</td>\n",
       "      <td>43</td>\n",
       "      <td>-4</td>\n",
       "      <td>3</td>\n",
       "      <td>37</td>\n",
       "      <td>269</td>\n",
       "      <td>0</td>\n",
       "      <td>4</td>\n",
       "      <td>76</td>\n",
       "    </tr>\n",
       "    <tr>\n",
       "      <th>4</th>\n",
       "      <td>5</td>\n",
       "      <td>Waitin' On A Sunny Day</td>\n",
       "      <td>Bruce Springsteen</td>\n",
       "      <td>classic rock</td>\n",
       "      <td>2002</td>\n",
       "      <td>106</td>\n",
       "      <td>82</td>\n",
       "      <td>58</td>\n",
       "      <td>-5</td>\n",
       "      <td>10</td>\n",
       "      <td>87</td>\n",
       "      <td>256</td>\n",
       "      <td>1</td>\n",
       "      <td>3</td>\n",
       "      <td>59</td>\n",
       "    </tr>\n",
       "  </tbody>\n",
       "</table>\n",
       "</div>"
      ],
      "text/plain": [
       "   Index                   Title             Artist            Top Genre  \\\n",
       "0      1                 Sunrise        Norah Jones      adult standards   \n",
       "1      2             Black Night        Deep Purple           album rock   \n",
       "2      3          Clint Eastwood           Gorillaz  alternative hip hop   \n",
       "3      4           The Pretender       Foo Fighters    alternative metal   \n",
       "4      5  Waitin' On A Sunny Day  Bruce Springsteen         classic rock   \n",
       "\n",
       "   Year  Beats Per Minute (BPM)  Energy  Danceability  Loudness (dB)  \\\n",
       "0  2004                     157      30            53            -14   \n",
       "1  2000                     135      79            50            -11   \n",
       "2  2001                     168      69            66             -9   \n",
       "3  2007                     173      96            43             -4   \n",
       "4  2002                     106      82            58             -5   \n",
       "\n",
       "   Liveness  Valence Length (Duration)  Acousticness  Speechiness  Popularity  \n",
       "0        11       68               201            94            3          71  \n",
       "1        17       81               207            17            7          39  \n",
       "2         7       52               341             2           17          69  \n",
       "3         3       37               269             0            4          76  \n",
       "4        10       87               256             1            3          59  "
      ]
     },
     "execution_count": 6,
     "metadata": {},
     "output_type": "execute_result"
    }
   ],
   "source": [
    "spotify_df = pd.read_csv('Spotify-2000.csv')\n",
    "spotify_df.head()"
   ]
  },
  {
   "cell_type": "code",
   "execution_count": 7,
   "id": "1642cbd7",
   "metadata": {},
   "outputs": [
    {
     "name": "stdout",
     "output_type": "stream",
     "text": [
      "<class 'pandas.core.frame.DataFrame'>\n",
      "RangeIndex: 1994 entries, 0 to 1993\n",
      "Data columns (total 15 columns):\n",
      " #   Column                  Non-Null Count  Dtype \n",
      "---  ------                  --------------  ----- \n",
      " 0   Index                   1994 non-null   int64 \n",
      " 1   Title                   1994 non-null   object\n",
      " 2   Artist                  1994 non-null   object\n",
      " 3   Top Genre               1994 non-null   object\n",
      " 4   Year                    1994 non-null   int64 \n",
      " 5   Beats Per Minute (BPM)  1994 non-null   int64 \n",
      " 6   Energy                  1994 non-null   int64 \n",
      " 7   Danceability            1994 non-null   int64 \n",
      " 8   Loudness (dB)           1994 non-null   int64 \n",
      " 9   Liveness                1994 non-null   int64 \n",
      " 10  Valence                 1994 non-null   int64 \n",
      " 11  Length (Duration)       1994 non-null   object\n",
      " 12  Acousticness            1994 non-null   int64 \n",
      " 13  Speechiness             1994 non-null   int64 \n",
      " 14  Popularity              1994 non-null   int64 \n",
      "dtypes: int64(11), object(4)\n",
      "memory usage: 233.8+ KB\n"
     ]
    }
   ],
   "source": [
    "# printing more precise information of the data using info()\n",
    "spotify_df.info()"
   ]
  },
  {
   "cell_type": "code",
   "execution_count": 8,
   "id": "33576a11",
   "metadata": {},
   "outputs": [
    {
     "data": {
      "text/plain": [
       "Index                     1994\n",
       "Title                     1958\n",
       "Artist                     731\n",
       "Top Genre                  149\n",
       "Year                        63\n",
       "Beats Per Minute (BPM)     145\n",
       "Energy                      98\n",
       "Danceability                84\n",
       "Loudness (dB)               23\n",
       "Liveness                    94\n",
       "Valence                     97\n",
       "Length (Duration)          350\n",
       "Acousticness               100\n",
       "Speechiness                 37\n",
       "Popularity                  81\n",
       "dtype: int64"
      ]
     },
     "execution_count": 8,
     "metadata": {},
     "output_type": "execute_result"
    }
   ],
   "source": [
    "spotify_df.nunique()"
   ]
  },
  {
   "cell_type": "code",
   "execution_count": 8,
   "id": "71812bc0",
   "metadata": {},
   "outputs": [
    {
     "name": "stdout",
     "output_type": "stream",
     "text": [
      "There are 1994 unique values for feature Index: [ 1  2  3  4  5  6  7  8  9 10]\n",
      "There are 1958 unique values for feature Title: ['Sunrise' 'Black Night' 'Clint Eastwood' 'The Pretender'\n",
      " \"Waitin' On A Sunny Day\" 'The Road Ahead (Miles Of The Unknown)'\n",
      " 'She Will Be Loved' 'Knights of Cydonia' 'Mr. Brightside' 'Without Me']\n",
      "There are 731 unique values for feature Artist: ['Norah Jones' 'Deep Purple' 'Gorillaz' 'Foo Fighters' 'Bruce Springsteen'\n",
      " 'City To City' 'Maroon 5' 'Muse' 'The Killers' 'Eminem']\n",
      "There are 149 unique values for feature Top Genre: ['adult standards' 'album rock' 'alternative hip hop' 'alternative metal'\n",
      " 'classic rock' 'alternative pop rock' 'pop' 'modern rock'\n",
      " 'detroit hip hop' 'alternative rock']\n",
      "There are 63 unique values for feature Year: [2004 2000 2001 2007 2002 2006 2003 2005 2009 2008]\n",
      "There are 145 unique values for feature Beats Per Minute (BPM): [157 135 168 173 106  99 102 137 148 112]\n",
      "There are 98 unique values for feature Energy: [30 79 69 96 82 46 71 92 67  5]\n",
      "There are 84 unique values for feature Danceability: [53 50 66 43 58 54 71 37 36 91]\n",
      "There are 23 unique values for feature Loudness (dB): [-14 -11  -9  -4  -5  -6  -3 -16  -8  -2]\n",
      "There are 94 unique values for feature Liveness: [11 17  7  3 10 14 13 12 24 26]\n",
      "There are 97 unique values for feature Valence: [68 81 52 37 87 14 54 21 23 66]\n",
      "There are 350 unique values for feature Length (Duration): [201 207 341 269 256 247 257 366 223 290]\n",
      "There are 100 unique values for feature Acousticness: [94 17  2  0  1  6 88 18 84 57]\n",
      "There are 37 unique values for feature Speechiness: [ 3  7 17  4  2 14  8 10  6 18]\n",
      "There are 81 unique values for feature Popularity: [71 39 69 76 59 45 74 77 82 49]\n"
     ]
    }
   ],
   "source": [
    "for feature in spotify_df.columns:\n",
    "  unique = spotify_df[feature].unique()\n",
    "  print(f\"There are {len(unique)} unique values for feature {feature}: {unique[:10]}\")"
   ]
  },
  {
   "cell_type": "code",
   "execution_count": 9,
   "id": "843bb04d",
   "metadata": {},
   "outputs": [
    {
     "data": {
      "text/html": [
       "<div>\n",
       "<style scoped>\n",
       "    .dataframe tbody tr th:only-of-type {\n",
       "        vertical-align: middle;\n",
       "    }\n",
       "\n",
       "    .dataframe tbody tr th {\n",
       "        vertical-align: top;\n",
       "    }\n",
       "\n",
       "    .dataframe thead th {\n",
       "        text-align: right;\n",
       "    }\n",
       "</style>\n",
       "<table border=\"1\" class=\"dataframe\">\n",
       "  <thead>\n",
       "    <tr style=\"text-align: right;\">\n",
       "      <th></th>\n",
       "      <th>Index</th>\n",
       "      <th>Title</th>\n",
       "      <th>Artist</th>\n",
       "      <th>Top Genre</th>\n",
       "      <th>Year</th>\n",
       "      <th>Beats Per Minute (BPM)</th>\n",
       "      <th>Energy</th>\n",
       "      <th>Danceability</th>\n",
       "      <th>Loudness (dB)</th>\n",
       "      <th>Liveness</th>\n",
       "      <th>Valence</th>\n",
       "      <th>Length (Duration)</th>\n",
       "      <th>Acousticness</th>\n",
       "      <th>Speechiness</th>\n",
       "      <th>Popularity</th>\n",
       "    </tr>\n",
       "  </thead>\n",
       "  <tbody>\n",
       "    <tr>\n",
       "      <th>1793</th>\n",
       "      <td>1794</td>\n",
       "      <td>Sacrifice</td>\n",
       "      <td>Anouk</td>\n",
       "      <td>dutch indie</td>\n",
       "      <td>1998</td>\n",
       "      <td>136</td>\n",
       "      <td>17</td>\n",
       "      <td>54</td>\n",
       "      <td>-13</td>\n",
       "      <td>9</td>\n",
       "      <td>24</td>\n",
       "      <td>238</td>\n",
       "      <td>74</td>\n",
       "      <td>5</td>\n",
       "      <td>11</td>\n",
       "    </tr>\n",
       "    <tr>\n",
       "      <th>773</th>\n",
       "      <td>774</td>\n",
       "      <td>Hou Vol Hou Vast</td>\n",
       "      <td>BLØF</td>\n",
       "      <td>dutch pop</td>\n",
       "      <td>2018</td>\n",
       "      <td>86</td>\n",
       "      <td>61</td>\n",
       "      <td>51</td>\n",
       "      <td>-5</td>\n",
       "      <td>8</td>\n",
       "      <td>23</td>\n",
       "      <td>295</td>\n",
       "      <td>0</td>\n",
       "      <td>2</td>\n",
       "      <td>12</td>\n",
       "    </tr>\n",
       "    <tr>\n",
       "      <th>624</th>\n",
       "      <td>625</td>\n",
       "      <td>Three Days In A Row</td>\n",
       "      <td>Anouk</td>\n",
       "      <td>dutch indie</td>\n",
       "      <td>2015</td>\n",
       "      <td>171</td>\n",
       "      <td>50</td>\n",
       "      <td>36</td>\n",
       "      <td>-6</td>\n",
       "      <td>16</td>\n",
       "      <td>39</td>\n",
       "      <td>254</td>\n",
       "      <td>0</td>\n",
       "      <td>3</td>\n",
       "      <td>13</td>\n",
       "    </tr>\n",
       "    <tr>\n",
       "      <th>411</th>\n",
       "      <td>412</td>\n",
       "      <td>Peter Gunn Theme</td>\n",
       "      <td>Emerson, Lake &amp; Palmer</td>\n",
       "      <td>album rock</td>\n",
       "      <td>2010</td>\n",
       "      <td>131</td>\n",
       "      <td>83</td>\n",
       "      <td>43</td>\n",
       "      <td>-7</td>\n",
       "      <td>92</td>\n",
       "      <td>71</td>\n",
       "      <td>217</td>\n",
       "      <td>1</td>\n",
       "      <td>3</td>\n",
       "      <td>14</td>\n",
       "    </tr>\n",
       "    <tr>\n",
       "      <th>605</th>\n",
       "      <td>606</td>\n",
       "      <td>Het Dorp - Live</td>\n",
       "      <td>Wim Sonneveld</td>\n",
       "      <td>dutch cabaret</td>\n",
       "      <td>2015</td>\n",
       "      <td>114</td>\n",
       "      <td>44</td>\n",
       "      <td>37</td>\n",
       "      <td>-15</td>\n",
       "      <td>67</td>\n",
       "      <td>45</td>\n",
       "      <td>198</td>\n",
       "      <td>82</td>\n",
       "      <td>8</td>\n",
       "      <td>15</td>\n",
       "    </tr>\n",
       "    <tr>\n",
       "      <th>753</th>\n",
       "      <td>754</td>\n",
       "      <td>Malle Babbe</td>\n",
       "      <td>Rob De Nijs</td>\n",
       "      <td>dutch pop</td>\n",
       "      <td>2018</td>\n",
       "      <td>87</td>\n",
       "      <td>38</td>\n",
       "      <td>35</td>\n",
       "      <td>-10</td>\n",
       "      <td>12</td>\n",
       "      <td>53</td>\n",
       "      <td>253</td>\n",
       "      <td>73</td>\n",
       "      <td>4</td>\n",
       "      <td>15</td>\n",
       "    </tr>\n",
       "    <tr>\n",
       "      <th>752</th>\n",
       "      <td>753</td>\n",
       "      <td>Banger Hart - Radio Mix</td>\n",
       "      <td>Rob De Nijs</td>\n",
       "      <td>dutch pop</td>\n",
       "      <td>2018</td>\n",
       "      <td>124</td>\n",
       "      <td>89</td>\n",
       "      <td>77</td>\n",
       "      <td>-9</td>\n",
       "      <td>6</td>\n",
       "      <td>97</td>\n",
       "      <td>261</td>\n",
       "      <td>7</td>\n",
       "      <td>4</td>\n",
       "      <td>16</td>\n",
       "    </tr>\n",
       "    <tr>\n",
       "      <th>24</th>\n",
       "      <td>25</td>\n",
       "      <td>Dichterbij Dan Ooit</td>\n",
       "      <td>BLØF</td>\n",
       "      <td>dutch pop</td>\n",
       "      <td>2002</td>\n",
       "      <td>112</td>\n",
       "      <td>74</td>\n",
       "      <td>65</td>\n",
       "      <td>-7</td>\n",
       "      <td>23</td>\n",
       "      <td>52</td>\n",
       "      <td>261</td>\n",
       "      <td>18</td>\n",
       "      <td>3</td>\n",
       "      <td>16</td>\n",
       "    </tr>\n",
       "    <tr>\n",
       "      <th>626</th>\n",
       "      <td>627</td>\n",
       "      <td>R U Kiddin' Me</td>\n",
       "      <td>Anouk</td>\n",
       "      <td>dutch indie</td>\n",
       "      <td>2015</td>\n",
       "      <td>89</td>\n",
       "      <td>82</td>\n",
       "      <td>53</td>\n",
       "      <td>-6</td>\n",
       "      <td>9</td>\n",
       "      <td>69</td>\n",
       "      <td>200</td>\n",
       "      <td>1</td>\n",
       "      <td>4</td>\n",
       "      <td>16</td>\n",
       "    </tr>\n",
       "    <tr>\n",
       "      <th>754</th>\n",
       "      <td>755</td>\n",
       "      <td>Vluchten Kan Niet Meer</td>\n",
       "      <td>Frans Halsema</td>\n",
       "      <td>dutch rock</td>\n",
       "      <td>2018</td>\n",
       "      <td>87</td>\n",
       "      <td>25</td>\n",
       "      <td>41</td>\n",
       "      <td>-13</td>\n",
       "      <td>38</td>\n",
       "      <td>32</td>\n",
       "      <td>221</td>\n",
       "      <td>74</td>\n",
       "      <td>3</td>\n",
       "      <td>17</td>\n",
       "    </tr>\n",
       "  </tbody>\n",
       "</table>\n",
       "</div>"
      ],
      "text/plain": [
       "      Index                    Title                  Artist      Top Genre  \\\n",
       "1793   1794                Sacrifice                   Anouk    dutch indie   \n",
       "773     774         Hou Vol Hou Vast                    BLØF      dutch pop   \n",
       "624     625      Three Days In A Row                   Anouk    dutch indie   \n",
       "411     412         Peter Gunn Theme  Emerson, Lake & Palmer     album rock   \n",
       "605     606          Het Dorp - Live           Wim Sonneveld  dutch cabaret   \n",
       "753     754              Malle Babbe             Rob De Nijs      dutch pop   \n",
       "752     753  Banger Hart - Radio Mix             Rob De Nijs      dutch pop   \n",
       "24       25      Dichterbij Dan Ooit                    BLØF      dutch pop   \n",
       "626     627           R U Kiddin' Me                   Anouk    dutch indie   \n",
       "754     755   Vluchten Kan Niet Meer           Frans Halsema     dutch rock   \n",
       "\n",
       "      Year  Beats Per Minute (BPM)  Energy  Danceability  Loudness (dB)  \\\n",
       "1793  1998                     136      17            54            -13   \n",
       "773   2018                      86      61            51             -5   \n",
       "624   2015                     171      50            36             -6   \n",
       "411   2010                     131      83            43             -7   \n",
       "605   2015                     114      44            37            -15   \n",
       "753   2018                      87      38            35            -10   \n",
       "752   2018                     124      89            77             -9   \n",
       "24    2002                     112      74            65             -7   \n",
       "626   2015                      89      82            53             -6   \n",
       "754   2018                      87      25            41            -13   \n",
       "\n",
       "      Liveness  Valence  Length (Duration)  Acousticness  Speechiness  \\\n",
       "1793         9       24                238            74            5   \n",
       "773          8       23                295             0            2   \n",
       "624         16       39                254             0            3   \n",
       "411         92       71                217             1            3   \n",
       "605         67       45                198            82            8   \n",
       "753         12       53                253            73            4   \n",
       "752          6       97                261             7            4   \n",
       "24          23       52                261            18            3   \n",
       "626          9       69                200             1            4   \n",
       "754         38       32                221            74            3   \n",
       "\n",
       "      Popularity  \n",
       "1793          11  \n",
       "773           12  \n",
       "624           13  \n",
       "411           14  \n",
       "605           15  \n",
       "753           15  \n",
       "752           16  \n",
       "24            16  \n",
       "626           16  \n",
       "754           17  "
      ]
     },
     "execution_count": 9,
     "metadata": {},
     "output_type": "execute_result"
    }
   ],
   "source": [
    "# Dosbol -> Top 10 list of popular songs\n",
    "TopSongs=spotify_df.sort_values(\"Popularity\",ascending=True).head(10)\n",
    "TopSongs"
   ]
  },
  {
   "cell_type": "code",
   "execution_count": 10,
   "id": "56c2fb0d",
   "metadata": {},
   "outputs": [
    {
     "data": {
      "text/html": [
       "<div>\n",
       "<style scoped>\n",
       "    .dataframe tbody tr th:only-of-type {\n",
       "        vertical-align: middle;\n",
       "    }\n",
       "\n",
       "    .dataframe tbody tr th {\n",
       "        vertical-align: top;\n",
       "    }\n",
       "\n",
       "    .dataframe thead th {\n",
       "        text-align: right;\n",
       "    }\n",
       "</style>\n",
       "<table border=\"1\" class=\"dataframe\">\n",
       "  <thead>\n",
       "    <tr style=\"text-align: right;\">\n",
       "      <th></th>\n",
       "      <th>Index</th>\n",
       "      <th>Title</th>\n",
       "      <th>Artist</th>\n",
       "      <th>Top Genre</th>\n",
       "      <th>Year</th>\n",
       "      <th>Beats Per Minute (BPM)</th>\n",
       "      <th>Energy</th>\n",
       "      <th>Danceability</th>\n",
       "      <th>Loudness (dB)</th>\n",
       "      <th>Liveness</th>\n",
       "      <th>Valence</th>\n",
       "      <th>Length (Duration)</th>\n",
       "      <th>Acousticness</th>\n",
       "      <th>Speechiness</th>\n",
       "      <th>Popularity</th>\n",
       "    </tr>\n",
       "  </thead>\n",
       "  <tbody>\n",
       "    <tr>\n",
       "      <th>793</th>\n",
       "      <td>794</td>\n",
       "      <td>Dance Monkey</td>\n",
       "      <td>Tones and I</td>\n",
       "      <td>australian pop</td>\n",
       "      <td>2019</td>\n",
       "      <td>98</td>\n",
       "      <td>59</td>\n",
       "      <td>82</td>\n",
       "      <td>-6</td>\n",
       "      <td>15</td>\n",
       "      <td>51</td>\n",
       "      <td>209</td>\n",
       "      <td>69</td>\n",
       "      <td>9</td>\n",
       "      <td>100</td>\n",
       "    </tr>\n",
       "    <tr>\n",
       "      <th>787</th>\n",
       "      <td>788</td>\n",
       "      <td>Memories</td>\n",
       "      <td>Maroon 5</td>\n",
       "      <td>pop</td>\n",
       "      <td>2019</td>\n",
       "      <td>91</td>\n",
       "      <td>32</td>\n",
       "      <td>76</td>\n",
       "      <td>-7</td>\n",
       "      <td>8</td>\n",
       "      <td>57</td>\n",
       "      <td>189</td>\n",
       "      <td>84</td>\n",
       "      <td>5</td>\n",
       "      <td>98</td>\n",
       "    </tr>\n",
       "    <tr>\n",
       "      <th>786</th>\n",
       "      <td>787</td>\n",
       "      <td>bad guy</td>\n",
       "      <td>Billie Eilish</td>\n",
       "      <td>electropop</td>\n",
       "      <td>2019</td>\n",
       "      <td>135</td>\n",
       "      <td>43</td>\n",
       "      <td>70</td>\n",
       "      <td>-11</td>\n",
       "      <td>10</td>\n",
       "      <td>56</td>\n",
       "      <td>194</td>\n",
       "      <td>33</td>\n",
       "      <td>38</td>\n",
       "      <td>95</td>\n",
       "    </tr>\n",
       "    <tr>\n",
       "      <th>1641</th>\n",
       "      <td>1642</td>\n",
       "      <td>All I Want for Christmas Is You</td>\n",
       "      <td>Mariah Carey</td>\n",
       "      <td>dance pop</td>\n",
       "      <td>1994</td>\n",
       "      <td>150</td>\n",
       "      <td>63</td>\n",
       "      <td>34</td>\n",
       "      <td>-7</td>\n",
       "      <td>7</td>\n",
       "      <td>35</td>\n",
       "      <td>241</td>\n",
       "      <td>16</td>\n",
       "      <td>4</td>\n",
       "      <td>95</td>\n",
       "    </tr>\n",
       "  </tbody>\n",
       "</table>\n",
       "</div>"
      ],
      "text/plain": [
       "      Index                            Title         Artist       Top Genre  \\\n",
       "793     794                     Dance Monkey    Tones and I  australian pop   \n",
       "787     788                         Memories       Maroon 5             pop   \n",
       "786     787                          bad guy  Billie Eilish      electropop   \n",
       "1641   1642  All I Want for Christmas Is You   Mariah Carey       dance pop   \n",
       "\n",
       "      Year  Beats Per Minute (BPM)  Energy  Danceability  Loudness (dB)  \\\n",
       "793   2019                      98      59            82             -6   \n",
       "787   2019                      91      32            76             -7   \n",
       "786   2019                     135      43            70            -11   \n",
       "1641  1994                     150      63            34             -7   \n",
       "\n",
       "      Liveness  Valence  Length (Duration)  Acousticness  Speechiness  \\\n",
       "793         15       51                209            69            9   \n",
       "787          8       57                189            84            5   \n",
       "786         10       56                194            33           38   \n",
       "1641         7       35                241            16            4   \n",
       "\n",
       "      Popularity  \n",
       "793          100  \n",
       "787           98  \n",
       "786           95  \n",
       "1641          95  "
      ]
     },
     "execution_count": 10,
     "metadata": {},
     "output_type": "execute_result"
    }
   ],
   "source": [
    "most_popular=spotify_df.query(\"Popularity>90\",inplace=False).sort_values(\"Popularity\",ascending=False)\n",
    "most_popular"
   ]
  },
  {
   "cell_type": "code",
   "execution_count": 11,
   "id": "f49ba292",
   "metadata": {},
   "outputs": [
    {
     "data": {
      "image/png": "[encoded data removed]",
      "text/plain": [
       "<Figure size 1008x432 with 2 Axes>"
      ]
     },
     "metadata": {
      "needs_background": "light"
     },
     "output_type": "display_data"
    }
   ],
   "source": [
    "#HeatMap after deleting Feature Index\n",
    "corr_df=spotify_df.drop([\"Index\"],axis=1).corr(method=\"pearson\")\n",
    "plt.figure(figsize=(14,6))\n",
    "heatmap=sns.heatmap(corr_df,annot=True,fmt=\".1g\",vmin=-1,vmax=1,center=0,cmap=\"inferno\",linewidths=1,linecolor=\"Black\")\n",
    "heatmap.set_title(\"Correlation HeatMap Between Variable\")\n",
    "heatmap.set_xticklabels(heatmap.get_xticklabels(),rotation=90)\n",
    "plt.show()"
   ]
  },
  {
   "cell_type": "code",
   "execution_count": 12,
   "id": "38527666",
   "metadata": {},
   "outputs": [
    {
     "name": "stdout",
     "output_type": "stream",
     "text": [
      "199\n"
     ]
    }
   ],
   "source": [
    "sample_df=spotify_df.sample(int(0.1*len(spotify_df)))\n",
    "print(len(sample_df))"
   ]
  },
  {
   "cell_type": "code",
   "execution_count": 13,
   "id": "459db671",
   "metadata": {},
   "outputs": [
    {
     "data": {
      "image/png": "[encoded data removed]",
      "text/plain": [
       "<Figure size 1440x576 with 2 Axes>"
      ]
     },
     "metadata": {
      "needs_background": "light"
     },
     "output_type": "display_data"
    }
   ],
   "source": [
    "\n",
    "plt.figure(figsize=(20,8))\n",
    "\n",
    "plt.subplot(2,2,1)\n",
    "plt.title('Car Length vs Price')\n",
    "sns.regplot(data=sample_df, y=\"Loudness (dB)\",x=\"Energy\",color=\"grey\").set(title=(\"Loundness VS Energy\"))\n",
    "\n",
    "plt.subplot(2,2,2)\n",
    "plt.title('Car Length vs Price')\n",
    "sns.regplot(data=sample_df, y=\"Popularity\",x=\"Acousticness\",color=\"blue\").set(title=(\"Popularity VS Acousticness\"))\n",
    "\n",
    "plt.show()"
   ]
  },
  {
   "cell_type": "code",
   "execution_count": 15,
   "id": "a6943896",
   "metadata": {},
   "outputs": [
    {
     "data": {
      "image/png": "[encoded data removed]",
      "text/plain": [
       "<Figure size 1296x504 with 1 Axes>"
      ]
     },
     "metadata": {
      "needs_background": "light"
     },
     "output_type": "display_data"
    }
   ],
   "source": [
    "total_dr=spotify_df[\"Length (Duration)\"]\n",
    "fig_dims=(18,7)\n",
    "fig, ax = plt.subplots(figsize=fig_dims)\n",
    "fig=sns.barplot(x=spotify_df[\"Year\"],y=total_dr,ax=ax, errwidth=False).set(title=\"Year Vs Duration\")\n",
    "plt.xticks(rotation=90)\n",
    "plt.show()"
   ]
  },
  {
   "cell_type": "code",
   "execution_count": 4,
   "id": "2ccd5662",
   "metadata": {},
   "outputs": [
    {
     "data": {
      "image/png": "[encoded data removed]",
      "text/plain": [
       "<Figure size 1440x576 with 1 Axes>"
      ]
     },
     "metadata": {
      "needs_background": "light"
     },
     "output_type": "display_data"
    }
   ],
   "source": [
    "plt.figure(figsize=(20,8))\n",
    "sns.histplot(spotify_df['Year'])\n",
    "plt.show()"
   ]
  },
  {
   "cell_type": "code",
   "execution_count": 15,
   "id": "88a04a55",
   "metadata": {},
   "outputs": [
    {
     "data": {
      "image/png": "[encoded data removed]",
      "text/plain": [
       "<Figure size 720x360 with 1 Axes>"
      ]
     },
     "metadata": {},
     "output_type": "display_data"
    }
   ],
   "source": [
    "total_dr=spotify_df[\"Length (Duration)\"]\n",
    "sns.set_style(style=\"whitegrid\")\n",
    "fig_dims=(10,5)\n",
    "fig, ax = plt.subplots(figsize=fig_dims)\n",
    "fig=sns.lineplot(x=spotify_df[\"Year\"],y=total_dr,ax=ax).set(title=\"Year Vs Duration\")\n",
    "plt.xticks(rotation=60)\n",
    "plt.show()"
   ]
  },
  {
   "cell_type": "code",
   "execution_count": 55,
   "id": "519f168c",
   "metadata": {},
   "outputs": [
    {
     "data": {
      "text/plain": [
       "<Figure size 1440x576 with 0 Axes>"
      ]
     },
     "metadata": {},
     "output_type": "display_data"
    },
    {
     "data": {
      "image/png": "[encoded data removed]",
      "text/plain": [
       "<Figure size 432x288 with 1 Axes>"
      ]
     },
     "metadata": {},
     "output_type": "display_data"
    }
   ],
   "source": [
    "plt.figure(figsize=(20,8))\n",
    "df_loudness = spotify_df[[\"Year\", \"Loudness (dB)\"]].set_index(\"Year\")\n",
    "df_loudness.plot()\n",
    "plt.ylabel(\"dB\")\n",
    "plt.show()"
   ]
  },
  {
   "cell_type": "code",
   "execution_count": null,
   "id": "0ebb475a",
   "metadata": {},
   "outputs": [],
   "source": [
    "plt.title(\"Duration of the Songs in Different Genres\")\n",
    "sns.color_palette(\"rocket\",as_cmap=True)\n",
    "sns.barplot(y='Top Genre',x='Length (Duration)',data=spotify_df)\n",
    "plt.xlabel(\"DUration in milli seconds\")\n",
    "plt.ylabel(\"TOP GENRES\")\n",
    "plt.show()\n",
    "\n",
    "# STILL WORKING ON IT"
   ]
  },
  {
   "cell_type": "code",
   "execution_count": 14,
   "id": "666b6d8d",
   "metadata": {},
   "outputs": [
    {
     "data": {
      "image/png": "[encoded data removed]",
      "text/plain": [
       "<Figure size 720x360 with 1 Axes>"
      ]
     },
     "metadata": {},
     "output_type": "display_data"
    }
   ],
   "source": [
    "sns.set_style(style=\"darkgrid\")\n",
    "plt.figure(figsize=(10,5))\n",
    "famous=spotify_df.sort_values(\"Popularity\", ascending= False).head(5)\n",
    "x=sns.barplot(y=\"Top Genre\",x=\"Popularity\",data=famous).set(title=\"Top 5 Genres by Popularity\")\n",
    "\n",
    "plt.show()"
   ]
  },
  {
   "cell_type": "code",
   "execution_count": 29,
   "id": "ac33196c",
   "metadata": {},
   "outputs": [
    {
     "data": {
      "text/html": [
       "<div>\n",
       "<style scoped>\n",
       "    .dataframe tbody tr th:only-of-type {\n",
       "        vertical-align: middle;\n",
       "    }\n",
       "\n",
       "    .dataframe tbody tr th {\n",
       "        vertical-align: top;\n",
       "    }\n",
       "\n",
       "    .dataframe thead th {\n",
       "        text-align: right;\n",
       "    }\n",
       "</style>\n",
       "<table border=\"1\" class=\"dataframe\">\n",
       "  <thead>\n",
       "    <tr style=\"text-align: right;\">\n",
       "      <th></th>\n",
       "      <th>Popularity</th>\n",
       "      <th>Danceability</th>\n",
       "    </tr>\n",
       "  </thead>\n",
       "  <tbody>\n",
       "    <tr>\n",
       "      <th>0</th>\n",
       "      <td>100</td>\n",
       "      <td>82.0</td>\n",
       "    </tr>\n",
       "    <tr>\n",
       "      <th>1</th>\n",
       "      <td>98</td>\n",
       "      <td>76.0</td>\n",
       "    </tr>\n",
       "    <tr>\n",
       "      <th>2</th>\n",
       "      <td>88</td>\n",
       "      <td>67.5</td>\n",
       "    </tr>\n",
       "    <tr>\n",
       "      <th>3</th>\n",
       "      <td>87</td>\n",
       "      <td>67.0</td>\n",
       "    </tr>\n",
       "    <tr>\n",
       "      <th>4</th>\n",
       "      <td>16</td>\n",
       "      <td>65.0</td>\n",
       "    </tr>\n",
       "  </tbody>\n",
       "</table>\n",
       "</div>"
      ],
      "text/plain": [
       "   Popularity  Danceability\n",
       "0         100          82.0\n",
       "1          98          76.0\n",
       "2          88          67.5\n",
       "3          87          67.0\n",
       "4          16          65.0"
      ]
     },
     "execution_count": 29,
     "metadata": {},
     "output_type": "execute_result"
    }
   ],
   "source": [
    "df_1=spotify_df.groupby('Popularity')['Danceability'].mean().sort_values(ascending=[False]).reset_index()\n",
    "df_1.head()"
   ]
  },
  {
   "cell_type": "code",
   "execution_count": 32,
   "id": "b8432222",
   "metadata": {},
   "outputs": [
    {
     "data": {
      "text/html": [
       "<div>\n",
       "<style scoped>\n",
       "    .dataframe tbody tr th:only-of-type {\n",
       "        vertical-align: middle;\n",
       "    }\n",
       "\n",
       "    .dataframe tbody tr th {\n",
       "        vertical-align: top;\n",
       "    }\n",
       "\n",
       "    .dataframe thead th {\n",
       "        text-align: right;\n",
       "    }\n",
       "</style>\n",
       "<table border=\"1\" class=\"dataframe\">\n",
       "  <thead>\n",
       "    <tr style=\"text-align: right;\">\n",
       "      <th></th>\n",
       "      <th>Index</th>\n",
       "      <th>Title</th>\n",
       "      <th>Artist</th>\n",
       "      <th>Top Genre</th>\n",
       "      <th>Year</th>\n",
       "      <th>Beats Per Minute (BPM)</th>\n",
       "      <th>Energy</th>\n",
       "      <th>Danceability</th>\n",
       "      <th>Loudness (dB)</th>\n",
       "      <th>Liveness</th>\n",
       "      <th>Valence</th>\n",
       "      <th>Length (Duration)</th>\n",
       "      <th>Acousticness</th>\n",
       "      <th>Speechiness</th>\n",
       "      <th>Popularity</th>\n",
       "    </tr>\n",
       "  </thead>\n",
       "  <tbody>\n",
       "    <tr>\n",
       "      <th>0</th>\n",
       "      <td>1</td>\n",
       "      <td>Sunrise</td>\n",
       "      <td>Norah Jones</td>\n",
       "      <td>adult standards</td>\n",
       "      <td>2004</td>\n",
       "      <td>157</td>\n",
       "      <td>30</td>\n",
       "      <td>53</td>\n",
       "      <td>-14</td>\n",
       "      <td>11</td>\n",
       "      <td>68</td>\n",
       "      <td>201</td>\n",
       "      <td>94</td>\n",
       "      <td>3</td>\n",
       "      <td>71</td>\n",
       "    </tr>\n",
       "    <tr>\n",
       "      <th>1</th>\n",
       "      <td>2</td>\n",
       "      <td>Black Night</td>\n",
       "      <td>Deep Purple</td>\n",
       "      <td>album rock</td>\n",
       "      <td>2000</td>\n",
       "      <td>135</td>\n",
       "      <td>79</td>\n",
       "      <td>50</td>\n",
       "      <td>-11</td>\n",
       "      <td>17</td>\n",
       "      <td>81</td>\n",
       "      <td>207</td>\n",
       "      <td>17</td>\n",
       "      <td>7</td>\n",
       "      <td>39</td>\n",
       "    </tr>\n",
       "    <tr>\n",
       "      <th>2</th>\n",
       "      <td>3</td>\n",
       "      <td>Clint Eastwood</td>\n",
       "      <td>Gorillaz</td>\n",
       "      <td>alternative hip hop</td>\n",
       "      <td>2001</td>\n",
       "      <td>168</td>\n",
       "      <td>69</td>\n",
       "      <td>66</td>\n",
       "      <td>-9</td>\n",
       "      <td>7</td>\n",
       "      <td>52</td>\n",
       "      <td>341</td>\n",
       "      <td>2</td>\n",
       "      <td>17</td>\n",
       "      <td>69</td>\n",
       "    </tr>\n",
       "    <tr>\n",
       "      <th>3</th>\n",
       "      <td>4</td>\n",
       "      <td>The Pretender</td>\n",
       "      <td>Foo Fighters</td>\n",
       "      <td>alternative metal</td>\n",
       "      <td>2007</td>\n",
       "      <td>173</td>\n",
       "      <td>96</td>\n",
       "      <td>43</td>\n",
       "      <td>-4</td>\n",
       "      <td>3</td>\n",
       "      <td>37</td>\n",
       "      <td>269</td>\n",
       "      <td>0</td>\n",
       "      <td>4</td>\n",
       "      <td>76</td>\n",
       "    </tr>\n",
       "    <tr>\n",
       "      <th>4</th>\n",
       "      <td>5</td>\n",
       "      <td>Waitin' On A Sunny Day</td>\n",
       "      <td>Bruce Springsteen</td>\n",
       "      <td>classic rock</td>\n",
       "      <td>2002</td>\n",
       "      <td>106</td>\n",
       "      <td>82</td>\n",
       "      <td>58</td>\n",
       "      <td>-5</td>\n",
       "      <td>10</td>\n",
       "      <td>87</td>\n",
       "      <td>256</td>\n",
       "      <td>1</td>\n",
       "      <td>3</td>\n",
       "      <td>59</td>\n",
       "    </tr>\n",
       "  </tbody>\n",
       "</table>\n",
       "</div>"
      ],
      "text/plain": [
       "   Index                   Title             Artist            Top Genre  \\\n",
       "0      1                 Sunrise        Norah Jones      adult standards   \n",
       "1      2             Black Night        Deep Purple           album rock   \n",
       "2      3          Clint Eastwood           Gorillaz  alternative hip hop   \n",
       "3      4           The Pretender       Foo Fighters    alternative metal   \n",
       "4      5  Waitin' On A Sunny Day  Bruce Springsteen         classic rock   \n",
       "\n",
       "   Year  Beats Per Minute (BPM)  Energy  Danceability  Loudness (dB)  \\\n",
       "0  2004                     157      30            53            -14   \n",
       "1  2000                     135      79            50            -11   \n",
       "2  2001                     168      69            66             -9   \n",
       "3  2007                     173      96            43             -4   \n",
       "4  2002                     106      82            58             -5   \n",
       "\n",
       "   Liveness  Valence Length (Duration)  Acousticness  Speechiness  Popularity  \n",
       "0        11       68               201            94            3          71  \n",
       "1        17       81               207            17            7          39  \n",
       "2         7       52               341             2           17          69  \n",
       "3         3       37               269             0            4          76  \n",
       "4        10       87               256             1            3          59  "
      ]
     },
     "execution_count": 32,
     "metadata": {},
     "output_type": "execute_result"
    }
   ],
   "source": [
    "df_genre=spotify_df[spotify_df[\"Top Genre\"]!='[]']\n",
    "df_genre.head()"
   ]
  },
  {
   "cell_type": "code",
   "execution_count": 48,
   "id": "00085f2f",
   "metadata": {},
   "outputs": [
    {
     "ename": "ValueError",
     "evalue": "x and y must have same first dimension, but have shapes (15,) and (12,)",
     "output_type": "error",
     "traceback": [
      "\u001b[1;31m---------------------------------------------------------------------------\u001b[0m",
      "\u001b[1;31mValueError\u001b[0m                                Traceback (most recent call last)",
      "\u001b[1;32m<ipython-input-48-8555deca5d94>\u001b[0m in \u001b[0;36m<module>\u001b[1;34m\u001b[0m\n\u001b[0;32m      7\u001b[0m \u001b[1;33m\u001b[0m\u001b[0m\n\u001b[0;32m      8\u001b[0m \u001b[0max\u001b[0m \u001b[1;33m=\u001b[0m \u001b[0mfig\u001b[0m\u001b[1;33m.\u001b[0m\u001b[0madd_subplot\u001b[0m\u001b[1;33m(\u001b[0m\u001b[1;36m221\u001b[0m\u001b[1;33m,\u001b[0m \u001b[0mpolar\u001b[0m\u001b[1;33m=\u001b[0m\u001b[1;32mTrue\u001b[0m\u001b[1;33m)\u001b[0m\u001b[1;33m\u001b[0m\u001b[1;33m\u001b[0m\u001b[0m\n\u001b[1;32m----> 9\u001b[1;33m \u001b[0max\u001b[0m\u001b[1;33m.\u001b[0m\u001b[0mplot\u001b[0m\u001b[1;33m(\u001b[0m\u001b[0mangles\u001b[0m\u001b[1;33m,\u001b[0m \u001b[0mfeatures\u001b[0m\u001b[1;33m,\u001b[0m \u001b[1;34m'o-'\u001b[0m\u001b[1;33m,\u001b[0m \u001b[0mlinewidth\u001b[0m\u001b[1;33m=\u001b[0m\u001b[1;36m2\u001b[0m\u001b[1;33m,\u001b[0m \u001b[0mlabel\u001b[0m \u001b[1;33m=\u001b[0m \u001b[1;34m\"Popular\"\u001b[0m\u001b[1;33m,\u001b[0m \u001b[0mcolor\u001b[0m\u001b[1;33m=\u001b[0m \u001b[1;34m'blue'\u001b[0m\u001b[1;33m)\u001b[0m\u001b[1;33m\u001b[0m\u001b[1;33m\u001b[0m\u001b[0m\n\u001b[0m\u001b[0;32m     10\u001b[0m \u001b[0max\u001b[0m\u001b[1;33m.\u001b[0m\u001b[0mfill\u001b[0m\u001b[1;33m(\u001b[0m\u001b[0mangles\u001b[0m\u001b[1;33m,\u001b[0m \u001b[0mfeatures\u001b[0m\u001b[1;33m,\u001b[0m \u001b[0malpha\u001b[0m\u001b[1;33m=\u001b[0m\u001b[1;36m0.25\u001b[0m\u001b[1;33m,\u001b[0m \u001b[0mfacecolor\u001b[0m\u001b[1;33m=\u001b[0m\u001b[1;34m'blue'\u001b[0m\u001b[1;33m)\u001b[0m\u001b[1;33m\u001b[0m\u001b[1;33m\u001b[0m\u001b[0m\n\u001b[0;32m     11\u001b[0m \u001b[0max\u001b[0m\u001b[1;33m.\u001b[0m\u001b[0mset_thetagrids\u001b[0m\u001b[1;33m(\u001b[0m\u001b[0mangles\u001b[0m \u001b[1;33m*\u001b[0m \u001b[1;36m180\u001b[0m\u001b[1;33m/\u001b[0m\u001b[0mnp\u001b[0m\u001b[1;33m.\u001b[0m\u001b[0mpi\u001b[0m\u001b[1;33m,\u001b[0m \u001b[0mlabels\u001b[0m \u001b[1;33m,\u001b[0m \u001b[0mfontsize\u001b[0m \u001b[1;33m=\u001b[0m \u001b[1;36m13\u001b[0m\u001b[1;33m)\u001b[0m\u001b[1;33m\u001b[0m\u001b[1;33m\u001b[0m\u001b[0m\n",
      "\u001b[1;32m~\\anaconda3\\lib\\site-packages\\matplotlib\\axes\\_axes.py\u001b[0m in \u001b[0;36mplot\u001b[1;34m(self, scalex, scaley, data, *args, **kwargs)\u001b[0m\n\u001b[0;32m   1741\u001b[0m         \"\"\"\n\u001b[0;32m   1742\u001b[0m         \u001b[0mkwargs\u001b[0m \u001b[1;33m=\u001b[0m \u001b[0mcbook\u001b[0m\u001b[1;33m.\u001b[0m\u001b[0mnormalize_kwargs\u001b[0m\u001b[1;33m(\u001b[0m\u001b[0mkwargs\u001b[0m\u001b[1;33m,\u001b[0m \u001b[0mmlines\u001b[0m\u001b[1;33m.\u001b[0m\u001b[0mLine2D\u001b[0m\u001b[1;33m)\u001b[0m\u001b[1;33m\u001b[0m\u001b[1;33m\u001b[0m\u001b[0m\n\u001b[1;32m-> 1743\u001b[1;33m         \u001b[0mlines\u001b[0m \u001b[1;33m=\u001b[0m \u001b[1;33m[\u001b[0m\u001b[1;33m*\u001b[0m\u001b[0mself\u001b[0m\u001b[1;33m.\u001b[0m\u001b[0m_get_lines\u001b[0m\u001b[1;33m(\u001b[0m\u001b[1;33m*\u001b[0m\u001b[0margs\u001b[0m\u001b[1;33m,\u001b[0m \u001b[0mdata\u001b[0m\u001b[1;33m=\u001b[0m\u001b[0mdata\u001b[0m\u001b[1;33m,\u001b[0m \u001b[1;33m**\u001b[0m\u001b[0mkwargs\u001b[0m\u001b[1;33m)\u001b[0m\u001b[1;33m]\u001b[0m\u001b[1;33m\u001b[0m\u001b[1;33m\u001b[0m\u001b[0m\n\u001b[0m\u001b[0;32m   1744\u001b[0m         \u001b[1;32mfor\u001b[0m \u001b[0mline\u001b[0m \u001b[1;32min\u001b[0m \u001b[0mlines\u001b[0m\u001b[1;33m:\u001b[0m\u001b[1;33m\u001b[0m\u001b[1;33m\u001b[0m\u001b[0m\n\u001b[0;32m   1745\u001b[0m             \u001b[0mself\u001b[0m\u001b[1;33m.\u001b[0m\u001b[0madd_line\u001b[0m\u001b[1;33m(\u001b[0m\u001b[0mline\u001b[0m\u001b[1;33m)\u001b[0m\u001b[1;33m\u001b[0m\u001b[1;33m\u001b[0m\u001b[0m\n",
      "\u001b[1;32m~\\anaconda3\\lib\\site-packages\\matplotlib\\axes\\_base.py\u001b[0m in \u001b[0;36m__call__\u001b[1;34m(self, data, *args, **kwargs)\u001b[0m\n\u001b[0;32m    271\u001b[0m                 \u001b[0mthis\u001b[0m \u001b[1;33m+=\u001b[0m \u001b[0margs\u001b[0m\u001b[1;33m[\u001b[0m\u001b[1;36m0\u001b[0m\u001b[1;33m]\u001b[0m\u001b[1;33m,\u001b[0m\u001b[1;33m\u001b[0m\u001b[1;33m\u001b[0m\u001b[0m\n\u001b[0;32m    272\u001b[0m                 \u001b[0margs\u001b[0m \u001b[1;33m=\u001b[0m \u001b[0margs\u001b[0m\u001b[1;33m[\u001b[0m\u001b[1;36m1\u001b[0m\u001b[1;33m:\u001b[0m\u001b[1;33m]\u001b[0m\u001b[1;33m\u001b[0m\u001b[1;33m\u001b[0m\u001b[0m\n\u001b[1;32m--> 273\u001b[1;33m             \u001b[1;32myield\u001b[0m \u001b[1;32mfrom\u001b[0m \u001b[0mself\u001b[0m\u001b[1;33m.\u001b[0m\u001b[0m_plot_args\u001b[0m\u001b[1;33m(\u001b[0m\u001b[0mthis\u001b[0m\u001b[1;33m,\u001b[0m \u001b[0mkwargs\u001b[0m\u001b[1;33m)\u001b[0m\u001b[1;33m\u001b[0m\u001b[1;33m\u001b[0m\u001b[0m\n\u001b[0m\u001b[0;32m    274\u001b[0m \u001b[1;33m\u001b[0m\u001b[0m\n\u001b[0;32m    275\u001b[0m     \u001b[1;32mdef\u001b[0m \u001b[0mget_next_color\u001b[0m\u001b[1;33m(\u001b[0m\u001b[0mself\u001b[0m\u001b[1;33m)\u001b[0m\u001b[1;33m:\u001b[0m\u001b[1;33m\u001b[0m\u001b[1;33m\u001b[0m\u001b[0m\n",
      "\u001b[1;32m~\\anaconda3\\lib\\site-packages\\matplotlib\\axes\\_base.py\u001b[0m in \u001b[0;36m_plot_args\u001b[1;34m(self, tup, kwargs)\u001b[0m\n\u001b[0;32m    397\u001b[0m \u001b[1;33m\u001b[0m\u001b[0m\n\u001b[0;32m    398\u001b[0m         \u001b[1;32mif\u001b[0m \u001b[0mx\u001b[0m\u001b[1;33m.\u001b[0m\u001b[0mshape\u001b[0m\u001b[1;33m[\u001b[0m\u001b[1;36m0\u001b[0m\u001b[1;33m]\u001b[0m \u001b[1;33m!=\u001b[0m \u001b[0my\u001b[0m\u001b[1;33m.\u001b[0m\u001b[0mshape\u001b[0m\u001b[1;33m[\u001b[0m\u001b[1;36m0\u001b[0m\u001b[1;33m]\u001b[0m\u001b[1;33m:\u001b[0m\u001b[1;33m\u001b[0m\u001b[1;33m\u001b[0m\u001b[0m\n\u001b[1;32m--> 399\u001b[1;33m             raise ValueError(f\"x and y must have same first dimension, but \"\n\u001b[0m\u001b[0;32m    400\u001b[0m                              f\"have shapes {x.shape} and {y.shape}\")\n\u001b[0;32m    401\u001b[0m         \u001b[1;32mif\u001b[0m \u001b[0mx\u001b[0m\u001b[1;33m.\u001b[0m\u001b[0mndim\u001b[0m \u001b[1;33m>\u001b[0m \u001b[1;36m2\u001b[0m \u001b[1;32mor\u001b[0m \u001b[0my\u001b[0m\u001b[1;33m.\u001b[0m\u001b[0mndim\u001b[0m \u001b[1;33m>\u001b[0m \u001b[1;36m2\u001b[0m\u001b[1;33m:\u001b[0m\u001b[1;33m\u001b[0m\u001b[1;33m\u001b[0m\u001b[0m\n",
      "\u001b[1;31mValueError\u001b[0m: x and y must have same first dimension, but have shapes (15,) and (12,)"
     ]
    },
    {
     "data": {
      "image/png": "[encoded data removed]",
      "text/plain": [
       "<Figure size 1296x1296 with 1 Axes>"
      ]
     },
     "metadata": {},
     "output_type": "display_data"
    }
   ],
   "source": [
    "labels = list(most_popular)[:]\n",
    "features = most_popular.mean().tolist()\n",
    "features_all = less_popular.mean().tolist()\n",
    "\n",
    "angles = np.linspace(0, 2*np.pi, len(labels), endpoint=False)\n",
    "fig = plt.figure(figsize = (18,18))\n",
    "\n",
    "ax = fig.add_subplot(221, polar=True)\n",
    "ax.plot(angles, features, 'o-', linewidth=2, label = \"Popular\", color= 'blue')\n",
    "ax.fill(angles, features, alpha=0.25, facecolor='blue')\n",
    "ax.set_thetagrids(angles * 180/np.pi, labels , fontsize = 13)\n",
    "\n",
    "\n",
    "ax.set_rlabel_position(250)\n",
    "plt.yticks([0.1 , 0.2 , 0.3 , 0.4, 0.5,  0.6, 0.7], [\"0.1\",'0.2', \"0.3\", \"0.4\", \"0.5\", \"0.6\", '0.7'  ], size=12)\n",
    "plt.ylim(0,0.7)\n",
    "\n",
    "ax.plot(angles, features_all, 'o-', linewidth=2, label = \"All the Dataset\", color= 'orange')\n",
    "ax.fill(angles, features_all, alpha=0.25, facecolor='orange')\n",
    "ax.set_title('Mean Values')\n",
    "ax.grid(True)\n",
    "\n",
    "plt.legend(loc='best', bbox_to_anchor=(0.1, 0.1))"
   ]
  },
  {
   "cell_type": "code",
   "execution_count": 62,
   "id": "cc2b7338",
   "metadata": {},
   "outputs": [
    {
     "data": {
      "application/vnd.plotly.v1+json": {
       "config": {
        "plotlyServerURL": "https://plot.ly"
       },
       "data": [
        {
         "alignmentgroup": "True",
         "hovertemplate": "Popularity=71<br>Artist=%{y}<extra></extra>",
         "legendgroup": "71",
         "marker": {
          "color": "#636efa"
         },
         "name": "71",
         "notched": false,
         "offsetgroup": "71",
         "orientation": "v",
         "showlegend": true,
         "type": "box",
         "x0": " ",
         "xaxis": "x",
         "y": [
          "Norah Jones",
          "Eminem",
          "Daft Punk",
          "Christina Aguilera",
          "Sam Cooke",
          "Madonna",
          "Coldplay",
          "Ed Sheeran",
          "Sia",
          "Dua Lipa",
          "Snelle",
          "Simon & Garfunkel",
          "Creedence Clearwater Revival",
          "Johnny Cash",
          "Janis Joplin",
          "David Bowie",
          "The Rolling Stones",
          "The Who",
          "Neil Young",
          "Lynyrd Skynyrd",
          "Paul McCartney",
          "The Doobie Brothers",
          "Ramones",
          "Bob Marley & The Wailers",
          "REO Speedwagon",
          "Marvin Gaye",
          "Michael Jackson",
          "David Bowie",
          "Marvin Gaye",
          "Bronski Beat",
          "Tears For Fears",
          "Guns N' Roses",
          "Sting",
          "Alannah Myles",
          "Sinéad O'Connor",
          "Tom Petty and the Heartbreakers",
          "Alice In Chains",
          "Neil Young",
          "Beastie Boys",
          "Oasis",
          "The Smashing Pumpkins",
          "Radiohead",
          "Johnny Cash",
          "The Beatles",
          "Bob Dylan",
          "The Who",
          "The Beatles",
          "Jimi Hendrix",
          "The Beach Boys"
         ],
         "y0": " ",
         "yaxis": "y"
        },
        {
         "alignmentgroup": "True",
         "hovertemplate": "Popularity=39<br>Artist=%{y}<extra></extra>",
         "legendgroup": "39",
         "marker": {
          "color": "#EF553B"
         },
         "name": "39",
         "notched": false,
         "offsetgroup": "39",
         "orientation": "v",
         "showlegend": true,
         "type": "box",
         "x0": " ",
         "xaxis": "x",
         "y": [
          "Deep Purple",
          "Manic Street Preachers",
          "IOS",
          "Mark Knopfler",
          "Doe Maar",
          "Daniël Lohues",
          "Neet Oét Lottum",
          "Kane",
          "Maggie MacNeal",
          "The Who",
          "Waylon",
          "The Buoys",
          "Diesel",
          "Golden Earring",
          "U2",
          "Clouseau",
          "Mannenkoor Karrespoor",
          "Genesis",
          "Vitesse",
          "Valensia",
          "Stef Bos",
          "Herman van Veen"
         ],
         "y0": " ",
         "yaxis": "y"
        },
        {
         "alignmentgroup": "True",
         "hovertemplate": "Popularity=69<br>Artist=%{y}<extra></extra>",
         "legendgroup": "69",
         "marker": {
          "color": "#00cc96"
         },
         "name": "69",
         "notched": false,
         "offsetgroup": "69",
         "orientation": "v",
         "showlegend": true,
         "type": "box",
         "x0": " ",
         "xaxis": "x",
         "y": [
          "Gorillaz",
          "Muse",
          "Coldplay",
          "The Killers",
          "Pearl Jam",
          "James Blunt",
          "The Black Eyed Peas",
          "Jamiroquai",
          "Foo Fighters",
          "Muse",
          "John Legend",
          "Florence + The Machine",
          "Lady Gaga",
          "Foo Fighters",
          "The Black Keys",
          "Mumford & Sons",
          "Avicii",
          "Muse",
          "Coldplay",
          "Michael Jackson",
          "George Michael",
          "Rag'n'Bone Man",
          "Creedence Clearwater Revival",
          "Don McLean",
          "Marvin Gaye",
          "Lou Reed",
          "America",
          "Steely Dan",
          "Marvin Gaye",
          "John Denver",
          "Bachman-Turner Overdrive",
          "Barry Manilow",
          "Led Zeppelin",
          "Eagles",
          "Paul Simon",
          "Bob Dylan",
          "CHIC",
          "Gerry Rafferty",
          "The Doobie Brothers",
          "Talking Heads",
          "Bruce Springsteen",
          "Talk Talk",
          "Prince",
          "Cyndi Lauper",
          "The B-52's",
          "Scorpions",
          "Elton John",
          "Metallica",
          "Marc Cohn",
          "Crowded House",
          "Sting",
          "Tina Turner",
          "The Cranberries",
          "Michael Jackson",
          "Massive Attack",
          "Bob Dylan",
          "The Animals",
          "Bob Dylan",
          "The Beatles",
          "The Beatles",
          "Jefferson Airplane",
          "Jimi Hendrix",
          "The Beatles",
          "Jefferson Airplane",
          "Aretha Franklin",
          "The Monkees",
          "Joe Cocker",
          "The Who",
          "Elvis Presley"
         ],
         "y0": " ",
         "yaxis": "y"
        },
        {
         "alignmentgroup": "True",
         "hovertemplate": "Popularity=76<br>Artist=%{y}<extra></extra>",
         "legendgroup": "76",
         "marker": {
          "color": "#ab63fa"
         },
         "name": "76",
         "notched": false,
         "offsetgroup": "76",
         "orientation": "v",
         "showlegend": true,
         "type": "box",
         "x0": " ",
         "xaxis": "x",
         "y": [
          "Foo Fighters",
          "Kings of Leon",
          "Muse",
          "John Mayer",
          "MGMT",
          "Natasha Bedingfield",
          "Red Hot Chili Peppers",
          "James Blunt",
          "Coldplay",
          "P!nk",
          "Gotye",
          "Ed Sheeran",
          "Beyoncé",
          "Passenger",
          "Robin Thicke",
          "Tame Impala",
          "KALEO",
          "P!nk",
          "George Harrison",
          "Bill Withers",
          "Slade",
          "Queen",
          "Bob Marley & The Wailers",
          "Dolly Parton",
          "The Rolling Stones",
          "Phil Collins",
          "Cyndi Lauper",
          "Don Henley",
          "Bryan Adams",
          "Survivor",
          "U2",
          "Michael Jackson",
          "Roxette",
          "Tom Petty",
          "Counting Crows",
          "Soundgarden",
          "Bon Jovi",
          "Blackstreet",
          "George Michael",
          "Aerosmith",
          "The Mamas & The Papas",
          "Simon & Garfunkel",
          "The Rolling Stones",
          "Led Zeppelin"
         ],
         "y0": " ",
         "yaxis": "y"
        },
        {
         "alignmentgroup": "True",
         "hovertemplate": "Popularity=59<br>Artist=%{y}<extra></extra>",
         "legendgroup": "59",
         "marker": {
          "color": "#FFA15A"
         },
         "name": "59",
         "notched": false,
         "offsetgroup": "59",
         "orientation": "v",
         "showlegend": true,
         "type": "box",
         "x0": " ",
         "xaxis": "x",
         "y": [
          "Bruce Springsteen",
          "Youssou N'Dour",
          "Santa Esmeralda",
          "Status Quo",
          "Andre Hazes",
          "Santana",
          "Tenacious D",
          "Counting Crows",
          "Gossip",
          "Michel Sardou",
          "Sarah Brightman",
          "Nick & Simon",
          "Adele",
          "Abel",
          "Queens of the Stone Age",
          "Rihanna",
          "Mr. Probz",
          "Kensington",
          "The Script",
          "Marco Borsato",
          "The War On Drugs",
          "Queen",
          "Supertramp",
          "Barbra Streisand",
          "J.J. Cale",
          "Billy Joel",
          "Neil Diamond",
          "ABBA",
          "ABBA",
          "Lionel Richie",
          "U2",
          "Tina Turner",
          "John Denver",
          "Ultravox",
          "Talk Talk",
          "Michael Jackson",
          "Fleetwood Mac",
          "Fleetwood Mac",
          "U2",
          "Temple Of The Dog",
          "Bon Jovi",
          "Meat Loaf",
          "Pink Floyd",
          "Jeff Buckley",
          "Nick Cave & The Bad Seeds",
          "The Waterboys",
          "Elvis Presley",
          "Bee Gees",
          "Neil Diamond",
          "Shocking Blue",
          "Creedence Clearwater Revival"
         ],
         "y0": " ",
         "yaxis": "y"
        },
        {
         "alignmentgroup": "True",
         "hovertemplate": "Popularity=45<br>Artist=%{y}<extra></extra>",
         "legendgroup": "45",
         "marker": {
          "color": "#19d3f3"
         },
         "name": "45",
         "notched": false,
         "offsetgroup": "45",
         "orientation": "v",
         "showlegend": true,
         "type": "box",
         "x0": " ",
         "xaxis": "x",
         "y": [
          "City To City",
          "Elbow",
          "Spinvis",
          "De Poema's",
          "Within Temptation",
          "U2",
          "Deep Purple",
          "ABBA",
          "Genesis",
          "Depeche Mode",
          "Peter Gabriel",
          "Suzanne Vega",
          "Marianne Rosenberg",
          "TOTO",
          "Barry Ryan",
          "The Amazing Stroopwafels",
          "Hans De Booij",
          "Queen",
          "The Police",
          "George Michael",
          "Moby",
          "The Beatles",
          "Liesbeth List",
          "Rare Earth"
         ],
         "y0": " ",
         "yaxis": "y"
        },
        {
         "alignmentgroup": "True",
         "hovertemplate": "Popularity=74<br>Artist=%{y}<extra></extra>",
         "legendgroup": "74",
         "marker": {
          "color": "#FF6692"
         },
         "name": "74",
         "notched": false,
         "offsetgroup": "74",
         "orientation": "v",
         "showlegend": true,
         "type": "box",
         "x0": " ",
         "xaxis": "x",
         "y": [
          "Maroon 5",
          "The White Stripes",
          "Justin Timberlake",
          "Norah Jones",
          "Franz Ferdinand",
          "The Proclaimers",
          "John Mayer",
          "Amy Winehouse",
          "UB40",
          "Evanescence",
          "The Script",
          "Red Hot Chili Peppers",
          "Amy Winehouse",
          "Ronan Keating",
          "Adele",
          "OneRepublic",
          "James Bay",
          "Coldplay",
          "Phil Collins",
          "Red Hot Chili Peppers",
          "Green Day",
          "Yusuf / Cat Stevens",
          "The Doors",
          "Don McLean",
          "David Bowie",
          "ZZ Top",
          "Bob Dylan",
          "Dolly Parton",
          "David Bowie",
          "Chicago",
          "Thin Lizzy",
          "Supertramp",
          "Heart",
          "Bob Marley & The Wailers",
          "The Rolling Stones",
          "The Police",
          "Michael Jackson",
          "Motörhead",
          "Queen",
          "The Human League",
          "Bruce Springsteen",
          "Alphaville",
          "Chris de Burgh",
          "Prince",
          "Phil Collins",
          "Nirvana",
          "Metallica",
          "Guns N' Roses",
          "R.E.M.",
          "House Of Pain",
          "Nirvana",
          "The Smashing Pumpkins",
          "Men At Work",
          "Fugees",
          "Radiohead",
          "Foo Fighters",
          "Etta James",
          "The Beatles",
          "Nina Simone",
          "The Beatles",
          "Cream",
          "The Beatles",
          "Cream",
          "Chuck Berry"
         ],
         "y0": " ",
         "yaxis": "y"
        },
        {
         "alignmentgroup": "True",
         "hovertemplate": "Popularity=77<br>Artist=%{y}<extra></extra>",
         "legendgroup": "77",
         "marker": {
          "color": "#B6E880"
         },
         "name": "77",
         "notched": false,
         "offsetgroup": "77",
         "orientation": "v",
         "showlegend": true,
         "type": "box",
         "x0": " ",
         "xaxis": "x",
         "y": [
          "The Killers",
          "Backstreet Boys",
          "3 Doors Down",
          "Eminem",
          "Green Day",
          "Amy Winehouse",
          "JAY-Z",
          "Train",
          "Stevie Wonder",
          "Bon Jovi",
          "JAY-Z",
          "Daft Punk",
          "Justin Timberlake",
          "Hozier",
          "Elton John",
          "Led Zeppelin",
          "The Who",
          "America",
          "Queen",
          "Fleetwood Mac",
          "Kansas",
          "Pink Floyd",
          "Bee Gees",
          "Bob Marley & The Wailers",
          "Phil Collins",
          "Billy Joel",
          "Bruce Springsteen",
          "Foreigner",
          "Tracy Chapman",
          "Scorpions",
          "U2",
          "Guns N' Roses",
          "Whitney Houston",
          "John Denver",
          "Foo Fighters",
          "Red Hot Chili Peppers",
          "Frank Sinatra",
          "Ben E. King",
          "The Rolling Stones",
          "Jimi Hendrix",
          "Creedence Clearwater Revival"
         ],
         "y0": " ",
         "yaxis": "y"
        },
        {
         "alignmentgroup": "True",
         "hovertemplate": "Popularity=82<br>Artist=%{y}<extra></extra>",
         "legendgroup": "82",
         "marker": {
          "color": "#FF97FF"
         },
         "name": "82",
         "notched": false,
         "offsetgroup": "82",
         "orientation": "v",
         "showlegend": true,
         "type": "box",
         "x0": " ",
         "xaxis": "x",
         "y": [
          "Eminem",
          "Coldplay",
          "Jason Mraz",
          "Bruno Mars",
          "Arctic Monkeys",
          "WALK THE MOON",
          "Mark Ronson",
          "Imagine Dragons",
          "Earth, Wind & Fire",
          "George Ezra",
          "Shawn Mendes",
          "Elton John",
          "Lynyrd Skynyrd",
          "Eagles",
          "Radiohead",
          "The Beatles"
         ],
         "y0": " ",
         "yaxis": "y"
        },
        {
         "alignmentgroup": "True",
         "hovertemplate": "Popularity=49<br>Artist=%{y}<extra></extra>",
         "legendgroup": "49",
         "marker": {
          "color": "#FECB52"
         },
         "name": "49",
         "notched": false,
         "offsetgroup": "49",
         "orientation": "v",
         "showlegend": true,
         "type": "box",
         "x0": " ",
         "xaxis": "x",
         "y": [
          "Elvis Presley",
          "Marco Borsato",
          "Snow Patrol",
          "Neil Young",
          "Doe Maar",
          "Doe Maar",
          "Tavares",
          "Live",
          "Lisa Lois",
          "Lange Frans",
          "U2",
          "Guus Meeuwis",
          "Jonathan Jeremiah",
          "Ray Charles",
          "Stromae",
          "London Grammar",
          "Tom Odell",
          "Paolo Nutini",
          "Nielson",
          "Kensington",
          "Kensington",
          "Little River Band",
          "ABBA",
          "Diana Ross",
          "Rob De Nijs",
          "The Babys",
          "Alice Cooper",
          "ABBA",
          "Earth & Fire",
          "Fischer-Z",
          "Queen",
          "Paul Simon",
          "Fleetwood Mac",
          "Crowded House",
          "Billy Joel",
          "Fleetwood Mac",
          "UB40",
          "Queen",
          "Normaal",
          "Queen",
          "Simply Red",
          "Al Stewart",
          "Otis Redding",
          "Queen",
          "Queen",
          "Guus Meeuwis",
          "Acda en de Munnik",
          "Henk Westbroek"
         ],
         "y0": " ",
         "yaxis": "y"
        },
        {
         "alignmentgroup": "True",
         "hovertemplate": "Popularity=34<br>Artist=%{y}<extra></extra>",
         "legendgroup": "34",
         "marker": {
          "color": "#636efa"
         },
         "name": "34",
         "notched": false,
         "offsetgroup": "34",
         "orientation": "v",
         "showlegend": true,
         "type": "box",
         "x0": " ",
         "xaxis": "x",
         "y": [
          "De Dijk",
          "Golden Earring",
          "The Rolling Stones",
          "Rowwen Hèze",
          "Van Dik Hout",
          "Drs. P",
          "Gavin James",
          "Madness",
          "Orchestral Manoeuvres In The Dark",
          "Cuby & The Blizzards"
         ],
         "y0": " ",
         "yaxis": "y"
        },
        {
         "alignmentgroup": "True",
         "hovertemplate": "Popularity=26<br>Artist=%{y}<extra></extra>",
         "legendgroup": "26",
         "marker": {
          "color": "#EF553B"
         },
         "name": "26",
         "notched": false,
         "offsetgroup": "26",
         "orientation": "v",
         "showlegend": true,
         "type": "box",
         "x0": " ",
         "xaxis": "x",
         "y": [
          "Ten Years After",
          "Golden Earrings",
          "Racoon",
          "Editors",
          "Andre Hazes",
          "Douwe Bob",
          "Spider Murphy Gang",
          "De Dijk",
          "De Dijk"
         ],
         "y0": " ",
         "yaxis": "y"
        },
        {
         "alignmentgroup": "True",
         "hovertemplate": "Popularity=66<br>Artist=%{y}<extra></extra>",
         "legendgroup": "66",
         "marker": {
          "color": "#00cc96"
         },
         "name": "66",
         "notched": false,
         "offsetgroup": "66",
         "orientation": "v",
         "showlegend": true,
         "type": "box",
         "x0": " ",
         "xaxis": "x",
         "y": [
          "Arctic Monkeys",
          "John Mayer",
          "The Black Eyed Peas",
          "Spandau Ballet",
          "Madonna",
          "Madonna",
          "Eddie Vedder",
          "Kings of Leon",
          "Adele",
          "Ben Howard",
          "Imagine Dragons",
          "Rihanna",
          "Imagine Dragons",
          "Queens of the Stone Age",
          "Taylor Swift",
          "Michael Kiwanuka",
          "John Mayer",
          "Arcade Fire",
          "Creedence Clearwater Revival",
          "David Bowie",
          "Janis Joplin",
          "Yes",
          "Alice Cooper",
          "Eagles",
          "Pink Floyd",
          "The Hollies",
          "Pink Floyd",
          "Bruce Springsteen",
          "Peter Frampton",
          "Queen",
          "Dire Straits",
          "The Police",
          "Patti Smith",
          "Patrick Hernandez",
          "Supertramp",
          "Bruce Springsteen",
          "Queen",
          "Wham!",
          "Queen",
          "Alphaville",
          "Whitney Houston",
          "Bruce Hornsby",
          "U2",
          "Guns N' Roses",
          "Rick Astley",
          "Pet Shop Boys",
          "Tears For Fears",
          "Ozzy Osbourne",
          "Bonnie Raitt",
          "Tina Turner",
          "Sade",
          "Andrea Bocelli",
          "The Prodigy",
          "George Michael",
          "Sam Cooke",
          "The Beatles",
          "Percy Sledge",
          "Leonard Cohen",
          "The Kinks",
          "Bee Gees",
          "Bee Gees",
          "The Beatles",
          "Louis Armstrong"
         ],
         "y0": " ",
         "yaxis": "y"
        },
        {
         "alignmentgroup": "True",
         "hovertemplate": "Popularity=48<br>Artist=%{y}<extra></extra>",
         "legendgroup": "48",
         "marker": {
          "color": "#ab63fa"
         },
         "name": "48",
         "notched": false,
         "offsetgroup": "48",
         "orientation": "v",
         "showlegend": true,
         "type": "box",
         "x0": " ",
         "xaxis": "x",
         "y": [
          "Paul de Leeuw",
          "Herbert Grönemeyer",
          "Doe Maar",
          "Twarres",
          "Peter Schilling",
          "Novastar",
          "Nick & Simon",
          "Bruce Springsteen",
          "De Jeugd Van Tegenwoordig",
          "Cock Robin",
          "Agnes Obel",
          "BLØF",
          "Snow Patrol",
          "Bastille",
          "The Sugarhill Gang",
          "Kraftwerk",
          "Roger Glover",
          "Janis Ian",
          "ABBA",
          "Earth, Wind & Fire",
          "Herman Brood & His Wild Romance",
          "ABBA",
          "Joe Jackson",
          "The The",
          "Queen",
          "Rowwen Hèze",
          "Queen",
          "The Prodigy",
          "Eros Ramazzotti",
          "Frank Boeijen",
          "Live",
          "Tim Hardin",
          "The Cats",
          "Nina Simone",
          "Fleetwood Mac"
         ],
         "y0": " ",
         "yaxis": "y"
        },
        {
         "alignmentgroup": "True",
         "hovertemplate": "Popularity=57<br>Artist=%{y}<extra></extra>",
         "legendgroup": "57",
         "marker": {
          "color": "#FFA15A"
         },
         "name": "57",
         "notched": false,
         "offsetgroup": "57",
         "orientation": "v",
         "showlegend": true,
         "type": "box",
         "x0": " ",
         "xaxis": "x",
         "y": [
          "Alanis Morissette",
          "Robert Plant",
          "U2",
          "Volbeat",
          "Marco Borsato",
          "Coldplay",
          "Faithless",
          "Muse",
          "Acda en de Munnik",
          "Arctic Monkeys",
          "Damien Rice",
          "Guus Meeuwis",
          "Mumford & Sons",
          "The Opposites",
          "Mumford & Sons",
          "Volbeat",
          "Kensington",
          "Jean-Michel Jarre",
          "John Lennon",
          "Golden Earring",
          "Joe Cocker",
          "Meat Loaf",
          "Art Garfunkel",
          "David Bowie",
          "The Alan Parsons Project",
          "David Bowie",
          "Chris Rea",
          "Slayer",
          "Peter Gabriel",
          "Bruce Springsteen",
          "Melissa Etheridge",
          "Enya",
          "Phil Collins",
          "Stef Bos",
          "Talk Talk",
          "SNAP!",
          "Iron Butterfly",
          "Laura Pausini",
          "Crash Test Dummies",
          "Nirvana",
          "Van Halen",
          "Neil Diamond",
          "George Michael",
          "BLØF",
          "Roy Orbison",
          "Ike & Tina Turner",
          "Bee Gees",
          "Ralph McTell"
         ],
         "y0": " ",
         "yaxis": "y"
        },
        {
         "alignmentgroup": "True",
         "hovertemplate": "Popularity=46<br>Artist=%{y}<extra></extra>",
         "legendgroup": "46",
         "marker": {
          "color": "#19d3f3"
         },
         "name": "46",
         "notched": false,
         "offsetgroup": "46",
         "orientation": "v",
         "showlegend": true,
         "type": "box",
         "x0": " ",
         "xaxis": "x",
         "y": [
          "John Miles",
          "The Dubliners",
          "Billy Joel",
          "De Jeugd Van Tegenwoordig",
          "10cc",
          "BLØF",
          "Anouk",
          "Muse",
          "Emeli Sandé",
          "Eric Clapton",
          "Steve Harley & Cockney Rebel",
          "Reinhard Mey",
          "Donna Summer",
          "ABBA",
          "Drukwerk",
          "Het Goede Doel",
          "Barbra Streisand",
          "U2",
          "Dire Straits",
          "David Bowie",
          "Frank Boeijen Groep",
          "Tanita Tikaram",
          "Roxy Music",
          "Prince",
          "Skik",
          "George Michael",
          "The Rolling Stones",
          "The Cats"
         ],
         "y0": " ",
         "yaxis": "y"
        },
        {
         "alignmentgroup": "True",
         "hovertemplate": "Popularity=81<br>Artist=%{y}<extra></extra>",
         "legendgroup": "81",
         "marker": {
          "color": "#FF6692"
         },
         "name": "81",
         "notched": false,
         "offsetgroup": "81",
         "orientation": "v",
         "showlegend": true,
         "type": "box",
         "x0": " ",
         "xaxis": "x",
         "y": [
          "Coldplay",
          "Linkin Park",
          "P!nk",
          "Twenty One Pilots",
          "John Mayer",
          "Lady Gaga",
          "Michael Jackson",
          "Eurythmics",
          "Bryan Adams",
          "Whitney Houston",
          "AC/DC",
          "Red Hot Chili Peppers",
          "R.E.M.",
          "Red Hot Chili Peppers"
         ],
         "y0": " ",
         "yaxis": "y"
        },
        {
         "alignmentgroup": "True",
         "hovertemplate": "Popularity=67<br>Artist=%{y}<extra></extra>",
         "legendgroup": "67",
         "marker": {
          "color": "#B6E880"
         },
         "name": "67",
         "notched": false,
         "offsetgroup": "67",
         "orientation": "v",
         "showlegend": true,
         "type": "box",
         "x0": " ",
         "xaxis": "x",
         "y": [
          "Mumford & Sons",
          "Barry White",
          "Christina Aguilera",
          "Mumford & Sons",
          "Amy Winehouse",
          "Eddie Vedder",
          "Keane",
          "David Guetta",
          "Coldplay",
          "Xavier Rudd",
          "Rihanna",
          "Paul Kalkbrenner",
          "Michael Kiwanuka",
          "Adele",
          "Green Day",
          "Procol Harum",
          "Creedence Clearwater Revival",
          "Curtis Mayfield",
          "The Doors",
          "The Rolling Stones",
          "The Doors",
          "Led Zeppelin",
          "Gladys Knight & The Pips",
          "Queen",
          "Stevie Wonder",
          "Meat Loaf",
          "Fleetwood Mac",
          "10cc",
          "The Rolling Stones",
          "Bette Midler",
          "Barbra Streisand",
          "The Police",
          "The Stranglers",
          "The Alan Parsons Project",
          "Leonard Cohen",
          "Bruce Springsteen",
          "Kate Bush",
          "Metallica",
          "The Smiths",
          "R.E.M.",
          "Metallica",
          "Extreme",
          "The Cure",
          "R.E.M.",
          "Nirvana",
          "Portishead",
          "No Doubt",
          "Robert Miles",
          "Rammstein",
          "Radiohead",
          "The Beatles",
          "The Kinks",
          "The Beatles",
          "Jimi Hendrix",
          "Steppenwolf",
          "Etta James",
          "The Rolling Stones",
          "Crosby, Stills & Nash"
         ],
         "y0": " ",
         "yaxis": "y"
        },
        {
         "alignmentgroup": "True",
         "hovertemplate": "Popularity=55<br>Artist=%{y}<extra></extra>",
         "legendgroup": "55",
         "marker": {
          "color": "#FF97FF"
         },
         "name": "55",
         "notched": false,
         "offsetgroup": "55",
         "orientation": "v",
         "showlegend": true,
         "type": "box",
         "x0": " ",
         "xaxis": "x",
         "y": [
          "Jan Smit",
          "Saybia",
          "Michael Jackson",
          "Krezip",
          "De Jeugd Van Tegenwoordig",
          "Simply Red",
          "Madonna",
          "Lana Del Rey",
          "Stromae",
          "David Bowie",
          "Pink Floyd",
          "The Rolling Stones",
          "Sweet",
          "The Rolling Stones",
          "Queen",
          "Boston",
          "The Blue Nile",
          "Talking Heads",
          "Klein Orkest",
          "U2",
          "U2",
          "Mike & The Mechanics",
          "Queen",
          "Don Henley",
          "Queen",
          "Paul Young",
          "Iron Maiden",
          "Oasis",
          "Faithless",
          "Marco Borsato",
          "Metallica",
          "Gerry & The Pacemakers"
         ],
         "y0": " ",
         "yaxis": "y"
        },
        {
         "alignmentgroup": "True",
         "hovertemplate": "Popularity=16<br>Artist=%{y}<extra></extra>",
         "legendgroup": "16",
         "marker": {
          "color": "#FECB52"
         },
         "name": "16",
         "notched": false,
         "offsetgroup": "16",
         "orientation": "v",
         "showlegend": true,
         "type": "box",
         "x0": " ",
         "xaxis": "x",
         "y": [
          "BLØF",
          "Anouk",
          "Rob De Nijs"
         ],
         "y0": " ",
         "yaxis": "y"
        },
        {
         "alignmentgroup": "True",
         "hovertemplate": "Popularity=50<br>Artist=%{y}<extra></extra>",
         "legendgroup": "50",
         "marker": {
          "color": "#636efa"
         },
         "name": "50",
         "notched": false,
         "offsetgroup": "50",
         "orientation": "v",
         "showlegend": true,
         "type": "box",
         "x0": " ",
         "xaxis": "x",
         "y": [
          "Ilse DeLange",
          "Marco Borsato",
          "Golden Earring",
          "The Scene",
          "Guus Meeuwis",
          "The Moody Blues",
          "The Teskey Brothers",
          "White Lies",
          "Nirvana",
          "The Moody Blues",
          "Pink Floyd",
          "Queen",
          "Queen",
          "Ramses Shaffy",
          "ABBA",
          "UB40",
          "Sting",
          "Dire Straits",
          "Queen",
          "U2",
          "Labi Siffre",
          "Living Colour",
          "Marco Borsato",
          "Guus Meeuwis",
          "De Dijk",
          "Marco Borsato",
          "Les Poppys",
          "Duran Duran",
          "Robbie Williams",
          "The Hollies",
          "Fleetwood Mac",
          "The Rolling Stones"
         ],
         "y0": " ",
         "yaxis": "y"
        },
        {
         "alignmentgroup": "True",
         "hovertemplate": "Popularity=56<br>Artist=%{y}<extra></extra>",
         "legendgroup": "56",
         "marker": {
          "color": "#EF553B"
         },
         "name": "56",
         "notched": false,
         "offsetgroup": "56",
         "orientation": "v",
         "showlegend": true,
         "type": "box",
         "x0": " ",
         "xaxis": "x",
         "y": [
          "Editors",
          "Robbie Williams",
          "P!nk",
          "Anouk",
          "Editors",
          "Yann Tiersen",
          "Krezip",
          "Damien Rice",
          "Sammy Davis Jr.",
          "Within Temptation",
          "Ike & Tina Turner",
          "Counting Crows",
          "Loreen",
          "Floor Jansen",
          "Uriah Heep",
          "Eagles",
          "ABBA",
          "Supertramp",
          "Fleetwood Mac",
          "The Pointer Sisters",
          "Neil Diamond",
          "ABBA",
          "The Blues Brothers",
          "Barbra Streisand",
          "Nena",
          "Phil Collins",
          "Genesis",
          "Madonna",
          "Fleetwood Mac",
          "The Rolling Stones",
          "Dire Straits",
          "The Black Crowes",
          "Wings",
          "Marco Borsato",
          "The Prodigy",
          "Simply Red",
          "George Michael",
          "Live",
          "Creedence Clearwater Revival",
          "Fats Domino"
         ],
         "y0": " ",
         "yaxis": "y"
        },
        {
         "alignmentgroup": "True",
         "hovertemplate": "Popularity=84<br>Artist=%{y}<extra></extra>",
         "legendgroup": "84",
         "marker": {
          "color": "#00cc96"
         },
         "name": "84",
         "notched": false,
         "offsetgroup": "84",
         "orientation": "v",
         "showlegend": true,
         "type": "box",
         "x0": " ",
         "xaxis": "x",
         "y": [
          "Coldplay",
          "Band Aid",
          "Coldplay",
          "Foster The People",
          "Ed Sheeran",
          "Ed Sheeran",
          "Sam Smith",
          "The Chainsmokers",
          "Imagine Dragons",
          "5 Seconds of Summer",
          "TOTO",
          "The Police"
         ],
         "y0": " ",
         "yaxis": "y"
        },
        {
         "alignmentgroup": "True",
         "hovertemplate": "Popularity=63<br>Artist=%{y}<extra></extra>",
         "legendgroup": "63",
         "marker": {
          "color": "#ab63fa"
         },
         "name": "63",
         "notched": false,
         "offsetgroup": "63",
         "orientation": "v",
         "showlegend": true,
         "type": "box",
         "x0": " ",
         "xaxis": "x",
         "y": [
          "Adele",
          "Seal",
          "Coldplay",
          "The Cult",
          "Coldplay",
          "The Beatles",
          "The Beatles",
          "The Beatles",
          "U2",
          "Muse",
          "Racoon",
          "Fink",
          "Gregory Porter",
          "Kensington",
          "Leonard Cohen",
          "Nothing But Thieves",
          "Santana",
          "Crosby, Stills, Nash & Young",
          "Led Zeppelin",
          "David Bowie",
          "Leonard Cohen",
          "Thin Lizzy",
          "Supertramp",
          "ABBA",
          "Steve Harley",
          "Eagles",
          "ABBA",
          "Muddy Waters",
          "The Cure",
          "The Blues Brothers",
          "Rush",
          "Willie Nelson",
          "Paul Simon",
          "R.E.M.",
          "Fleetwood Mac",
          "Bee Gees",
          "TOTO",
          "U2",
          "Traveling Wilburys",
          "Guns N' Roses",
          "Metallica",
          "U2",
          "Oasis",
          "Michael Jackson",
          "Oasis",
          "Counting Crows",
          "Midnight Oil",
          "George Michael",
          "Simon & Garfunkel",
          "The Beatles",
          "James Brown & The Famous Flames",
          "Jimi Hendrix",
          "The Rolling Stones",
          "The Beatles",
          "Elvis Presley",
          "Led Zeppelin",
          "Elvis Presley"
         ],
         "y0": " ",
         "yaxis": "y"
        },
        {
         "alignmentgroup": "True",
         "hovertemplate": "Popularity=72<br>Artist=%{y}<extra></extra>",
         "legendgroup": "72",
         "marker": {
          "color": "#FFA15A"
         },
         "name": "72",
         "notched": false,
         "offsetgroup": "72",
         "orientation": "v",
         "showlegend": true,
         "type": "box",
         "x0": " ",
         "xaxis": "x",
         "y": [
          "Amy Winehouse",
          "Foo Fighters",
          "The Offspring",
          "Kid Rock",
          "Tom Petty and the Heartbreakers",
          "Robbie Williams",
          "Stealers Wheel",
          "Limp Bizkit",
          "Spandau Ballet",
          "2Pac",
          "Scorpions",
          "Jason Mraz",
          "Kodaline",
          "Cyndi Lauper",
          "Rammstein",
          "Simon & Garfunkel",
          "Van Morrison",
          "The Rolling Stones",
          "Rod Stewart",
          "The Rolling Stones",
          "ABBA",
          "Stevie Wonder",
          "Billy Joel",
          "Iggy Pop",
          "Bill Withers",
          "Supertramp",
          "Queen",
          "U2",
          "Culture Club",
          "Frankie Goes To Hollywood",
          "Queen",
          "Crowded House",
          "Guns N' Roses",
          "Michael Jackson",
          "Tracy Chapman",
          "Simply Red",
          "Cher",
          "Nirvana",
          "Sting",
          "Duran Duran",
          "Lenny Kravitz",
          "Seal",
          "2Pac",
          "Radiohead",
          "The Offspring",
          "Eminem",
          "The Beach Boys",
          "The Beach Boys",
          "The Doors",
          "Jimi Hendrix",
          "The Doors",
          "The Band",
          "Elvis Presley",
          "The Beatles"
         ],
         "y0": " ",
         "yaxis": "y"
        },
        {
         "alignmentgroup": "True",
         "hovertemplate": "Popularity=44<br>Artist=%{y}<extra></extra>",
         "legendgroup": "44",
         "marker": {
          "color": "#19d3f3"
         },
         "name": "44",
         "notched": false,
         "offsetgroup": "44",
         "orientation": "v",
         "showlegend": true,
         "type": "box",
         "x0": " ",
         "xaxis": "x",
         "y": [
          "Sandy Coast",
          "Beyoncé",
          "Herbert Grönemeyer",
          "The Temptations",
          "Neil Young",
          "Doe Maar",
          "Fish",
          "U2",
          "Roy Orbison",
          "Joe Bonamassa",
          "Kensington",
          "Elvis Presley",
          "Simple Minds",
          "Beth Hart",
          "Alice Cooper",
          "ABBA",
          "Fischer-Z",
          "Golden Earring",
          "Lee Towers",
          "Dire Straits",
          "Nits",
          "Tina Turner",
          "ZZ Top",
          "Therapy?",
          "George Baker Selection",
          "Stef Bos",
          "Fatboy Slim",
          "Herman van Veen",
          "Robbie Williams",
          "De Kast",
          "Melanie",
          "The Cats"
         ],
         "y0": " ",
         "yaxis": "y"
        },
        {
         "alignmentgroup": "True",
         "hovertemplate": "Popularity=75<br>Artist=%{y}<extra></extra>",
         "legendgroup": "75",
         "marker": {
          "color": "#FF6692"
         },
         "name": "75",
         "notched": false,
         "offsetgroup": "75",
         "orientation": "v",
         "showlegend": true,
         "type": "box",
         "x0": " ",
         "xaxis": "x",
         "y": [
          "The Goo Goo Dolls",
          "Green Day",
          "Alicia Keys",
          "JAY-Z",
          "Beyoncé",
          "Foo Fighters",
          "The Beatles",
          "John Mayer",
          "Eminem",
          "John Mayer",
          "3 Doors Down",
          "Johnny Cash",
          "Daft Punk",
          "Bruno Mars",
          "Adele",
          "Beyoncé",
          "Birdy",
          "Of Monsters and Men",
          "Eminem",
          "The Script",
          "Disturbed",
          "Justin Timberlake",
          "Linkin Park",
          "Tom Walker",
          "Eagles",
          "Lou Reed",
          "Carly Simon",
          "The Doobie Brothers",
          "Steve Miller Band",
          "Blue Öyster Cult",
          "Kansas",
          "David Bowie",
          "TOTO",
          "Pink Floyd",
          "Prince",
          "Bruce Springsteen",
          "Europe",
          "Paul Simon",
          "Pearl Jam",
          "Pearl Jam",
          "Pearl Jam",
          "The Cranberries",
          "Green Day",
          "Green Day",
          "Céline Dion",
          "Bonnie Tyler",
          "Simon & Garfunkel",
          "Frank Sinatra",
          "Aretha Franklin"
         ],
         "y0": " ",
         "yaxis": "y"
        },
        {
         "alignmentgroup": "True",
         "hovertemplate": "Popularity=40<br>Artist=%{y}<extra></extra>",
         "legendgroup": "40",
         "marker": {
          "color": "#B6E880"
         },
         "name": "40",
         "notched": false,
         "offsetgroup": "40",
         "orientation": "v",
         "showlegend": true,
         "type": "box",
         "x0": " ",
         "xaxis": "x",
         "y": [
          "U2",
          "Bruce Springsteen",
          "BLØF",
          "Eurythmics",
          "Chi Coltrane",
          "Mud",
          "BLØF",
          "Anouk",
          "Caro Emerald",
          "Marco Borsato",
          "De Dijk",
          "Michel Fugain",
          "Freddie Mercury",
          "Douwe Bob",
          "Neil Diamond",
          "Bob Marley & The Wailers",
          "Frank Zappa",
          "Ellen Foley",
          "Nits",
          "Klein Orkest",
          "Leonard Cohen",
          "Paul de Leeuw",
          "Boudewijn de Groot",
          "Ilse DeLange",
          "Ilse DeLange"
         ],
         "y0": " ",
         "yaxis": "y"
        },
        {
         "alignmentgroup": "True",
         "hovertemplate": "Popularity=42<br>Artist=%{y}<extra></extra>",
         "legendgroup": "42",
         "marker": {
          "color": "#FF97FF"
         },
         "name": "42",
         "notched": false,
         "offsetgroup": "42",
         "orientation": "v",
         "showlegend": true,
         "type": "box",
         "x0": " ",
         "xaxis": "x",
         "y": [
          "Guus Meeuwis",
          "BLØF",
          "Anouk",
          "Bram Vermeulen",
          "Normaal",
          "Blondie",
          "Snow Patrol",
          "Chris Isaak",
          "Triggerfinger",
          "Daniël Lohues",
          "INXS",
          "Andre Hazes",
          "Dotan",
          "Van Morrison",
          "Elvis Presley",
          "Madness",
          "Donna Summer",
          "Herman van Veen",
          "U2",
          "Prince",
          "Iron Maiden",
          "The Fatal Flowers",
          "Acda en de Munnik",
          "Acda en de Munnik",
          "Liquido",
          "Golden Earring"
         ],
         "y0": " ",
         "yaxis": "y"
        },
        {
         "alignmentgroup": "True",
         "hovertemplate": "Popularity=53<br>Artist=%{y}<extra></extra>",
         "legendgroup": "53",
         "marker": {
          "color": "#FECB52"
         },
         "name": "53",
         "notched": false,
         "offsetgroup": "53",
         "orientation": "v",
         "showlegend": true,
         "type": "box",
         "x0": " ",
         "xaxis": "x",
         "y": [
          "Tiësto",
          "Muse",
          "Doe Maar",
          "Michael Jackson",
          "Focus",
          "Bruce Springsteen",
          "Toontje Lager",
          "Editors",
          "Coldplay",
          "Massive Attack",
          "Claudia De Breij",
          "Lady Antebellum",
          "Marco Borsato",
          "Within Temptation",
          "Stromae",
          "Armin van Buuren",
          "Kensington",
          "Peter Maffay",
          "Neil Young",
          "Michael Jackson",
          "Jim Croce",
          "Status Quo",
          "Bee Gees",
          "David Bowie",
          "Kate Bush",
          "ABBA",
          "The Cure",
          "Soft Cell",
          "Bette Midler",
          "Golden Earring",
          "Ultravox",
          "Frank Boeijen Groep",
          "Prince",
          "Talk Talk",
          "The Shadows",
          "TOTO",
          "The Cure",
          "ZZ Top",
          "Charles Aznavour",
          "George Michael",
          "Elton John",
          "George Michael",
          "Gilbert Bécaud",
          "The Rolling Stones",
          "The Rolling Stones",
          "Scott McKenzie"
         ],
         "y0": " ",
         "yaxis": "y"
        },
        {
         "alignmentgroup": "True",
         "hovertemplate": "Popularity=78<br>Artist=%{y}<extra></extra>",
         "legendgroup": "78",
         "marker": {
          "color": "#636efa"
         },
         "name": "78",
         "notched": false,
         "offsetgroup": "78",
         "orientation": "v",
         "showlegend": true,
         "type": "box",
         "x0": " ",
         "xaxis": "x",
         "y": [
          "Green Day",
          "Beyoncé",
          "Coldplay",
          "Snow Patrol",
          "Nickelback",
          "Evanescence",
          "Coldplay",
          "Avicii",
          "Coldplay",
          "Coldplay",
          "Chris Stapleton",
          "Bruno Mars",
          "Rag'n'Bone Man",
          "Ed Sheeran",
          "LP",
          "Martin Garrix",
          "John Lennon",
          "Aerosmith",
          "Boston",
          "Fleetwood Mac",
          "Bob Marley & The Wailers",
          "The Police",
          "KISS",
          "AC/DC",
          "Fleetwood Mac",
          "Rage Against The Machine",
          "4 Non Blondes",
          "The Verve",
          "Red Hot Chili Peppers",
          "Elvis Presley",
          "The Beatles",
          "The Rolling Stones",
          "Neil Diamond"
         ],
         "y0": " ",
         "yaxis": "y"
        },
        {
         "alignmentgroup": "True",
         "hovertemplate": "Popularity=65<br>Artist=%{y}<extra></extra>",
         "legendgroup": "65",
         "marker": {
          "color": "#EF553B"
         },
         "name": "65",
         "notched": false,
         "offsetgroup": "65",
         "orientation": "v",
         "showlegend": true,
         "type": "box",
         "x0": " ",
         "xaxis": "x",
         "y": [
          "Linkin Park",
          "Snow Patrol",
          "Queens of the Stone Age",
          "Foo Fighters",
          "Joni Mitchell",
          "U2",
          "Muse",
          "Elvis Presley",
          "The Black Keys",
          "Adele",
          "Armin van Buuren",
          "Martin Garrix",
          "Underworld",
          "The War On Drugs",
          "Bush",
          "Suzan & Freek",
          "Nielson",
          "Kensington",
          "The Beatles",
          "The Who",
          "Carpenters",
          "Eagles",
          "Pink Floyd",
          "Elton John",
          "Eagles",
          "Heart",
          "AC/DC",
          "Boney M.",
          "Orchestral Manoeuvres In The Dark",
          "Dolly Parton",
          "Michael Jackson",
          "Stevie Ray Vaughan",
          "Bryan Adams",
          "UB40",
          "Paul Simon",
          "Van Halen",
          "Whitesnake",
          "Neil Young",
          "Depeche Mode",
          "Gary Moore",
          "Metallica",
          "The Jackson 5",
          "Nick Cave & The Bad Seeds",
          "The Prodigy",
          "The Chemical Brothers",
          "Bob Dylan",
          "The Rolling Stones",
          "Simon & Garfunkel",
          "The Beatles",
          "The Beatles",
          "The Beatles",
          "The Dave Brubeck Quartet"
         ],
         "y0": " ",
         "yaxis": "y"
        },
        {
         "alignmentgroup": "True",
         "hovertemplate": "Popularity=43<br>Artist=%{y}<extra></extra>",
         "legendgroup": "43",
         "marker": {
          "color": "#00cc96"
         },
         "name": "43",
         "notched": false,
         "offsetgroup": "43",
         "orientation": "v",
         "showlegend": true,
         "type": "box",
         "x0": " ",
         "xaxis": "x",
         "y": [
          "Lou Reed",
          "Elbow",
          "Claw Boys Claw",
          "David Bowie",
          "Racoon",
          "K's Choice",
          "Acda en de Munnik",
          "Alderliefste met Ramses Shaffy en Liesbeth List",
          "P!nk",
          "Keane",
          "Mark Knopfler",
          "Simple Minds",
          "Editors",
          "De Dijk",
          "Typhoon",
          "Jeroen van Koningsbrugge",
          "Blaudzun",
          "Yes",
          "Supertramp",
          "Supertramp",
          "Bruce Springsteen",
          "Dire Straits",
          "Jon & Vangelis",
          "Vandenberg",
          "Genesis",
          "Herman van Veen",
          "George Michael",
          "Cuby & The Blizzards",
          "The Cats",
          "The Who"
         ],
         "y0": " ",
         "yaxis": "y"
        },
        {
         "alignmentgroup": "True",
         "hovertemplate": "Popularity=51<br>Artist=%{y}<extra></extra>",
         "legendgroup": "51",
         "marker": {
          "color": "#ab63fa"
         },
         "name": "51",
         "notched": false,
         "offsetgroup": "51",
         "orientation": "v",
         "showlegend": true,
         "type": "box",
         "x0": " ",
         "xaxis": "x",
         "y": [
          "Saybia",
          "Muse",
          "Acda en de Munnik",
          "Rammstein",
          "Anouk",
          "Kim Wilde",
          "Joy Division",
          "DJ Paul",
          "BLØF",
          "Keane",
          "Michael Kiwanuka",
          "The Script",
          "Neil Young",
          "Electric Light Orchestra",
          "Bruce Springsteen",
          "Sex Pistols",
          "Queen",
          "Genesis",
          "Queen",
          "ABBA",
          "Sting",
          "Elvis Costello & The Attractions",
          "Sinéad O'Connor",
          "John Hiatt",
          "Lenny Kravitz",
          "Normaal",
          "Queen",
          "Crowded House",
          "Marillion",
          "Metallica",
          "BLØF",
          "George Michael",
          "George Michael"
         ],
         "y0": " ",
         "yaxis": "y"
        },
        {
         "alignmentgroup": "True",
         "hovertemplate": "Popularity=52<br>Artist=%{y}<extra></extra>",
         "legendgroup": "52",
         "marker": {
          "color": "#FFA15A"
         },
         "name": "52",
         "notched": false,
         "offsetgroup": "52",
         "orientation": "v",
         "showlegend": true,
         "type": "box",
         "x0": " ",
         "xaxis": "x",
         "y": [
          "BLØF",
          "Metallica",
          "Marco Borsato",
          "Anouk",
          "Blondie",
          "U2",
          "Normaal",
          "Robert Cray",
          "Snowy White",
          "Gorki",
          "Alanis Morissette",
          "Lange Frans",
          "Youp van 't Hek",
          "The Common Linnets",
          "Kensington",
          "Diggy Dex",
          "Douwe Bob",
          "Queen",
          "Eagles",
          "ABBA",
          "Tom Waits",
          "Santana",
          "Donna Summer",
          "KISS",
          "Dan Hartman",
          "Het Goede Doel",
          "Joe Jackson",
          "Bruce Springsteen",
          "Dire Straits",
          "Gary Moore",
          "De Dijk",
          "Marco Borsato",
          "Sting"
         ],
         "y0": " ",
         "yaxis": "y"
        },
        {
         "alignmentgroup": "True",
         "hovertemplate": "Popularity=38<br>Artist=%{y}<extra></extra>",
         "legendgroup": "38",
         "marker": {
          "color": "#19d3f3"
         },
         "name": "38",
         "notched": false,
         "offsetgroup": "38",
         "orientation": "v",
         "showlegend": true,
         "type": "box",
         "x0": " ",
         "xaxis": "x",
         "y": [
          "Golden Earring",
          "Gé Reinders",
          "Nightwish",
          "Rufus Wainwright",
          "Alderliefste",
          "De Kast",
          "Matthias Reim",
          "Solomon Burke",
          "Helene Fischer",
          "The Beach Boys",
          "Herman Brood & His Wild Romance",
          "Dire Straits",
          "Clannad",
          "Eros Ramazzotti",
          "Tröckener Kecks",
          "Het Goede Doel",
          "Karin Bloemen"
         ],
         "y0": " ",
         "yaxis": "y"
        },
        {
         "alignmentgroup": "True",
         "hovertemplate": "Popularity=32<br>Artist=%{y}<extra></extra>",
         "legendgroup": "32",
         "marker": {
          "color": "#FF6692"
         },
         "name": "32",
         "notched": false,
         "offsetgroup": "32",
         "orientation": "v",
         "showlegend": true,
         "type": "box",
         "x0": " ",
         "xaxis": "x",
         "y": [
          "Rowwen Hèze",
          "Rowwen Hèze",
          "Beth Hart",
          "Kayak",
          "Derek & The Dominos",
          "Racoon",
          "Status Quo",
          "Boudewijn de Groot",
          "Andre Hazes",
          "Procol Harum",
          "The Mark & Clark Band",
          "The Alan Parsons Project",
          "Clannad",
          "Skunk Anansie"
         ],
         "y0": " ",
         "yaxis": "y"
        },
        {
         "alignmentgroup": "True",
         "hovertemplate": "Popularity=47<br>Artist=%{y}<extra></extra>",
         "legendgroup": "47",
         "marker": {
          "color": "#B6E880"
         },
         "name": "47",
         "notched": false,
         "offsetgroup": "47",
         "orientation": "v",
         "showlegend": true,
         "type": "box",
         "x0": " ",
         "xaxis": "x",
         "y": [
          "Johnny Cash",
          "Armand",
          "Within Temptation",
          "The Scene",
          "Bee Gees",
          "Herbert Grönemeyer",
          "Kane",
          "Kyteman",
          "Status Quo",
          "Coldplay",
          "Johnny Cash",
          "DI-RECT",
          "Party Animals",
          "Spinvis",
          "De Staat",
          "Kensington",
          "Typhoon",
          "John Lennon",
          "Creedence Clearwater Revival",
          "Yes",
          "Focus",
          "Mink DeVille",
          "Pink Floyd",
          "Golden Earring",
          "BAP",
          "Frank Boeijen Groep",
          "De Dijk",
          "Queen",
          "Prince",
          "BLØF",
          "Barbra Streisand",
          "Hero",
          "The Rolling Stones"
         ],
         "y0": " ",
         "yaxis": "y"
        },
        {
         "alignmentgroup": "True",
         "hovertemplate": "Popularity=70<br>Artist=%{y}<extra></extra>",
         "legendgroup": "70",
         "marker": {
          "color": "#FF97FF"
         },
         "name": "70",
         "notched": false,
         "offsetgroup": "70",
         "orientation": "v",
         "showlegend": true,
         "type": "box",
         "x0": " ",
         "xaxis": "x",
         "y": [
          "Manu Chao",
          "Enya",
          "Beyoncé",
          "The Bangles",
          "Bill Medley",
          "Gary Jules",
          "Billy Joel",
          "Chris Isaak",
          "Coldplay",
          "Muse",
          "The Script",
          "Bastille",
          "Gigi D'Agostino",
          "Michael Jackson",
          "Coldplay",
          "Adele",
          "Danny Vera",
          "Pink Floyd",
          "Bob Marley & The Wailers",
          "10cc",
          "Queen",
          "Electric Light Orchestra",
          "Queen",
          "Cheap Trick",
          "Van Halen",
          "Supertramp",
          "Electric Light Orchestra",
          "Bee Gees",
          "TOTO",
          "Yes",
          "Prince",
          "The Smiths",
          "U.S.A. For Africa",
          "Alice Cooper",
          "R.E.M.",
          "Eric Clapton",
          "Bruce Springsteen",
          "Radiohead",
          "Chaka Khan",
          "Daft Punk",
          "Dr. Dre",
          "Santana",
          "The Righteous Brothers",
          "The Beatles",
          "The Doors",
          "The Beatles"
         ],
         "y0": " ",
         "yaxis": "y"
        },
        {
         "alignmentgroup": "True",
         "hovertemplate": "Popularity=64<br>Artist=%{y}<extra></extra>",
         "legendgroup": "64",
         "marker": {
          "color": "#FECB52"
         },
         "name": "64",
         "notched": false,
         "offsetgroup": "64",
         "orientation": "v",
         "showlegend": true,
         "type": "box",
         "x0": " ",
         "xaxis": "x",
         "y": [
          "Stereophonics",
          "The Temper Trap",
          "Michael Bublé",
          "Elvis Presley",
          "Coldplay",
          "Mike Oldfield",
          "The Script",
          "Michael Bublé",
          "Blur",
          "Lionel Richie",
          "Michael Jackson",
          "Joy Division",
          "Foo Fighters",
          "Elvis Costello",
          "Ed Sheeran",
          "First Aid Kit",
          "Bastille",
          "The Beatles",
          "Chicago",
          "Deep Purple",
          "David Bowie",
          "John Denver",
          "David Bowie",
          "John Denver",
          "Eagles",
          "Stevie Wonder",
          "ABBA",
          "Supertramp",
          "The Police",
          "Bee Gees",
          "Michael Jackson",
          "Philip Bailey",
          "Simple Minds",
          "The Communards",
          "Édith Piaf",
          "Black",
          "Tina Turner",
          "Bryan Adams",
          "Nirvana",
          "Annie Lennox",
          "Nirvana",
          "Live",
          "Michael Jackson",
          "Andrea Bocelli",
          "The Prodigy",
          "The Verve",
          "The Rolling Stones",
          "Otis Redding",
          "Roberta Flack"
         ],
         "y0": " ",
         "yaxis": "y"
        },
        {
         "alignmentgroup": "True",
         "hovertemplate": "Popularity=73<br>Artist=%{y}<extra></extra>",
         "legendgroup": "73",
         "marker": {
          "color": "#636efa"
         },
         "name": "73",
         "notched": false,
         "offsetgroup": "73",
         "orientation": "v",
         "showlegend": true,
         "type": "box",
         "x0": " ",
         "xaxis": "x",
         "y": [
          "Adele",
          "Michael Bublé",
          "Muse",
          "Muse",
          "The Killers",
          "New Order",
          "The Black Keys",
          "Ed Sheeran",
          "Imagine Dragons",
          "Imagine Dragons",
          "P!nk",
          "Coldplay",
          "Dua Lipa",
          "Adele",
          "Adele",
          "Duncan Laurence",
          "Simple Minds",
          "The Doors",
          "Simon & Garfunkel",
          "James Taylor",
          "Led Zeppelin",
          "Pink Floyd",
          "Bruce Springsteen",
          "Fleetwood Mac",
          "Eric Clapton",
          "Talking Heads",
          "Earth, Wind & Fire",
          "The Clash",
          "Michael Jackson",
          "The Police",
          "Nena",
          "Bob Marley & The Wailers",
          "The Smiths",
          "Bon Jovi",
          "Guns N' Roses",
          "Heart",
          "Billy Joel",
          "Roxette",
          "Pearl Jam",
          "Red Hot Chili Peppers",
          "Bon Jovi",
          "Whitney Houston",
          "Blind Melon",
          "Jeff Buckley",
          "Nirvana",
          "Fools Garden",
          "Korn",
          "Roy Orbison",
          "The Beatles",
          "Aretha Franklin",
          "The Monkees",
          "Otis Redding",
          "David Bowie",
          "Frank Sinatra",
          "Creedence Clearwater Revival",
          "Elvis Presley"
         ],
         "y0": " ",
         "yaxis": "y"
        },
        {
         "alignmentgroup": "True",
         "hovertemplate": "Popularity=58<br>Artist=%{y}<extra></extra>",
         "legendgroup": "58",
         "marker": {
          "color": "#EF553B"
         },
         "name": "58",
         "notched": false,
         "offsetgroup": "58",
         "orientation": "v",
         "showlegend": true,
         "type": "box",
         "x0": " ",
         "xaxis": "x",
         "y": [
          "Peter Sarstedt",
          "Jacques Brel",
          "Blue",
          "Veldhuis & Kemper",
          "Enigma",
          "The Weather Girls",
          "Queens of the Stone Age",
          "Delerium",
          "Arctic Monkeys",
          "Robbie Williams",
          "Kings of Leon",
          "Avicii",
          "Mumford & Sons",
          "Tom Odell",
          "The Beatles",
          "Nightwish",
          "Editors",
          "Crosby, Stills, Nash & Young",
          "Pink Floyd",
          "Janis Joplin",
          "J.J. Cale",
          "Jim Croce",
          "Dr. Hook",
          "ABBA",
          "Nazareth",
          "Grace Jones",
          "Fleetwood Mac",
          "Bruce Springsteen",
          "Paul Simon",
          "The Rolling Stones",
          "The Alan Parsons Project",
          "Madness",
          "Bruce Springsteen",
          "Falco",
          "Joe Cocker",
          "Whitesnake",
          "Queen",
          "Marillion",
          "Bruce Springsteen",
          "R.E.M.",
          "Bon Jovi",
          "Pearl Jam",
          "Van Dik Hout",
          "Paul Weller",
          "Elton John",
          "Michael Jackson",
          "Guus Meeuwis",
          "U2",
          "George Michael",
          "Johnny Cash",
          "Bob Dylan",
          "The Beatles"
         ],
         "y0": " ",
         "yaxis": "y"
        },
        {
         "alignmentgroup": "True",
         "hovertemplate": "Popularity=30<br>Artist=%{y}<extra></extra>",
         "legendgroup": "30",
         "marker": {
          "color": "#00cc96"
         },
         "name": "30",
         "notched": false,
         "offsetgroup": "30",
         "orientation": "v",
         "showlegend": true,
         "type": "box",
         "x0": " ",
         "xaxis": "x",
         "y": [
          "Marco Borsato",
          "Marco Borsato",
          "Amy Macdonald",
          "Ilse DeLange",
          "De Dijk",
          "Robbie Williams",
          "Andre Hazes",
          "Frans Halsema",
          "Andre Hazes",
          "Andre Hazes",
          "Andre Hazes"
         ],
         "y0": " ",
         "yaxis": "y"
        },
        {
         "alignmentgroup": "True",
         "hovertemplate": "Popularity=19<br>Artist=%{y}<extra></extra>",
         "legendgroup": "19",
         "marker": {
          "color": "#ab63fa"
         },
         "name": "19",
         "notched": false,
         "offsetgroup": "19",
         "orientation": "v",
         "showlegend": true,
         "type": "box",
         "x0": " ",
         "xaxis": "x",
         "y": [
          "Boudewijn de Groot",
          "Tori Amos",
          "Boudewijn de Groot"
         ],
         "y0": " ",
         "yaxis": "y"
        },
        {
         "alignmentgroup": "True",
         "hovertemplate": "Popularity=41<br>Artist=%{y}<extra></extra>",
         "legendgroup": "41",
         "marker": {
          "color": "#FFA15A"
         },
         "name": "41",
         "notched": false,
         "offsetgroup": "41",
         "orientation": "v",
         "showlegend": true,
         "type": "box",
         "x0": " ",
         "xaxis": "x",
         "y": [
          "BLØF",
          "Jeff Wayne",
          "Ramses Shaffy",
          "Racoon",
          "Doe Maar",
          "Amy Macdonald",
          "Keane",
          "Herman Brood & His Wild Romance",
          "BLØF",
          "Jewel",
          "2Pac",
          "Air",
          "Simple Minds",
          "BLØF",
          "Jason Paige",
          "Lex Uiting",
          "Bökkers",
          "Genesis",
          "Dire Straits",
          "Dire Straits",
          "U2",
          "Japan",
          "Bruce Springsteen",
          "Herman van Veen",
          "De Dijk",
          "ABBA",
          "Venice",
          "Beth Hart",
          "Elvis Presley",
          "Fleetwood Mac"
         ],
         "y0": " ",
         "yaxis": "y"
        },
        {
         "alignmentgroup": "True",
         "hovertemplate": "Popularity=62<br>Artist=%{y}<extra></extra>",
         "legendgroup": "62",
         "marker": {
          "color": "#19d3f3"
         },
         "name": "62",
         "notched": false,
         "offsetgroup": "62",
         "orientation": "v",
         "showlegend": true,
         "type": "box",
         "x0": " ",
         "xaxis": "x",
         "y": [
          "Mark Ronson",
          "John Farnham",
          "Santana",
          "Wolfmother",
          "Phil Collins",
          "Alanis Morissette",
          "Coldplay",
          "Kaiser Chiefs",
          "Backstreet Boys",
          "André Hazes Jr.",
          "Adele",
          "Nothing But Thieves",
          "The War On Drugs",
          "Crosby, Stills, Nash & Young",
          "Simon & Garfunkel",
          "J.J. Cale",
          "Eagles",
          "Queen",
          "AC/DC",
          "David Bowie",
          "Michael Jackson",
          "David Bowie",
          "Duran Duran",
          "Eurythmics",
          "Metallica",
          "Prince",
          "Dire Straits",
          "Sting",
          "Bruce Springsteen",
          "Joe Cocker",
          "Level 42",
          "Tears For Fears",
          "R.E.M.",
          "R.E.M.",
          "The Smashing Pumpkins",
          "Live",
          "Radiohead",
          "George Michael",
          "Eva Cassidy",
          "Mecano",
          "Phil Collins",
          "Red Hot Chili Peppers",
          "Frank Sinatra",
          "The Byrds",
          "The Mamas & The Papas",
          "Leonard Cohen",
          "Tom Jones",
          "Elvis Presley"
         ],
         "y0": " ",
         "yaxis": "y"
        },
        {
         "alignmentgroup": "True",
         "hovertemplate": "Popularity=83<br>Artist=%{y}<extra></extra>",
         "legendgroup": "83",
         "marker": {
          "color": "#FF6692"
         },
         "name": "83",
         "notched": false,
         "offsetgroup": "83",
         "orientation": "v",
         "showlegend": true,
         "type": "box",
         "x0": " ",
         "xaxis": "x",
         "y": [
          "Linkin Park",
          "Macklemore & Ryan Lewis",
          "Twenty One Pilots",
          "Justin Bieber",
          "Ed Sheeran",
          "Imagine Dragons",
          "AC/DC",
          "AC/DC",
          "a-ha",
          "Bon Jovi",
          "The Pogues"
         ],
         "y0": " ",
         "yaxis": "y"
        },
        {
         "alignmentgroup": "True",
         "hovertemplate": "Popularity=54<br>Artist=%{y}<extra></extra>",
         "legendgroup": "54",
         "marker": {
          "color": "#B6E880"
         },
         "name": "54",
         "notched": false,
         "offsetgroup": "54",
         "orientation": "v",
         "showlegend": true,
         "type": "box",
         "x0": " ",
         "xaxis": "x",
         "y": [
          "Keane",
          "Pat Benatar",
          "De Poema's",
          "Dido",
          "Ilse DeLange",
          "Guus Meeuwis",
          "White Lies",
          "Anita Meyer",
          "Sniff 'n' The Tears",
          "BLØF",
          "Whitney Houston",
          "Faithless",
          "Florence + The Machine",
          "Ennio Morricone",
          "The Trammps",
          "Armin van Buuren",
          "The Cats",
          "Johnny Cash",
          "Neil Diamond",
          "John Denver",
          "Sweet",
          "Eagles",
          "Sex Pistols",
          "Dire Straits",
          "Simple Minds",
          "Talking Heads",
          "Frankie Goes To Hollywood",
          "Foreigner",
          "The Cure",
          "Queen",
          "Peter Gabriel",
          "Prince",
          "Fleetwood Mac",
          "Bee Gees",
          "Genesis",
          "Dire Straits",
          "Joe Cocker",
          "Elton John",
          "Eels",
          "Paul de Leeuw",
          "Acda en de Munnik",
          "Moby"
         ],
         "y0": " ",
         "yaxis": "y"
        },
        {
         "alignmentgroup": "True",
         "hovertemplate": "Popularity=80<br>Artist=%{y}<extra></extra>",
         "legendgroup": "80",
         "marker": {
          "color": "#FF97FF"
         },
         "name": "80",
         "notched": false,
         "offsetgroup": "80",
         "orientation": "v",
         "showlegend": true,
         "type": "box",
         "x0": " ",
         "xaxis": "x",
         "y": [
          "The Fray",
          "Plain White T's",
          "Eminem",
          "Red Hot Chili Peppers",
          "Chris Rea",
          "Red Hot Chili Peppers",
          "System Of A Down",
          "Gorillaz",
          "Bruno Mars",
          "One Direction",
          "Pharrell Williams",
          "Lukas Graham",
          "Harry Styles",
          "Ed Sheeran",
          "Lauren Daigle",
          "Alan Walker",
          "Luis Fonsi",
          "Electric Light Orchestra",
          "Journey",
          "Tears For Fears",
          "Bon Jovi",
          "U2",
          "Guns N' Roses",
          "The Cranberries",
          "Coolio",
          "Spice Girls",
          "Smash Mouth",
          "Marvin Gaye",
          "Creedence Clearwater Revival"
         ],
         "y0": " ",
         "yaxis": "y"
        },
        {
         "alignmentgroup": "True",
         "hovertemplate": "Popularity=68<br>Artist=%{y}<extra></extra>",
         "legendgroup": "68",
         "marker": {
          "color": "#FECB52"
         },
         "name": "68",
         "notched": false,
         "offsetgroup": "68",
         "orientation": "v",
         "showlegend": true,
         "type": "box",
         "x0": " ",
         "xaxis": "x",
         "y": [
          "John Mayer",
          "Stereophonics",
          "Beyoncé",
          "Coldplay",
          "Frank Sinatra",
          "George Ezra",
          "Coldplay",
          "P!nk",
          "Davina Michelle",
          "Suzan & Freek",
          "Black Sabbath",
          "Crosby, Stills, Nash & Young",
          "Yusuf / Cat Stevens",
          "Carole King",
          "James Taylor",
          "Elvis Presley",
          "Elton John",
          "The Beatles",
          "Fleetwood Mac",
          "Rod Stewart",
          "Steve Miller Band",
          "Iggy Pop",
          "Eric Clapton",
          "Foreigner",
          "Billy Joel",
          "Kate Bush",
          "Pink Floyd",
          "Barbra Streisand",
          "Prince",
          "Dexys Midnight Runners",
          "Simply Red",
          "Elton John",
          "Run–D.M.C.",
          "TOTO",
          "Beastie Boys",
          "Pet Shop Boys",
          "Michael Jackson",
          "Van Morrison",
          "Faith No More",
          "The Black Crowes",
          "Nirvana",
          "Michael Jackson",
          "Guns N' Roses",
          "Alice In Chains",
          "Pearl Jam",
          "Nirvana",
          "The Smashing Pumpkins",
          "Buena Vista Social Club",
          "Robbie Williams",
          "The Moody Blues",
          "The Beatles",
          "Louis Armstrong",
          "The Doors",
          "Nina Simone"
         ],
         "y0": " ",
         "yaxis": "y"
        },
        {
         "alignmentgroup": "True",
         "hovertemplate": "Popularity=36<br>Artist=%{y}<extra></extra>",
         "legendgroup": "36",
         "marker": {
          "color": "#636efa"
         },
         "name": "36",
         "notched": false,
         "offsetgroup": "36",
         "orientation": "v",
         "showlegend": true,
         "type": "box",
         "x0": " ",
         "xaxis": "x",
         "y": [
          "Maarten Van Roozendaal",
          "JOHAN",
          "BLØF",
          "Racoon",
          "3JS",
          "Status Quo",
          "Chef'Special",
          "Jackson Browne",
          "Peter Gabriel",
          "Richard Harris",
          "Brainbox"
         ],
         "y0": " ",
         "yaxis": "y"
        },
        {
         "alignmentgroup": "True",
         "hovertemplate": "Popularity=60<br>Artist=%{y}<extra></extra>",
         "legendgroup": "60",
         "marker": {
          "color": "#EF553B"
         },
         "name": "60",
         "notched": false,
         "offsetgroup": "60",
         "orientation": "v",
         "showlegend": true,
         "type": "box",
         "x0": " ",
         "xaxis": "x",
         "y": [
          "Rammstein",
          "Paul McCartney",
          "U2",
          "DJ Paul Elstak",
          "Chef'Special",
          "The War On Drugs",
          "Muse",
          "Diggy Dex",
          "Spandau Ballet",
          "Mumford & Sons",
          "Creedence Clearwater Revival",
          "Emerson, Lake & Palmer",
          "Carpenters",
          "Neil Diamond",
          "Jethro Tull",
          "David Bowie",
          "Roxy Music",
          "David Bowie",
          "Meat Loaf",
          "Peter Gabriel",
          "Bee Gees",
          "Meat Loaf",
          "Billy Joel",
          "ABBA",
          "Iron Maiden",
          "Supertramp",
          "Prince",
          "Kate Bush",
          "The Cure",
          "Mr. Mister",
          "Genesis",
          "INXS",
          "The Cure",
          "Iggy Pop",
          "Gloria Gaynor",
          "Michael Jackson",
          "Marco Borsato",
          "Charles Aznavour",
          "Rammstein",
          "Placebo",
          "Creedence Clearwater Revival",
          "Creedence Clearwater Revival",
          "B.B. King"
         ],
         "y0": " ",
         "yaxis": "y"
        },
        {
         "alignmentgroup": "True",
         "hovertemplate": "Popularity=35<br>Artist=%{y}<extra></extra>",
         "legendgroup": "35",
         "marker": {
          "color": "#00cc96"
         },
         "name": "35",
         "notched": false,
         "offsetgroup": "35",
         "orientation": "v",
         "showlegend": true,
         "type": "box",
         "x0": " ",
         "xaxis": "x",
         "y": [
          "Alain Clark",
          "Rowwen Hèze",
          "The Boxer Rebellion",
          "Brainbox",
          "Gilbert O'Sullivan",
          "The Babys",
          "Joe Jackson",
          "Patrick Bruel",
          "Joe Cocker",
          "De Dijk"
         ],
         "y0": " ",
         "yaxis": "y"
        },
        {
         "alignmentgroup": "True",
         "hovertemplate": "Popularity=61<br>Artist=%{y}<extra></extra>",
         "legendgroup": "61",
         "marker": {
          "color": "#ab63fa"
         },
         "name": "61",
         "notched": false,
         "offsetgroup": "61",
         "orientation": "v",
         "showlegend": true,
         "type": "box",
         "x0": " ",
         "xaxis": "x",
         "y": [
          "Mary J. Blige",
          "Womack & Womack",
          "Editors",
          "Darude",
          "Coldplay",
          "Katie Melua",
          "Ram Jam",
          "Guus Meeuwis",
          "Stromae",
          "Adele",
          "Mr. Probz",
          "David Bowie",
          "Elvis Presley",
          "Dolly Parton",
          "Queen",
          "Paul Simon",
          "Billy Joel",
          "Manfred Mann's Earth Band",
          "Stevie Wonder",
          "Frankie Goes To Hollywood",
          "Dire Straits",
          "Depeche Mode",
          "Phil Collins",
          "Pixies",
          "Queensrÿche",
          "Al Stewart",
          "Ten Sharp",
          "Tina Turner",
          "Vangelis",
          "Stone Temple Pilots",
          "Counting Crows",
          "Bruce Springsteen",
          "Eva Cassidy",
          "Metallica",
          "George Michael",
          "Eric Clapton",
          "Muse",
          "The Beach Boys",
          "The Doors",
          "Dusty Springfield"
         ],
         "y0": " ",
         "yaxis": "y"
        },
        {
         "alignmentgroup": "True",
         "hovertemplate": "Popularity=79<br>Artist=%{y}<extra></extra>",
         "legendgroup": "79",
         "marker": {
          "color": "#FFA15A"
         },
         "name": "79",
         "notched": false,
         "offsetgroup": "79",
         "orientation": "v",
         "showlegend": true,
         "type": "box",
         "x0": " ",
         "xaxis": "x",
         "y": [
          "Owl City",
          "OutKast",
          "Kings of Leon",
          "Lady Gaga",
          "Adele",
          "Lorde",
          "Ed Sheeran",
          "Mark Ronson",
          "The Beatles",
          "Led Zeppelin",
          "Elton John",
          "The Clash",
          "Elton John",
          "Wham!",
          "Green Day",
          "blink-182",
          "Van Morrison",
          "The Beatles"
         ],
         "y0": " ",
         "yaxis": "y"
        },
        {
         "alignmentgroup": "True",
         "hovertemplate": "Popularity=33<br>Artist=%{y}<extra></extra>",
         "legendgroup": "33",
         "marker": {
          "color": "#19d3f3"
         },
         "name": "33",
         "notched": false,
         "offsetgroup": "33",
         "orientation": "v",
         "showlegend": true,
         "type": "box",
         "x0": " ",
         "xaxis": "x",
         "y": [
          "Rowwen Hèze",
          "Rowwen Hèze",
          "Jacques Brel",
          "Road Band",
          "De Dijk",
          "Anouk",
          "Cliff Richard & The Drifters",
          "Chef'Special",
          "Andre Hazes",
          "Madness",
          "Split Enz",
          "Queen",
          "Anouk"
         ],
         "y0": " ",
         "yaxis": "y"
        },
        {
         "alignmentgroup": "True",
         "hovertemplate": "Popularity=37<br>Artist=%{y}<extra></extra>",
         "legendgroup": "37",
         "marker": {
          "color": "#FF6692"
         },
         "name": "37",
         "notched": false,
         "offsetgroup": "37",
         "orientation": "v",
         "showlegend": true,
         "type": "box",
         "x0": " ",
         "xaxis": "x",
         "y": [
          "Charly Lownoise",
          "Golden Earring",
          "Jackson Browne",
          "Killing Joke",
          "Golden Earring",
          "Deep Purple",
          "Ramses Shaffy",
          "Lucifer",
          "a-ha",
          "Frank Boeijen Groep",
          "Amanda Marshall",
          "Manic Street Preachers",
          "Acda en de Munnik",
          "Cuby & The Blizzards"
         ],
         "y0": " ",
         "yaxis": "y"
        },
        {
         "alignmentgroup": "True",
         "hovertemplate": "Popularity=27<br>Artist=%{y}<extra></extra>",
         "legendgroup": "27",
         "marker": {
          "color": "#B6E880"
         },
         "name": "27",
         "notched": false,
         "offsetgroup": "27",
         "orientation": "v",
         "showlegend": true,
         "type": "box",
         "x0": " ",
         "xaxis": "x",
         "y": [
          "Racoon",
          "Golden Earring",
          "Johnny Cash",
          "Daniël Lohues",
          "Q'65",
          "Andre Hazes",
          "James Brown"
         ],
         "y0": " ",
         "yaxis": "y"
        },
        {
         "alignmentgroup": "True",
         "hovertemplate": "Popularity=14<br>Artist=%{y}<extra></extra>",
         "legendgroup": "14",
         "marker": {
          "color": "#FF97FF"
         },
         "name": "14",
         "notched": false,
         "offsetgroup": "14",
         "orientation": "v",
         "showlegend": true,
         "type": "box",
         "x0": " ",
         "xaxis": "x",
         "y": [
          "Emerson, Lake & Palmer"
         ],
         "y0": " ",
         "yaxis": "y"
        },
        {
         "alignmentgroup": "True",
         "hovertemplate": "Popularity=28<br>Artist=%{y}<extra></extra>",
         "legendgroup": "28",
         "marker": {
          "color": "#FECB52"
         },
         "name": "28",
         "notched": false,
         "offsetgroup": "28",
         "orientation": "v",
         "showlegend": true,
         "type": "box",
         "x0": " ",
         "xaxis": "x",
         "y": [
          "Jeff Wayne",
          "Herman Brood & His Wild Romance",
          "Ryuichi Sakamoto",
          "Ede Staal",
          "Boudewijn de Groot",
          "Calum Scott"
         ],
         "y0": " ",
         "yaxis": "y"
        },
        {
         "alignmentgroup": "True",
         "hovertemplate": "Popularity=18<br>Artist=%{y}<extra></extra>",
         "legendgroup": "18",
         "marker": {
          "color": "#636efa"
         },
         "name": "18",
         "notched": false,
         "offsetgroup": "18",
         "orientation": "v",
         "showlegend": true,
         "type": "box",
         "x0": " ",
         "xaxis": "x",
         "y": [
          "Johnny Cash",
          "Genesis"
         ],
         "y0": " ",
         "yaxis": "y"
        },
        {
         "alignmentgroup": "True",
         "hovertemplate": "Popularity=29<br>Artist=%{y}<extra></extra>",
         "legendgroup": "29",
         "marker": {
          "color": "#EF553B"
         },
         "name": "29",
         "notched": false,
         "offsetgroup": "29",
         "orientation": "v",
         "showlegend": true,
         "type": "box",
         "x0": " ",
         "xaxis": "x",
         "y": [
          "Elbow",
          "Maaike Ouboter",
          "Boudewijn de Groot",
          "Earth & Fire",
          "The Kinks",
          "Queen"
         ],
         "y0": " ",
         "yaxis": "y"
        },
        {
         "alignmentgroup": "True",
         "hovertemplate": "Popularity=31<br>Artist=%{y}<extra></extra>",
         "legendgroup": "31",
         "marker": {
          "color": "#00cc96"
         },
         "name": "31",
         "notched": false,
         "offsetgroup": "31",
         "orientation": "v",
         "showlegend": true,
         "type": "box",
         "x0": " ",
         "xaxis": "x",
         "y": [
          "Mike Oldfield",
          "Elbow",
          "Andre Hazes",
          "Rob De Nijs",
          "Joe Jackson",
          "Clouseau",
          "Elvis Presley",
          "Frank Boeijen Groep"
         ],
         "y0": " ",
         "yaxis": "y"
        },
        {
         "alignmentgroup": "True",
         "hovertemplate": "Popularity=85<br>Artist=%{y}<extra></extra>",
         "legendgroup": "85",
         "marker": {
          "color": "#ab63fa"
         },
         "name": "85",
         "notched": false,
         "offsetgroup": "85",
         "orientation": "v",
         "showlegend": true,
         "type": "box",
         "x0": " ",
         "xaxis": "x",
         "y": [
          "Avicii",
          "Tame Impala",
          "Lewis Capaldi",
          "Camila Cabello",
          "Wham!"
         ],
         "y0": " ",
         "yaxis": "y"
        },
        {
         "alignmentgroup": "True",
         "hovertemplate": "Popularity=86<br>Artist=%{y}<extra></extra>",
         "legendgroup": "86",
         "marker": {
          "color": "#FFA15A"
         },
         "name": "86",
         "notched": false,
         "offsetgroup": "86",
         "orientation": "v",
         "showlegend": true,
         "type": "box",
         "x0": " ",
         "xaxis": "x",
         "y": [
          "John Legend",
          "Imagine Dragons",
          "Calvin Harris"
         ],
         "y0": " ",
         "yaxis": "y"
        },
        {
         "alignmentgroup": "True",
         "hovertemplate": "Popularity=15<br>Artist=%{y}<extra></extra>",
         "legendgroup": "15",
         "marker": {
          "color": "#19d3f3"
         },
         "name": "15",
         "notched": false,
         "offsetgroup": "15",
         "orientation": "v",
         "showlegend": true,
         "type": "box",
         "x0": " ",
         "xaxis": "x",
         "y": [
          "Wim Sonneveld",
          "Rob De Nijs"
         ],
         "y0": " ",
         "yaxis": "y"
        },
        {
         "alignmentgroup": "True",
         "hovertemplate": "Popularity=20<br>Artist=%{y}<extra></extra>",
         "legendgroup": "20",
         "marker": {
          "color": "#FF6692"
         },
         "name": "20",
         "notched": false,
         "offsetgroup": "20",
         "orientation": "v",
         "showlegend": true,
         "type": "box",
         "x0": " ",
         "xaxis": "x",
         "y": [
          "Anouk",
          "Boudewijn de Groot"
         ],
         "y0": " ",
         "yaxis": "y"
        },
        {
         "alignmentgroup": "True",
         "hovertemplate": "Popularity=21<br>Artist=%{y}<extra></extra>",
         "legendgroup": "21",
         "marker": {
          "color": "#B6E880"
         },
         "name": "21",
         "notched": false,
         "offsetgroup": "21",
         "orientation": "v",
         "showlegend": true,
         "type": "box",
         "x0": " ",
         "xaxis": "x",
         "y": [
          "Anouk",
          "Ilse DeLange"
         ],
         "y0": " ",
         "yaxis": "y"
        },
        {
         "alignmentgroup": "True",
         "hovertemplate": "Popularity=13<br>Artist=%{y}<extra></extra>",
         "legendgroup": "13",
         "marker": {
          "color": "#FF97FF"
         },
         "name": "13",
         "notched": false,
         "offsetgroup": "13",
         "orientation": "v",
         "showlegend": true,
         "type": "box",
         "x0": " ",
         "xaxis": "x",
         "y": [
          "Anouk"
         ],
         "y0": " ",
         "yaxis": "y"
        },
        {
         "alignmentgroup": "True",
         "hovertemplate": "Popularity=24<br>Artist=%{y}<extra></extra>",
         "legendgroup": "24",
         "marker": {
          "color": "#FECB52"
         },
         "name": "24",
         "notched": false,
         "offsetgroup": "24",
         "orientation": "v",
         "showlegend": true,
         "type": "box",
         "x0": " ",
         "xaxis": "x",
         "y": [
          "Paul McCartney",
          "Earth & Fire",
          "De Dijk",
          "Skunk Anansie",
          "Zucchero"
         ],
         "y0": " ",
         "yaxis": "y"
        },
        {
         "alignmentgroup": "True",
         "hovertemplate": "Popularity=87<br>Artist=%{y}<extra></extra>",
         "legendgroup": "87",
         "marker": {
          "color": "#636efa"
         },
         "name": "87",
         "notched": false,
         "offsetgroup": "87",
         "orientation": "v",
         "showlegend": true,
         "type": "box",
         "x0": " ",
         "xaxis": "x",
         "y": [
          "Ed Sheeran",
          "Ed Sheeran",
          "Panic! At The Disco"
         ],
         "y0": " ",
         "yaxis": "y"
        },
        {
         "alignmentgroup": "True",
         "hovertemplate": "Popularity=88<br>Artist=%{y}<extra></extra>",
         "legendgroup": "88",
         "marker": {
          "color": "#EF553B"
         },
         "name": "88",
         "notched": false,
         "offsetgroup": "88",
         "orientation": "v",
         "showlegend": true,
         "type": "box",
         "x0": " ",
         "xaxis": "x",
         "y": [
          "Imagine Dragons",
          "Lady Gaga"
         ],
         "y0": " ",
         "yaxis": "y"
        },
        {
         "alignmentgroup": "True",
         "hovertemplate": "Popularity=25<br>Artist=%{y}<extra></extra>",
         "legendgroup": "25",
         "marker": {
          "color": "#00cc96"
         },
         "name": "25",
         "notched": false,
         "offsetgroup": "25",
         "orientation": "v",
         "showlegend": true,
         "type": "box",
         "x0": " ",
         "xaxis": "x",
         "y": [
          "Paolo Conte"
         ],
         "y0": " ",
         "yaxis": "y"
        },
        {
         "alignmentgroup": "True",
         "hovertemplate": "Popularity=23<br>Artist=%{y}<extra></extra>",
         "legendgroup": "23",
         "marker": {
          "color": "#ab63fa"
         },
         "name": "23",
         "notched": false,
         "offsetgroup": "23",
         "orientation": "v",
         "showlegend": true,
         "type": "box",
         "x0": " ",
         "xaxis": "x",
         "y": [
          "Boudewijn de Groot",
          "Ramses Shaffy",
          "Boudewijn de Groot"
         ],
         "y0": " ",
         "yaxis": "y"
        },
        {
         "alignmentgroup": "True",
         "hovertemplate": "Popularity=17<br>Artist=%{y}<extra></extra>",
         "legendgroup": "17",
         "marker": {
          "color": "#FFA15A"
         },
         "name": "17",
         "notched": false,
         "offsetgroup": "17",
         "orientation": "v",
         "showlegend": true,
         "type": "box",
         "x0": " ",
         "xaxis": "x",
         "y": [
          "Frans Halsema",
          "Boudewijn de Groot"
         ],
         "y0": " ",
         "yaxis": "y"
        },
        {
         "alignmentgroup": "True",
         "hovertemplate": "Popularity=12<br>Artist=%{y}<extra></extra>",
         "legendgroup": "12",
         "marker": {
          "color": "#19d3f3"
         },
         "name": "12",
         "notched": false,
         "offsetgroup": "12",
         "orientation": "v",
         "showlegend": true,
         "type": "box",
         "x0": " ",
         "xaxis": "x",
         "y": [
          "BLØF"
         ],
         "y0": " ",
         "yaxis": "y"
        },
        {
         "alignmentgroup": "True",
         "hovertemplate": "Popularity=95<br>Artist=%{y}<extra></extra>",
         "legendgroup": "95",
         "marker": {
          "color": "#FF6692"
         },
         "name": "95",
         "notched": false,
         "offsetgroup": "95",
         "orientation": "v",
         "showlegend": true,
         "type": "box",
         "x0": " ",
         "xaxis": "x",
         "y": [
          "Billie Eilish",
          "Mariah Carey"
         ],
         "y0": " ",
         "yaxis": "y"
        },
        {
         "alignmentgroup": "True",
         "hovertemplate": "Popularity=98<br>Artist=%{y}<extra></extra>",
         "legendgroup": "98",
         "marker": {
          "color": "#B6E880"
         },
         "name": "98",
         "notched": false,
         "offsetgroup": "98",
         "orientation": "v",
         "showlegend": true,
         "type": "box",
         "x0": " ",
         "xaxis": "x",
         "y": [
          "Maroon 5"
         ],
         "y0": " ",
         "yaxis": "y"
        },
        {
         "alignmentgroup": "True",
         "hovertemplate": "Popularity=100<br>Artist=%{y}<extra></extra>",
         "legendgroup": "100",
         "marker": {
          "color": "#FF97FF"
         },
         "name": "100",
         "notched": false,
         "offsetgroup": "100",
         "orientation": "v",
         "showlegend": true,
         "type": "box",
         "x0": " ",
         "xaxis": "x",
         "y": [
          "Tones and I"
         ],
         "y0": " ",
         "yaxis": "y"
        },
        {
         "alignmentgroup": "True",
         "hovertemplate": "Popularity=22<br>Artist=%{y}<extra></extra>",
         "legendgroup": "22",
         "marker": {
          "color": "#FECB52"
         },
         "name": "22",
         "notched": false,
         "offsetgroup": "22",
         "orientation": "v",
         "showlegend": true,
         "type": "box",
         "x0": " ",
         "xaxis": "x",
         "y": [
          "Joe Jackson"
         ],
         "y0": " ",
         "yaxis": "y"
        },
        {
         "alignmentgroup": "True",
         "hovertemplate": "Popularity=11<br>Artist=%{y}<extra></extra>",
         "legendgroup": "11",
         "marker": {
          "color": "#636efa"
         },
         "name": "11",
         "notched": false,
         "offsetgroup": "11",
         "orientation": "v",
         "showlegend": true,
         "type": "box",
         "x0": " ",
         "xaxis": "x",
         "y": [
          "Anouk"
         ],
         "y0": " ",
         "yaxis": "y"
        }
       ],
       "layout": {
        "boxmode": "group",
        "legend": {
         "title": {
          "text": "Popularity"
         },
         "tracegroupgap": 0
        },
        "margin": {
         "t": 60
        },
        "template": {
         "data": {
          "bar": [
           {
            "error_x": {
             "color": "#2a3f5f"
            },
            "error_y": {
             "color": "#2a3f5f"
            },
            "marker": {
             "line": {
              "color": "#E5ECF6",
              "width": 0.5
             },
             "pattern": {
              "fillmode": "overlay",
              "size": 10,
              "solidity": 0.2
             }
            },
            "type": "bar"
           }
          ],
          "barpolar": [
           {
            "marker": {
             "line": {
              "color": "#E5ECF6",
              "width": 0.5
             },
             "pattern": {
              "fillmode": "overlay",
              "size": 10,
              "solidity": 0.2
             }
            },
            "type": "barpolar"
           }
          ],
          "carpet": [
           {
            "aaxis": {
             "endlinecolor": "#2a3f5f",
             "gridcolor": "white",
             "linecolor": "white",
             "minorgridcolor": "white",
             "startlinecolor": "#2a3f5f"
            },
            "baxis": {
             "endlinecolor": "#2a3f5f",
             "gridcolor": "white",
             "linecolor": "white",
             "minorgridcolor": "white",
             "startlinecolor": "#2a3f5f"
            },
            "type": "carpet"
           }
          ],
          "choropleth": [
           {
            "colorbar": {
             "outlinewidth": 0,
             "ticks": ""
            },
            "type": "choropleth"
           }
          ],
          "contour": [
           {
            "colorbar": {
             "outlinewidth": 0,
             "ticks": ""
            },
            "colorscale": [
             [
              0,
              "#0d0887"
             ],
             [
              0.1111111111111111,
              "#46039f"
             ],
             [
              0.2222222222222222,
              "#7201a8"
             ],
             [
              0.3333333333333333,
              "#9c179e"
             ],
             [
              0.4444444444444444,
              "#bd3786"
             ],
             [
              0.5555555555555556,
              "#d8576b"
             ],
             [
              0.6666666666666666,
              "#ed7953"
             ],
             [
              0.7777777777777778,
              "#fb9f3a"
             ],
             [
              0.8888888888888888,
              "#fdca26"
             ],
             [
              1,
              "#f0f921"
             ]
            ],
            "type": "contour"
           }
          ],
          "contourcarpet": [
           {
            "colorbar": {
             "outlinewidth": 0,
             "ticks": ""
            },
            "type": "contourcarpet"
           }
          ],
          "heatmap": [
           {
            "colorbar": {
             "outlinewidth": 0,
             "ticks": ""
            },
            "colorscale": [
             [
              0,
              "#0d0887"
             ],
             [
              0.1111111111111111,
              "#46039f"
             ],
             [
              0.2222222222222222,
              "#7201a8"
             ],
             [
              0.3333333333333333,
              "#9c179e"
             ],
             [
              0.4444444444444444,
              "#bd3786"
             ],
             [
              0.5555555555555556,
              "#d8576b"
             ],
             [
              0.6666666666666666,
              "#ed7953"
             ],
             [
              0.7777777777777778,
              "#fb9f3a"
             ],
             [
              0.8888888888888888,
              "#fdca26"
             ],
             [
              1,
              "#f0f921"
             ]
            ],
            "type": "heatmap"
           }
          ],
          "heatmapgl": [
           {
            "colorbar": {
             "outlinewidth": 0,
             "ticks": ""
            },
            "colorscale": [
             [
              0,
              "#0d0887"
             ],
             [
              0.1111111111111111,
              "#46039f"
             ],
             [
              0.2222222222222222,
              "#7201a8"
             ],
             [
              0.3333333333333333,
              "#9c179e"
             ],
             [
              0.4444444444444444,
              "#bd3786"
             ],
             [
              0.5555555555555556,
              "#d8576b"
             ],
             [
              0.6666666666666666,
              "#ed7953"
             ],
             [
              0.7777777777777778,
              "#fb9f3a"
             ],
             [
              0.8888888888888888,
              "#fdca26"
             ],
             [
              1,
              "#f0f921"
             ]
            ],
            "type": "heatmapgl"
           }
          ],
          "histogram": [
           {
            "marker": {
             "pattern": {
              "fillmode": "overlay",
              "size": 10,
              "solidity": 0.2
             }
            },
            "type": "histogram"
           }
          ],
          "histogram2d": [
           {
            "colorbar": {
             "outlinewidth": 0,
             "ticks": ""
            },
            "colorscale": [
             [
              0,
              "#0d0887"
             ],
             [
              0.1111111111111111,
              "#46039f"
             ],
             [
              0.2222222222222222,
              "#7201a8"
             ],
             [
              0.3333333333333333,
              "#9c179e"
             ],
             [
              0.4444444444444444,
              "#bd3786"
             ],
             [
              0.5555555555555556,
              "#d8576b"
             ],
             [
              0.6666666666666666,
              "#ed7953"
             ],
             [
              0.7777777777777778,
              "#fb9f3a"
             ],
             [
              0.8888888888888888,
              "#fdca26"
             ],
             [
              1,
              "#f0f921"
             ]
            ],
            "type": "histogram2d"
           }
          ],
          "histogram2dcontour": [
           {
            "colorbar": {
             "outlinewidth": 0,
             "ticks": ""
            },
            "colorscale": [
             [
              0,
              "#0d0887"
             ],
             [
              0.1111111111111111,
              "#46039f"
             ],
             [
              0.2222222222222222,
              "#7201a8"
             ],
             [
              0.3333333333333333,
              "#9c179e"
             ],
             [
              0.4444444444444444,
              "#bd3786"
             ],
             [
              0.5555555555555556,
              "#d8576b"
             ],
             [
              0.6666666666666666,
              "#ed7953"
             ],
             [
              0.7777777777777778,
              "#fb9f3a"
             ],
             [
              0.8888888888888888,
              "#fdca26"
             ],
             [
              1,
              "#f0f921"
             ]
            ],
            "type": "histogram2dcontour"
           }
          ],
          "mesh3d": [
           {
            "colorbar": {
             "outlinewidth": 0,
             "ticks": ""
            },
            "type": "mesh3d"
           }
          ],
          "parcoords": [
           {
            "line": {
             "colorbar": {
              "outlinewidth": 0,
              "ticks": ""
             }
            },
            "type": "parcoords"
           }
          ],
          "pie": [
           {
            "automargin": true,
            "type": "pie"
           }
          ],
          "scatter": [
           {
            "marker": {
             "colorbar": {
              "outlinewidth": 0,
              "ticks": ""
             }
            },
            "type": "scatter"
           }
          ],
          "scatter3d": [
           {
            "line": {
             "colorbar": {
              "outlinewidth": 0,
              "ticks": ""
             }
            },
            "marker": {
             "colorbar": {
              "outlinewidth": 0,
              "ticks": ""
             }
            },
            "type": "scatter3d"
           }
          ],
          "scattercarpet": [
           {
            "marker": {
             "colorbar": {
              "outlinewidth": 0,
              "ticks": ""
             }
            },
            "type": "scattercarpet"
           }
          ],
          "scattergeo": [
           {
            "marker": {
             "colorbar": {
              "outlinewidth": 0,
              "ticks": ""
             }
            },
            "type": "scattergeo"
           }
          ],
          "scattergl": [
           {
            "marker": {
             "colorbar": {
              "outlinewidth": 0,
              "ticks": ""
             }
            },
            "type": "scattergl"
           }
          ],
          "scattermapbox": [
           {
            "marker": {
             "colorbar": {
              "outlinewidth": 0,
              "ticks": ""
             }
            },
            "type": "scattermapbox"
           }
          ],
          "scatterpolar": [
           {
            "marker": {
             "colorbar": {
              "outlinewidth": 0,
              "ticks": ""
             }
            },
            "type": "scatterpolar"
           }
          ],
          "scatterpolargl": [
           {
            "marker": {
             "colorbar": {
              "outlinewidth": 0,
              "ticks": ""
             }
            },
            "type": "scatterpolargl"
           }
          ],
          "scatterternary": [
           {
            "marker": {
             "colorbar": {
              "outlinewidth": 0,
              "ticks": ""
             }
            },
            "type": "scatterternary"
           }
          ],
          "surface": [
           {
            "colorbar": {
             "outlinewidth": 0,
             "ticks": ""
            },
            "colorscale": [
             [
              0,
              "#0d0887"
             ],
             [
              0.1111111111111111,
              "#46039f"
             ],
             [
              0.2222222222222222,
              "#7201a8"
             ],
             [
              0.3333333333333333,
              "#9c179e"
             ],
             [
              0.4444444444444444,
              "#bd3786"
             ],
             [
              0.5555555555555556,
              "#d8576b"
             ],
             [
              0.6666666666666666,
              "#ed7953"
             ],
             [
              0.7777777777777778,
              "#fb9f3a"
             ],
             [
              0.8888888888888888,
              "#fdca26"
             ],
             [
              1,
              "#f0f921"
             ]
            ],
            "type": "surface"
           }
          ],
          "table": [
           {
            "cells": {
             "fill": {
              "color": "#EBF0F8"
             },
             "line": {
              "color": "white"
             }
            },
            "header": {
             "fill": {
              "color": "#C8D4E3"
             },
             "line": {
              "color": "white"
             }
            },
            "type": "table"
           }
          ]
         },
         "layout": {
          "annotationdefaults": {
           "arrowcolor": "#2a3f5f",
           "arrowhead": 0,
           "arrowwidth": 1
          },
          "autotypenumbers": "strict",
          "coloraxis": {
           "colorbar": {
            "outlinewidth": 0,
            "ticks": ""
           }
          },
          "colorscale": {
           "diverging": [
            [
             0,
             "#8e0152"
            ],
            [
             0.1,
             "#c51b7d"
            ],
            [
             0.2,
             "#de77ae"
            ],
            [
             0.3,
             "#f1b6da"
            ],
            [
             0.4,
             "#fde0ef"
            ],
            [
             0.5,
             "#f7f7f7"
            ],
            [
             0.6,
             "#e6f5d0"
            ],
            [
             0.7,
             "#b8e186"
            ],
            [
             0.8,
             "#7fbc41"
            ],
            [
             0.9,
             "#4d9221"
            ],
            [
             1,
             "#276419"
            ]
           ],
           "sequential": [
            [
             0,
             "#0d0887"
            ],
            [
             0.1111111111111111,
             "#46039f"
            ],
            [
             0.2222222222222222,
             "#7201a8"
            ],
            [
             0.3333333333333333,
             "#9c179e"
            ],
            [
             0.4444444444444444,
             "#bd3786"
            ],
            [
             0.5555555555555556,
             "#d8576b"
            ],
            [
             0.6666666666666666,
             "#ed7953"
            ],
            [
             0.7777777777777778,
             "#fb9f3a"
            ],
            [
             0.8888888888888888,
             "#fdca26"
            ],
            [
             1,
             "#f0f921"
            ]
           ],
           "sequentialminus": [
            [
             0,
             "#0d0887"
            ],
            [
             0.1111111111111111,
             "#46039f"
            ],
            [
             0.2222222222222222,
             "#7201a8"
            ],
            [
             0.3333333333333333,
             "#9c179e"
            ],
            [
             0.4444444444444444,
             "#bd3786"
            ],
            [
             0.5555555555555556,
             "#d8576b"
            ],
            [
             0.6666666666666666,
             "#ed7953"
            ],
            [
             0.7777777777777778,
             "#fb9f3a"
            ],
            [
             0.8888888888888888,
             "#fdca26"
            ],
            [
             1,
             "#f0f921"
            ]
           ]
          },
          "colorway": [
           "#636efa",
           "#EF553B",
           "#00cc96",
           "#ab63fa",
           "#FFA15A",
           "#19d3f3",
           "#FF6692",
           "#B6E880",
           "#FF97FF",
           "#FECB52"
          ],
          "font": {
           "color": "#2a3f5f"
          },
          "geo": {
           "bgcolor": "white",
           "lakecolor": "white",
           "landcolor": "#E5ECF6",
           "showlakes": true,
           "showland": true,
           "subunitcolor": "white"
          },
          "hoverlabel": {
           "align": "left"
          },
          "hovermode": "closest",
          "mapbox": {
           "style": "light"
          },
          "paper_bgcolor": "white",
          "plot_bgcolor": "#E5ECF6",
          "polar": {
           "angularaxis": {
            "gridcolor": "white",
            "linecolor": "white",
            "ticks": ""
           },
           "bgcolor": "#E5ECF6",
           "radialaxis": {
            "gridcolor": "white",
            "linecolor": "white",
            "ticks": ""
           }
          },
          "scene": {
           "xaxis": {
            "backgroundcolor": "#E5ECF6",
            "gridcolor": "white",
            "gridwidth": 2,
            "linecolor": "white",
            "showbackground": true,
            "ticks": "",
            "zerolinecolor": "white"
           },
           "yaxis": {
            "backgroundcolor": "#E5ECF6",
            "gridcolor": "white",
            "gridwidth": 2,
            "linecolor": "white",
            "showbackground": true,
            "ticks": "",
            "zerolinecolor": "white"
           },
           "zaxis": {
            "backgroundcolor": "#E5ECF6",
            "gridcolor": "white",
            "gridwidth": 2,
            "linecolor": "white",
            "showbackground": true,
            "ticks": "",
            "zerolinecolor": "white"
           }
          },
          "shapedefaults": {
           "line": {
            "color": "#2a3f5f"
           }
          },
          "ternary": {
           "aaxis": {
            "gridcolor": "white",
            "linecolor": "white",
            "ticks": ""
           },
           "baxis": {
            "gridcolor": "white",
            "linecolor": "white",
            "ticks": ""
           },
           "bgcolor": "#E5ECF6",
           "caxis": {
            "gridcolor": "white",
            "linecolor": "white",
            "ticks": ""
           }
          },
          "title": {
           "x": 0.05
          },
          "xaxis": {
           "automargin": true,
           "gridcolor": "white",
           "linecolor": "white",
           "ticks": "",
           "title": {
            "standoff": 15
           },
           "zerolinecolor": "white",
           "zerolinewidth": 2
          },
          "yaxis": {
           "automargin": true,
           "gridcolor": "white",
           "linecolor": "white",
           "ticks": "",
           "title": {
            "standoff": 15
           },
           "zerolinecolor": "white",
           "zerolinewidth": 2
          }
         }
        },
        "xaxis": {
         "anchor": "y",
         "domain": [
          0,
          1
         ]
        },
        "yaxis": {
         "anchor": "x",
         "domain": [
          0,
          1
         ],
         "title": {
          "text": "Artist"
         }
        }
       }
      },
      "text/html": [
       "<div>                            <div id=\"0d9d6acb-a648-43a5-917f-00754a9609e5\" class=\"plotly-graph-div\" style=\"height:525px; width:100%;\"></div>            <script type=\"text/javascript\">                require([\"plotly\"], function(Plotly) {                    window.PLOTLYENV=window.PLOTLYENV || {};                                    if (document.getElementById(\"0d9d6acb-a648-43a5-917f-00754a9609e5\")) {                    Plotly.newPlot(                        \"0d9d6acb-a648-43a5-917f-00754a9609e5\",                        [{\"alignmentgroup\":\"True\",\"hovertemplate\":\"Popularity=71<br>Artist=%{y}<extra></extra>\",\"legendgroup\":\"71\",\"marker\":{\"color\":\"#636efa\"},\"name\":\"71\",\"notched\":false,\"offsetgroup\":\"71\",\"orientation\":\"v\",\"showlegend\":true,\"x0\":\" \",\"xaxis\":\"x\",\"y\":[\"Norah Jones\",\"Eminem\",\"Daft Punk\",\"Christina Aguilera\",\"Sam Cooke\",\"Madonna\",\"Coldplay\",\"Ed Sheeran\",\"Sia\",\"Dua Lipa\",\"Snelle\",\"Simon & Garfunkel\",\"Creedence Clearwater Revival\",\"Johnny Cash\",\"Janis Joplin\",\"David Bowie\",\"The Rolling Stones\",\"The Who\",\"Neil Young\",\"Lynyrd Skynyrd\",\"Paul McCartney\",\"The Doobie Brothers\",\"Ramones\",\"Bob Marley & The Wailers\",\"REO Speedwagon\",\"Marvin Gaye\",\"Michael Jackson\",\"David Bowie\",\"Marvin Gaye\",\"Bronski Beat\",\"Tears For Fears\",\"Guns N' Roses\",\"Sting\",\"Alannah Myles\",\"Sin\\u00e9ad O'Connor\",\"Tom Petty and the Heartbreakers\",\"Alice In Chains\",\"Neil Young\",\"Beastie Boys\",\"Oasis\",\"The Smashing Pumpkins\",\"Radiohead\",\"Johnny Cash\",\"The Beatles\",\"Bob Dylan\",\"The Who\",\"The Beatles\",\"Jimi Hendrix\",\"The Beach Boys\"],\"y0\":\" \",\"yaxis\":\"y\",\"type\":\"box\"},{\"alignmentgroup\":\"True\",\"hovertemplate\":\"Popularity=39<br>Artist=%{y}<extra></extra>\",\"legendgroup\":\"39\",\"marker\":{\"color\":\"#EF553B\"},\"name\":\"39\",\"notched\":false,\"offsetgroup\":\"39\",\"orientation\":\"v\",\"showlegend\":true,\"x0\":\" \",\"xaxis\":\"x\",\"y\":[\"Deep Purple\",\"Manic Street Preachers\",\"IOS\",\"Mark Knopfler\",\"Doe Maar\",\"Dani\\u00ebl Lohues\",\"Neet O\\u00e9t Lottum\",\"Kane\",\"Maggie MacNeal\",\"The Who\",\"Waylon\",\"The Buoys\",\"Diesel\",\"Golden Earring\",\"U2\",\"Clouseau\",\"Mannenkoor Karrespoor\",\"Genesis\",\"Vitesse\",\"Valensia\",\"Stef Bos\",\"Herman van Veen\"],\"y0\":\" \",\"yaxis\":\"y\",\"type\":\"box\"},{\"alignmentgroup\":\"True\",\"hovertemplate\":\"Popularity=69<br>Artist=%{y}<extra></extra>\",\"legendgroup\":\"69\",\"marker\":{\"color\":\"#00cc96\"},\"name\":\"69\",\"notched\":false,\"offsetgroup\":\"69\",\"orientation\":\"v\",\"showlegend\":true,\"x0\":\" \",\"xaxis\":\"x\",\"y\":[\"Gorillaz\",\"Muse\",\"Coldplay\",\"The Killers\",\"Pearl Jam\",\"James Blunt\",\"The Black Eyed Peas\",\"Jamiroquai\",\"Foo Fighters\",\"Muse\",\"John Legend\",\"Florence + The Machine\",\"Lady Gaga\",\"Foo Fighters\",\"The Black Keys\",\"Mumford & Sons\",\"Avicii\",\"Muse\",\"Coldplay\",\"Michael Jackson\",\"George Michael\",\"Rag'n'Bone Man\",\"Creedence Clearwater Revival\",\"Don McLean\",\"Marvin Gaye\",\"Lou Reed\",\"America\",\"Steely Dan\",\"Marvin Gaye\",\"John Denver\",\"Bachman-Turner Overdrive\",\"Barry Manilow\",\"Led Zeppelin\",\"Eagles\",\"Paul Simon\",\"Bob Dylan\",\"CHIC\",\"Gerry Rafferty\",\"The Doobie Brothers\",\"Talking Heads\",\"Bruce Springsteen\",\"Talk Talk\",\"Prince\",\"Cyndi Lauper\",\"The B-52's\",\"Scorpions\",\"Elton John\",\"Metallica\",\"Marc Cohn\",\"Crowded House\",\"Sting\",\"Tina Turner\",\"The Cranberries\",\"Michael Jackson\",\"Massive Attack\",\"Bob Dylan\",\"The Animals\",\"Bob Dylan\",\"The Beatles\",\"The Beatles\",\"Jefferson Airplane\",\"Jimi Hendrix\",\"The Beatles\",\"Jefferson Airplane\",\"Aretha Franklin\",\"The Monkees\",\"Joe Cocker\",\"The Who\",\"Elvis Presley\"],\"y0\":\" \",\"yaxis\":\"y\",\"type\":\"box\"},{\"alignmentgroup\":\"True\",\"hovertemplate\":\"Popularity=76<br>Artist=%{y}<extra></extra>\",\"legendgroup\":\"76\",\"marker\":{\"color\":\"#ab63fa\"},\"name\":\"76\",\"notched\":false,\"offsetgroup\":\"76\",\"orientation\":\"v\",\"showlegend\":true,\"x0\":\" \",\"xaxis\":\"x\",\"y\":[\"Foo Fighters\",\"Kings of Leon\",\"Muse\",\"John Mayer\",\"MGMT\",\"Natasha Bedingfield\",\"Red Hot Chili Peppers\",\"James Blunt\",\"Coldplay\",\"P!nk\",\"Gotye\",\"Ed Sheeran\",\"Beyonc\\u00e9\",\"Passenger\",\"Robin Thicke\",\"Tame Impala\",\"KALEO\",\"P!nk\",\"George Harrison\",\"Bill Withers\",\"Slade\",\"Queen\",\"Bob Marley & The Wailers\",\"Dolly Parton\",\"The Rolling Stones\",\"Phil Collins\",\"Cyndi Lauper\",\"Don Henley\",\"Bryan Adams\",\"Survivor\",\"U2\",\"Michael Jackson\",\"Roxette\",\"Tom Petty\",\"Counting Crows\",\"Soundgarden\",\"Bon Jovi\",\"Blackstreet\",\"George Michael\",\"Aerosmith\",\"The Mamas & The Papas\",\"Simon & Garfunkel\",\"The Rolling Stones\",\"Led Zeppelin\"],\"y0\":\" \",\"yaxis\":\"y\",\"type\":\"box\"},{\"alignmentgroup\":\"True\",\"hovertemplate\":\"Popularity=59<br>Artist=%{y}<extra></extra>\",\"legendgroup\":\"59\",\"marker\":{\"color\":\"#FFA15A\"},\"name\":\"59\",\"notched\":false,\"offsetgroup\":\"59\",\"orientation\":\"v\",\"showlegend\":true,\"x0\":\" \",\"xaxis\":\"x\",\"y\":[\"Bruce Springsteen\",\"Youssou N'Dour\",\"Santa Esmeralda\",\"Status Quo\",\"Andre Hazes\",\"Santana\",\"Tenacious D\",\"Counting Crows\",\"Gossip\",\"Michel Sardou\",\"Sarah Brightman\",\"Nick & Simon\",\"Adele\",\"Abel\",\"Queens of the Stone Age\",\"Rihanna\",\"Mr. Probz\",\"Kensington\",\"The Script\",\"Marco Borsato\",\"The War On Drugs\",\"Queen\",\"Supertramp\",\"Barbra Streisand\",\"J.J. Cale\",\"Billy Joel\",\"Neil Diamond\",\"ABBA\",\"ABBA\",\"Lionel Richie\",\"U2\",\"Tina Turner\",\"John Denver\",\"Ultravox\",\"Talk Talk\",\"Michael Jackson\",\"Fleetwood Mac\",\"Fleetwood Mac\",\"U2\",\"Temple Of The Dog\",\"Bon Jovi\",\"Meat Loaf\",\"Pink Floyd\",\"Jeff Buckley\",\"Nick Cave & The Bad Seeds\",\"The Waterboys\",\"Elvis Presley\",\"Bee Gees\",\"Neil Diamond\",\"Shocking Blue\",\"Creedence Clearwater Revival\"],\"y0\":\" \",\"yaxis\":\"y\",\"type\":\"box\"},{\"alignmentgroup\":\"True\",\"hovertemplate\":\"Popularity=45<br>Artist=%{y}<extra></extra>\",\"legendgroup\":\"45\",\"marker\":{\"color\":\"#19d3f3\"},\"name\":\"45\",\"notched\":false,\"offsetgroup\":\"45\",\"orientation\":\"v\",\"showlegend\":true,\"x0\":\" \",\"xaxis\":\"x\",\"y\":[\"City To City\",\"Elbow\",\"Spinvis\",\"De Poema's\",\"Within Temptation\",\"U2\",\"Deep Purple\",\"ABBA\",\"Genesis\",\"Depeche Mode\",\"Peter Gabriel\",\"Suzanne Vega\",\"Marianne Rosenberg\",\"TOTO\",\"Barry Ryan\",\"The Amazing Stroopwafels\",\"Hans De Booij\",\"Queen\",\"The Police\",\"George Michael\",\"Moby\",\"The Beatles\",\"Liesbeth List\",\"Rare Earth\"],\"y0\":\" \",\"yaxis\":\"y\",\"type\":\"box\"},{\"alignmentgroup\":\"True\",\"hovertemplate\":\"Popularity=74<br>Artist=%{y}<extra></extra>\",\"legendgroup\":\"74\",\"marker\":{\"color\":\"#FF6692\"},\"name\":\"74\",\"notched\":false,\"offsetgroup\":\"74\",\"orientation\":\"v\",\"showlegend\":true,\"x0\":\" \",\"xaxis\":\"x\",\"y\":[\"Maroon 5\",\"The White Stripes\",\"Justin Timberlake\",\"Norah Jones\",\"Franz Ferdinand\",\"The Proclaimers\",\"John Mayer\",\"Amy Winehouse\",\"UB40\",\"Evanescence\",\"The Script\",\"Red Hot Chili Peppers\",\"Amy Winehouse\",\"Ronan Keating\",\"Adele\",\"OneRepublic\",\"James Bay\",\"Coldplay\",\"Phil Collins\",\"Red Hot Chili Peppers\",\"Green Day\",\"Yusuf / Cat Stevens\",\"The Doors\",\"Don McLean\",\"David Bowie\",\"ZZ Top\",\"Bob Dylan\",\"Dolly Parton\",\"David Bowie\",\"Chicago\",\"Thin Lizzy\",\"Supertramp\",\"Heart\",\"Bob Marley & The Wailers\",\"The Rolling Stones\",\"The Police\",\"Michael Jackson\",\"Mot\\u00f6rhead\",\"Queen\",\"The Human League\",\"Bruce Springsteen\",\"Alphaville\",\"Chris de Burgh\",\"Prince\",\"Phil Collins\",\"Nirvana\",\"Metallica\",\"Guns N' Roses\",\"R.E.M.\",\"House Of Pain\",\"Nirvana\",\"The Smashing Pumpkins\",\"Men At Work\",\"Fugees\",\"Radiohead\",\"Foo Fighters\",\"Etta James\",\"The Beatles\",\"Nina Simone\",\"The Beatles\",\"Cream\",\"The Beatles\",\"Cream\",\"Chuck Berry\"],\"y0\":\" \",\"yaxis\":\"y\",\"type\":\"box\"},{\"alignmentgroup\":\"True\",\"hovertemplate\":\"Popularity=77<br>Artist=%{y}<extra></extra>\",\"legendgroup\":\"77\",\"marker\":{\"color\":\"#B6E880\"},\"name\":\"77\",\"notched\":false,\"offsetgroup\":\"77\",\"orientation\":\"v\",\"showlegend\":true,\"x0\":\" \",\"xaxis\":\"x\",\"y\":[\"The Killers\",\"Backstreet Boys\",\"3 Doors Down\",\"Eminem\",\"Green Day\",\"Amy Winehouse\",\"JAY-Z\",\"Train\",\"Stevie Wonder\",\"Bon Jovi\",\"JAY-Z\",\"Daft Punk\",\"Justin Timberlake\",\"Hozier\",\"Elton John\",\"Led Zeppelin\",\"The Who\",\"America\",\"Queen\",\"Fleetwood Mac\",\"Kansas\",\"Pink Floyd\",\"Bee Gees\",\"Bob Marley & The Wailers\",\"Phil Collins\",\"Billy Joel\",\"Bruce Springsteen\",\"Foreigner\",\"Tracy Chapman\",\"Scorpions\",\"U2\",\"Guns N' Roses\",\"Whitney Houston\",\"John Denver\",\"Foo Fighters\",\"Red Hot Chili Peppers\",\"Frank Sinatra\",\"Ben E. King\",\"The Rolling Stones\",\"Jimi Hendrix\",\"Creedence Clearwater Revival\"],\"y0\":\" \",\"yaxis\":\"y\",\"type\":\"box\"},{\"alignmentgroup\":\"True\",\"hovertemplate\":\"Popularity=82<br>Artist=%{y}<extra></extra>\",\"legendgroup\":\"82\",\"marker\":{\"color\":\"#FF97FF\"},\"name\":\"82\",\"notched\":false,\"offsetgroup\":\"82\",\"orientation\":\"v\",\"showlegend\":true,\"x0\":\" \",\"xaxis\":\"x\",\"y\":[\"Eminem\",\"Coldplay\",\"Jason Mraz\",\"Bruno Mars\",\"Arctic Monkeys\",\"WALK THE MOON\",\"Mark Ronson\",\"Imagine Dragons\",\"Earth, Wind & Fire\",\"George Ezra\",\"Shawn Mendes\",\"Elton John\",\"Lynyrd Skynyrd\",\"Eagles\",\"Radiohead\",\"The Beatles\"],\"y0\":\" \",\"yaxis\":\"y\",\"type\":\"box\"},{\"alignmentgroup\":\"True\",\"hovertemplate\":\"Popularity=49<br>Artist=%{y}<extra></extra>\",\"legendgroup\":\"49\",\"marker\":{\"color\":\"#FECB52\"},\"name\":\"49\",\"notched\":false,\"offsetgroup\":\"49\",\"orientation\":\"v\",\"showlegend\":true,\"x0\":\" \",\"xaxis\":\"x\",\"y\":[\"Elvis Presley\",\"Marco Borsato\",\"Snow Patrol\",\"Neil Young\",\"Doe Maar\",\"Doe Maar\",\"Tavares\",\"Live\",\"Lisa Lois\",\"Lange Frans\",\"U2\",\"Guus Meeuwis\",\"Jonathan Jeremiah\",\"Ray Charles\",\"Stromae\",\"London Grammar\",\"Tom Odell\",\"Paolo Nutini\",\"Nielson\",\"Kensington\",\"Kensington\",\"Little River Band\",\"ABBA\",\"Diana Ross\",\"Rob De Nijs\",\"The Babys\",\"Alice Cooper\",\"ABBA\",\"Earth & Fire\",\"Fischer-Z\",\"Queen\",\"Paul Simon\",\"Fleetwood Mac\",\"Crowded House\",\"Billy Joel\",\"Fleetwood Mac\",\"UB40\",\"Queen\",\"Normaal\",\"Queen\",\"Simply Red\",\"Al Stewart\",\"Otis Redding\",\"Queen\",\"Queen\",\"Guus Meeuwis\",\"Acda en de Munnik\",\"Henk Westbroek\"],\"y0\":\" \",\"yaxis\":\"y\",\"type\":\"box\"},{\"alignmentgroup\":\"True\",\"hovertemplate\":\"Popularity=34<br>Artist=%{y}<extra></extra>\",\"legendgroup\":\"34\",\"marker\":{\"color\":\"#636efa\"},\"name\":\"34\",\"notched\":false,\"offsetgroup\":\"34\",\"orientation\":\"v\",\"showlegend\":true,\"x0\":\" \",\"xaxis\":\"x\",\"y\":[\"De Dijk\",\"Golden Earring\",\"The Rolling Stones\",\"Rowwen H\\u00e8ze\",\"Van Dik Hout\",\"Drs. P\",\"Gavin James\",\"Madness\",\"Orchestral Manoeuvres In The Dark\",\"Cuby & The Blizzards\"],\"y0\":\" \",\"yaxis\":\"y\",\"type\":\"box\"},{\"alignmentgroup\":\"True\",\"hovertemplate\":\"Popularity=26<br>Artist=%{y}<extra></extra>\",\"legendgroup\":\"26\",\"marker\":{\"color\":\"#EF553B\"},\"name\":\"26\",\"notched\":false,\"offsetgroup\":\"26\",\"orientation\":\"v\",\"showlegend\":true,\"x0\":\" \",\"xaxis\":\"x\",\"y\":[\"Ten Years After\",\"Golden Earrings\",\"Racoon\",\"Editors\",\"Andre Hazes\",\"Douwe Bob\",\"Spider Murphy Gang\",\"De Dijk\",\"De Dijk\"],\"y0\":\" \",\"yaxis\":\"y\",\"type\":\"box\"},{\"alignmentgroup\":\"True\",\"hovertemplate\":\"Popularity=66<br>Artist=%{y}<extra></extra>\",\"legendgroup\":\"66\",\"marker\":{\"color\":\"#00cc96\"},\"name\":\"66\",\"notched\":false,\"offsetgroup\":\"66\",\"orientation\":\"v\",\"showlegend\":true,\"x0\":\" \",\"xaxis\":\"x\",\"y\":[\"Arctic Monkeys\",\"John Mayer\",\"The Black Eyed Peas\",\"Spandau Ballet\",\"Madonna\",\"Madonna\",\"Eddie Vedder\",\"Kings of Leon\",\"Adele\",\"Ben Howard\",\"Imagine Dragons\",\"Rihanna\",\"Imagine Dragons\",\"Queens of the Stone Age\",\"Taylor Swift\",\"Michael Kiwanuka\",\"John Mayer\",\"Arcade Fire\",\"Creedence Clearwater Revival\",\"David Bowie\",\"Janis Joplin\",\"Yes\",\"Alice Cooper\",\"Eagles\",\"Pink Floyd\",\"The Hollies\",\"Pink Floyd\",\"Bruce Springsteen\",\"Peter Frampton\",\"Queen\",\"Dire Straits\",\"The Police\",\"Patti Smith\",\"Patrick Hernandez\",\"Supertramp\",\"Bruce Springsteen\",\"Queen\",\"Wham!\",\"Queen\",\"Alphaville\",\"Whitney Houston\",\"Bruce Hornsby\",\"U2\",\"Guns N' Roses\",\"Rick Astley\",\"Pet Shop Boys\",\"Tears For Fears\",\"Ozzy Osbourne\",\"Bonnie Raitt\",\"Tina Turner\",\"Sade\",\"Andrea Bocelli\",\"The Prodigy\",\"George Michael\",\"Sam Cooke\",\"The Beatles\",\"Percy Sledge\",\"Leonard Cohen\",\"The Kinks\",\"Bee Gees\",\"Bee Gees\",\"The Beatles\",\"Louis Armstrong\"],\"y0\":\" \",\"yaxis\":\"y\",\"type\":\"box\"},{\"alignmentgroup\":\"True\",\"hovertemplate\":\"Popularity=48<br>Artist=%{y}<extra></extra>\",\"legendgroup\":\"48\",\"marker\":{\"color\":\"#ab63fa\"},\"name\":\"48\",\"notched\":false,\"offsetgroup\":\"48\",\"orientation\":\"v\",\"showlegend\":true,\"x0\":\" \",\"xaxis\":\"x\",\"y\":[\"Paul de Leeuw\",\"Herbert Gr\\u00f6nemeyer\",\"Doe Maar\",\"Twarres\",\"Peter Schilling\",\"Novastar\",\"Nick & Simon\",\"Bruce Springsteen\",\"De Jeugd Van Tegenwoordig\",\"Cock Robin\",\"Agnes Obel\",\"BL\\u00d8F\",\"Snow Patrol\",\"Bastille\",\"The Sugarhill Gang\",\"Kraftwerk\",\"Roger Glover\",\"Janis Ian\",\"ABBA\",\"Earth, Wind & Fire\",\"Herman Brood & His Wild Romance\",\"ABBA\",\"Joe Jackson\",\"The The\",\"Queen\",\"Rowwen H\\u00e8ze\",\"Queen\",\"The Prodigy\",\"Eros Ramazzotti\",\"Frank Boeijen\",\"Live\",\"Tim Hardin\",\"The Cats\",\"Nina Simone\",\"Fleetwood Mac\"],\"y0\":\" \",\"yaxis\":\"y\",\"type\":\"box\"},{\"alignmentgroup\":\"True\",\"hovertemplate\":\"Popularity=57<br>Artist=%{y}<extra></extra>\",\"legendgroup\":\"57\",\"marker\":{\"color\":\"#FFA15A\"},\"name\":\"57\",\"notched\":false,\"offsetgroup\":\"57\",\"orientation\":\"v\",\"showlegend\":true,\"x0\":\" \",\"xaxis\":\"x\",\"y\":[\"Alanis Morissette\",\"Robert Plant\",\"U2\",\"Volbeat\",\"Marco Borsato\",\"Coldplay\",\"Faithless\",\"Muse\",\"Acda en de Munnik\",\"Arctic Monkeys\",\"Damien Rice\",\"Guus Meeuwis\",\"Mumford & Sons\",\"The Opposites\",\"Mumford & Sons\",\"Volbeat\",\"Kensington\",\"Jean-Michel Jarre\",\"John Lennon\",\"Golden Earring\",\"Joe Cocker\",\"Meat Loaf\",\"Art Garfunkel\",\"David Bowie\",\"The Alan Parsons Project\",\"David Bowie\",\"Chris Rea\",\"Slayer\",\"Peter Gabriel\",\"Bruce Springsteen\",\"Melissa Etheridge\",\"Enya\",\"Phil Collins\",\"Stef Bos\",\"Talk Talk\",\"SNAP!\",\"Iron Butterfly\",\"Laura Pausini\",\"Crash Test Dummies\",\"Nirvana\",\"Van Halen\",\"Neil Diamond\",\"George Michael\",\"BL\\u00d8F\",\"Roy Orbison\",\"Ike & Tina Turner\",\"Bee Gees\",\"Ralph McTell\"],\"y0\":\" \",\"yaxis\":\"y\",\"type\":\"box\"},{\"alignmentgroup\":\"True\",\"hovertemplate\":\"Popularity=46<br>Artist=%{y}<extra></extra>\",\"legendgroup\":\"46\",\"marker\":{\"color\":\"#19d3f3\"},\"name\":\"46\",\"notched\":false,\"offsetgroup\":\"46\",\"orientation\":\"v\",\"showlegend\":true,\"x0\":\" \",\"xaxis\":\"x\",\"y\":[\"John Miles\",\"The Dubliners\",\"Billy Joel\",\"De Jeugd Van Tegenwoordig\",\"10cc\",\"BL\\u00d8F\",\"Anouk\",\"Muse\",\"Emeli Sand\\u00e9\",\"Eric Clapton\",\"Steve Harley & Cockney Rebel\",\"Reinhard Mey\",\"Donna Summer\",\"ABBA\",\"Drukwerk\",\"Het Goede Doel\",\"Barbra Streisand\",\"U2\",\"Dire Straits\",\"David Bowie\",\"Frank Boeijen Groep\",\"Tanita Tikaram\",\"Roxy Music\",\"Prince\",\"Skik\",\"George Michael\",\"The Rolling Stones\",\"The Cats\"],\"y0\":\" \",\"yaxis\":\"y\",\"type\":\"box\"},{\"alignmentgroup\":\"True\",\"hovertemplate\":\"Popularity=81<br>Artist=%{y}<extra></extra>\",\"legendgroup\":\"81\",\"marker\":{\"color\":\"#FF6692\"},\"name\":\"81\",\"notched\":false,\"offsetgroup\":\"81\",\"orientation\":\"v\",\"showlegend\":true,\"x0\":\" \",\"xaxis\":\"x\",\"y\":[\"Coldplay\",\"Linkin Park\",\"P!nk\",\"Twenty One Pilots\",\"John Mayer\",\"Lady Gaga\",\"Michael Jackson\",\"Eurythmics\",\"Bryan Adams\",\"Whitney Houston\",\"AC/DC\",\"Red Hot Chili Peppers\",\"R.E.M.\",\"Red Hot Chili Peppers\"],\"y0\":\" \",\"yaxis\":\"y\",\"type\":\"box\"},{\"alignmentgroup\":\"True\",\"hovertemplate\":\"Popularity=67<br>Artist=%{y}<extra></extra>\",\"legendgroup\":\"67\",\"marker\":{\"color\":\"#B6E880\"},\"name\":\"67\",\"notched\":false,\"offsetgroup\":\"67\",\"orientation\":\"v\",\"showlegend\":true,\"x0\":\" \",\"xaxis\":\"x\",\"y\":[\"Mumford & Sons\",\"Barry White\",\"Christina Aguilera\",\"Mumford & Sons\",\"Amy Winehouse\",\"Eddie Vedder\",\"Keane\",\"David Guetta\",\"Coldplay\",\"Xavier Rudd\",\"Rihanna\",\"Paul Kalkbrenner\",\"Michael Kiwanuka\",\"Adele\",\"Green Day\",\"Procol Harum\",\"Creedence Clearwater Revival\",\"Curtis Mayfield\",\"The Doors\",\"The Rolling Stones\",\"The Doors\",\"Led Zeppelin\",\"Gladys Knight & The Pips\",\"Queen\",\"Stevie Wonder\",\"Meat Loaf\",\"Fleetwood Mac\",\"10cc\",\"The Rolling Stones\",\"Bette Midler\",\"Barbra Streisand\",\"The Police\",\"The Stranglers\",\"The Alan Parsons Project\",\"Leonard Cohen\",\"Bruce Springsteen\",\"Kate Bush\",\"Metallica\",\"The Smiths\",\"R.E.M.\",\"Metallica\",\"Extreme\",\"The Cure\",\"R.E.M.\",\"Nirvana\",\"Portishead\",\"No Doubt\",\"Robert Miles\",\"Rammstein\",\"Radiohead\",\"The Beatles\",\"The Kinks\",\"The Beatles\",\"Jimi Hendrix\",\"Steppenwolf\",\"Etta James\",\"The Rolling Stones\",\"Crosby, Stills & Nash\"],\"y0\":\" \",\"yaxis\":\"y\",\"type\":\"box\"},{\"alignmentgroup\":\"True\",\"hovertemplate\":\"Popularity=55<br>Artist=%{y}<extra></extra>\",\"legendgroup\":\"55\",\"marker\":{\"color\":\"#FF97FF\"},\"name\":\"55\",\"notched\":false,\"offsetgroup\":\"55\",\"orientation\":\"v\",\"showlegend\":true,\"x0\":\" \",\"xaxis\":\"x\",\"y\":[\"Jan Smit\",\"Saybia\",\"Michael Jackson\",\"Krezip\",\"De Jeugd Van Tegenwoordig\",\"Simply Red\",\"Madonna\",\"Lana Del Rey\",\"Stromae\",\"David Bowie\",\"Pink Floyd\",\"The Rolling Stones\",\"Sweet\",\"The Rolling Stones\",\"Queen\",\"Boston\",\"The Blue Nile\",\"Talking Heads\",\"Klein Orkest\",\"U2\",\"U2\",\"Mike & The Mechanics\",\"Queen\",\"Don Henley\",\"Queen\",\"Paul Young\",\"Iron Maiden\",\"Oasis\",\"Faithless\",\"Marco Borsato\",\"Metallica\",\"Gerry & The Pacemakers\"],\"y0\":\" \",\"yaxis\":\"y\",\"type\":\"box\"},{\"alignmentgroup\":\"True\",\"hovertemplate\":\"Popularity=16<br>Artist=%{y}<extra></extra>\",\"legendgroup\":\"16\",\"marker\":{\"color\":\"#FECB52\"},\"name\":\"16\",\"notched\":false,\"offsetgroup\":\"16\",\"orientation\":\"v\",\"showlegend\":true,\"x0\":\" \",\"xaxis\":\"x\",\"y\":[\"BL\\u00d8F\",\"Anouk\",\"Rob De Nijs\"],\"y0\":\" \",\"yaxis\":\"y\",\"type\":\"box\"},{\"alignmentgroup\":\"True\",\"hovertemplate\":\"Popularity=50<br>Artist=%{y}<extra></extra>\",\"legendgroup\":\"50\",\"marker\":{\"color\":\"#636efa\"},\"name\":\"50\",\"notched\":false,\"offsetgroup\":\"50\",\"orientation\":\"v\",\"showlegend\":true,\"x0\":\" \",\"xaxis\":\"x\",\"y\":[\"Ilse DeLange\",\"Marco Borsato\",\"Golden Earring\",\"The Scene\",\"Guus Meeuwis\",\"The Moody Blues\",\"The Teskey Brothers\",\"White Lies\",\"Nirvana\",\"The Moody Blues\",\"Pink Floyd\",\"Queen\",\"Queen\",\"Ramses Shaffy\",\"ABBA\",\"UB40\",\"Sting\",\"Dire Straits\",\"Queen\",\"U2\",\"Labi Siffre\",\"Living Colour\",\"Marco Borsato\",\"Guus Meeuwis\",\"De Dijk\",\"Marco Borsato\",\"Les Poppys\",\"Duran Duran\",\"Robbie Williams\",\"The Hollies\",\"Fleetwood Mac\",\"The Rolling Stones\"],\"y0\":\" \",\"yaxis\":\"y\",\"type\":\"box\"},{\"alignmentgroup\":\"True\",\"hovertemplate\":\"Popularity=56<br>Artist=%{y}<extra></extra>\",\"legendgroup\":\"56\",\"marker\":{\"color\":\"#EF553B\"},\"name\":\"56\",\"notched\":false,\"offsetgroup\":\"56\",\"orientation\":\"v\",\"showlegend\":true,\"x0\":\" \",\"xaxis\":\"x\",\"y\":[\"Editors\",\"Robbie Williams\",\"P!nk\",\"Anouk\",\"Editors\",\"Yann Tiersen\",\"Krezip\",\"Damien Rice\",\"Sammy Davis Jr.\",\"Within Temptation\",\"Ike & Tina Turner\",\"Counting Crows\",\"Loreen\",\"Floor Jansen\",\"Uriah Heep\",\"Eagles\",\"ABBA\",\"Supertramp\",\"Fleetwood Mac\",\"The Pointer Sisters\",\"Neil Diamond\",\"ABBA\",\"The Blues Brothers\",\"Barbra Streisand\",\"Nena\",\"Phil Collins\",\"Genesis\",\"Madonna\",\"Fleetwood Mac\",\"The Rolling Stones\",\"Dire Straits\",\"The Black Crowes\",\"Wings\",\"Marco Borsato\",\"The Prodigy\",\"Simply Red\",\"George Michael\",\"Live\",\"Creedence Clearwater Revival\",\"Fats Domino\"],\"y0\":\" \",\"yaxis\":\"y\",\"type\":\"box\"},{\"alignmentgroup\":\"True\",\"hovertemplate\":\"Popularity=84<br>Artist=%{y}<extra></extra>\",\"legendgroup\":\"84\",\"marker\":{\"color\":\"#00cc96\"},\"name\":\"84\",\"notched\":false,\"offsetgroup\":\"84\",\"orientation\":\"v\",\"showlegend\":true,\"x0\":\" \",\"xaxis\":\"x\",\"y\":[\"Coldplay\",\"Band Aid\",\"Coldplay\",\"Foster The People\",\"Ed Sheeran\",\"Ed Sheeran\",\"Sam Smith\",\"The Chainsmokers\",\"Imagine Dragons\",\"5 Seconds of Summer\",\"TOTO\",\"The Police\"],\"y0\":\" \",\"yaxis\":\"y\",\"type\":\"box\"},{\"alignmentgroup\":\"True\",\"hovertemplate\":\"Popularity=63<br>Artist=%{y}<extra></extra>\",\"legendgroup\":\"63\",\"marker\":{\"color\":\"#ab63fa\"},\"name\":\"63\",\"notched\":false,\"offsetgroup\":\"63\",\"orientation\":\"v\",\"showlegend\":true,\"x0\":\" \",\"xaxis\":\"x\",\"y\":[\"Adele\",\"Seal\",\"Coldplay\",\"The Cult\",\"Coldplay\",\"The Beatles\",\"The Beatles\",\"The Beatles\",\"U2\",\"Muse\",\"Racoon\",\"Fink\",\"Gregory Porter\",\"Kensington\",\"Leonard Cohen\",\"Nothing But Thieves\",\"Santana\",\"Crosby, Stills, Nash & Young\",\"Led Zeppelin\",\"David Bowie\",\"Leonard Cohen\",\"Thin Lizzy\",\"Supertramp\",\"ABBA\",\"Steve Harley\",\"Eagles\",\"ABBA\",\"Muddy Waters\",\"The Cure\",\"The Blues Brothers\",\"Rush\",\"Willie Nelson\",\"Paul Simon\",\"R.E.M.\",\"Fleetwood Mac\",\"Bee Gees\",\"TOTO\",\"U2\",\"Traveling Wilburys\",\"Guns N' Roses\",\"Metallica\",\"U2\",\"Oasis\",\"Michael Jackson\",\"Oasis\",\"Counting Crows\",\"Midnight Oil\",\"George Michael\",\"Simon & Garfunkel\",\"The Beatles\",\"James Brown & The Famous Flames\",\"Jimi Hendrix\",\"The Rolling Stones\",\"The Beatles\",\"Elvis Presley\",\"Led Zeppelin\",\"Elvis Presley\"],\"y0\":\" \",\"yaxis\":\"y\",\"type\":\"box\"},{\"alignmentgroup\":\"True\",\"hovertemplate\":\"Popularity=72<br>Artist=%{y}<extra></extra>\",\"legendgroup\":\"72\",\"marker\":{\"color\":\"#FFA15A\"},\"name\":\"72\",\"notched\":false,\"offsetgroup\":\"72\",\"orientation\":\"v\",\"showlegend\":true,\"x0\":\" \",\"xaxis\":\"x\",\"y\":[\"Amy Winehouse\",\"Foo Fighters\",\"The Offspring\",\"Kid Rock\",\"Tom Petty and the Heartbreakers\",\"Robbie Williams\",\"Stealers Wheel\",\"Limp Bizkit\",\"Spandau Ballet\",\"2Pac\",\"Scorpions\",\"Jason Mraz\",\"Kodaline\",\"Cyndi Lauper\",\"Rammstein\",\"Simon & Garfunkel\",\"Van Morrison\",\"The Rolling Stones\",\"Rod Stewart\",\"The Rolling Stones\",\"ABBA\",\"Stevie Wonder\",\"Billy Joel\",\"Iggy Pop\",\"Bill Withers\",\"Supertramp\",\"Queen\",\"U2\",\"Culture Club\",\"Frankie Goes To Hollywood\",\"Queen\",\"Crowded House\",\"Guns N' Roses\",\"Michael Jackson\",\"Tracy Chapman\",\"Simply Red\",\"Cher\",\"Nirvana\",\"Sting\",\"Duran Duran\",\"Lenny Kravitz\",\"Seal\",\"2Pac\",\"Radiohead\",\"The Offspring\",\"Eminem\",\"The Beach Boys\",\"The Beach Boys\",\"The Doors\",\"Jimi Hendrix\",\"The Doors\",\"The Band\",\"Elvis Presley\",\"The Beatles\"],\"y0\":\" \",\"yaxis\":\"y\",\"type\":\"box\"},{\"alignmentgroup\":\"True\",\"hovertemplate\":\"Popularity=44<br>Artist=%{y}<extra></extra>\",\"legendgroup\":\"44\",\"marker\":{\"color\":\"#19d3f3\"},\"name\":\"44\",\"notched\":false,\"offsetgroup\":\"44\",\"orientation\":\"v\",\"showlegend\":true,\"x0\":\" \",\"xaxis\":\"x\",\"y\":[\"Sandy Coast\",\"Beyonc\\u00e9\",\"Herbert Gr\\u00f6nemeyer\",\"The Temptations\",\"Neil Young\",\"Doe Maar\",\"Fish\",\"U2\",\"Roy Orbison\",\"Joe Bonamassa\",\"Kensington\",\"Elvis Presley\",\"Simple Minds\",\"Beth Hart\",\"Alice Cooper\",\"ABBA\",\"Fischer-Z\",\"Golden Earring\",\"Lee Towers\",\"Dire Straits\",\"Nits\",\"Tina Turner\",\"ZZ Top\",\"Therapy?\",\"George Baker Selection\",\"Stef Bos\",\"Fatboy Slim\",\"Herman van Veen\",\"Robbie Williams\",\"De Kast\",\"Melanie\",\"The Cats\"],\"y0\":\" \",\"yaxis\":\"y\",\"type\":\"box\"},{\"alignmentgroup\":\"True\",\"hovertemplate\":\"Popularity=75<br>Artist=%{y}<extra></extra>\",\"legendgroup\":\"75\",\"marker\":{\"color\":\"#FF6692\"},\"name\":\"75\",\"notched\":false,\"offsetgroup\":\"75\",\"orientation\":\"v\",\"showlegend\":true,\"x0\":\" \",\"xaxis\":\"x\",\"y\":[\"The Goo Goo Dolls\",\"Green Day\",\"Alicia Keys\",\"JAY-Z\",\"Beyonc\\u00e9\",\"Foo Fighters\",\"The Beatles\",\"John Mayer\",\"Eminem\",\"John Mayer\",\"3 Doors Down\",\"Johnny Cash\",\"Daft Punk\",\"Bruno Mars\",\"Adele\",\"Beyonc\\u00e9\",\"Birdy\",\"Of Monsters and Men\",\"Eminem\",\"The Script\",\"Disturbed\",\"Justin Timberlake\",\"Linkin Park\",\"Tom Walker\",\"Eagles\",\"Lou Reed\",\"Carly Simon\",\"The Doobie Brothers\",\"Steve Miller Band\",\"Blue \\u00d6yster Cult\",\"Kansas\",\"David Bowie\",\"TOTO\",\"Pink Floyd\",\"Prince\",\"Bruce Springsteen\",\"Europe\",\"Paul Simon\",\"Pearl Jam\",\"Pearl Jam\",\"Pearl Jam\",\"The Cranberries\",\"Green Day\",\"Green Day\",\"C\\u00e9line Dion\",\"Bonnie Tyler\",\"Simon & Garfunkel\",\"Frank Sinatra\",\"Aretha Franklin\"],\"y0\":\" \",\"yaxis\":\"y\",\"type\":\"box\"},{\"alignmentgroup\":\"True\",\"hovertemplate\":\"Popularity=40<br>Artist=%{y}<extra></extra>\",\"legendgroup\":\"40\",\"marker\":{\"color\":\"#B6E880\"},\"name\":\"40\",\"notched\":false,\"offsetgroup\":\"40\",\"orientation\":\"v\",\"showlegend\":true,\"x0\":\" \",\"xaxis\":\"x\",\"y\":[\"U2\",\"Bruce Springsteen\",\"BL\\u00d8F\",\"Eurythmics\",\"Chi Coltrane\",\"Mud\",\"BL\\u00d8F\",\"Anouk\",\"Caro Emerald\",\"Marco Borsato\",\"De Dijk\",\"Michel Fugain\",\"Freddie Mercury\",\"Douwe Bob\",\"Neil Diamond\",\"Bob Marley & The Wailers\",\"Frank Zappa\",\"Ellen Foley\",\"Nits\",\"Klein Orkest\",\"Leonard Cohen\",\"Paul de Leeuw\",\"Boudewijn de Groot\",\"Ilse DeLange\",\"Ilse DeLange\"],\"y0\":\" \",\"yaxis\":\"y\",\"type\":\"box\"},{\"alignmentgroup\":\"True\",\"hovertemplate\":\"Popularity=42<br>Artist=%{y}<extra></extra>\",\"legendgroup\":\"42\",\"marker\":{\"color\":\"#FF97FF\"},\"name\":\"42\",\"notched\":false,\"offsetgroup\":\"42\",\"orientation\":\"v\",\"showlegend\":true,\"x0\":\" \",\"xaxis\":\"x\",\"y\":[\"Guus Meeuwis\",\"BL\\u00d8F\",\"Anouk\",\"Bram Vermeulen\",\"Normaal\",\"Blondie\",\"Snow Patrol\",\"Chris Isaak\",\"Triggerfinger\",\"Dani\\u00ebl Lohues\",\"INXS\",\"Andre Hazes\",\"Dotan\",\"Van Morrison\",\"Elvis Presley\",\"Madness\",\"Donna Summer\",\"Herman van Veen\",\"U2\",\"Prince\",\"Iron Maiden\",\"The Fatal Flowers\",\"Acda en de Munnik\",\"Acda en de Munnik\",\"Liquido\",\"Golden Earring\"],\"y0\":\" \",\"yaxis\":\"y\",\"type\":\"box\"},{\"alignmentgroup\":\"True\",\"hovertemplate\":\"Popularity=53<br>Artist=%{y}<extra></extra>\",\"legendgroup\":\"53\",\"marker\":{\"color\":\"#FECB52\"},\"name\":\"53\",\"notched\":false,\"offsetgroup\":\"53\",\"orientation\":\"v\",\"showlegend\":true,\"x0\":\" \",\"xaxis\":\"x\",\"y\":[\"Ti\\u00ebsto\",\"Muse\",\"Doe Maar\",\"Michael Jackson\",\"Focus\",\"Bruce Springsteen\",\"Toontje Lager\",\"Editors\",\"Coldplay\",\"Massive Attack\",\"Claudia De Breij\",\"Lady Antebellum\",\"Marco Borsato\",\"Within Temptation\",\"Stromae\",\"Armin van Buuren\",\"Kensington\",\"Peter Maffay\",\"Neil Young\",\"Michael Jackson\",\"Jim Croce\",\"Status Quo\",\"Bee Gees\",\"David Bowie\",\"Kate Bush\",\"ABBA\",\"The Cure\",\"Soft Cell\",\"Bette Midler\",\"Golden Earring\",\"Ultravox\",\"Frank Boeijen Groep\",\"Prince\",\"Talk Talk\",\"The Shadows\",\"TOTO\",\"The Cure\",\"ZZ Top\",\"Charles Aznavour\",\"George Michael\",\"Elton John\",\"George Michael\",\"Gilbert B\\u00e9caud\",\"The Rolling Stones\",\"The Rolling Stones\",\"Scott McKenzie\"],\"y0\":\" \",\"yaxis\":\"y\",\"type\":\"box\"},{\"alignmentgroup\":\"True\",\"hovertemplate\":\"Popularity=78<br>Artist=%{y}<extra></extra>\",\"legendgroup\":\"78\",\"marker\":{\"color\":\"#636efa\"},\"name\":\"78\",\"notched\":false,\"offsetgroup\":\"78\",\"orientation\":\"v\",\"showlegend\":true,\"x0\":\" \",\"xaxis\":\"x\",\"y\":[\"Green Day\",\"Beyonc\\u00e9\",\"Coldplay\",\"Snow Patrol\",\"Nickelback\",\"Evanescence\",\"Coldplay\",\"Avicii\",\"Coldplay\",\"Coldplay\",\"Chris Stapleton\",\"Bruno Mars\",\"Rag'n'Bone Man\",\"Ed Sheeran\",\"LP\",\"Martin Garrix\",\"John Lennon\",\"Aerosmith\",\"Boston\",\"Fleetwood Mac\",\"Bob Marley & The Wailers\",\"The Police\",\"KISS\",\"AC/DC\",\"Fleetwood Mac\",\"Rage Against The Machine\",\"4 Non Blondes\",\"The Verve\",\"Red Hot Chili Peppers\",\"Elvis Presley\",\"The Beatles\",\"The Rolling Stones\",\"Neil Diamond\"],\"y0\":\" \",\"yaxis\":\"y\",\"type\":\"box\"},{\"alignmentgroup\":\"True\",\"hovertemplate\":\"Popularity=65<br>Artist=%{y}<extra></extra>\",\"legendgroup\":\"65\",\"marker\":{\"color\":\"#EF553B\"},\"name\":\"65\",\"notched\":false,\"offsetgroup\":\"65\",\"orientation\":\"v\",\"showlegend\":true,\"x0\":\" \",\"xaxis\":\"x\",\"y\":[\"Linkin Park\",\"Snow Patrol\",\"Queens of the Stone Age\",\"Foo Fighters\",\"Joni Mitchell\",\"U2\",\"Muse\",\"Elvis Presley\",\"The Black Keys\",\"Adele\",\"Armin van Buuren\",\"Martin Garrix\",\"Underworld\",\"The War On Drugs\",\"Bush\",\"Suzan & Freek\",\"Nielson\",\"Kensington\",\"The Beatles\",\"The Who\",\"Carpenters\",\"Eagles\",\"Pink Floyd\",\"Elton John\",\"Eagles\",\"Heart\",\"AC/DC\",\"Boney M.\",\"Orchestral Manoeuvres In The Dark\",\"Dolly Parton\",\"Michael Jackson\",\"Stevie Ray Vaughan\",\"Bryan Adams\",\"UB40\",\"Paul Simon\",\"Van Halen\",\"Whitesnake\",\"Neil Young\",\"Depeche Mode\",\"Gary Moore\",\"Metallica\",\"The Jackson 5\",\"Nick Cave & The Bad Seeds\",\"The Prodigy\",\"The Chemical Brothers\",\"Bob Dylan\",\"The Rolling Stones\",\"Simon & Garfunkel\",\"The Beatles\",\"The Beatles\",\"The Beatles\",\"The Dave Brubeck Quartet\"],\"y0\":\" \",\"yaxis\":\"y\",\"type\":\"box\"},{\"alignmentgroup\":\"True\",\"hovertemplate\":\"Popularity=43<br>Artist=%{y}<extra></extra>\",\"legendgroup\":\"43\",\"marker\":{\"color\":\"#00cc96\"},\"name\":\"43\",\"notched\":false,\"offsetgroup\":\"43\",\"orientation\":\"v\",\"showlegend\":true,\"x0\":\" \",\"xaxis\":\"x\",\"y\":[\"Lou Reed\",\"Elbow\",\"Claw Boys Claw\",\"David Bowie\",\"Racoon\",\"K's Choice\",\"Acda en de Munnik\",\"Alderliefste met Ramses Shaffy en Liesbeth List\",\"P!nk\",\"Keane\",\"Mark Knopfler\",\"Simple Minds\",\"Editors\",\"De Dijk\",\"Typhoon\",\"Jeroen van Koningsbrugge\",\"Blaudzun\",\"Yes\",\"Supertramp\",\"Supertramp\",\"Bruce Springsteen\",\"Dire Straits\",\"Jon & Vangelis\",\"Vandenberg\",\"Genesis\",\"Herman van Veen\",\"George Michael\",\"Cuby & The Blizzards\",\"The Cats\",\"The Who\"],\"y0\":\" \",\"yaxis\":\"y\",\"type\":\"box\"},{\"alignmentgroup\":\"True\",\"hovertemplate\":\"Popularity=51<br>Artist=%{y}<extra></extra>\",\"legendgroup\":\"51\",\"marker\":{\"color\":\"#ab63fa\"},\"name\":\"51\",\"notched\":false,\"offsetgroup\":\"51\",\"orientation\":\"v\",\"showlegend\":true,\"x0\":\" \",\"xaxis\":\"x\",\"y\":[\"Saybia\",\"Muse\",\"Acda en de Munnik\",\"Rammstein\",\"Anouk\",\"Kim Wilde\",\"Joy Division\",\"DJ Paul\",\"BL\\u00d8F\",\"Keane\",\"Michael Kiwanuka\",\"The Script\",\"Neil Young\",\"Electric Light Orchestra\",\"Bruce Springsteen\",\"Sex Pistols\",\"Queen\",\"Genesis\",\"Queen\",\"ABBA\",\"Sting\",\"Elvis Costello & The Attractions\",\"Sin\\u00e9ad O'Connor\",\"John Hiatt\",\"Lenny Kravitz\",\"Normaal\",\"Queen\",\"Crowded House\",\"Marillion\",\"Metallica\",\"BL\\u00d8F\",\"George Michael\",\"George Michael\"],\"y0\":\" \",\"yaxis\":\"y\",\"type\":\"box\"},{\"alignmentgroup\":\"True\",\"hovertemplate\":\"Popularity=52<br>Artist=%{y}<extra></extra>\",\"legendgroup\":\"52\",\"marker\":{\"color\":\"#FFA15A\"},\"name\":\"52\",\"notched\":false,\"offsetgroup\":\"52\",\"orientation\":\"v\",\"showlegend\":true,\"x0\":\" \",\"xaxis\":\"x\",\"y\":[\"BL\\u00d8F\",\"Metallica\",\"Marco Borsato\",\"Anouk\",\"Blondie\",\"U2\",\"Normaal\",\"Robert Cray\",\"Snowy White\",\"Gorki\",\"Alanis Morissette\",\"Lange Frans\",\"Youp van 't Hek\",\"The Common Linnets\",\"Kensington\",\"Diggy Dex\",\"Douwe Bob\",\"Queen\",\"Eagles\",\"ABBA\",\"Tom Waits\",\"Santana\",\"Donna Summer\",\"KISS\",\"Dan Hartman\",\"Het Goede Doel\",\"Joe Jackson\",\"Bruce Springsteen\",\"Dire Straits\",\"Gary Moore\",\"De Dijk\",\"Marco Borsato\",\"Sting\"],\"y0\":\" \",\"yaxis\":\"y\",\"type\":\"box\"},{\"alignmentgroup\":\"True\",\"hovertemplate\":\"Popularity=38<br>Artist=%{y}<extra></extra>\",\"legendgroup\":\"38\",\"marker\":{\"color\":\"#19d3f3\"},\"name\":\"38\",\"notched\":false,\"offsetgroup\":\"38\",\"orientation\":\"v\",\"showlegend\":true,\"x0\":\" \",\"xaxis\":\"x\",\"y\":[\"Golden Earring\",\"G\\u00e9 Reinders\",\"Nightwish\",\"Rufus Wainwright\",\"Alderliefste\",\"De Kast\",\"Matthias Reim\",\"Solomon Burke\",\"Helene Fischer\",\"The Beach Boys\",\"Herman Brood & His Wild Romance\",\"Dire Straits\",\"Clannad\",\"Eros Ramazzotti\",\"Tr\\u00f6ckener Kecks\",\"Het Goede Doel\",\"Karin Bloemen\"],\"y0\":\" \",\"yaxis\":\"y\",\"type\":\"box\"},{\"alignmentgroup\":\"True\",\"hovertemplate\":\"Popularity=32<br>Artist=%{y}<extra></extra>\",\"legendgroup\":\"32\",\"marker\":{\"color\":\"#FF6692\"},\"name\":\"32\",\"notched\":false,\"offsetgroup\":\"32\",\"orientation\":\"v\",\"showlegend\":true,\"x0\":\" \",\"xaxis\":\"x\",\"y\":[\"Rowwen H\\u00e8ze\",\"Rowwen H\\u00e8ze\",\"Beth Hart\",\"Kayak\",\"Derek & The Dominos\",\"Racoon\",\"Status Quo\",\"Boudewijn de Groot\",\"Andre Hazes\",\"Procol Harum\",\"The Mark & Clark Band\",\"The Alan Parsons Project\",\"Clannad\",\"Skunk Anansie\"],\"y0\":\" \",\"yaxis\":\"y\",\"type\":\"box\"},{\"alignmentgroup\":\"True\",\"hovertemplate\":\"Popularity=47<br>Artist=%{y}<extra></extra>\",\"legendgroup\":\"47\",\"marker\":{\"color\":\"#B6E880\"},\"name\":\"47\",\"notched\":false,\"offsetgroup\":\"47\",\"orientation\":\"v\",\"showlegend\":true,\"x0\":\" \",\"xaxis\":\"x\",\"y\":[\"Johnny Cash\",\"Armand\",\"Within Temptation\",\"The Scene\",\"Bee Gees\",\"Herbert Gr\\u00f6nemeyer\",\"Kane\",\"Kyteman\",\"Status Quo\",\"Coldplay\",\"Johnny Cash\",\"DI-RECT\",\"Party Animals\",\"Spinvis\",\"De Staat\",\"Kensington\",\"Typhoon\",\"John Lennon\",\"Creedence Clearwater Revival\",\"Yes\",\"Focus\",\"Mink DeVille\",\"Pink Floyd\",\"Golden Earring\",\"BAP\",\"Frank Boeijen Groep\",\"De Dijk\",\"Queen\",\"Prince\",\"BL\\u00d8F\",\"Barbra Streisand\",\"Hero\",\"The Rolling Stones\"],\"y0\":\" \",\"yaxis\":\"y\",\"type\":\"box\"},{\"alignmentgroup\":\"True\",\"hovertemplate\":\"Popularity=70<br>Artist=%{y}<extra></extra>\",\"legendgroup\":\"70\",\"marker\":{\"color\":\"#FF97FF\"},\"name\":\"70\",\"notched\":false,\"offsetgroup\":\"70\",\"orientation\":\"v\",\"showlegend\":true,\"x0\":\" \",\"xaxis\":\"x\",\"y\":[\"Manu Chao\",\"Enya\",\"Beyonc\\u00e9\",\"The Bangles\",\"Bill Medley\",\"Gary Jules\",\"Billy Joel\",\"Chris Isaak\",\"Coldplay\",\"Muse\",\"The Script\",\"Bastille\",\"Gigi D'Agostino\",\"Michael Jackson\",\"Coldplay\",\"Adele\",\"Danny Vera\",\"Pink Floyd\",\"Bob Marley & The Wailers\",\"10cc\",\"Queen\",\"Electric Light Orchestra\",\"Queen\",\"Cheap Trick\",\"Van Halen\",\"Supertramp\",\"Electric Light Orchestra\",\"Bee Gees\",\"TOTO\",\"Yes\",\"Prince\",\"The Smiths\",\"U.S.A. For Africa\",\"Alice Cooper\",\"R.E.M.\",\"Eric Clapton\",\"Bruce Springsteen\",\"Radiohead\",\"Chaka Khan\",\"Daft Punk\",\"Dr. Dre\",\"Santana\",\"The Righteous Brothers\",\"The Beatles\",\"The Doors\",\"The Beatles\"],\"y0\":\" \",\"yaxis\":\"y\",\"type\":\"box\"},{\"alignmentgroup\":\"True\",\"hovertemplate\":\"Popularity=64<br>Artist=%{y}<extra></extra>\",\"legendgroup\":\"64\",\"marker\":{\"color\":\"#FECB52\"},\"name\":\"64\",\"notched\":false,\"offsetgroup\":\"64\",\"orientation\":\"v\",\"showlegend\":true,\"x0\":\" \",\"xaxis\":\"x\",\"y\":[\"Stereophonics\",\"The Temper Trap\",\"Michael Bubl\\u00e9\",\"Elvis Presley\",\"Coldplay\",\"Mike Oldfield\",\"The Script\",\"Michael Bubl\\u00e9\",\"Blur\",\"Lionel Richie\",\"Michael Jackson\",\"Joy Division\",\"Foo Fighters\",\"Elvis Costello\",\"Ed Sheeran\",\"First Aid Kit\",\"Bastille\",\"The Beatles\",\"Chicago\",\"Deep Purple\",\"David Bowie\",\"John Denver\",\"David Bowie\",\"John Denver\",\"Eagles\",\"Stevie Wonder\",\"ABBA\",\"Supertramp\",\"The Police\",\"Bee Gees\",\"Michael Jackson\",\"Philip Bailey\",\"Simple Minds\",\"The Communards\",\"\\u00c9dith Piaf\",\"Black\",\"Tina Turner\",\"Bryan Adams\",\"Nirvana\",\"Annie Lennox\",\"Nirvana\",\"Live\",\"Michael Jackson\",\"Andrea Bocelli\",\"The Prodigy\",\"The Verve\",\"The Rolling Stones\",\"Otis Redding\",\"Roberta Flack\"],\"y0\":\" \",\"yaxis\":\"y\",\"type\":\"box\"},{\"alignmentgroup\":\"True\",\"hovertemplate\":\"Popularity=73<br>Artist=%{y}<extra></extra>\",\"legendgroup\":\"73\",\"marker\":{\"color\":\"#636efa\"},\"name\":\"73\",\"notched\":false,\"offsetgroup\":\"73\",\"orientation\":\"v\",\"showlegend\":true,\"x0\":\" \",\"xaxis\":\"x\",\"y\":[\"Adele\",\"Michael Bubl\\u00e9\",\"Muse\",\"Muse\",\"The Killers\",\"New Order\",\"The Black Keys\",\"Ed Sheeran\",\"Imagine Dragons\",\"Imagine Dragons\",\"P!nk\",\"Coldplay\",\"Dua Lipa\",\"Adele\",\"Adele\",\"Duncan Laurence\",\"Simple Minds\",\"The Doors\",\"Simon & Garfunkel\",\"James Taylor\",\"Led Zeppelin\",\"Pink Floyd\",\"Bruce Springsteen\",\"Fleetwood Mac\",\"Eric Clapton\",\"Talking Heads\",\"Earth, Wind & Fire\",\"The Clash\",\"Michael Jackson\",\"The Police\",\"Nena\",\"Bob Marley & The Wailers\",\"The Smiths\",\"Bon Jovi\",\"Guns N' Roses\",\"Heart\",\"Billy Joel\",\"Roxette\",\"Pearl Jam\",\"Red Hot Chili Peppers\",\"Bon Jovi\",\"Whitney Houston\",\"Blind Melon\",\"Jeff Buckley\",\"Nirvana\",\"Fools Garden\",\"Korn\",\"Roy Orbison\",\"The Beatles\",\"Aretha Franklin\",\"The Monkees\",\"Otis Redding\",\"David Bowie\",\"Frank Sinatra\",\"Creedence Clearwater Revival\",\"Elvis Presley\"],\"y0\":\" \",\"yaxis\":\"y\",\"type\":\"box\"},{\"alignmentgroup\":\"True\",\"hovertemplate\":\"Popularity=58<br>Artist=%{y}<extra></extra>\",\"legendgroup\":\"58\",\"marker\":{\"color\":\"#EF553B\"},\"name\":\"58\",\"notched\":false,\"offsetgroup\":\"58\",\"orientation\":\"v\",\"showlegend\":true,\"x0\":\" \",\"xaxis\":\"x\",\"y\":[\"Peter Sarstedt\",\"Jacques Brel\",\"Blue\",\"Veldhuis & Kemper\",\"Enigma\",\"The Weather Girls\",\"Queens of the Stone Age\",\"Delerium\",\"Arctic Monkeys\",\"Robbie Williams\",\"Kings of Leon\",\"Avicii\",\"Mumford & Sons\",\"Tom Odell\",\"The Beatles\",\"Nightwish\",\"Editors\",\"Crosby, Stills, Nash & Young\",\"Pink Floyd\",\"Janis Joplin\",\"J.J. Cale\",\"Jim Croce\",\"Dr. Hook\",\"ABBA\",\"Nazareth\",\"Grace Jones\",\"Fleetwood Mac\",\"Bruce Springsteen\",\"Paul Simon\",\"The Rolling Stones\",\"The Alan Parsons Project\",\"Madness\",\"Bruce Springsteen\",\"Falco\",\"Joe Cocker\",\"Whitesnake\",\"Queen\",\"Marillion\",\"Bruce Springsteen\",\"R.E.M.\",\"Bon Jovi\",\"Pearl Jam\",\"Van Dik Hout\",\"Paul Weller\",\"Elton John\",\"Michael Jackson\",\"Guus Meeuwis\",\"U2\",\"George Michael\",\"Johnny Cash\",\"Bob Dylan\",\"The Beatles\"],\"y0\":\" \",\"yaxis\":\"y\",\"type\":\"box\"},{\"alignmentgroup\":\"True\",\"hovertemplate\":\"Popularity=30<br>Artist=%{y}<extra></extra>\",\"legendgroup\":\"30\",\"marker\":{\"color\":\"#00cc96\"},\"name\":\"30\",\"notched\":false,\"offsetgroup\":\"30\",\"orientation\":\"v\",\"showlegend\":true,\"x0\":\" \",\"xaxis\":\"x\",\"y\":[\"Marco Borsato\",\"Marco Borsato\",\"Amy Macdonald\",\"Ilse DeLange\",\"De Dijk\",\"Robbie Williams\",\"Andre Hazes\",\"Frans Halsema\",\"Andre Hazes\",\"Andre Hazes\",\"Andre Hazes\"],\"y0\":\" \",\"yaxis\":\"y\",\"type\":\"box\"},{\"alignmentgroup\":\"True\",\"hovertemplate\":\"Popularity=19<br>Artist=%{y}<extra></extra>\",\"legendgroup\":\"19\",\"marker\":{\"color\":\"#ab63fa\"},\"name\":\"19\",\"notched\":false,\"offsetgroup\":\"19\",\"orientation\":\"v\",\"showlegend\":true,\"x0\":\" \",\"xaxis\":\"x\",\"y\":[\"Boudewijn de Groot\",\"Tori Amos\",\"Boudewijn de Groot\"],\"y0\":\" \",\"yaxis\":\"y\",\"type\":\"box\"},{\"alignmentgroup\":\"True\",\"hovertemplate\":\"Popularity=41<br>Artist=%{y}<extra></extra>\",\"legendgroup\":\"41\",\"marker\":{\"color\":\"#FFA15A\"},\"name\":\"41\",\"notched\":false,\"offsetgroup\":\"41\",\"orientation\":\"v\",\"showlegend\":true,\"x0\":\" \",\"xaxis\":\"x\",\"y\":[\"BL\\u00d8F\",\"Jeff Wayne\",\"Ramses Shaffy\",\"Racoon\",\"Doe Maar\",\"Amy Macdonald\",\"Keane\",\"Herman Brood & His Wild Romance\",\"BL\\u00d8F\",\"Jewel\",\"2Pac\",\"Air\",\"Simple Minds\",\"BL\\u00d8F\",\"Jason Paige\",\"Lex Uiting\",\"B\\u00f6kkers\",\"Genesis\",\"Dire Straits\",\"Dire Straits\",\"U2\",\"Japan\",\"Bruce Springsteen\",\"Herman van Veen\",\"De Dijk\",\"ABBA\",\"Venice\",\"Beth Hart\",\"Elvis Presley\",\"Fleetwood Mac\"],\"y0\":\" \",\"yaxis\":\"y\",\"type\":\"box\"},{\"alignmentgroup\":\"True\",\"hovertemplate\":\"Popularity=62<br>Artist=%{y}<extra></extra>\",\"legendgroup\":\"62\",\"marker\":{\"color\":\"#19d3f3\"},\"name\":\"62\",\"notched\":false,\"offsetgroup\":\"62\",\"orientation\":\"v\",\"showlegend\":true,\"x0\":\" \",\"xaxis\":\"x\",\"y\":[\"Mark Ronson\",\"John Farnham\",\"Santana\",\"Wolfmother\",\"Phil Collins\",\"Alanis Morissette\",\"Coldplay\",\"Kaiser Chiefs\",\"Backstreet Boys\",\"Andr\\u00e9 Hazes Jr.\",\"Adele\",\"Nothing But Thieves\",\"The War On Drugs\",\"Crosby, Stills, Nash & Young\",\"Simon & Garfunkel\",\"J.J. Cale\",\"Eagles\",\"Queen\",\"AC/DC\",\"David Bowie\",\"Michael Jackson\",\"David Bowie\",\"Duran Duran\",\"Eurythmics\",\"Metallica\",\"Prince\",\"Dire Straits\",\"Sting\",\"Bruce Springsteen\",\"Joe Cocker\",\"Level 42\",\"Tears For Fears\",\"R.E.M.\",\"R.E.M.\",\"The Smashing Pumpkins\",\"Live\",\"Radiohead\",\"George Michael\",\"Eva Cassidy\",\"Mecano\",\"Phil Collins\",\"Red Hot Chili Peppers\",\"Frank Sinatra\",\"The Byrds\",\"The Mamas & The Papas\",\"Leonard Cohen\",\"Tom Jones\",\"Elvis Presley\"],\"y0\":\" \",\"yaxis\":\"y\",\"type\":\"box\"},{\"alignmentgroup\":\"True\",\"hovertemplate\":\"Popularity=83<br>Artist=%{y}<extra></extra>\",\"legendgroup\":\"83\",\"marker\":{\"color\":\"#FF6692\"},\"name\":\"83\",\"notched\":false,\"offsetgroup\":\"83\",\"orientation\":\"v\",\"showlegend\":true,\"x0\":\" \",\"xaxis\":\"x\",\"y\":[\"Linkin Park\",\"Macklemore & Ryan Lewis\",\"Twenty One Pilots\",\"Justin Bieber\",\"Ed Sheeran\",\"Imagine Dragons\",\"AC/DC\",\"AC/DC\",\"a-ha\",\"Bon Jovi\",\"The Pogues\"],\"y0\":\" \",\"yaxis\":\"y\",\"type\":\"box\"},{\"alignmentgroup\":\"True\",\"hovertemplate\":\"Popularity=54<br>Artist=%{y}<extra></extra>\",\"legendgroup\":\"54\",\"marker\":{\"color\":\"#B6E880\"},\"name\":\"54\",\"notched\":false,\"offsetgroup\":\"54\",\"orientation\":\"v\",\"showlegend\":true,\"x0\":\" \",\"xaxis\":\"x\",\"y\":[\"Keane\",\"Pat Benatar\",\"De Poema's\",\"Dido\",\"Ilse DeLange\",\"Guus Meeuwis\",\"White Lies\",\"Anita Meyer\",\"Sniff 'n' The Tears\",\"BL\\u00d8F\",\"Whitney Houston\",\"Faithless\",\"Florence + The Machine\",\"Ennio Morricone\",\"The Trammps\",\"Armin van Buuren\",\"The Cats\",\"Johnny Cash\",\"Neil Diamond\",\"John Denver\",\"Sweet\",\"Eagles\",\"Sex Pistols\",\"Dire Straits\",\"Simple Minds\",\"Talking Heads\",\"Frankie Goes To Hollywood\",\"Foreigner\",\"The Cure\",\"Queen\",\"Peter Gabriel\",\"Prince\",\"Fleetwood Mac\",\"Bee Gees\",\"Genesis\",\"Dire Straits\",\"Joe Cocker\",\"Elton John\",\"Eels\",\"Paul de Leeuw\",\"Acda en de Munnik\",\"Moby\"],\"y0\":\" \",\"yaxis\":\"y\",\"type\":\"box\"},{\"alignmentgroup\":\"True\",\"hovertemplate\":\"Popularity=80<br>Artist=%{y}<extra></extra>\",\"legendgroup\":\"80\",\"marker\":{\"color\":\"#FF97FF\"},\"name\":\"80\",\"notched\":false,\"offsetgroup\":\"80\",\"orientation\":\"v\",\"showlegend\":true,\"x0\":\" \",\"xaxis\":\"x\",\"y\":[\"The Fray\",\"Plain White T's\",\"Eminem\",\"Red Hot Chili Peppers\",\"Chris Rea\",\"Red Hot Chili Peppers\",\"System Of A Down\",\"Gorillaz\",\"Bruno Mars\",\"One Direction\",\"Pharrell Williams\",\"Lukas Graham\",\"Harry Styles\",\"Ed Sheeran\",\"Lauren Daigle\",\"Alan Walker\",\"Luis Fonsi\",\"Electric Light Orchestra\",\"Journey\",\"Tears For Fears\",\"Bon Jovi\",\"U2\",\"Guns N' Roses\",\"The Cranberries\",\"Coolio\",\"Spice Girls\",\"Smash Mouth\",\"Marvin Gaye\",\"Creedence Clearwater Revival\"],\"y0\":\" \",\"yaxis\":\"y\",\"type\":\"box\"},{\"alignmentgroup\":\"True\",\"hovertemplate\":\"Popularity=68<br>Artist=%{y}<extra></extra>\",\"legendgroup\":\"68\",\"marker\":{\"color\":\"#FECB52\"},\"name\":\"68\",\"notched\":false,\"offsetgroup\":\"68\",\"orientation\":\"v\",\"showlegend\":true,\"x0\":\" \",\"xaxis\":\"x\",\"y\":[\"John Mayer\",\"Stereophonics\",\"Beyonc\\u00e9\",\"Coldplay\",\"Frank Sinatra\",\"George Ezra\",\"Coldplay\",\"P!nk\",\"Davina Michelle\",\"Suzan & Freek\",\"Black Sabbath\",\"Crosby, Stills, Nash & Young\",\"Yusuf / Cat Stevens\",\"Carole King\",\"James Taylor\",\"Elvis Presley\",\"Elton John\",\"The Beatles\",\"Fleetwood Mac\",\"Rod Stewart\",\"Steve Miller Band\",\"Iggy Pop\",\"Eric Clapton\",\"Foreigner\",\"Billy Joel\",\"Kate Bush\",\"Pink Floyd\",\"Barbra Streisand\",\"Prince\",\"Dexys Midnight Runners\",\"Simply Red\",\"Elton John\",\"Run\\u2013D.M.C.\",\"TOTO\",\"Beastie Boys\",\"Pet Shop Boys\",\"Michael Jackson\",\"Van Morrison\",\"Faith No More\",\"The Black Crowes\",\"Nirvana\",\"Michael Jackson\",\"Guns N' Roses\",\"Alice In Chains\",\"Pearl Jam\",\"Nirvana\",\"The Smashing Pumpkins\",\"Buena Vista Social Club\",\"Robbie Williams\",\"The Moody Blues\",\"The Beatles\",\"Louis Armstrong\",\"The Doors\",\"Nina Simone\"],\"y0\":\" \",\"yaxis\":\"y\",\"type\":\"box\"},{\"alignmentgroup\":\"True\",\"hovertemplate\":\"Popularity=36<br>Artist=%{y}<extra></extra>\",\"legendgroup\":\"36\",\"marker\":{\"color\":\"#636efa\"},\"name\":\"36\",\"notched\":false,\"offsetgroup\":\"36\",\"orientation\":\"v\",\"showlegend\":true,\"x0\":\" \",\"xaxis\":\"x\",\"y\":[\"Maarten Van Roozendaal\",\"JOHAN\",\"BL\\u00d8F\",\"Racoon\",\"3JS\",\"Status Quo\",\"Chef'Special\",\"Jackson Browne\",\"Peter Gabriel\",\"Richard Harris\",\"Brainbox\"],\"y0\":\" \",\"yaxis\":\"y\",\"type\":\"box\"},{\"alignmentgroup\":\"True\",\"hovertemplate\":\"Popularity=60<br>Artist=%{y}<extra></extra>\",\"legendgroup\":\"60\",\"marker\":{\"color\":\"#EF553B\"},\"name\":\"60\",\"notched\":false,\"offsetgroup\":\"60\",\"orientation\":\"v\",\"showlegend\":true,\"x0\":\" \",\"xaxis\":\"x\",\"y\":[\"Rammstein\",\"Paul McCartney\",\"U2\",\"DJ Paul Elstak\",\"Chef'Special\",\"The War On Drugs\",\"Muse\",\"Diggy Dex\",\"Spandau Ballet\",\"Mumford & Sons\",\"Creedence Clearwater Revival\",\"Emerson, Lake & Palmer\",\"Carpenters\",\"Neil Diamond\",\"Jethro Tull\",\"David Bowie\",\"Roxy Music\",\"David Bowie\",\"Meat Loaf\",\"Peter Gabriel\",\"Bee Gees\",\"Meat Loaf\",\"Billy Joel\",\"ABBA\",\"Iron Maiden\",\"Supertramp\",\"Prince\",\"Kate Bush\",\"The Cure\",\"Mr. Mister\",\"Genesis\",\"INXS\",\"The Cure\",\"Iggy Pop\",\"Gloria Gaynor\",\"Michael Jackson\",\"Marco Borsato\",\"Charles Aznavour\",\"Rammstein\",\"Placebo\",\"Creedence Clearwater Revival\",\"Creedence Clearwater Revival\",\"B.B. King\"],\"y0\":\" \",\"yaxis\":\"y\",\"type\":\"box\"},{\"alignmentgroup\":\"True\",\"hovertemplate\":\"Popularity=35<br>Artist=%{y}<extra></extra>\",\"legendgroup\":\"35\",\"marker\":{\"color\":\"#00cc96\"},\"name\":\"35\",\"notched\":false,\"offsetgroup\":\"35\",\"orientation\":\"v\",\"showlegend\":true,\"x0\":\" \",\"xaxis\":\"x\",\"y\":[\"Alain Clark\",\"Rowwen H\\u00e8ze\",\"The Boxer Rebellion\",\"Brainbox\",\"Gilbert O'Sullivan\",\"The Babys\",\"Joe Jackson\",\"Patrick Bruel\",\"Joe Cocker\",\"De Dijk\"],\"y0\":\" \",\"yaxis\":\"y\",\"type\":\"box\"},{\"alignmentgroup\":\"True\",\"hovertemplate\":\"Popularity=61<br>Artist=%{y}<extra></extra>\",\"legendgroup\":\"61\",\"marker\":{\"color\":\"#ab63fa\"},\"name\":\"61\",\"notched\":false,\"offsetgroup\":\"61\",\"orientation\":\"v\",\"showlegend\":true,\"x0\":\" \",\"xaxis\":\"x\",\"y\":[\"Mary J. Blige\",\"Womack & Womack\",\"Editors\",\"Darude\",\"Coldplay\",\"Katie Melua\",\"Ram Jam\",\"Guus Meeuwis\",\"Stromae\",\"Adele\",\"Mr. Probz\",\"David Bowie\",\"Elvis Presley\",\"Dolly Parton\",\"Queen\",\"Paul Simon\",\"Billy Joel\",\"Manfred Mann's Earth Band\",\"Stevie Wonder\",\"Frankie Goes To Hollywood\",\"Dire Straits\",\"Depeche Mode\",\"Phil Collins\",\"Pixies\",\"Queensr\\u00ffche\",\"Al Stewart\",\"Ten Sharp\",\"Tina Turner\",\"Vangelis\",\"Stone Temple Pilots\",\"Counting Crows\",\"Bruce Springsteen\",\"Eva Cassidy\",\"Metallica\",\"George Michael\",\"Eric Clapton\",\"Muse\",\"The Beach Boys\",\"The Doors\",\"Dusty Springfield\"],\"y0\":\" \",\"yaxis\":\"y\",\"type\":\"box\"},{\"alignmentgroup\":\"True\",\"hovertemplate\":\"Popularity=79<br>Artist=%{y}<extra></extra>\",\"legendgroup\":\"79\",\"marker\":{\"color\":\"#FFA15A\"},\"name\":\"79\",\"notched\":false,\"offsetgroup\":\"79\",\"orientation\":\"v\",\"showlegend\":true,\"x0\":\" \",\"xaxis\":\"x\",\"y\":[\"Owl City\",\"OutKast\",\"Kings of Leon\",\"Lady Gaga\",\"Adele\",\"Lorde\",\"Ed Sheeran\",\"Mark Ronson\",\"The Beatles\",\"Led Zeppelin\",\"Elton John\",\"The Clash\",\"Elton John\",\"Wham!\",\"Green Day\",\"blink-182\",\"Van Morrison\",\"The Beatles\"],\"y0\":\" \",\"yaxis\":\"y\",\"type\":\"box\"},{\"alignmentgroup\":\"True\",\"hovertemplate\":\"Popularity=33<br>Artist=%{y}<extra></extra>\",\"legendgroup\":\"33\",\"marker\":{\"color\":\"#19d3f3\"},\"name\":\"33\",\"notched\":false,\"offsetgroup\":\"33\",\"orientation\":\"v\",\"showlegend\":true,\"x0\":\" \",\"xaxis\":\"x\",\"y\":[\"Rowwen H\\u00e8ze\",\"Rowwen H\\u00e8ze\",\"Jacques Brel\",\"Road Band\",\"De Dijk\",\"Anouk\",\"Cliff Richard & The Drifters\",\"Chef'Special\",\"Andre Hazes\",\"Madness\",\"Split Enz\",\"Queen\",\"Anouk\"],\"y0\":\" \",\"yaxis\":\"y\",\"type\":\"box\"},{\"alignmentgroup\":\"True\",\"hovertemplate\":\"Popularity=37<br>Artist=%{y}<extra></extra>\",\"legendgroup\":\"37\",\"marker\":{\"color\":\"#FF6692\"},\"name\":\"37\",\"notched\":false,\"offsetgroup\":\"37\",\"orientation\":\"v\",\"showlegend\":true,\"x0\":\" \",\"xaxis\":\"x\",\"y\":[\"Charly Lownoise\",\"Golden Earring\",\"Jackson Browne\",\"Killing Joke\",\"Golden Earring\",\"Deep Purple\",\"Ramses Shaffy\",\"Lucifer\",\"a-ha\",\"Frank Boeijen Groep\",\"Amanda Marshall\",\"Manic Street Preachers\",\"Acda en de Munnik\",\"Cuby & The Blizzards\"],\"y0\":\" \",\"yaxis\":\"y\",\"type\":\"box\"},{\"alignmentgroup\":\"True\",\"hovertemplate\":\"Popularity=27<br>Artist=%{y}<extra></extra>\",\"legendgroup\":\"27\",\"marker\":{\"color\":\"#B6E880\"},\"name\":\"27\",\"notched\":false,\"offsetgroup\":\"27\",\"orientation\":\"v\",\"showlegend\":true,\"x0\":\" \",\"xaxis\":\"x\",\"y\":[\"Racoon\",\"Golden Earring\",\"Johnny Cash\",\"Dani\\u00ebl Lohues\",\"Q'65\",\"Andre Hazes\",\"James Brown\"],\"y0\":\" \",\"yaxis\":\"y\",\"type\":\"box\"},{\"alignmentgroup\":\"True\",\"hovertemplate\":\"Popularity=14<br>Artist=%{y}<extra></extra>\",\"legendgroup\":\"14\",\"marker\":{\"color\":\"#FF97FF\"},\"name\":\"14\",\"notched\":false,\"offsetgroup\":\"14\",\"orientation\":\"v\",\"showlegend\":true,\"x0\":\" \",\"xaxis\":\"x\",\"y\":[\"Emerson, Lake & Palmer\"],\"y0\":\" \",\"yaxis\":\"y\",\"type\":\"box\"},{\"alignmentgroup\":\"True\",\"hovertemplate\":\"Popularity=28<br>Artist=%{y}<extra></extra>\",\"legendgroup\":\"28\",\"marker\":{\"color\":\"#FECB52\"},\"name\":\"28\",\"notched\":false,\"offsetgroup\":\"28\",\"orientation\":\"v\",\"showlegend\":true,\"x0\":\" \",\"xaxis\":\"x\",\"y\":[\"Jeff Wayne\",\"Herman Brood & His Wild Romance\",\"Ryuichi Sakamoto\",\"Ede Staal\",\"Boudewijn de Groot\",\"Calum Scott\"],\"y0\":\" \",\"yaxis\":\"y\",\"type\":\"box\"},{\"alignmentgroup\":\"True\",\"hovertemplate\":\"Popularity=18<br>Artist=%{y}<extra></extra>\",\"legendgroup\":\"18\",\"marker\":{\"color\":\"#636efa\"},\"name\":\"18\",\"notched\":false,\"offsetgroup\":\"18\",\"orientation\":\"v\",\"showlegend\":true,\"x0\":\" \",\"xaxis\":\"x\",\"y\":[\"Johnny Cash\",\"Genesis\"],\"y0\":\" \",\"yaxis\":\"y\",\"type\":\"box\"},{\"alignmentgroup\":\"True\",\"hovertemplate\":\"Popularity=29<br>Artist=%{y}<extra></extra>\",\"legendgroup\":\"29\",\"marker\":{\"color\":\"#EF553B\"},\"name\":\"29\",\"notched\":false,\"offsetgroup\":\"29\",\"orientation\":\"v\",\"showlegend\":true,\"x0\":\" \",\"xaxis\":\"x\",\"y\":[\"Elbow\",\"Maaike Ouboter\",\"Boudewijn de Groot\",\"Earth & Fire\",\"The Kinks\",\"Queen\"],\"y0\":\" \",\"yaxis\":\"y\",\"type\":\"box\"},{\"alignmentgroup\":\"True\",\"hovertemplate\":\"Popularity=31<br>Artist=%{y}<extra></extra>\",\"legendgroup\":\"31\",\"marker\":{\"color\":\"#00cc96\"},\"name\":\"31\",\"notched\":false,\"offsetgroup\":\"31\",\"orientation\":\"v\",\"showlegend\":true,\"x0\":\" \",\"xaxis\":\"x\",\"y\":[\"Mike Oldfield\",\"Elbow\",\"Andre Hazes\",\"Rob De Nijs\",\"Joe Jackson\",\"Clouseau\",\"Elvis Presley\",\"Frank Boeijen Groep\"],\"y0\":\" \",\"yaxis\":\"y\",\"type\":\"box\"},{\"alignmentgroup\":\"True\",\"hovertemplate\":\"Popularity=85<br>Artist=%{y}<extra></extra>\",\"legendgroup\":\"85\",\"marker\":{\"color\":\"#ab63fa\"},\"name\":\"85\",\"notched\":false,\"offsetgroup\":\"85\",\"orientation\":\"v\",\"showlegend\":true,\"x0\":\" \",\"xaxis\":\"x\",\"y\":[\"Avicii\",\"Tame Impala\",\"Lewis Capaldi\",\"Camila Cabello\",\"Wham!\"],\"y0\":\" \",\"yaxis\":\"y\",\"type\":\"box\"},{\"alignmentgroup\":\"True\",\"hovertemplate\":\"Popularity=86<br>Artist=%{y}<extra></extra>\",\"legendgroup\":\"86\",\"marker\":{\"color\":\"#FFA15A\"},\"name\":\"86\",\"notched\":false,\"offsetgroup\":\"86\",\"orientation\":\"v\",\"showlegend\":true,\"x0\":\" \",\"xaxis\":\"x\",\"y\":[\"John Legend\",\"Imagine Dragons\",\"Calvin Harris\"],\"y0\":\" \",\"yaxis\":\"y\",\"type\":\"box\"},{\"alignmentgroup\":\"True\",\"hovertemplate\":\"Popularity=15<br>Artist=%{y}<extra></extra>\",\"legendgroup\":\"15\",\"marker\":{\"color\":\"#19d3f3\"},\"name\":\"15\",\"notched\":false,\"offsetgroup\":\"15\",\"orientation\":\"v\",\"showlegend\":true,\"x0\":\" \",\"xaxis\":\"x\",\"y\":[\"Wim Sonneveld\",\"Rob De Nijs\"],\"y0\":\" \",\"yaxis\":\"y\",\"type\":\"box\"},{\"alignmentgroup\":\"True\",\"hovertemplate\":\"Popularity=20<br>Artist=%{y}<extra></extra>\",\"legendgroup\":\"20\",\"marker\":{\"color\":\"#FF6692\"},\"name\":\"20\",\"notched\":false,\"offsetgroup\":\"20\",\"orientation\":\"v\",\"showlegend\":true,\"x0\":\" \",\"xaxis\":\"x\",\"y\":[\"Anouk\",\"Boudewijn de Groot\"],\"y0\":\" \",\"yaxis\":\"y\",\"type\":\"box\"},{\"alignmentgroup\":\"True\",\"hovertemplate\":\"Popularity=21<br>Artist=%{y}<extra></extra>\",\"legendgroup\":\"21\",\"marker\":{\"color\":\"#B6E880\"},\"name\":\"21\",\"notched\":false,\"offsetgroup\":\"21\",\"orientation\":\"v\",\"showlegend\":true,\"x0\":\" \",\"xaxis\":\"x\",\"y\":[\"Anouk\",\"Ilse DeLange\"],\"y0\":\" \",\"yaxis\":\"y\",\"type\":\"box\"},{\"alignmentgroup\":\"True\",\"hovertemplate\":\"Popularity=13<br>Artist=%{y}<extra></extra>\",\"legendgroup\":\"13\",\"marker\":{\"color\":\"#FF97FF\"},\"name\":\"13\",\"notched\":false,\"offsetgroup\":\"13\",\"orientation\":\"v\",\"showlegend\":true,\"x0\":\" \",\"xaxis\":\"x\",\"y\":[\"Anouk\"],\"y0\":\" \",\"yaxis\":\"y\",\"type\":\"box\"},{\"alignmentgroup\":\"True\",\"hovertemplate\":\"Popularity=24<br>Artist=%{y}<extra></extra>\",\"legendgroup\":\"24\",\"marker\":{\"color\":\"#FECB52\"},\"name\":\"24\",\"notched\":false,\"offsetgroup\":\"24\",\"orientation\":\"v\",\"showlegend\":true,\"x0\":\" \",\"xaxis\":\"x\",\"y\":[\"Paul McCartney\",\"Earth & Fire\",\"De Dijk\",\"Skunk Anansie\",\"Zucchero\"],\"y0\":\" \",\"yaxis\":\"y\",\"type\":\"box\"},{\"alignmentgroup\":\"True\",\"hovertemplate\":\"Popularity=87<br>Artist=%{y}<extra></extra>\",\"legendgroup\":\"87\",\"marker\":{\"color\":\"#636efa\"},\"name\":\"87\",\"notched\":false,\"offsetgroup\":\"87\",\"orientation\":\"v\",\"showlegend\":true,\"x0\":\" \",\"xaxis\":\"x\",\"y\":[\"Ed Sheeran\",\"Ed Sheeran\",\"Panic! At The Disco\"],\"y0\":\" \",\"yaxis\":\"y\",\"type\":\"box\"},{\"alignmentgroup\":\"True\",\"hovertemplate\":\"Popularity=88<br>Artist=%{y}<extra></extra>\",\"legendgroup\":\"88\",\"marker\":{\"color\":\"#EF553B\"},\"name\":\"88\",\"notched\":false,\"offsetgroup\":\"88\",\"orientation\":\"v\",\"showlegend\":true,\"x0\":\" \",\"xaxis\":\"x\",\"y\":[\"Imagine Dragons\",\"Lady Gaga\"],\"y0\":\" \",\"yaxis\":\"y\",\"type\":\"box\"},{\"alignmentgroup\":\"True\",\"hovertemplate\":\"Popularity=25<br>Artist=%{y}<extra></extra>\",\"legendgroup\":\"25\",\"marker\":{\"color\":\"#00cc96\"},\"name\":\"25\",\"notched\":false,\"offsetgroup\":\"25\",\"orientation\":\"v\",\"showlegend\":true,\"x0\":\" \",\"xaxis\":\"x\",\"y\":[\"Paolo Conte\"],\"y0\":\" \",\"yaxis\":\"y\",\"type\":\"box\"},{\"alignmentgroup\":\"True\",\"hovertemplate\":\"Popularity=23<br>Artist=%{y}<extra></extra>\",\"legendgroup\":\"23\",\"marker\":{\"color\":\"#ab63fa\"},\"name\":\"23\",\"notched\":false,\"offsetgroup\":\"23\",\"orientation\":\"v\",\"showlegend\":true,\"x0\":\" \",\"xaxis\":\"x\",\"y\":[\"Boudewijn de Groot\",\"Ramses Shaffy\",\"Boudewijn de Groot\"],\"y0\":\" \",\"yaxis\":\"y\",\"type\":\"box\"},{\"alignmentgroup\":\"True\",\"hovertemplate\":\"Popularity=17<br>Artist=%{y}<extra></extra>\",\"legendgroup\":\"17\",\"marker\":{\"color\":\"#FFA15A\"},\"name\":\"17\",\"notched\":false,\"offsetgroup\":\"17\",\"orientation\":\"v\",\"showlegend\":true,\"x0\":\" \",\"xaxis\":\"x\",\"y\":[\"Frans Halsema\",\"Boudewijn de Groot\"],\"y0\":\" \",\"yaxis\":\"y\",\"type\":\"box\"},{\"alignmentgroup\":\"True\",\"hovertemplate\":\"Popularity=12<br>Artist=%{y}<extra></extra>\",\"legendgroup\":\"12\",\"marker\":{\"color\":\"#19d3f3\"},\"name\":\"12\",\"notched\":false,\"offsetgroup\":\"12\",\"orientation\":\"v\",\"showlegend\":true,\"x0\":\" \",\"xaxis\":\"x\",\"y\":[\"BL\\u00d8F\"],\"y0\":\" \",\"yaxis\":\"y\",\"type\":\"box\"},{\"alignmentgroup\":\"True\",\"hovertemplate\":\"Popularity=95<br>Artist=%{y}<extra></extra>\",\"legendgroup\":\"95\",\"marker\":{\"color\":\"#FF6692\"},\"name\":\"95\",\"notched\":false,\"offsetgroup\":\"95\",\"orientation\":\"v\",\"showlegend\":true,\"x0\":\" \",\"xaxis\":\"x\",\"y\":[\"Billie Eilish\",\"Mariah Carey\"],\"y0\":\" \",\"yaxis\":\"y\",\"type\":\"box\"},{\"alignmentgroup\":\"True\",\"hovertemplate\":\"Popularity=98<br>Artist=%{y}<extra></extra>\",\"legendgroup\":\"98\",\"marker\":{\"color\":\"#B6E880\"},\"name\":\"98\",\"notched\":false,\"offsetgroup\":\"98\",\"orientation\":\"v\",\"showlegend\":true,\"x0\":\" \",\"xaxis\":\"x\",\"y\":[\"Maroon 5\"],\"y0\":\" \",\"yaxis\":\"y\",\"type\":\"box\"},{\"alignmentgroup\":\"True\",\"hovertemplate\":\"Popularity=100<br>Artist=%{y}<extra></extra>\",\"legendgroup\":\"100\",\"marker\":{\"color\":\"#FF97FF\"},\"name\":\"100\",\"notched\":false,\"offsetgroup\":\"100\",\"orientation\":\"v\",\"showlegend\":true,\"x0\":\" \",\"xaxis\":\"x\",\"y\":[\"Tones and I\"],\"y0\":\" \",\"yaxis\":\"y\",\"type\":\"box\"},{\"alignmentgroup\":\"True\",\"hovertemplate\":\"Popularity=22<br>Artist=%{y}<extra></extra>\",\"legendgroup\":\"22\",\"marker\":{\"color\":\"#FECB52\"},\"name\":\"22\",\"notched\":false,\"offsetgroup\":\"22\",\"orientation\":\"v\",\"showlegend\":true,\"x0\":\" \",\"xaxis\":\"x\",\"y\":[\"Joe Jackson\"],\"y0\":\" \",\"yaxis\":\"y\",\"type\":\"box\"},{\"alignmentgroup\":\"True\",\"hovertemplate\":\"Popularity=11<br>Artist=%{y}<extra></extra>\",\"legendgroup\":\"11\",\"marker\":{\"color\":\"#636efa\"},\"name\":\"11\",\"notched\":false,\"offsetgroup\":\"11\",\"orientation\":\"v\",\"showlegend\":true,\"x0\":\" \",\"xaxis\":\"x\",\"y\":[\"Anouk\"],\"y0\":\" \",\"yaxis\":\"y\",\"type\":\"box\"}],                        {\"template\":{\"data\":{\"bar\":[{\"error_x\":{\"color\":\"#2a3f5f\"},\"error_y\":{\"color\":\"#2a3f5f\"},\"marker\":{\"line\":{\"color\":\"#E5ECF6\",\"width\":0.5},\"pattern\":{\"fillmode\":\"overlay\",\"size\":10,\"solidity\":0.2}},\"type\":\"bar\"}],\"barpolar\":[{\"marker\":{\"line\":{\"color\":\"#E5ECF6\",\"width\":0.5},\"pattern\":{\"fillmode\":\"overlay\",\"size\":10,\"solidity\":0.2}},\"type\":\"barpolar\"}],\"carpet\":[{\"aaxis\":{\"endlinecolor\":\"#2a3f5f\",\"gridcolor\":\"white\",\"linecolor\":\"white\",\"minorgridcolor\":\"white\",\"startlinecolor\":\"#2a3f5f\"},\"baxis\":{\"endlinecolor\":\"#2a3f5f\",\"gridcolor\":\"white\",\"linecolor\":\"white\",\"minorgridcolor\":\"white\",\"startlinecolor\":\"#2a3f5f\"},\"type\":\"carpet\"}],\"choropleth\":[{\"colorbar\":{\"outlinewidth\":0,\"ticks\":\"\"},\"type\":\"choropleth\"}],\"contour\":[{\"colorbar\":{\"outlinewidth\":0,\"ticks\":\"\"},\"colorscale\":[[0.0,\"#0d0887\"],[0.1111111111111111,\"#46039f\"],[0.2222222222222222,\"#7201a8\"],[0.3333333333333333,\"#9c179e\"],[0.4444444444444444,\"#bd3786\"],[0.5555555555555556,\"#d8576b\"],[0.6666666666666666,\"#ed7953\"],[0.7777777777777778,\"#fb9f3a\"],[0.8888888888888888,\"#fdca26\"],[1.0,\"#f0f921\"]],\"type\":\"contour\"}],\"contourcarpet\":[{\"colorbar\":{\"outlinewidth\":0,\"ticks\":\"\"},\"type\":\"contourcarpet\"}],\"heatmap\":[{\"colorbar\":{\"outlinewidth\":0,\"ticks\":\"\"},\"colorscale\":[[0.0,\"#0d0887\"],[0.1111111111111111,\"#46039f\"],[0.2222222222222222,\"#7201a8\"],[0.3333333333333333,\"#9c179e\"],[0.4444444444444444,\"#bd3786\"],[0.5555555555555556,\"#d8576b\"],[0.6666666666666666,\"#ed7953\"],[0.7777777777777778,\"#fb9f3a\"],[0.8888888888888888,\"#fdca26\"],[1.0,\"#f0f921\"]],\"type\":\"heatmap\"}],\"heatmapgl\":[{\"colorbar\":{\"outlinewidth\":0,\"ticks\":\"\"},\"colorscale\":[[0.0,\"#0d0887\"],[0.1111111111111111,\"#46039f\"],[0.2222222222222222,\"#7201a8\"],[0.3333333333333333,\"#9c179e\"],[0.4444444444444444,\"#bd3786\"],[0.5555555555555556,\"#d8576b\"],[0.6666666666666666,\"#ed7953\"],[0.7777777777777778,\"#fb9f3a\"],[0.8888888888888888,\"#fdca26\"],[1.0,\"#f0f921\"]],\"type\":\"heatmapgl\"}],\"histogram\":[{\"marker\":{\"pattern\":{\"fillmode\":\"overlay\",\"size\":10,\"solidity\":0.2}},\"type\":\"histogram\"}],\"histogram2d\":[{\"colorbar\":{\"outlinewidth\":0,\"ticks\":\"\"},\"colorscale\":[[0.0,\"#0d0887\"],[0.1111111111111111,\"#46039f\"],[0.2222222222222222,\"#7201a8\"],[0.3333333333333333,\"#9c179e\"],[0.4444444444444444,\"#bd3786\"],[0.5555555555555556,\"#d8576b\"],[0.6666666666666666,\"#ed7953\"],[0.7777777777777778,\"#fb9f3a\"],[0.8888888888888888,\"#fdca26\"],[1.0,\"#f0f921\"]],\"type\":\"histogram2d\"}],\"histogram2dcontour\":[{\"colorbar\":{\"outlinewidth\":0,\"ticks\":\"\"},\"colorscale\":[[0.0,\"#0d0887\"],[0.1111111111111111,\"#46039f\"],[0.2222222222222222,\"#7201a8\"],[0.3333333333333333,\"#9c179e\"],[0.4444444444444444,\"#bd3786\"],[0.5555555555555556,\"#d8576b\"],[0.6666666666666666,\"#ed7953\"],[0.7777777777777778,\"#fb9f3a\"],[0.8888888888888888,\"#fdca26\"],[1.0,\"#f0f921\"]],\"type\":\"histogram2dcontour\"}],\"mesh3d\":[{\"colorbar\":{\"outlinewidth\":0,\"ticks\":\"\"},\"type\":\"mesh3d\"}],\"parcoords\":[{\"line\":{\"colorbar\":{\"outlinewidth\":0,\"ticks\":\"\"}},\"type\":\"parcoords\"}],\"pie\":[{\"automargin\":true,\"type\":\"pie\"}],\"scatter\":[{\"marker\":{\"colorbar\":{\"outlinewidth\":0,\"ticks\":\"\"}},\"type\":\"scatter\"}],\"scatter3d\":[{\"line\":{\"colorbar\":{\"outlinewidth\":0,\"ticks\":\"\"}},\"marker\":{\"colorbar\":{\"outlinewidth\":0,\"ticks\":\"\"}},\"type\":\"scatter3d\"}],\"scattercarpet\":[{\"marker\":{\"colorbar\":{\"outlinewidth\":0,\"ticks\":\"\"}},\"type\":\"scattercarpet\"}],\"scattergeo\":[{\"marker\":{\"colorbar\":{\"outlinewidth\":0,\"ticks\":\"\"}},\"type\":\"scattergeo\"}],\"scattergl\":[{\"marker\":{\"colorbar\":{\"outlinewidth\":0,\"ticks\":\"\"}},\"type\":\"scattergl\"}],\"scattermapbox\":[{\"marker\":{\"colorbar\":{\"outlinewidth\":0,\"ticks\":\"\"}},\"type\":\"scattermapbox\"}],\"scatterpolar\":[{\"marker\":{\"colorbar\":{\"outlinewidth\":0,\"ticks\":\"\"}},\"type\":\"scatterpolar\"}],\"scatterpolargl\":[{\"marker\":{\"colorbar\":{\"outlinewidth\":0,\"ticks\":\"\"}},\"type\":\"scatterpolargl\"}],\"scatterternary\":[{\"marker\":{\"colorbar\":{\"outlinewidth\":0,\"ticks\":\"\"}},\"type\":\"scatterternary\"}],\"surface\":[{\"colorbar\":{\"outlinewidth\":0,\"ticks\":\"\"},\"colorscale\":[[0.0,\"#0d0887\"],[0.1111111111111111,\"#46039f\"],[0.2222222222222222,\"#7201a8\"],[0.3333333333333333,\"#9c179e\"],[0.4444444444444444,\"#bd3786\"],[0.5555555555555556,\"#d8576b\"],[0.6666666666666666,\"#ed7953\"],[0.7777777777777778,\"#fb9f3a\"],[0.8888888888888888,\"#fdca26\"],[1.0,\"#f0f921\"]],\"type\":\"surface\"}],\"table\":[{\"cells\":{\"fill\":{\"color\":\"#EBF0F8\"},\"line\":{\"color\":\"white\"}},\"header\":{\"fill\":{\"color\":\"#C8D4E3\"},\"line\":{\"color\":\"white\"}},\"type\":\"table\"}]},\"layout\":{\"annotationdefaults\":{\"arrowcolor\":\"#2a3f5f\",\"arrowhead\":0,\"arrowwidth\":1},\"autotypenumbers\":\"strict\",\"coloraxis\":{\"colorbar\":{\"outlinewidth\":0,\"ticks\":\"\"}},\"colorscale\":{\"diverging\":[[0,\"#8e0152\"],[0.1,\"#c51b7d\"],[0.2,\"#de77ae\"],[0.3,\"#f1b6da\"],[0.4,\"#fde0ef\"],[0.5,\"#f7f7f7\"],[0.6,\"#e6f5d0\"],[0.7,\"#b8e186\"],[0.8,\"#7fbc41\"],[0.9,\"#4d9221\"],[1,\"#276419\"]],\"sequential\":[[0.0,\"#0d0887\"],[0.1111111111111111,\"#46039f\"],[0.2222222222222222,\"#7201a8\"],[0.3333333333333333,\"#9c179e\"],[0.4444444444444444,\"#bd3786\"],[0.5555555555555556,\"#d8576b\"],[0.6666666666666666,\"#ed7953\"],[0.7777777777777778,\"#fb9f3a\"],[0.8888888888888888,\"#fdca26\"],[1.0,\"#f0f921\"]],\"sequentialminus\":[[0.0,\"#0d0887\"],[0.1111111111111111,\"#46039f\"],[0.2222222222222222,\"#7201a8\"],[0.3333333333333333,\"#9c179e\"],[0.4444444444444444,\"#bd3786\"],[0.5555555555555556,\"#d8576b\"],[0.6666666666666666,\"#ed7953\"],[0.7777777777777778,\"#fb9f3a\"],[0.8888888888888888,\"#fdca26\"],[1.0,\"#f0f921\"]]},\"colorway\":[\"#636efa\",\"#EF553B\",\"#00cc96\",\"#ab63fa\",\"#FFA15A\",\"#19d3f3\",\"#FF6692\",\"#B6E880\",\"#FF97FF\",\"#FECB52\"],\"font\":{\"color\":\"#2a3f5f\"},\"geo\":{\"bgcolor\":\"white\",\"lakecolor\":\"white\",\"landcolor\":\"#E5ECF6\",\"showlakes\":true,\"showland\":true,\"subunitcolor\":\"white\"},\"hoverlabel\":{\"align\":\"left\"},\"hovermode\":\"closest\",\"mapbox\":{\"style\":\"light\"},\"paper_bgcolor\":\"white\",\"plot_bgcolor\":\"#E5ECF6\",\"polar\":{\"angularaxis\":{\"gridcolor\":\"white\",\"linecolor\":\"white\",\"ticks\":\"\"},\"bgcolor\":\"#E5ECF6\",\"radialaxis\":{\"gridcolor\":\"white\",\"linecolor\":\"white\",\"ticks\":\"\"}},\"scene\":{\"xaxis\":{\"backgroundcolor\":\"#E5ECF6\",\"gridcolor\":\"white\",\"gridwidth\":2,\"linecolor\":\"white\",\"showbackground\":true,\"ticks\":\"\",\"zerolinecolor\":\"white\"},\"yaxis\":{\"backgroundcolor\":\"#E5ECF6\",\"gridcolor\":\"white\",\"gridwidth\":2,\"linecolor\":\"white\",\"showbackground\":true,\"ticks\":\"\",\"zerolinecolor\":\"white\"},\"zaxis\":{\"backgroundcolor\":\"#E5ECF6\",\"gridcolor\":\"white\",\"gridwidth\":2,\"linecolor\":\"white\",\"showbackground\":true,\"ticks\":\"\",\"zerolinecolor\":\"white\"}},\"shapedefaults\":{\"line\":{\"color\":\"#2a3f5f\"}},\"ternary\":{\"aaxis\":{\"gridcolor\":\"white\",\"linecolor\":\"white\",\"ticks\":\"\"},\"baxis\":{\"gridcolor\":\"white\",\"linecolor\":\"white\",\"ticks\":\"\"},\"bgcolor\":\"#E5ECF6\",\"caxis\":{\"gridcolor\":\"white\",\"linecolor\":\"white\",\"ticks\":\"\"}},\"title\":{\"x\":0.05},\"xaxis\":{\"automargin\":true,\"gridcolor\":\"white\",\"linecolor\":\"white\",\"ticks\":\"\",\"title\":{\"standoff\":15},\"zerolinecolor\":\"white\",\"zerolinewidth\":2},\"yaxis\":{\"automargin\":true,\"gridcolor\":\"white\",\"linecolor\":\"white\",\"ticks\":\"\",\"title\":{\"standoff\":15},\"zerolinecolor\":\"white\",\"zerolinewidth\":2}}},\"xaxis\":{\"anchor\":\"y\",\"domain\":[0.0,1.0]},\"yaxis\":{\"anchor\":\"x\",\"domain\":[0.0,1.0],\"title\":{\"text\":\"Artist\"}},\"legend\":{\"title\":{\"text\":\"Popularity\"},\"tracegroupgap\":0},\"margin\":{\"t\":60},\"boxmode\":\"group\"},                        {\"responsive\": true}                    ).then(function(){\n",
       "                            \n",
       "var gd = document.getElementById('0d9d6acb-a648-43a5-917f-00754a9609e5');\n",
       "var x = new MutationObserver(function (mutations, observer) {{\n",
       "        var display = window.getComputedStyle(gd).display;\n",
       "        if (!display || display === 'none') {{\n",
       "            console.log([gd, 'removed!']);\n",
       "            Plotly.purge(gd);\n",
       "            observer.disconnect();\n",
       "        }}\n",
       "}});\n",
       "\n",
       "// Listen for the removal of the full notebook cells\n",
       "var notebookContainer = gd.closest('#notebook-container');\n",
       "if (notebookContainer) {{\n",
       "    x.observe(notebookContainer, {childList: true});\n",
       "}}\n",
       "\n",
       "// Listen for the clearing of the current output cell\n",
       "var outputEl = gd.closest('.output');\n",
       "if (outputEl) {{\n",
       "    x.observe(outputEl, {childList: true});\n",
       "}}\n",
       "\n",
       "                        })                };                });            </script>        </div>"
      ]
     },
     "metadata": {},
     "output_type": "display_data"
    },
    {
     "data": {
      "text/plain": [
       "<Figure size 1440x576 with 0 Axes>"
      ]
     },
     "metadata": {},
     "output_type": "display_data"
    }
   ],
   "source": [
    "plt.figure(figsize=(20,8))\n",
    "px.box(data_frame=spotify_df,y='Artist',color='Popularity')"
   ]
  },
  {
   "cell_type": "code",
   "execution_count": 64,
   "id": "5200b962",
   "metadata": {},
   "outputs": [
    {
     "data": {
      "text/plain": [
       "Queen                 37\n",
       "The Beatles           36\n",
       "Coldplay              27\n",
       "U2                    26\n",
       "The Rolling Stones    24\n",
       "Name: Artist, dtype: int64"
      ]
     },
     "execution_count": 64,
     "metadata": {},
     "output_type": "execute_result"
    }
   ],
   "source": [
    "# The Top 5 names of Actors\n",
    "spotify_df['Artist'].value_counts().head(5)"
   ]
  },
  {
   "cell_type": "code",
   "execution_count": 65,
   "id": "da57dada",
   "metadata": {},
   "outputs": [
    {
     "data": {
      "text/plain": [
       "album rock          413\n",
       "adult standards     123\n",
       "dutch pop            88\n",
       "alternative rock     86\n",
       "dance pop            83\n",
       "Name: Top Genre, dtype: int64"
      ]
     },
     "execution_count": 65,
     "metadata": {},
     "output_type": "execute_result"
    }
   ],
   "source": [
    "\n",
    "# The Top 5 Top Genre of Actors\n",
    "spotify_df['Top Genre'].value_counts().head(5)"
   ]
  },
  {
   "cell_type": "code",
   "execution_count": 66,
   "id": "38f209a4",
   "metadata": {},
   "outputs": [
    {
     "data": {
      "text/plain": [
       "Hallelujah      3\n",
       "One             3\n",
       "Feeling Good    3\n",
       "Hurt            2\n",
       "Home Again      2\n",
       "Name: Title, dtype: int64"
      ]
     },
     "execution_count": 66,
     "metadata": {},
     "output_type": "execute_result"
    }
   ],
   "source": [
    "\n",
    "# The Top 5 Title of Actors\n",
    "spotify_df['Title'].value_counts().head(5)"
   ]
  },
  {
   "cell_type": "code",
   "execution_count": 69,
   "id": "21d8bdcb",
   "metadata": {},
   "outputs": [
    {
     "data": {
      "application/vnd.plotly.v1+json": {
       "config": {
        "plotlyServerURL": "https://plot.ly"
       },
       "data": [
        {
         "hovertemplate": "Year=%{x}<br>Popularity=%{y}<extra></extra>",
         "legendgroup": "",
         "line": {
          "color": "rgb(103,0,31)"
         },
         "marker": {
          "symbol": "circle"
         },
         "mode": "lines",
         "name": "",
         "orientation": "v",
         "showlegend": false,
         "stackgroup": "1",
         "type": "scatter",
         "x": [
          1956,
          1958,
          1959,
          1960,
          1961,
          1962,
          1963,
          1964,
          1965,
          1966,
          1967,
          1968,
          1969,
          1970,
          1971,
          1972,
          1973,
          1974,
          1975,
          1976,
          1977,
          1978,
          1979,
          1980,
          1981,
          1982,
          1983,
          1984,
          1985,
          1986,
          1987,
          1988,
          1989,
          1990,
          1991,
          1992,
          1993,
          1994,
          1995,
          1996,
          1997,
          1998,
          1999,
          2000,
          2001,
          2002,
          2003,
          2004,
          2005,
          2006,
          2007,
          2008,
          2009,
          2010,
          2011,
          2012,
          2013,
          2014,
          2015,
          2016,
          2017,
          2018,
          2019
         ],
         "xaxis": "x",
         "y": [
          1,
          5,
          3,
          1,
          1,
          3,
          7,
          9,
          15,
          20,
          37,
          27,
          38,
          40,
          43,
          29,
          29,
          23,
          36,
          31,
          51,
          31,
          40,
          37,
          15,
          32,
          30,
          44,
          34,
          42,
          46,
          30,
          34,
          19,
          52,
          35,
          28,
          25,
          39,
          24,
          35,
          45,
          29,
          33,
          30,
          47,
          28,
          45,
          44,
          40,
          36,
          54,
          43,
          33,
          46,
          41,
          41,
          43,
          42,
          35,
          45,
          52,
          21
         ],
         "yaxis": "y"
        }
       ],
       "layout": {
        "legend": {
         "tracegroupgap": 0
        },
        "template": {
         "data": {
          "bar": [
           {
            "error_x": {
             "color": "#2a3f5f"
            },
            "error_y": {
             "color": "#2a3f5f"
            },
            "marker": {
             "line": {
              "color": "#E5ECF6",
              "width": 0.5
             },
             "pattern": {
              "fillmode": "overlay",
              "size": 10,
              "solidity": 0.2
             }
            },
            "type": "bar"
           }
          ],
          "barpolar": [
           {
            "marker": {
             "line": {
              "color": "#E5ECF6",
              "width": 0.5
             },
             "pattern": {
              "fillmode": "overlay",
              "size": 10,
              "solidity": 0.2
             }
            },
            "type": "barpolar"
           }
          ],
          "carpet": [
           {
            "aaxis": {
             "endlinecolor": "#2a3f5f",
             "gridcolor": "white",
             "linecolor": "white",
             "minorgridcolor": "white",
             "startlinecolor": "#2a3f5f"
            },
            "baxis": {
             "endlinecolor": "#2a3f5f",
             "gridcolor": "white",
             "linecolor": "white",
             "minorgridcolor": "white",
             "startlinecolor": "#2a3f5f"
            },
            "type": "carpet"
           }
          ],
          "choropleth": [
           {
            "colorbar": {
             "outlinewidth": 0,
             "ticks": ""
            },
            "type": "choropleth"
           }
          ],
          "contour": [
           {
            "colorbar": {
             "outlinewidth": 0,
             "ticks": ""
            },
            "colorscale": [
             [
              0,
              "#0d0887"
             ],
             [
              0.1111111111111111,
              "#46039f"
             ],
             [
              0.2222222222222222,
              "#7201a8"
             ],
             [
              0.3333333333333333,
              "#9c179e"
             ],
             [
              0.4444444444444444,
              "#bd3786"
             ],
             [
              0.5555555555555556,
              "#d8576b"
             ],
             [
              0.6666666666666666,
              "#ed7953"
             ],
             [
              0.7777777777777778,
              "#fb9f3a"
             ],
             [
              0.8888888888888888,
              "#fdca26"
             ],
             [
              1,
              "#f0f921"
             ]
            ],
            "type": "contour"
           }
          ],
          "contourcarpet": [
           {
            "colorbar": {
             "outlinewidth": 0,
             "ticks": ""
            },
            "type": "contourcarpet"
           }
          ],
          "heatmap": [
           {
            "colorbar": {
             "outlinewidth": 0,
             "ticks": ""
            },
            "colorscale": [
             [
              0,
              "#0d0887"
             ],
             [
              0.1111111111111111,
              "#46039f"
             ],
             [
              0.2222222222222222,
              "#7201a8"
             ],
             [
              0.3333333333333333,
              "#9c179e"
             ],
             [
              0.4444444444444444,
              "#bd3786"
             ],
             [
              0.5555555555555556,
              "#d8576b"
             ],
             [
              0.6666666666666666,
              "#ed7953"
             ],
             [
              0.7777777777777778,
              "#fb9f3a"
             ],
             [
              0.8888888888888888,
              "#fdca26"
             ],
             [
              1,
              "#f0f921"
             ]
            ],
            "type": "heatmap"
           }
          ],
          "heatmapgl": [
           {
            "colorbar": {
             "outlinewidth": 0,
             "ticks": ""
            },
            "colorscale": [
             [
              0,
              "#0d0887"
             ],
             [
              0.1111111111111111,
              "#46039f"
             ],
             [
              0.2222222222222222,
              "#7201a8"
             ],
             [
              0.3333333333333333,
              "#9c179e"
             ],
             [
              0.4444444444444444,
              "#bd3786"
             ],
             [
              0.5555555555555556,
              "#d8576b"
             ],
             [
              0.6666666666666666,
              "#ed7953"
             ],
             [
              0.7777777777777778,
              "#fb9f3a"
             ],
             [
              0.8888888888888888,
              "#fdca26"
             ],
             [
              1,
              "#f0f921"
             ]
            ],
            "type": "heatmapgl"
           }
          ],
          "histogram": [
           {
            "marker": {
             "pattern": {
              "fillmode": "overlay",
              "size": 10,
              "solidity": 0.2
             }
            },
            "type": "histogram"
           }
          ],
          "histogram2d": [
           {
            "colorbar": {
             "outlinewidth": 0,
             "ticks": ""
            },
            "colorscale": [
             [
              0,
              "#0d0887"
             ],
             [
              0.1111111111111111,
              "#46039f"
             ],
             [
              0.2222222222222222,
              "#7201a8"
             ],
             [
              0.3333333333333333,
              "#9c179e"
             ],
             [
              0.4444444444444444,
              "#bd3786"
             ],
             [
              0.5555555555555556,
              "#d8576b"
             ],
             [
              0.6666666666666666,
              "#ed7953"
             ],
             [
              0.7777777777777778,
              "#fb9f3a"
             ],
             [
              0.8888888888888888,
              "#fdca26"
             ],
             [
              1,
              "#f0f921"
             ]
            ],
            "type": "histogram2d"
           }
          ],
          "histogram2dcontour": [
           {
            "colorbar": {
             "outlinewidth": 0,
             "ticks": ""
            },
            "colorscale": [
             [
              0,
              "#0d0887"
             ],
             [
              0.1111111111111111,
              "#46039f"
             ],
             [
              0.2222222222222222,
              "#7201a8"
             ],
             [
              0.3333333333333333,
              "#9c179e"
             ],
             [
              0.4444444444444444,
              "#bd3786"
             ],
             [
              0.5555555555555556,
              "#d8576b"
             ],
             [
              0.6666666666666666,
              "#ed7953"
             ],
             [
              0.7777777777777778,
              "#fb9f3a"
             ],
             [
              0.8888888888888888,
              "#fdca26"
             ],
             [
              1,
              "#f0f921"
             ]
            ],
            "type": "histogram2dcontour"
           }
          ],
          "mesh3d": [
           {
            "colorbar": {
             "outlinewidth": 0,
             "ticks": ""
            },
            "type": "mesh3d"
           }
          ],
          "parcoords": [
           {
            "line": {
             "colorbar": {
              "outlinewidth": 0,
              "ticks": ""
             }
            },
            "type": "parcoords"
           }
          ],
          "pie": [
           {
            "automargin": true,
            "type": "pie"
           }
          ],
          "scatter": [
           {
            "marker": {
             "colorbar": {
              "outlinewidth": 0,
              "ticks": ""
             }
            },
            "type": "scatter"
           }
          ],
          "scatter3d": [
           {
            "line": {
             "colorbar": {
              "outlinewidth": 0,
              "ticks": ""
             }
            },
            "marker": {
             "colorbar": {
              "outlinewidth": 0,
              "ticks": ""
             }
            },
            "type": "scatter3d"
           }
          ],
          "scattercarpet": [
           {
            "marker": {
             "colorbar": {
              "outlinewidth": 0,
              "ticks": ""
             }
            },
            "type": "scattercarpet"
           }
          ],
          "scattergeo": [
           {
            "marker": {
             "colorbar": {
              "outlinewidth": 0,
              "ticks": ""
             }
            },
            "type": "scattergeo"
           }
          ],
          "scattergl": [
           {
            "marker": {
             "colorbar": {
              "outlinewidth": 0,
              "ticks": ""
             }
            },
            "type": "scattergl"
           }
          ],
          "scattermapbox": [
           {
            "marker": {
             "colorbar": {
              "outlinewidth": 0,
              "ticks": ""
             }
            },
            "type": "scattermapbox"
           }
          ],
          "scatterpolar": [
           {
            "marker": {
             "colorbar": {
              "outlinewidth": 0,
              "ticks": ""
             }
            },
            "type": "scatterpolar"
           }
          ],
          "scatterpolargl": [
           {
            "marker": {
             "colorbar": {
              "outlinewidth": 0,
              "ticks": ""
             }
            },
            "type": "scatterpolargl"
           }
          ],
          "scatterternary": [
           {
            "marker": {
             "colorbar": {
              "outlinewidth": 0,
              "ticks": ""
             }
            },
            "type": "scatterternary"
           }
          ],
          "surface": [
           {
            "colorbar": {
             "outlinewidth": 0,
             "ticks": ""
            },
            "colorscale": [
             [
              0,
              "#0d0887"
             ],
             [
              0.1111111111111111,
              "#46039f"
             ],
             [
              0.2222222222222222,
              "#7201a8"
             ],
             [
              0.3333333333333333,
              "#9c179e"
             ],
             [
              0.4444444444444444,
              "#bd3786"
             ],
             [
              0.5555555555555556,
              "#d8576b"
             ],
             [
              0.6666666666666666,
              "#ed7953"
             ],
             [
              0.7777777777777778,
              "#fb9f3a"
             ],
             [
              0.8888888888888888,
              "#fdca26"
             ],
             [
              1,
              "#f0f921"
             ]
            ],
            "type": "surface"
           }
          ],
          "table": [
           {
            "cells": {
             "fill": {
              "color": "#EBF0F8"
             },
             "line": {
              "color": "white"
             }
            },
            "header": {
             "fill": {
              "color": "#C8D4E3"
             },
             "line": {
              "color": "white"
             }
            },
            "type": "table"
           }
          ]
         },
         "layout": {
          "annotationdefaults": {
           "arrowcolor": "#2a3f5f",
           "arrowhead": 0,
           "arrowwidth": 1
          },
          "autotypenumbers": "strict",
          "coloraxis": {
           "colorbar": {
            "outlinewidth": 0,
            "ticks": ""
           }
          },
          "colorscale": {
           "diverging": [
            [
             0,
             "#8e0152"
            ],
            [
             0.1,
             "#c51b7d"
            ],
            [
             0.2,
             "#de77ae"
            ],
            [
             0.3,
             "#f1b6da"
            ],
            [
             0.4,
             "#fde0ef"
            ],
            [
             0.5,
             "#f7f7f7"
            ],
            [
             0.6,
             "#e6f5d0"
            ],
            [
             0.7,
             "#b8e186"
            ],
            [
             0.8,
             "#7fbc41"
            ],
            [
             0.9,
             "#4d9221"
            ],
            [
             1,
             "#276419"
            ]
           ],
           "sequential": [
            [
             0,
             "#0d0887"
            ],
            [
             0.1111111111111111,
             "#46039f"
            ],
            [
             0.2222222222222222,
             "#7201a8"
            ],
            [
             0.3333333333333333,
             "#9c179e"
            ],
            [
             0.4444444444444444,
             "#bd3786"
            ],
            [
             0.5555555555555556,
             "#d8576b"
            ],
            [
             0.6666666666666666,
             "#ed7953"
            ],
            [
             0.7777777777777778,
             "#fb9f3a"
            ],
            [
             0.8888888888888888,
             "#fdca26"
            ],
            [
             1,
             "#f0f921"
            ]
           ],
           "sequentialminus": [
            [
             0,
             "#0d0887"
            ],
            [
             0.1111111111111111,
             "#46039f"
            ],
            [
             0.2222222222222222,
             "#7201a8"
            ],
            [
             0.3333333333333333,
             "#9c179e"
            ],
            [
             0.4444444444444444,
             "#bd3786"
            ],
            [
             0.5555555555555556,
             "#d8576b"
            ],
            [
             0.6666666666666666,
             "#ed7953"
            ],
            [
             0.7777777777777778,
             "#fb9f3a"
            ],
            [
             0.8888888888888888,
             "#fdca26"
            ],
            [
             1,
             "#f0f921"
            ]
           ]
          },
          "colorway": [
           "#636efa",
           "#EF553B",
           "#00cc96",
           "#ab63fa",
           "#FFA15A",
           "#19d3f3",
           "#FF6692",
           "#B6E880",
           "#FF97FF",
           "#FECB52"
          ],
          "font": {
           "color": "#2a3f5f"
          },
          "geo": {
           "bgcolor": "white",
           "lakecolor": "white",
           "landcolor": "#E5ECF6",
           "showlakes": true,
           "showland": true,
           "subunitcolor": "white"
          },
          "hoverlabel": {
           "align": "left"
          },
          "hovermode": "closest",
          "mapbox": {
           "style": "light"
          },
          "paper_bgcolor": "white",
          "plot_bgcolor": "#E5ECF6",
          "polar": {
           "angularaxis": {
            "gridcolor": "white",
            "linecolor": "white",
            "ticks": ""
           },
           "bgcolor": "#E5ECF6",
           "radialaxis": {
            "gridcolor": "white",
            "linecolor": "white",
            "ticks": ""
           }
          },
          "scene": {
           "xaxis": {
            "backgroundcolor": "#E5ECF6",
            "gridcolor": "white",
            "gridwidth": 2,
            "linecolor": "white",
            "showbackground": true,
            "ticks": "",
            "zerolinecolor": "white"
           },
           "yaxis": {
            "backgroundcolor": "#E5ECF6",
            "gridcolor": "white",
            "gridwidth": 2,
            "linecolor": "white",
            "showbackground": true,
            "ticks": "",
            "zerolinecolor": "white"
           },
           "zaxis": {
            "backgroundcolor": "#E5ECF6",
            "gridcolor": "white",
            "gridwidth": 2,
            "linecolor": "white",
            "showbackground": true,
            "ticks": "",
            "zerolinecolor": "white"
           }
          },
          "shapedefaults": {
           "line": {
            "color": "#2a3f5f"
           }
          },
          "ternary": {
           "aaxis": {
            "gridcolor": "white",
            "linecolor": "white",
            "ticks": ""
           },
           "baxis": {
            "gridcolor": "white",
            "linecolor": "white",
            "ticks": ""
           },
           "bgcolor": "#E5ECF6",
           "caxis": {
            "gridcolor": "white",
            "linecolor": "white",
            "ticks": ""
           }
          },
          "title": {
           "x": 0.05
          },
          "xaxis": {
           "automargin": true,
           "gridcolor": "white",
           "linecolor": "white",
           "ticks": "",
           "title": {
            "standoff": 15
           },
           "zerolinecolor": "white",
           "zerolinewidth": 2
          },
          "yaxis": {
           "automargin": true,
           "gridcolor": "white",
           "linecolor": "white",
           "ticks": "",
           "title": {
            "standoff": 15
           },
           "zerolinecolor": "white",
           "zerolinewidth": 2
          }
         }
        },
        "title": {
         "text": "Overall content release Trend"
        },
        "xaxis": {
         "anchor": "y",
         "domain": [
          0,
          1
         ],
         "title": {
          "text": "Year"
         }
        },
        "yaxis": {
         "anchor": "x",
         "domain": [
          0,
          1
         ],
         "title": {
          "text": "Popularity"
         }
        }
       }
      },
      "text/html": [
       "<div>                            <div id=\"11262f8f-495e-4d46-a50c-e1431d94b3eb\" class=\"plotly-graph-div\" style=\"height:525px; width:100%;\"></div>            <script type=\"text/javascript\">                require([\"plotly\"], function(Plotly) {                    window.PLOTLYENV=window.PLOTLYENV || {};                                    if (document.getElementById(\"11262f8f-495e-4d46-a50c-e1431d94b3eb\")) {                    Plotly.newPlot(                        \"11262f8f-495e-4d46-a50c-e1431d94b3eb\",                        [{\"hovertemplate\":\"Year=%{x}<br>Popularity=%{y}<extra></extra>\",\"legendgroup\":\"\",\"line\":{\"color\":\"rgb(103,0,31)\"},\"marker\":{\"symbol\":\"circle\"},\"mode\":\"lines\",\"name\":\"\",\"orientation\":\"v\",\"showlegend\":false,\"stackgroup\":\"1\",\"x\":[1956,1958,1959,1960,1961,1962,1963,1964,1965,1966,1967,1968,1969,1970,1971,1972,1973,1974,1975,1976,1977,1978,1979,1980,1981,1982,1983,1984,1985,1986,1987,1988,1989,1990,1991,1992,1993,1994,1995,1996,1997,1998,1999,2000,2001,2002,2003,2004,2005,2006,2007,2008,2009,2010,2011,2012,2013,2014,2015,2016,2017,2018,2019],\"xaxis\":\"x\",\"y\":[1,5,3,1,1,3,7,9,15,20,37,27,38,40,43,29,29,23,36,31,51,31,40,37,15,32,30,44,34,42,46,30,34,19,52,35,28,25,39,24,35,45,29,33,30,47,28,45,44,40,36,54,43,33,46,41,41,43,42,35,45,52,21],\"yaxis\":\"y\",\"type\":\"scatter\"}],                        {\"template\":{\"data\":{\"bar\":[{\"error_x\":{\"color\":\"#2a3f5f\"},\"error_y\":{\"color\":\"#2a3f5f\"},\"marker\":{\"line\":{\"color\":\"#E5ECF6\",\"width\":0.5},\"pattern\":{\"fillmode\":\"overlay\",\"size\":10,\"solidity\":0.2}},\"type\":\"bar\"}],\"barpolar\":[{\"marker\":{\"line\":{\"color\":\"#E5ECF6\",\"width\":0.5},\"pattern\":{\"fillmode\":\"overlay\",\"size\":10,\"solidity\":0.2}},\"type\":\"barpolar\"}],\"carpet\":[{\"aaxis\":{\"endlinecolor\":\"#2a3f5f\",\"gridcolor\":\"white\",\"linecolor\":\"white\",\"minorgridcolor\":\"white\",\"startlinecolor\":\"#2a3f5f\"},\"baxis\":{\"endlinecolor\":\"#2a3f5f\",\"gridcolor\":\"white\",\"linecolor\":\"white\",\"minorgridcolor\":\"white\",\"startlinecolor\":\"#2a3f5f\"},\"type\":\"carpet\"}],\"choropleth\":[{\"colorbar\":{\"outlinewidth\":0,\"ticks\":\"\"},\"type\":\"choropleth\"}],\"contour\":[{\"colorbar\":{\"outlinewidth\":0,\"ticks\":\"\"},\"colorscale\":[[0.0,\"#0d0887\"],[0.1111111111111111,\"#46039f\"],[0.2222222222222222,\"#7201a8\"],[0.3333333333333333,\"#9c179e\"],[0.4444444444444444,\"#bd3786\"],[0.5555555555555556,\"#d8576b\"],[0.6666666666666666,\"#ed7953\"],[0.7777777777777778,\"#fb9f3a\"],[0.8888888888888888,\"#fdca26\"],[1.0,\"#f0f921\"]],\"type\":\"contour\"}],\"contourcarpet\":[{\"colorbar\":{\"outlinewidth\":0,\"ticks\":\"\"},\"type\":\"contourcarpet\"}],\"heatmap\":[{\"colorbar\":{\"outlinewidth\":0,\"ticks\":\"\"},\"colorscale\":[[0.0,\"#0d0887\"],[0.1111111111111111,\"#46039f\"],[0.2222222222222222,\"#7201a8\"],[0.3333333333333333,\"#9c179e\"],[0.4444444444444444,\"#bd3786\"],[0.5555555555555556,\"#d8576b\"],[0.6666666666666666,\"#ed7953\"],[0.7777777777777778,\"#fb9f3a\"],[0.8888888888888888,\"#fdca26\"],[1.0,\"#f0f921\"]],\"type\":\"heatmap\"}],\"heatmapgl\":[{\"colorbar\":{\"outlinewidth\":0,\"ticks\":\"\"},\"colorscale\":[[0.0,\"#0d0887\"],[0.1111111111111111,\"#46039f\"],[0.2222222222222222,\"#7201a8\"],[0.3333333333333333,\"#9c179e\"],[0.4444444444444444,\"#bd3786\"],[0.5555555555555556,\"#d8576b\"],[0.6666666666666666,\"#ed7953\"],[0.7777777777777778,\"#fb9f3a\"],[0.8888888888888888,\"#fdca26\"],[1.0,\"#f0f921\"]],\"type\":\"heatmapgl\"}],\"histogram\":[{\"marker\":{\"pattern\":{\"fillmode\":\"overlay\",\"size\":10,\"solidity\":0.2}},\"type\":\"histogram\"}],\"histogram2d\":[{\"colorbar\":{\"outlinewidth\":0,\"ticks\":\"\"},\"colorscale\":[[0.0,\"#0d0887\"],[0.1111111111111111,\"#46039f\"],[0.2222222222222222,\"#7201a8\"],[0.3333333333333333,\"#9c179e\"],[0.4444444444444444,\"#bd3786\"],[0.5555555555555556,\"#d8576b\"],[0.6666666666666666,\"#ed7953\"],[0.7777777777777778,\"#fb9f3a\"],[0.8888888888888888,\"#fdca26\"],[1.0,\"#f0f921\"]],\"type\":\"histogram2d\"}],\"histogram2dcontour\":[{\"colorbar\":{\"outlinewidth\":0,\"ticks\":\"\"},\"colorscale\":[[0.0,\"#0d0887\"],[0.1111111111111111,\"#46039f\"],[0.2222222222222222,\"#7201a8\"],[0.3333333333333333,\"#9c179e\"],[0.4444444444444444,\"#bd3786\"],[0.5555555555555556,\"#d8576b\"],[0.6666666666666666,\"#ed7953\"],[0.7777777777777778,\"#fb9f3a\"],[0.8888888888888888,\"#fdca26\"],[1.0,\"#f0f921\"]],\"type\":\"histogram2dcontour\"}],\"mesh3d\":[{\"colorbar\":{\"outlinewidth\":0,\"ticks\":\"\"},\"type\":\"mesh3d\"}],\"parcoords\":[{\"line\":{\"colorbar\":{\"outlinewidth\":0,\"ticks\":\"\"}},\"type\":\"parcoords\"}],\"pie\":[{\"automargin\":true,\"type\":\"pie\"}],\"scatter\":[{\"marker\":{\"colorbar\":{\"outlinewidth\":0,\"ticks\":\"\"}},\"type\":\"scatter\"}],\"scatter3d\":[{\"line\":{\"colorbar\":{\"outlinewidth\":0,\"ticks\":\"\"}},\"marker\":{\"colorbar\":{\"outlinewidth\":0,\"ticks\":\"\"}},\"type\":\"scatter3d\"}],\"scattercarpet\":[{\"marker\":{\"colorbar\":{\"outlinewidth\":0,\"ticks\":\"\"}},\"type\":\"scattercarpet\"}],\"scattergeo\":[{\"marker\":{\"colorbar\":{\"outlinewidth\":0,\"ticks\":\"\"}},\"type\":\"scattergeo\"}],\"scattergl\":[{\"marker\":{\"colorbar\":{\"outlinewidth\":0,\"ticks\":\"\"}},\"type\":\"scattergl\"}],\"scattermapbox\":[{\"marker\":{\"colorbar\":{\"outlinewidth\":0,\"ticks\":\"\"}},\"type\":\"scattermapbox\"}],\"scatterpolar\":[{\"marker\":{\"colorbar\":{\"outlinewidth\":0,\"ticks\":\"\"}},\"type\":\"scatterpolar\"}],\"scatterpolargl\":[{\"marker\":{\"colorbar\":{\"outlinewidth\":0,\"ticks\":\"\"}},\"type\":\"scatterpolargl\"}],\"scatterternary\":[{\"marker\":{\"colorbar\":{\"outlinewidth\":0,\"ticks\":\"\"}},\"type\":\"scatterternary\"}],\"surface\":[{\"colorbar\":{\"outlinewidth\":0,\"ticks\":\"\"},\"colorscale\":[[0.0,\"#0d0887\"],[0.1111111111111111,\"#46039f\"],[0.2222222222222222,\"#7201a8\"],[0.3333333333333333,\"#9c179e\"],[0.4444444444444444,\"#bd3786\"],[0.5555555555555556,\"#d8576b\"],[0.6666666666666666,\"#ed7953\"],[0.7777777777777778,\"#fb9f3a\"],[0.8888888888888888,\"#fdca26\"],[1.0,\"#f0f921\"]],\"type\":\"surface\"}],\"table\":[{\"cells\":{\"fill\":{\"color\":\"#EBF0F8\"},\"line\":{\"color\":\"white\"}},\"header\":{\"fill\":{\"color\":\"#C8D4E3\"},\"line\":{\"color\":\"white\"}},\"type\":\"table\"}]},\"layout\":{\"annotationdefaults\":{\"arrowcolor\":\"#2a3f5f\",\"arrowhead\":0,\"arrowwidth\":1},\"autotypenumbers\":\"strict\",\"coloraxis\":{\"colorbar\":{\"outlinewidth\":0,\"ticks\":\"\"}},\"colorscale\":{\"diverging\":[[0,\"#8e0152\"],[0.1,\"#c51b7d\"],[0.2,\"#de77ae\"],[0.3,\"#f1b6da\"],[0.4,\"#fde0ef\"],[0.5,\"#f7f7f7\"],[0.6,\"#e6f5d0\"],[0.7,\"#b8e186\"],[0.8,\"#7fbc41\"],[0.9,\"#4d9221\"],[1,\"#276419\"]],\"sequential\":[[0.0,\"#0d0887\"],[0.1111111111111111,\"#46039f\"],[0.2222222222222222,\"#7201a8\"],[0.3333333333333333,\"#9c179e\"],[0.4444444444444444,\"#bd3786\"],[0.5555555555555556,\"#d8576b\"],[0.6666666666666666,\"#ed7953\"],[0.7777777777777778,\"#fb9f3a\"],[0.8888888888888888,\"#fdca26\"],[1.0,\"#f0f921\"]],\"sequentialminus\":[[0.0,\"#0d0887\"],[0.1111111111111111,\"#46039f\"],[0.2222222222222222,\"#7201a8\"],[0.3333333333333333,\"#9c179e\"],[0.4444444444444444,\"#bd3786\"],[0.5555555555555556,\"#d8576b\"],[0.6666666666666666,\"#ed7953\"],[0.7777777777777778,\"#fb9f3a\"],[0.8888888888888888,\"#fdca26\"],[1.0,\"#f0f921\"]]},\"colorway\":[\"#636efa\",\"#EF553B\",\"#00cc96\",\"#ab63fa\",\"#FFA15A\",\"#19d3f3\",\"#FF6692\",\"#B6E880\",\"#FF97FF\",\"#FECB52\"],\"font\":{\"color\":\"#2a3f5f\"},\"geo\":{\"bgcolor\":\"white\",\"lakecolor\":\"white\",\"landcolor\":\"#E5ECF6\",\"showlakes\":true,\"showland\":true,\"subunitcolor\":\"white\"},\"hoverlabel\":{\"align\":\"left\"},\"hovermode\":\"closest\",\"mapbox\":{\"style\":\"light\"},\"paper_bgcolor\":\"white\",\"plot_bgcolor\":\"#E5ECF6\",\"polar\":{\"angularaxis\":{\"gridcolor\":\"white\",\"linecolor\":\"white\",\"ticks\":\"\"},\"bgcolor\":\"#E5ECF6\",\"radialaxis\":{\"gridcolor\":\"white\",\"linecolor\":\"white\",\"ticks\":\"\"}},\"scene\":{\"xaxis\":{\"backgroundcolor\":\"#E5ECF6\",\"gridcolor\":\"white\",\"gridwidth\":2,\"linecolor\":\"white\",\"showbackground\":true,\"ticks\":\"\",\"zerolinecolor\":\"white\"},\"yaxis\":{\"backgroundcolor\":\"#E5ECF6\",\"gridcolor\":\"white\",\"gridwidth\":2,\"linecolor\":\"white\",\"showbackground\":true,\"ticks\":\"\",\"zerolinecolor\":\"white\"},\"zaxis\":{\"backgroundcolor\":\"#E5ECF6\",\"gridcolor\":\"white\",\"gridwidth\":2,\"linecolor\":\"white\",\"showbackground\":true,\"ticks\":\"\",\"zerolinecolor\":\"white\"}},\"shapedefaults\":{\"line\":{\"color\":\"#2a3f5f\"}},\"ternary\":{\"aaxis\":{\"gridcolor\":\"white\",\"linecolor\":\"white\",\"ticks\":\"\"},\"baxis\":{\"gridcolor\":\"white\",\"linecolor\":\"white\",\"ticks\":\"\"},\"bgcolor\":\"#E5ECF6\",\"caxis\":{\"gridcolor\":\"white\",\"linecolor\":\"white\",\"ticks\":\"\"}},\"title\":{\"x\":0.05},\"xaxis\":{\"automargin\":true,\"gridcolor\":\"white\",\"linecolor\":\"white\",\"ticks\":\"\",\"title\":{\"standoff\":15},\"zerolinecolor\":\"white\",\"zerolinewidth\":2},\"yaxis\":{\"automargin\":true,\"gridcolor\":\"white\",\"linecolor\":\"white\",\"ticks\":\"\",\"title\":{\"standoff\":15},\"zerolinecolor\":\"white\",\"zerolinewidth\":2}}},\"xaxis\":{\"anchor\":\"y\",\"domain\":[0.0,1.0],\"title\":{\"text\":\"Year\"}},\"yaxis\":{\"anchor\":\"x\",\"domain\":[0.0,1.0],\"title\":{\"text\":\"Popularity\"}},\"legend\":{\"tracegroupgap\":0},\"title\":{\"text\":\"Overall content release Trend\"}},                        {\"responsive\": true}                    ).then(function(){\n",
       "                            \n",
       "var gd = document.getElementById('11262f8f-495e-4d46-a50c-e1431d94b3eb');\n",
       "var x = new MutationObserver(function (mutations, observer) {{\n",
       "        var display = window.getComputedStyle(gd).display;\n",
       "        if (!display || display === 'none') {{\n",
       "            console.log([gd, 'removed!']);\n",
       "            Plotly.purge(gd);\n",
       "            observer.disconnect();\n",
       "        }}\n",
       "}});\n",
       "\n",
       "// Listen for the removal of the full notebook cells\n",
       "var notebookContainer = gd.closest('#notebook-container');\n",
       "if (notebookContainer) {{\n",
       "    x.observe(notebookContainer, {childList: true});\n",
       "}}\n",
       "\n",
       "// Listen for the clearing of the current output cell\n",
       "var outputEl = gd.closest('.output');\n",
       "if (outputEl) {{\n",
       "    x.observe(outputEl, {childList: true});\n",
       "}}\n",
       "\n",
       "                        })                };                });            </script>        </div>"
      ]
     },
     "metadata": {},
     "output_type": "display_data"
    }
   ],
   "source": [
    "df=spotify_df.query(\"Year>=1800\")\n",
    "df=df.groupby(\"Year\")[\"Popularity\"].count().reset_index()\n",
    "\n",
    "fig=px.area(df,x=\"Year\",y='Popularity',color_discrete_sequence=px.colors.sequential.RdBu,\n",
    "           title=\"Overall content release Trend\")\n",
    "fig.show()"
   ]
  },
  {
   "cell_type": "code",
   "execution_count": 70,
   "id": "635500d7",
   "metadata": {},
   "outputs": [
    {
     "data": {
      "application/vnd.plotly.v1+json": {
       "config": {
        "plotlyServerURL": "https://plot.ly"
       },
       "data": [
        {
         "hovertemplate": "Year=%{x}<br>Length (Duration)=%{y}<extra></extra>",
         "legendgroup": "",
         "line": {
          "color": "rgb(103,0,31)"
         },
         "marker": {
          "symbol": "circle"
         },
         "mode": "lines",
         "name": "",
         "orientation": "v",
         "showlegend": false,
         "stackgroup": "1",
         "type": "scatter",
         "x": [
          1956,
          1958,
          1959,
          1960,
          1961,
          1962,
          1963,
          1964,
          1965,
          1966,
          1967,
          1968,
          1969,
          1970,
          1971,
          1972,
          1973,
          1974,
          1975,
          1976,
          1977,
          1978,
          1979,
          1980,
          1981,
          1982,
          1983,
          1984,
          1985,
          1986,
          1987,
          1988,
          1989,
          1990,
          1991,
          1992,
          1993,
          1994,
          1995,
          1996,
          1997,
          1998,
          1999,
          2000,
          2001,
          2002,
          2003,
          2004,
          2005,
          2006,
          2007,
          2008,
          2009,
          2010,
          2011,
          2012,
          2013,
          2014,
          2015,
          2016,
          2017,
          2018,
          2019
         ],
         "xaxis": "x",
         "y": [
          1,
          5,
          3,
          1,
          1,
          3,
          7,
          9,
          15,
          20,
          37,
          27,
          38,
          40,
          43,
          29,
          29,
          23,
          36,
          31,
          51,
          31,
          40,
          37,
          15,
          32,
          30,
          44,
          34,
          42,
          46,
          30,
          34,
          19,
          52,
          35,
          28,
          25,
          39,
          24,
          35,
          45,
          29,
          33,
          30,
          47,
          28,
          45,
          44,
          40,
          36,
          54,
          43,
          33,
          46,
          41,
          41,
          43,
          42,
          35,
          45,
          52,
          21
         ],
         "yaxis": "y"
        }
       ],
       "layout": {
        "legend": {
         "tracegroupgap": 0
        },
        "template": {
         "data": {
          "bar": [
           {
            "error_x": {
             "color": "#2a3f5f"
            },
            "error_y": {
             "color": "#2a3f5f"
            },
            "marker": {
             "line": {
              "color": "#E5ECF6",
              "width": 0.5
             },
             "pattern": {
              "fillmode": "overlay",
              "size": 10,
              "solidity": 0.2
             }
            },
            "type": "bar"
           }
          ],
          "barpolar": [
           {
            "marker": {
             "line": {
              "color": "#E5ECF6",
              "width": 0.5
             },
             "pattern": {
              "fillmode": "overlay",
              "size": 10,
              "solidity": 0.2
             }
            },
            "type": "barpolar"
           }
          ],
          "carpet": [
           {
            "aaxis": {
             "endlinecolor": "#2a3f5f",
             "gridcolor": "white",
             "linecolor": "white",
             "minorgridcolor": "white",
             "startlinecolor": "#2a3f5f"
            },
            "baxis": {
             "endlinecolor": "#2a3f5f",
             "gridcolor": "white",
             "linecolor": "white",
             "minorgridcolor": "white",
             "startlinecolor": "#2a3f5f"
            },
            "type": "carpet"
           }
          ],
          "choropleth": [
           {
            "colorbar": {
             "outlinewidth": 0,
             "ticks": ""
            },
            "type": "choropleth"
           }
          ],
          "contour": [
           {
            "colorbar": {
             "outlinewidth": 0,
             "ticks": ""
            },
            "colorscale": [
             [
              0,
              "#0d0887"
             ],
             [
              0.1111111111111111,
              "#46039f"
             ],
             [
              0.2222222222222222,
              "#7201a8"
             ],
             [
              0.3333333333333333,
              "#9c179e"
             ],
             [
              0.4444444444444444,
              "#bd3786"
             ],
             [
              0.5555555555555556,
              "#d8576b"
             ],
             [
              0.6666666666666666,
              "#ed7953"
             ],
             [
              0.7777777777777778,
              "#fb9f3a"
             ],
             [
              0.8888888888888888,
              "#fdca26"
             ],
             [
              1,
              "#f0f921"
             ]
            ],
            "type": "contour"
           }
          ],
          "contourcarpet": [
           {
            "colorbar": {
             "outlinewidth": 0,
             "ticks": ""
            },
            "type": "contourcarpet"
           }
          ],
          "heatmap": [
           {
            "colorbar": {
             "outlinewidth": 0,
             "ticks": ""
            },
            "colorscale": [
             [
              0,
              "#0d0887"
             ],
             [
              0.1111111111111111,
              "#46039f"
             ],
             [
              0.2222222222222222,
              "#7201a8"
             ],
             [
              0.3333333333333333,
              "#9c179e"
             ],
             [
              0.4444444444444444,
              "#bd3786"
             ],
             [
              0.5555555555555556,
              "#d8576b"
             ],
             [
              0.6666666666666666,
              "#ed7953"
             ],
             [
              0.7777777777777778,
              "#fb9f3a"
             ],
             [
              0.8888888888888888,
              "#fdca26"
             ],
             [
              1,
              "#f0f921"
             ]
            ],
            "type": "heatmap"
           }
          ],
          "heatmapgl": [
           {
            "colorbar": {
             "outlinewidth": 0,
             "ticks": ""
            },
            "colorscale": [
             [
              0,
              "#0d0887"
             ],
             [
              0.1111111111111111,
              "#46039f"
             ],
             [
              0.2222222222222222,
              "#7201a8"
             ],
             [
              0.3333333333333333,
              "#9c179e"
             ],
             [
              0.4444444444444444,
              "#bd3786"
             ],
             [
              0.5555555555555556,
              "#d8576b"
             ],
             [
              0.6666666666666666,
              "#ed7953"
             ],
             [
              0.7777777777777778,
              "#fb9f3a"
             ],
             [
              0.8888888888888888,
              "#fdca26"
             ],
             [
              1,
              "#f0f921"
             ]
            ],
            "type": "heatmapgl"
           }
          ],
          "histogram": [
           {
            "marker": {
             "pattern": {
              "fillmode": "overlay",
              "size": 10,
              "solidity": 0.2
             }
            },
            "type": "histogram"
           }
          ],
          "histogram2d": [
           {
            "colorbar": {
             "outlinewidth": 0,
             "ticks": ""
            },
            "colorscale": [
             [
              0,
              "#0d0887"
             ],
             [
              0.1111111111111111,
              "#46039f"
             ],
             [
              0.2222222222222222,
              "#7201a8"
             ],
             [
              0.3333333333333333,
              "#9c179e"
             ],
             [
              0.4444444444444444,
              "#bd3786"
             ],
             [
              0.5555555555555556,
              "#d8576b"
             ],
             [
              0.6666666666666666,
              "#ed7953"
             ],
             [
              0.7777777777777778,
              "#fb9f3a"
             ],
             [
              0.8888888888888888,
              "#fdca26"
             ],
             [
              1,
              "#f0f921"
             ]
            ],
            "type": "histogram2d"
           }
          ],
          "histogram2dcontour": [
           {
            "colorbar": {
             "outlinewidth": 0,
             "ticks": ""
            },
            "colorscale": [
             [
              0,
              "#0d0887"
             ],
             [
              0.1111111111111111,
              "#46039f"
             ],
             [
              0.2222222222222222,
              "#7201a8"
             ],
             [
              0.3333333333333333,
              "#9c179e"
             ],
             [
              0.4444444444444444,
              "#bd3786"
             ],
             [
              0.5555555555555556,
              "#d8576b"
             ],
             [
              0.6666666666666666,
              "#ed7953"
             ],
             [
              0.7777777777777778,
              "#fb9f3a"
             ],
             [
              0.8888888888888888,
              "#fdca26"
             ],
             [
              1,
              "#f0f921"
             ]
            ],
            "type": "histogram2dcontour"
           }
          ],
          "mesh3d": [
           {
            "colorbar": {
             "outlinewidth": 0,
             "ticks": ""
            },
            "type": "mesh3d"
           }
          ],
          "parcoords": [
           {
            "line": {
             "colorbar": {
              "outlinewidth": 0,
              "ticks": ""
             }
            },
            "type": "parcoords"
           }
          ],
          "pie": [
           {
            "automargin": true,
            "type": "pie"
           }
          ],
          "scatter": [
           {
            "marker": {
             "colorbar": {
              "outlinewidth": 0,
              "ticks": ""
             }
            },
            "type": "scatter"
           }
          ],
          "scatter3d": [
           {
            "line": {
             "colorbar": {
              "outlinewidth": 0,
              "ticks": ""
             }
            },
            "marker": {
             "colorbar": {
              "outlinewidth": 0,
              "ticks": ""
             }
            },
            "type": "scatter3d"
           }
          ],
          "scattercarpet": [
           {
            "marker": {
             "colorbar": {
              "outlinewidth": 0,
              "ticks": ""
             }
            },
            "type": "scattercarpet"
           }
          ],
          "scattergeo": [
           {
            "marker": {
             "colorbar": {
              "outlinewidth": 0,
              "ticks": ""
             }
            },
            "type": "scattergeo"
           }
          ],
          "scattergl": [
           {
            "marker": {
             "colorbar": {
              "outlinewidth": 0,
              "ticks": ""
             }
            },
            "type": "scattergl"
           }
          ],
          "scattermapbox": [
           {
            "marker": {
             "colorbar": {
              "outlinewidth": 0,
              "ticks": ""
             }
            },
            "type": "scattermapbox"
           }
          ],
          "scatterpolar": [
           {
            "marker": {
             "colorbar": {
              "outlinewidth": 0,
              "ticks": ""
             }
            },
            "type": "scatterpolar"
           }
          ],
          "scatterpolargl": [
           {
            "marker": {
             "colorbar": {
              "outlinewidth": 0,
              "ticks": ""
             }
            },
            "type": "scatterpolargl"
           }
          ],
          "scatterternary": [
           {
            "marker": {
             "colorbar": {
              "outlinewidth": 0,
              "ticks": ""
             }
            },
            "type": "scatterternary"
           }
          ],
          "surface": [
           {
            "colorbar": {
             "outlinewidth": 0,
             "ticks": ""
            },
            "colorscale": [
             [
              0,
              "#0d0887"
             ],
             [
              0.1111111111111111,
              "#46039f"
             ],
             [
              0.2222222222222222,
              "#7201a8"
             ],
             [
              0.3333333333333333,
              "#9c179e"
             ],
             [
              0.4444444444444444,
              "#bd3786"
             ],
             [
              0.5555555555555556,
              "#d8576b"
             ],
             [
              0.6666666666666666,
              "#ed7953"
             ],
             [
              0.7777777777777778,
              "#fb9f3a"
             ],
             [
              0.8888888888888888,
              "#fdca26"
             ],
             [
              1,
              "#f0f921"
             ]
            ],
            "type": "surface"
           }
          ],
          "table": [
           {
            "cells": {
             "fill": {
              "color": "#EBF0F8"
             },
             "line": {
              "color": "white"
             }
            },
            "header": {
             "fill": {
              "color": "#C8D4E3"
             },
             "line": {
              "color": "white"
             }
            },
            "type": "table"
           }
          ]
         },
         "layout": {
          "annotationdefaults": {
           "arrowcolor": "#2a3f5f",
           "arrowhead": 0,
           "arrowwidth": 1
          },
          "autotypenumbers": "strict",
          "coloraxis": {
           "colorbar": {
            "outlinewidth": 0,
            "ticks": ""
           }
          },
          "colorscale": {
           "diverging": [
            [
             0,
             "#8e0152"
            ],
            [
             0.1,
             "#c51b7d"
            ],
            [
             0.2,
             "#de77ae"
            ],
            [
             0.3,
             "#f1b6da"
            ],
            [
             0.4,
             "#fde0ef"
            ],
            [
             0.5,
             "#f7f7f7"
            ],
            [
             0.6,
             "#e6f5d0"
            ],
            [
             0.7,
             "#b8e186"
            ],
            [
             0.8,
             "#7fbc41"
            ],
            [
             0.9,
             "#4d9221"
            ],
            [
             1,
             "#276419"
            ]
           ],
           "sequential": [
            [
             0,
             "#0d0887"
            ],
            [
             0.1111111111111111,
             "#46039f"
            ],
            [
             0.2222222222222222,
             "#7201a8"
            ],
            [
             0.3333333333333333,
             "#9c179e"
            ],
            [
             0.4444444444444444,
             "#bd3786"
            ],
            [
             0.5555555555555556,
             "#d8576b"
            ],
            [
             0.6666666666666666,
             "#ed7953"
            ],
            [
             0.7777777777777778,
             "#fb9f3a"
            ],
            [
             0.8888888888888888,
             "#fdca26"
            ],
            [
             1,
             "#f0f921"
            ]
           ],
           "sequentialminus": [
            [
             0,
             "#0d0887"
            ],
            [
             0.1111111111111111,
             "#46039f"
            ],
            [
             0.2222222222222222,
             "#7201a8"
            ],
            [
             0.3333333333333333,
             "#9c179e"
            ],
            [
             0.4444444444444444,
             "#bd3786"
            ],
            [
             0.5555555555555556,
             "#d8576b"
            ],
            [
             0.6666666666666666,
             "#ed7953"
            ],
            [
             0.7777777777777778,
             "#fb9f3a"
            ],
            [
             0.8888888888888888,
             "#fdca26"
            ],
            [
             1,
             "#f0f921"
            ]
           ]
          },
          "colorway": [
           "#636efa",
           "#EF553B",
           "#00cc96",
           "#ab63fa",
           "#FFA15A",
           "#19d3f3",
           "#FF6692",
           "#B6E880",
           "#FF97FF",
           "#FECB52"
          ],
          "font": {
           "color": "#2a3f5f"
          },
          "geo": {
           "bgcolor": "white",
           "lakecolor": "white",
           "landcolor": "#E5ECF6",
           "showlakes": true,
           "showland": true,
           "subunitcolor": "white"
          },
          "hoverlabel": {
           "align": "left"
          },
          "hovermode": "closest",
          "mapbox": {
           "style": "light"
          },
          "paper_bgcolor": "white",
          "plot_bgcolor": "#E5ECF6",
          "polar": {
           "angularaxis": {
            "gridcolor": "white",
            "linecolor": "white",
            "ticks": ""
           },
           "bgcolor": "#E5ECF6",
           "radialaxis": {
            "gridcolor": "white",
            "linecolor": "white",
            "ticks": ""
           }
          },
          "scene": {
           "xaxis": {
            "backgroundcolor": "#E5ECF6",
            "gridcolor": "white",
            "gridwidth": 2,
            "linecolor": "white",
            "showbackground": true,
            "ticks": "",
            "zerolinecolor": "white"
           },
           "yaxis": {
            "backgroundcolor": "#E5ECF6",
            "gridcolor": "white",
            "gridwidth": 2,
            "linecolor": "white",
            "showbackground": true,
            "ticks": "",
            "zerolinecolor": "white"
           },
           "zaxis": {
            "backgroundcolor": "#E5ECF6",
            "gridcolor": "white",
            "gridwidth": 2,
            "linecolor": "white",
            "showbackground": true,
            "ticks": "",
            "zerolinecolor": "white"
           }
          },
          "shapedefaults": {
           "line": {
            "color": "#2a3f5f"
           }
          },
          "ternary": {
           "aaxis": {
            "gridcolor": "white",
            "linecolor": "white",
            "ticks": ""
           },
           "baxis": {
            "gridcolor": "white",
            "linecolor": "white",
            "ticks": ""
           },
           "bgcolor": "#E5ECF6",
           "caxis": {
            "gridcolor": "white",
            "linecolor": "white",
            "ticks": ""
           }
          },
          "title": {
           "x": 0.05
          },
          "xaxis": {
           "automargin": true,
           "gridcolor": "white",
           "linecolor": "white",
           "ticks": "",
           "title": {
            "standoff": 15
           },
           "zerolinecolor": "white",
           "zerolinewidth": 2
          },
          "yaxis": {
           "automargin": true,
           "gridcolor": "white",
           "linecolor": "white",
           "ticks": "",
           "title": {
            "standoff": 15
           },
           "zerolinecolor": "white",
           "zerolinewidth": 2
          }
         }
        },
        "title": {
         "text": "Overall content release Trend"
        },
        "xaxis": {
         "anchor": "y",
         "domain": [
          0,
          1
         ],
         "title": {
          "text": "Year"
         }
        },
        "yaxis": {
         "anchor": "x",
         "domain": [
          0,
          1
         ],
         "title": {
          "text": "Length (Duration)"
         }
        }
       }
      },
      "text/html": [
       "<div>                            <div id=\"3e2d4bfb-00de-461e-b2d8-669196e92ca6\" class=\"plotly-graph-div\" style=\"height:525px; width:100%;\"></div>            <script type=\"text/javascript\">                require([\"plotly\"], function(Plotly) {                    window.PLOTLYENV=window.PLOTLYENV || {};                                    if (document.getElementById(\"3e2d4bfb-00de-461e-b2d8-669196e92ca6\")) {                    Plotly.newPlot(                        \"3e2d4bfb-00de-461e-b2d8-669196e92ca6\",                        [{\"hovertemplate\":\"Year=%{x}<br>Length (Duration)=%{y}<extra></extra>\",\"legendgroup\":\"\",\"line\":{\"color\":\"rgb(103,0,31)\"},\"marker\":{\"symbol\":\"circle\"},\"mode\":\"lines\",\"name\":\"\",\"orientation\":\"v\",\"showlegend\":false,\"stackgroup\":\"1\",\"x\":[1956,1958,1959,1960,1961,1962,1963,1964,1965,1966,1967,1968,1969,1970,1971,1972,1973,1974,1975,1976,1977,1978,1979,1980,1981,1982,1983,1984,1985,1986,1987,1988,1989,1990,1991,1992,1993,1994,1995,1996,1997,1998,1999,2000,2001,2002,2003,2004,2005,2006,2007,2008,2009,2010,2011,2012,2013,2014,2015,2016,2017,2018,2019],\"xaxis\":\"x\",\"y\":[1,5,3,1,1,3,7,9,15,20,37,27,38,40,43,29,29,23,36,31,51,31,40,37,15,32,30,44,34,42,46,30,34,19,52,35,28,25,39,24,35,45,29,33,30,47,28,45,44,40,36,54,43,33,46,41,41,43,42,35,45,52,21],\"yaxis\":\"y\",\"type\":\"scatter\"}],                        {\"template\":{\"data\":{\"bar\":[{\"error_x\":{\"color\":\"#2a3f5f\"},\"error_y\":{\"color\":\"#2a3f5f\"},\"marker\":{\"line\":{\"color\":\"#E5ECF6\",\"width\":0.5},\"pattern\":{\"fillmode\":\"overlay\",\"size\":10,\"solidity\":0.2}},\"type\":\"bar\"}],\"barpolar\":[{\"marker\":{\"line\":{\"color\":\"#E5ECF6\",\"width\":0.5},\"pattern\":{\"fillmode\":\"overlay\",\"size\":10,\"solidity\":0.2}},\"type\":\"barpolar\"}],\"carpet\":[{\"aaxis\":{\"endlinecolor\":\"#2a3f5f\",\"gridcolor\":\"white\",\"linecolor\":\"white\",\"minorgridcolor\":\"white\",\"startlinecolor\":\"#2a3f5f\"},\"baxis\":{\"endlinecolor\":\"#2a3f5f\",\"gridcolor\":\"white\",\"linecolor\":\"white\",\"minorgridcolor\":\"white\",\"startlinecolor\":\"#2a3f5f\"},\"type\":\"carpet\"}],\"choropleth\":[{\"colorbar\":{\"outlinewidth\":0,\"ticks\":\"\"},\"type\":\"choropleth\"}],\"contour\":[{\"colorbar\":{\"outlinewidth\":0,\"ticks\":\"\"},\"colorscale\":[[0.0,\"#0d0887\"],[0.1111111111111111,\"#46039f\"],[0.2222222222222222,\"#7201a8\"],[0.3333333333333333,\"#9c179e\"],[0.4444444444444444,\"#bd3786\"],[0.5555555555555556,\"#d8576b\"],[0.6666666666666666,\"#ed7953\"],[0.7777777777777778,\"#fb9f3a\"],[0.8888888888888888,\"#fdca26\"],[1.0,\"#f0f921\"]],\"type\":\"contour\"}],\"contourcarpet\":[{\"colorbar\":{\"outlinewidth\":0,\"ticks\":\"\"},\"type\":\"contourcarpet\"}],\"heatmap\":[{\"colorbar\":{\"outlinewidth\":0,\"ticks\":\"\"},\"colorscale\":[[0.0,\"#0d0887\"],[0.1111111111111111,\"#46039f\"],[0.2222222222222222,\"#7201a8\"],[0.3333333333333333,\"#9c179e\"],[0.4444444444444444,\"#bd3786\"],[0.5555555555555556,\"#d8576b\"],[0.6666666666666666,\"#ed7953\"],[0.7777777777777778,\"#fb9f3a\"],[0.8888888888888888,\"#fdca26\"],[1.0,\"#f0f921\"]],\"type\":\"heatmap\"}],\"heatmapgl\":[{\"colorbar\":{\"outlinewidth\":0,\"ticks\":\"\"},\"colorscale\":[[0.0,\"#0d0887\"],[0.1111111111111111,\"#46039f\"],[0.2222222222222222,\"#7201a8\"],[0.3333333333333333,\"#9c179e\"],[0.4444444444444444,\"#bd3786\"],[0.5555555555555556,\"#d8576b\"],[0.6666666666666666,\"#ed7953\"],[0.7777777777777778,\"#fb9f3a\"],[0.8888888888888888,\"#fdca26\"],[1.0,\"#f0f921\"]],\"type\":\"heatmapgl\"}],\"histogram\":[{\"marker\":{\"pattern\":{\"fillmode\":\"overlay\",\"size\":10,\"solidity\":0.2}},\"type\":\"histogram\"}],\"histogram2d\":[{\"colorbar\":{\"outlinewidth\":0,\"ticks\":\"\"},\"colorscale\":[[0.0,\"#0d0887\"],[0.1111111111111111,\"#46039f\"],[0.2222222222222222,\"#7201a8\"],[0.3333333333333333,\"#9c179e\"],[0.4444444444444444,\"#bd3786\"],[0.5555555555555556,\"#d8576b\"],[0.6666666666666666,\"#ed7953\"],[0.7777777777777778,\"#fb9f3a\"],[0.8888888888888888,\"#fdca26\"],[1.0,\"#f0f921\"]],\"type\":\"histogram2d\"}],\"histogram2dcontour\":[{\"colorbar\":{\"outlinewidth\":0,\"ticks\":\"\"},\"colorscale\":[[0.0,\"#0d0887\"],[0.1111111111111111,\"#46039f\"],[0.2222222222222222,\"#7201a8\"],[0.3333333333333333,\"#9c179e\"],[0.4444444444444444,\"#bd3786\"],[0.5555555555555556,\"#d8576b\"],[0.6666666666666666,\"#ed7953\"],[0.7777777777777778,\"#fb9f3a\"],[0.8888888888888888,\"#fdca26\"],[1.0,\"#f0f921\"]],\"type\":\"histogram2dcontour\"}],\"mesh3d\":[{\"colorbar\":{\"outlinewidth\":0,\"ticks\":\"\"},\"type\":\"mesh3d\"}],\"parcoords\":[{\"line\":{\"colorbar\":{\"outlinewidth\":0,\"ticks\":\"\"}},\"type\":\"parcoords\"}],\"pie\":[{\"automargin\":true,\"type\":\"pie\"}],\"scatter\":[{\"marker\":{\"colorbar\":{\"outlinewidth\":0,\"ticks\":\"\"}},\"type\":\"scatter\"}],\"scatter3d\":[{\"line\":{\"colorbar\":{\"outlinewidth\":0,\"ticks\":\"\"}},\"marker\":{\"colorbar\":{\"outlinewidth\":0,\"ticks\":\"\"}},\"type\":\"scatter3d\"}],\"scattercarpet\":[{\"marker\":{\"colorbar\":{\"outlinewidth\":0,\"ticks\":\"\"}},\"type\":\"scattercarpet\"}],\"scattergeo\":[{\"marker\":{\"colorbar\":{\"outlinewidth\":0,\"ticks\":\"\"}},\"type\":\"scattergeo\"}],\"scattergl\":[{\"marker\":{\"colorbar\":{\"outlinewidth\":0,\"ticks\":\"\"}},\"type\":\"scattergl\"}],\"scattermapbox\":[{\"marker\":{\"colorbar\":{\"outlinewidth\":0,\"ticks\":\"\"}},\"type\":\"scattermapbox\"}],\"scatterpolar\":[{\"marker\":{\"colorbar\":{\"outlinewidth\":0,\"ticks\":\"\"}},\"type\":\"scatterpolar\"}],\"scatterpolargl\":[{\"marker\":{\"colorbar\":{\"outlinewidth\":0,\"ticks\":\"\"}},\"type\":\"scatterpolargl\"}],\"scatterternary\":[{\"marker\":{\"colorbar\":{\"outlinewidth\":0,\"ticks\":\"\"}},\"type\":\"scatterternary\"}],\"surface\":[{\"colorbar\":{\"outlinewidth\":0,\"ticks\":\"\"},\"colorscale\":[[0.0,\"#0d0887\"],[0.1111111111111111,\"#46039f\"],[0.2222222222222222,\"#7201a8\"],[0.3333333333333333,\"#9c179e\"],[0.4444444444444444,\"#bd3786\"],[0.5555555555555556,\"#d8576b\"],[0.6666666666666666,\"#ed7953\"],[0.7777777777777778,\"#fb9f3a\"],[0.8888888888888888,\"#fdca26\"],[1.0,\"#f0f921\"]],\"type\":\"surface\"}],\"table\":[{\"cells\":{\"fill\":{\"color\":\"#EBF0F8\"},\"line\":{\"color\":\"white\"}},\"header\":{\"fill\":{\"color\":\"#C8D4E3\"},\"line\":{\"color\":\"white\"}},\"type\":\"table\"}]},\"layout\":{\"annotationdefaults\":{\"arrowcolor\":\"#2a3f5f\",\"arrowhead\":0,\"arrowwidth\":1},\"autotypenumbers\":\"strict\",\"coloraxis\":{\"colorbar\":{\"outlinewidth\":0,\"ticks\":\"\"}},\"colorscale\":{\"diverging\":[[0,\"#8e0152\"],[0.1,\"#c51b7d\"],[0.2,\"#de77ae\"],[0.3,\"#f1b6da\"],[0.4,\"#fde0ef\"],[0.5,\"#f7f7f7\"],[0.6,\"#e6f5d0\"],[0.7,\"#b8e186\"],[0.8,\"#7fbc41\"],[0.9,\"#4d9221\"],[1,\"#276419\"]],\"sequential\":[[0.0,\"#0d0887\"],[0.1111111111111111,\"#46039f\"],[0.2222222222222222,\"#7201a8\"],[0.3333333333333333,\"#9c179e\"],[0.4444444444444444,\"#bd3786\"],[0.5555555555555556,\"#d8576b\"],[0.6666666666666666,\"#ed7953\"],[0.7777777777777778,\"#fb9f3a\"],[0.8888888888888888,\"#fdca26\"],[1.0,\"#f0f921\"]],\"sequentialminus\":[[0.0,\"#0d0887\"],[0.1111111111111111,\"#46039f\"],[0.2222222222222222,\"#7201a8\"],[0.3333333333333333,\"#9c179e\"],[0.4444444444444444,\"#bd3786\"],[0.5555555555555556,\"#d8576b\"],[0.6666666666666666,\"#ed7953\"],[0.7777777777777778,\"#fb9f3a\"],[0.8888888888888888,\"#fdca26\"],[1.0,\"#f0f921\"]]},\"colorway\":[\"#636efa\",\"#EF553B\",\"#00cc96\",\"#ab63fa\",\"#FFA15A\",\"#19d3f3\",\"#FF6692\",\"#B6E880\",\"#FF97FF\",\"#FECB52\"],\"font\":{\"color\":\"#2a3f5f\"},\"geo\":{\"bgcolor\":\"white\",\"lakecolor\":\"white\",\"landcolor\":\"#E5ECF6\",\"showlakes\":true,\"showland\":true,\"subunitcolor\":\"white\"},\"hoverlabel\":{\"align\":\"left\"},\"hovermode\":\"closest\",\"mapbox\":{\"style\":\"light\"},\"paper_bgcolor\":\"white\",\"plot_bgcolor\":\"#E5ECF6\",\"polar\":{\"angularaxis\":{\"gridcolor\":\"white\",\"linecolor\":\"white\",\"ticks\":\"\"},\"bgcolor\":\"#E5ECF6\",\"radialaxis\":{\"gridcolor\":\"white\",\"linecolor\":\"white\",\"ticks\":\"\"}},\"scene\":{\"xaxis\":{\"backgroundcolor\":\"#E5ECF6\",\"gridcolor\":\"white\",\"gridwidth\":2,\"linecolor\":\"white\",\"showbackground\":true,\"ticks\":\"\",\"zerolinecolor\":\"white\"},\"yaxis\":{\"backgroundcolor\":\"#E5ECF6\",\"gridcolor\":\"white\",\"gridwidth\":2,\"linecolor\":\"white\",\"showbackground\":true,\"ticks\":\"\",\"zerolinecolor\":\"white\"},\"zaxis\":{\"backgroundcolor\":\"#E5ECF6\",\"gridcolor\":\"white\",\"gridwidth\":2,\"linecolor\":\"white\",\"showbackground\":true,\"ticks\":\"\",\"zerolinecolor\":\"white\"}},\"shapedefaults\":{\"line\":{\"color\":\"#2a3f5f\"}},\"ternary\":{\"aaxis\":{\"gridcolor\":\"white\",\"linecolor\":\"white\",\"ticks\":\"\"},\"baxis\":{\"gridcolor\":\"white\",\"linecolor\":\"white\",\"ticks\":\"\"},\"bgcolor\":\"#E5ECF6\",\"caxis\":{\"gridcolor\":\"white\",\"linecolor\":\"white\",\"ticks\":\"\"}},\"title\":{\"x\":0.05},\"xaxis\":{\"automargin\":true,\"gridcolor\":\"white\",\"linecolor\":\"white\",\"ticks\":\"\",\"title\":{\"standoff\":15},\"zerolinecolor\":\"white\",\"zerolinewidth\":2},\"yaxis\":{\"automargin\":true,\"gridcolor\":\"white\",\"linecolor\":\"white\",\"ticks\":\"\",\"title\":{\"standoff\":15},\"zerolinecolor\":\"white\",\"zerolinewidth\":2}}},\"xaxis\":{\"anchor\":\"y\",\"domain\":[0.0,1.0],\"title\":{\"text\":\"Year\"}},\"yaxis\":{\"anchor\":\"x\",\"domain\":[0.0,1.0],\"title\":{\"text\":\"Length (Duration)\"}},\"legend\":{\"tracegroupgap\":0},\"title\":{\"text\":\"Overall content release Trend\"}},                        {\"responsive\": true}                    ).then(function(){\n",
       "                            \n",
       "var gd = document.getElementById('3e2d4bfb-00de-461e-b2d8-669196e92ca6');\n",
       "var x = new MutationObserver(function (mutations, observer) {{\n",
       "        var display = window.getComputedStyle(gd).display;\n",
       "        if (!display || display === 'none') {{\n",
       "            console.log([gd, 'removed!']);\n",
       "            Plotly.purge(gd);\n",
       "            observer.disconnect();\n",
       "        }}\n",
       "}});\n",
       "\n",
       "// Listen for the removal of the full notebook cells\n",
       "var notebookContainer = gd.closest('#notebook-container');\n",
       "if (notebookContainer) {{\n",
       "    x.observe(notebookContainer, {childList: true});\n",
       "}}\n",
       "\n",
       "// Listen for the clearing of the current output cell\n",
       "var outputEl = gd.closest('.output');\n",
       "if (outputEl) {{\n",
       "    x.observe(outputEl, {childList: true});\n",
       "}}\n",
       "\n",
       "                        })                };                });            </script>        </div>"
      ]
     },
     "metadata": {},
     "output_type": "display_data"
    }
   ],
   "source": [
    "df=spotify_df.query(\"Year>=1800\")\n",
    "df=df.groupby(\"Year\")[\"Length (Duration)\"].count().reset_index()\n",
    "\n",
    "fig=px.area(df,x=\"Year\",y='Length (Duration)',color_discrete_sequence=px.colors.sequential.RdBu,\n",
    "           title=\"Overall content release Trend\")\n",
    "fig.show()\n"
   ]
  },
  {
   "cell_type": "code",
   "execution_count": 71,
   "id": "c6240a3a",
   "metadata": {},
   "outputs": [
    {
     "data": {
      "application/vnd.plotly.v1+json": {
       "config": {
        "plotlyServerURL": "https://plot.ly"
       },
       "data": [
        {
         "hovertemplate": "Year=%{x}<br>Danceability=%{y}<extra></extra>",
         "legendgroup": "",
         "line": {
          "color": "rgb(103,0,31)"
         },
         "marker": {
          "symbol": "circle"
         },
         "mode": "lines",
         "name": "",
         "orientation": "v",
         "showlegend": false,
         "stackgroup": "1",
         "type": "scatter",
         "x": [
          1956,
          1958,
          1959,
          1960,
          1961,
          1962,
          1963,
          1964,
          1965,
          1966,
          1967,
          1968,
          1969,
          1970,
          1971,
          1972,
          1973,
          1974,
          1975,
          1976,
          1977,
          1978,
          1979,
          1980,
          1981,
          1982,
          1983,
          1984,
          1985,
          1986,
          1987,
          1988,
          1989,
          1990,
          1991,
          1992,
          1993,
          1994,
          1995,
          1996,
          1997,
          1998,
          1999,
          2000,
          2001,
          2002,
          2003,
          2004,
          2005,
          2006,
          2007,
          2008,
          2009,
          2010,
          2011,
          2012,
          2013,
          2014,
          2015,
          2016,
          2017,
          2018,
          2019
         ],
         "xaxis": "x",
         "y": [
          1,
          5,
          3,
          1,
          1,
          3,
          7,
          9,
          15,
          20,
          37,
          27,
          38,
          40,
          43,
          29,
          29,
          23,
          36,
          31,
          51,
          31,
          40,
          37,
          15,
          32,
          30,
          44,
          34,
          42,
          46,
          30,
          34,
          19,
          52,
          35,
          28,
          25,
          39,
          24,
          35,
          45,
          29,
          33,
          30,
          47,
          28,
          45,
          44,
          40,
          36,
          54,
          43,
          33,
          46,
          41,
          41,
          43,
          42,
          35,
          45,
          52,
          21
         ],
         "yaxis": "y"
        }
       ],
       "layout": {
        "legend": {
         "tracegroupgap": 0
        },
        "template": {
         "data": {
          "bar": [
           {
            "error_x": {
             "color": "#2a3f5f"
            },
            "error_y": {
             "color": "#2a3f5f"
            },
            "marker": {
             "line": {
              "color": "#E5ECF6",
              "width": 0.5
             },
             "pattern": {
              "fillmode": "overlay",
              "size": 10,
              "solidity": 0.2
             }
            },
            "type": "bar"
           }
          ],
          "barpolar": [
           {
            "marker": {
             "line": {
              "color": "#E5ECF6",
              "width": 0.5
             },
             "pattern": {
              "fillmode": "overlay",
              "size": 10,
              "solidity": 0.2
             }
            },
            "type": "barpolar"
           }
          ],
          "carpet": [
           {
            "aaxis": {
             "endlinecolor": "#2a3f5f",
             "gridcolor": "white",
             "linecolor": "white",
             "minorgridcolor": "white",
             "startlinecolor": "#2a3f5f"
            },
            "baxis": {
             "endlinecolor": "#2a3f5f",
             "gridcolor": "white",
             "linecolor": "white",
             "minorgridcolor": "white",
             "startlinecolor": "#2a3f5f"
            },
            "type": "carpet"
           }
          ],
          "choropleth": [
           {
            "colorbar": {
             "outlinewidth": 0,
             "ticks": ""
            },
            "type": "choropleth"
           }
          ],
          "contour": [
           {
            "colorbar": {
             "outlinewidth": 0,
             "ticks": ""
            },
            "colorscale": [
             [
              0,
              "#0d0887"
             ],
             [
              0.1111111111111111,
              "#46039f"
             ],
             [
              0.2222222222222222,
              "#7201a8"
             ],
             [
              0.3333333333333333,
              "#9c179e"
             ],
             [
              0.4444444444444444,
              "#bd3786"
             ],
             [
              0.5555555555555556,
              "#d8576b"
             ],
             [
              0.6666666666666666,
              "#ed7953"
             ],
             [
              0.7777777777777778,
              "#fb9f3a"
             ],
             [
              0.8888888888888888,
              "#fdca26"
             ],
             [
              1,
              "#f0f921"
             ]
            ],
            "type": "contour"
           }
          ],
          "contourcarpet": [
           {
            "colorbar": {
             "outlinewidth": 0,
             "ticks": ""
            },
            "type": "contourcarpet"
           }
          ],
          "heatmap": [
           {
            "colorbar": {
             "outlinewidth": 0,
             "ticks": ""
            },
            "colorscale": [
             [
              0,
              "#0d0887"
             ],
             [
              0.1111111111111111,
              "#46039f"
             ],
             [
              0.2222222222222222,
              "#7201a8"
             ],
             [
              0.3333333333333333,
              "#9c179e"
             ],
             [
              0.4444444444444444,
              "#bd3786"
             ],
             [
              0.5555555555555556,
              "#d8576b"
             ],
             [
              0.6666666666666666,
              "#ed7953"
             ],
             [
              0.7777777777777778,
              "#fb9f3a"
             ],
             [
              0.8888888888888888,
              "#fdca26"
             ],
             [
              1,
              "#f0f921"
             ]
            ],
            "type": "heatmap"
           }
          ],
          "heatmapgl": [
           {
            "colorbar": {
             "outlinewidth": 0,
             "ticks": ""
            },
            "colorscale": [
             [
              0,
              "#0d0887"
             ],
             [
              0.1111111111111111,
              "#46039f"
             ],
             [
              0.2222222222222222,
              "#7201a8"
             ],
             [
              0.3333333333333333,
              "#9c179e"
             ],
             [
              0.4444444444444444,
              "#bd3786"
             ],
             [
              0.5555555555555556,
              "#d8576b"
             ],
             [
              0.6666666666666666,
              "#ed7953"
             ],
             [
              0.7777777777777778,
              "#fb9f3a"
             ],
             [
              0.8888888888888888,
              "#fdca26"
             ],
             [
              1,
              "#f0f921"
             ]
            ],
            "type": "heatmapgl"
           }
          ],
          "histogram": [
           {
            "marker": {
             "pattern": {
              "fillmode": "overlay",
              "size": 10,
              "solidity": 0.2
             }
            },
            "type": "histogram"
           }
          ],
          "histogram2d": [
           {
            "colorbar": {
             "outlinewidth": 0,
             "ticks": ""
            },
            "colorscale": [
             [
              0,
              "#0d0887"
             ],
             [
              0.1111111111111111,
              "#46039f"
             ],
             [
              0.2222222222222222,
              "#7201a8"
             ],
             [
              0.3333333333333333,
              "#9c179e"
             ],
             [
              0.4444444444444444,
              "#bd3786"
             ],
             [
              0.5555555555555556,
              "#d8576b"
             ],
             [
              0.6666666666666666,
              "#ed7953"
             ],
             [
              0.7777777777777778,
              "#fb9f3a"
             ],
             [
              0.8888888888888888,
              "#fdca26"
             ],
             [
              1,
              "#f0f921"
             ]
            ],
            "type": "histogram2d"
           }
          ],
          "histogram2dcontour": [
           {
            "colorbar": {
             "outlinewidth": 0,
             "ticks": ""
            },
            "colorscale": [
             [
              0,
              "#0d0887"
             ],
             [
              0.1111111111111111,
              "#46039f"
             ],
             [
              0.2222222222222222,
              "#7201a8"
             ],
             [
              0.3333333333333333,
              "#9c179e"
             ],
             [
              0.4444444444444444,
              "#bd3786"
             ],
             [
              0.5555555555555556,
              "#d8576b"
             ],
             [
              0.6666666666666666,
              "#ed7953"
             ],
             [
              0.7777777777777778,
              "#fb9f3a"
             ],
             [
              0.8888888888888888,
              "#fdca26"
             ],
             [
              1,
              "#f0f921"
             ]
            ],
            "type": "histogram2dcontour"
           }
          ],
          "mesh3d": [
           {
            "colorbar": {
             "outlinewidth": 0,
             "ticks": ""
            },
            "type": "mesh3d"
           }
          ],
          "parcoords": [
           {
            "line": {
             "colorbar": {
              "outlinewidth": 0,
              "ticks": ""
             }
            },
            "type": "parcoords"
           }
          ],
          "pie": [
           {
            "automargin": true,
            "type": "pie"
           }
          ],
          "scatter": [
           {
            "marker": {
             "colorbar": {
              "outlinewidth": 0,
              "ticks": ""
             }
            },
            "type": "scatter"
           }
          ],
          "scatter3d": [
           {
            "line": {
             "colorbar": {
              "outlinewidth": 0,
              "ticks": ""
             }
            },
            "marker": {
             "colorbar": {
              "outlinewidth": 0,
              "ticks": ""
             }
            },
            "type": "scatter3d"
           }
          ],
          "scattercarpet": [
           {
            "marker": {
             "colorbar": {
              "outlinewidth": 0,
              "ticks": ""
             }
            },
            "type": "scattercarpet"
           }
          ],
          "scattergeo": [
           {
            "marker": {
             "colorbar": {
              "outlinewidth": 0,
              "ticks": ""
             }
            },
            "type": "scattergeo"
           }
          ],
          "scattergl": [
           {
            "marker": {
             "colorbar": {
              "outlinewidth": 0,
              "ticks": ""
             }
            },
            "type": "scattergl"
           }
          ],
          "scattermapbox": [
           {
            "marker": {
             "colorbar": {
              "outlinewidth": 0,
              "ticks": ""
             }
            },
            "type": "scattermapbox"
           }
          ],
          "scatterpolar": [
           {
            "marker": {
             "colorbar": {
              "outlinewidth": 0,
              "ticks": ""
             }
            },
            "type": "scatterpolar"
           }
          ],
          "scatterpolargl": [
           {
            "marker": {
             "colorbar": {
              "outlinewidth": 0,
              "ticks": ""
             }
            },
            "type": "scatterpolargl"
           }
          ],
          "scatterternary": [
           {
            "marker": {
             "colorbar": {
              "outlinewidth": 0,
              "ticks": ""
             }
            },
            "type": "scatterternary"
           }
          ],
          "surface": [
           {
            "colorbar": {
             "outlinewidth": 0,
             "ticks": ""
            },
            "colorscale": [
             [
              0,
              "#0d0887"
             ],
             [
              0.1111111111111111,
              "#46039f"
             ],
             [
              0.2222222222222222,
              "#7201a8"
             ],
             [
              0.3333333333333333,
              "#9c179e"
             ],
             [
              0.4444444444444444,
              "#bd3786"
             ],
             [
              0.5555555555555556,
              "#d8576b"
             ],
             [
              0.6666666666666666,
              "#ed7953"
             ],
             [
              0.7777777777777778,
              "#fb9f3a"
             ],
             [
              0.8888888888888888,
              "#fdca26"
             ],
             [
              1,
              "#f0f921"
             ]
            ],
            "type": "surface"
           }
          ],
          "table": [
           {
            "cells": {
             "fill": {
              "color": "#EBF0F8"
             },
             "line": {
              "color": "white"
             }
            },
            "header": {
             "fill": {
              "color": "#C8D4E3"
             },
             "line": {
              "color": "white"
             }
            },
            "type": "table"
           }
          ]
         },
         "layout": {
          "annotationdefaults": {
           "arrowcolor": "#2a3f5f",
           "arrowhead": 0,
           "arrowwidth": 1
          },
          "autotypenumbers": "strict",
          "coloraxis": {
           "colorbar": {
            "outlinewidth": 0,
            "ticks": ""
           }
          },
          "colorscale": {
           "diverging": [
            [
             0,
             "#8e0152"
            ],
            [
             0.1,
             "#c51b7d"
            ],
            [
             0.2,
             "#de77ae"
            ],
            [
             0.3,
             "#f1b6da"
            ],
            [
             0.4,
             "#fde0ef"
            ],
            [
             0.5,
             "#f7f7f7"
            ],
            [
             0.6,
             "#e6f5d0"
            ],
            [
             0.7,
             "#b8e186"
            ],
            [
             0.8,
             "#7fbc41"
            ],
            [
             0.9,
             "#4d9221"
            ],
            [
             1,
             "#276419"
            ]
           ],
           "sequential": [
            [
             0,
             "#0d0887"
            ],
            [
             0.1111111111111111,
             "#46039f"
            ],
            [
             0.2222222222222222,
             "#7201a8"
            ],
            [
             0.3333333333333333,
             "#9c179e"
            ],
            [
             0.4444444444444444,
             "#bd3786"
            ],
            [
             0.5555555555555556,
             "#d8576b"
            ],
            [
             0.6666666666666666,
             "#ed7953"
            ],
            [
             0.7777777777777778,
             "#fb9f3a"
            ],
            [
             0.8888888888888888,
             "#fdca26"
            ],
            [
             1,
             "#f0f921"
            ]
           ],
           "sequentialminus": [
            [
             0,
             "#0d0887"
            ],
            [
             0.1111111111111111,
             "#46039f"
            ],
            [
             0.2222222222222222,
             "#7201a8"
            ],
            [
             0.3333333333333333,
             "#9c179e"
            ],
            [
             0.4444444444444444,
             "#bd3786"
            ],
            [
             0.5555555555555556,
             "#d8576b"
            ],
            [
             0.6666666666666666,
             "#ed7953"
            ],
            [
             0.7777777777777778,
             "#fb9f3a"
            ],
            [
             0.8888888888888888,
             "#fdca26"
            ],
            [
             1,
             "#f0f921"
            ]
           ]
          },
          "colorway": [
           "#636efa",
           "#EF553B",
           "#00cc96",
           "#ab63fa",
           "#FFA15A",
           "#19d3f3",
           "#FF6692",
           "#B6E880",
           "#FF97FF",
           "#FECB52"
          ],
          "font": {
           "color": "#2a3f5f"
          },
          "geo": {
           "bgcolor": "white",
           "lakecolor": "white",
           "landcolor": "#E5ECF6",
           "showlakes": true,
           "showland": true,
           "subunitcolor": "white"
          },
          "hoverlabel": {
           "align": "left"
          },
          "hovermode": "closest",
          "mapbox": {
           "style": "light"
          },
          "paper_bgcolor": "white",
          "plot_bgcolor": "#E5ECF6",
          "polar": {
           "angularaxis": {
            "gridcolor": "white",
            "linecolor": "white",
            "ticks": ""
           },
           "bgcolor": "#E5ECF6",
           "radialaxis": {
            "gridcolor": "white",
            "linecolor": "white",
            "ticks": ""
           }
          },
          "scene": {
           "xaxis": {
            "backgroundcolor": "#E5ECF6",
            "gridcolor": "white",
            "gridwidth": 2,
            "linecolor": "white",
            "showbackground": true,
            "ticks": "",
            "zerolinecolor": "white"
           },
           "yaxis": {
            "backgroundcolor": "#E5ECF6",
            "gridcolor": "white",
            "gridwidth": 2,
            "linecolor": "white",
            "showbackground": true,
            "ticks": "",
            "zerolinecolor": "white"
           },
           "zaxis": {
            "backgroundcolor": "#E5ECF6",
            "gridcolor": "white",
            "gridwidth": 2,
            "linecolor": "white",
            "showbackground": true,
            "ticks": "",
            "zerolinecolor": "white"
           }
          },
          "shapedefaults": {
           "line": {
            "color": "#2a3f5f"
           }
          },
          "ternary": {
           "aaxis": {
            "gridcolor": "white",
            "linecolor": "white",
            "ticks": ""
           },
           "baxis": {
            "gridcolor": "white",
            "linecolor": "white",
            "ticks": ""
           },
           "bgcolor": "#E5ECF6",
           "caxis": {
            "gridcolor": "white",
            "linecolor": "white",
            "ticks": ""
           }
          },
          "title": {
           "x": 0.05
          },
          "xaxis": {
           "automargin": true,
           "gridcolor": "white",
           "linecolor": "white",
           "ticks": "",
           "title": {
            "standoff": 15
           },
           "zerolinecolor": "white",
           "zerolinewidth": 2
          },
          "yaxis": {
           "automargin": true,
           "gridcolor": "white",
           "linecolor": "white",
           "ticks": "",
           "title": {
            "standoff": 15
           },
           "zerolinecolor": "white",
           "zerolinewidth": 2
          }
         }
        },
        "title": {
         "text": "Overall content release Trend"
        },
        "xaxis": {
         "anchor": "y",
         "domain": [
          0,
          1
         ],
         "title": {
          "text": "Year"
         }
        },
        "yaxis": {
         "anchor": "x",
         "domain": [
          0,
          1
         ],
         "title": {
          "text": "Danceability"
         }
        }
       }
      },
      "text/html": [
       "<div>                            <div id=\"8aa23400-fe3f-474f-a828-7b89619c6ccb\" class=\"plotly-graph-div\" style=\"height:525px; width:100%;\"></div>            <script type=\"text/javascript\">                require([\"plotly\"], function(Plotly) {                    window.PLOTLYENV=window.PLOTLYENV || {};                                    if (document.getElementById(\"8aa23400-fe3f-474f-a828-7b89619c6ccb\")) {                    Plotly.newPlot(                        \"8aa23400-fe3f-474f-a828-7b89619c6ccb\",                        [{\"hovertemplate\":\"Year=%{x}<br>Danceability=%{y}<extra></extra>\",\"legendgroup\":\"\",\"line\":{\"color\":\"rgb(103,0,31)\"},\"marker\":{\"symbol\":\"circle\"},\"mode\":\"lines\",\"name\":\"\",\"orientation\":\"v\",\"showlegend\":false,\"stackgroup\":\"1\",\"x\":[1956,1958,1959,1960,1961,1962,1963,1964,1965,1966,1967,1968,1969,1970,1971,1972,1973,1974,1975,1976,1977,1978,1979,1980,1981,1982,1983,1984,1985,1986,1987,1988,1989,1990,1991,1992,1993,1994,1995,1996,1997,1998,1999,2000,2001,2002,2003,2004,2005,2006,2007,2008,2009,2010,2011,2012,2013,2014,2015,2016,2017,2018,2019],\"xaxis\":\"x\",\"y\":[1,5,3,1,1,3,7,9,15,20,37,27,38,40,43,29,29,23,36,31,51,31,40,37,15,32,30,44,34,42,46,30,34,19,52,35,28,25,39,24,35,45,29,33,30,47,28,45,44,40,36,54,43,33,46,41,41,43,42,35,45,52,21],\"yaxis\":\"y\",\"type\":\"scatter\"}],                        {\"template\":{\"data\":{\"bar\":[{\"error_x\":{\"color\":\"#2a3f5f\"},\"error_y\":{\"color\":\"#2a3f5f\"},\"marker\":{\"line\":{\"color\":\"#E5ECF6\",\"width\":0.5},\"pattern\":{\"fillmode\":\"overlay\",\"size\":10,\"solidity\":0.2}},\"type\":\"bar\"}],\"barpolar\":[{\"marker\":{\"line\":{\"color\":\"#E5ECF6\",\"width\":0.5},\"pattern\":{\"fillmode\":\"overlay\",\"size\":10,\"solidity\":0.2}},\"type\":\"barpolar\"}],\"carpet\":[{\"aaxis\":{\"endlinecolor\":\"#2a3f5f\",\"gridcolor\":\"white\",\"linecolor\":\"white\",\"minorgridcolor\":\"white\",\"startlinecolor\":\"#2a3f5f\"},\"baxis\":{\"endlinecolor\":\"#2a3f5f\",\"gridcolor\":\"white\",\"linecolor\":\"white\",\"minorgridcolor\":\"white\",\"startlinecolor\":\"#2a3f5f\"},\"type\":\"carpet\"}],\"choropleth\":[{\"colorbar\":{\"outlinewidth\":0,\"ticks\":\"\"},\"type\":\"choropleth\"}],\"contour\":[{\"colorbar\":{\"outlinewidth\":0,\"ticks\":\"\"},\"colorscale\":[[0.0,\"#0d0887\"],[0.1111111111111111,\"#46039f\"],[0.2222222222222222,\"#7201a8\"],[0.3333333333333333,\"#9c179e\"],[0.4444444444444444,\"#bd3786\"],[0.5555555555555556,\"#d8576b\"],[0.6666666666666666,\"#ed7953\"],[0.7777777777777778,\"#fb9f3a\"],[0.8888888888888888,\"#fdca26\"],[1.0,\"#f0f921\"]],\"type\":\"contour\"}],\"contourcarpet\":[{\"colorbar\":{\"outlinewidth\":0,\"ticks\":\"\"},\"type\":\"contourcarpet\"}],\"heatmap\":[{\"colorbar\":{\"outlinewidth\":0,\"ticks\":\"\"},\"colorscale\":[[0.0,\"#0d0887\"],[0.1111111111111111,\"#46039f\"],[0.2222222222222222,\"#7201a8\"],[0.3333333333333333,\"#9c179e\"],[0.4444444444444444,\"#bd3786\"],[0.5555555555555556,\"#d8576b\"],[0.6666666666666666,\"#ed7953\"],[0.7777777777777778,\"#fb9f3a\"],[0.8888888888888888,\"#fdca26\"],[1.0,\"#f0f921\"]],\"type\":\"heatmap\"}],\"heatmapgl\":[{\"colorbar\":{\"outlinewidth\":0,\"ticks\":\"\"},\"colorscale\":[[0.0,\"#0d0887\"],[0.1111111111111111,\"#46039f\"],[0.2222222222222222,\"#7201a8\"],[0.3333333333333333,\"#9c179e\"],[0.4444444444444444,\"#bd3786\"],[0.5555555555555556,\"#d8576b\"],[0.6666666666666666,\"#ed7953\"],[0.7777777777777778,\"#fb9f3a\"],[0.8888888888888888,\"#fdca26\"],[1.0,\"#f0f921\"]],\"type\":\"heatmapgl\"}],\"histogram\":[{\"marker\":{\"pattern\":{\"fillmode\":\"overlay\",\"size\":10,\"solidity\":0.2}},\"type\":\"histogram\"}],\"histogram2d\":[{\"colorbar\":{\"outlinewidth\":0,\"ticks\":\"\"},\"colorscale\":[[0.0,\"#0d0887\"],[0.1111111111111111,\"#46039f\"],[0.2222222222222222,\"#7201a8\"],[0.3333333333333333,\"#9c179e\"],[0.4444444444444444,\"#bd3786\"],[0.5555555555555556,\"#d8576b\"],[0.6666666666666666,\"#ed7953\"],[0.7777777777777778,\"#fb9f3a\"],[0.8888888888888888,\"#fdca26\"],[1.0,\"#f0f921\"]],\"type\":\"histogram2d\"}],\"histogram2dcontour\":[{\"colorbar\":{\"outlinewidth\":0,\"ticks\":\"\"},\"colorscale\":[[0.0,\"#0d0887\"],[0.1111111111111111,\"#46039f\"],[0.2222222222222222,\"#7201a8\"],[0.3333333333333333,\"#9c179e\"],[0.4444444444444444,\"#bd3786\"],[0.5555555555555556,\"#d8576b\"],[0.6666666666666666,\"#ed7953\"],[0.7777777777777778,\"#fb9f3a\"],[0.8888888888888888,\"#fdca26\"],[1.0,\"#f0f921\"]],\"type\":\"histogram2dcontour\"}],\"mesh3d\":[{\"colorbar\":{\"outlinewidth\":0,\"ticks\":\"\"},\"type\":\"mesh3d\"}],\"parcoords\":[{\"line\":{\"colorbar\":{\"outlinewidth\":0,\"ticks\":\"\"}},\"type\":\"parcoords\"}],\"pie\":[{\"automargin\":true,\"type\":\"pie\"}],\"scatter\":[{\"marker\":{\"colorbar\":{\"outlinewidth\":0,\"ticks\":\"\"}},\"type\":\"scatter\"}],\"scatter3d\":[{\"line\":{\"colorbar\":{\"outlinewidth\":0,\"ticks\":\"\"}},\"marker\":{\"colorbar\":{\"outlinewidth\":0,\"ticks\":\"\"}},\"type\":\"scatter3d\"}],\"scattercarpet\":[{\"marker\":{\"colorbar\":{\"outlinewidth\":0,\"ticks\":\"\"}},\"type\":\"scattercarpet\"}],\"scattergeo\":[{\"marker\":{\"colorbar\":{\"outlinewidth\":0,\"ticks\":\"\"}},\"type\":\"scattergeo\"}],\"scattergl\":[{\"marker\":{\"colorbar\":{\"outlinewidth\":0,\"ticks\":\"\"}},\"type\":\"scattergl\"}],\"scattermapbox\":[{\"marker\":{\"colorbar\":{\"outlinewidth\":0,\"ticks\":\"\"}},\"type\":\"scattermapbox\"}],\"scatterpolar\":[{\"marker\":{\"colorbar\":{\"outlinewidth\":0,\"ticks\":\"\"}},\"type\":\"scatterpolar\"}],\"scatterpolargl\":[{\"marker\":{\"colorbar\":{\"outlinewidth\":0,\"ticks\":\"\"}},\"type\":\"scatterpolargl\"}],\"scatterternary\":[{\"marker\":{\"colorbar\":{\"outlinewidth\":0,\"ticks\":\"\"}},\"type\":\"scatterternary\"}],\"surface\":[{\"colorbar\":{\"outlinewidth\":0,\"ticks\":\"\"},\"colorscale\":[[0.0,\"#0d0887\"],[0.1111111111111111,\"#46039f\"],[0.2222222222222222,\"#7201a8\"],[0.3333333333333333,\"#9c179e\"],[0.4444444444444444,\"#bd3786\"],[0.5555555555555556,\"#d8576b\"],[0.6666666666666666,\"#ed7953\"],[0.7777777777777778,\"#fb9f3a\"],[0.8888888888888888,\"#fdca26\"],[1.0,\"#f0f921\"]],\"type\":\"surface\"}],\"table\":[{\"cells\":{\"fill\":{\"color\":\"#EBF0F8\"},\"line\":{\"color\":\"white\"}},\"header\":{\"fill\":{\"color\":\"#C8D4E3\"},\"line\":{\"color\":\"white\"}},\"type\":\"table\"}]},\"layout\":{\"annotationdefaults\":{\"arrowcolor\":\"#2a3f5f\",\"arrowhead\":0,\"arrowwidth\":1},\"autotypenumbers\":\"strict\",\"coloraxis\":{\"colorbar\":{\"outlinewidth\":0,\"ticks\":\"\"}},\"colorscale\":{\"diverging\":[[0,\"#8e0152\"],[0.1,\"#c51b7d\"],[0.2,\"#de77ae\"],[0.3,\"#f1b6da\"],[0.4,\"#fde0ef\"],[0.5,\"#f7f7f7\"],[0.6,\"#e6f5d0\"],[0.7,\"#b8e186\"],[0.8,\"#7fbc41\"],[0.9,\"#4d9221\"],[1,\"#276419\"]],\"sequential\":[[0.0,\"#0d0887\"],[0.1111111111111111,\"#46039f\"],[0.2222222222222222,\"#7201a8\"],[0.3333333333333333,\"#9c179e\"],[0.4444444444444444,\"#bd3786\"],[0.5555555555555556,\"#d8576b\"],[0.6666666666666666,\"#ed7953\"],[0.7777777777777778,\"#fb9f3a\"],[0.8888888888888888,\"#fdca26\"],[1.0,\"#f0f921\"]],\"sequentialminus\":[[0.0,\"#0d0887\"],[0.1111111111111111,\"#46039f\"],[0.2222222222222222,\"#7201a8\"],[0.3333333333333333,\"#9c179e\"],[0.4444444444444444,\"#bd3786\"],[0.5555555555555556,\"#d8576b\"],[0.6666666666666666,\"#ed7953\"],[0.7777777777777778,\"#fb9f3a\"],[0.8888888888888888,\"#fdca26\"],[1.0,\"#f0f921\"]]},\"colorway\":[\"#636efa\",\"#EF553B\",\"#00cc96\",\"#ab63fa\",\"#FFA15A\",\"#19d3f3\",\"#FF6692\",\"#B6E880\",\"#FF97FF\",\"#FECB52\"],\"font\":{\"color\":\"#2a3f5f\"},\"geo\":{\"bgcolor\":\"white\",\"lakecolor\":\"white\",\"landcolor\":\"#E5ECF6\",\"showlakes\":true,\"showland\":true,\"subunitcolor\":\"white\"},\"hoverlabel\":{\"align\":\"left\"},\"hovermode\":\"closest\",\"mapbox\":{\"style\":\"light\"},\"paper_bgcolor\":\"white\",\"plot_bgcolor\":\"#E5ECF6\",\"polar\":{\"angularaxis\":{\"gridcolor\":\"white\",\"linecolor\":\"white\",\"ticks\":\"\"},\"bgcolor\":\"#E5ECF6\",\"radialaxis\":{\"gridcolor\":\"white\",\"linecolor\":\"white\",\"ticks\":\"\"}},\"scene\":{\"xaxis\":{\"backgroundcolor\":\"#E5ECF6\",\"gridcolor\":\"white\",\"gridwidth\":2,\"linecolor\":\"white\",\"showbackground\":true,\"ticks\":\"\",\"zerolinecolor\":\"white\"},\"yaxis\":{\"backgroundcolor\":\"#E5ECF6\",\"gridcolor\":\"white\",\"gridwidth\":2,\"linecolor\":\"white\",\"showbackground\":true,\"ticks\":\"\",\"zerolinecolor\":\"white\"},\"zaxis\":{\"backgroundcolor\":\"#E5ECF6\",\"gridcolor\":\"white\",\"gridwidth\":2,\"linecolor\":\"white\",\"showbackground\":true,\"ticks\":\"\",\"zerolinecolor\":\"white\"}},\"shapedefaults\":{\"line\":{\"color\":\"#2a3f5f\"}},\"ternary\":{\"aaxis\":{\"gridcolor\":\"white\",\"linecolor\":\"white\",\"ticks\":\"\"},\"baxis\":{\"gridcolor\":\"white\",\"linecolor\":\"white\",\"ticks\":\"\"},\"bgcolor\":\"#E5ECF6\",\"caxis\":{\"gridcolor\":\"white\",\"linecolor\":\"white\",\"ticks\":\"\"}},\"title\":{\"x\":0.05},\"xaxis\":{\"automargin\":true,\"gridcolor\":\"white\",\"linecolor\":\"white\",\"ticks\":\"\",\"title\":{\"standoff\":15},\"zerolinecolor\":\"white\",\"zerolinewidth\":2},\"yaxis\":{\"automargin\":true,\"gridcolor\":\"white\",\"linecolor\":\"white\",\"ticks\":\"\",\"title\":{\"standoff\":15},\"zerolinecolor\":\"white\",\"zerolinewidth\":2}}},\"xaxis\":{\"anchor\":\"y\",\"domain\":[0.0,1.0],\"title\":{\"text\":\"Year\"}},\"yaxis\":{\"anchor\":\"x\",\"domain\":[0.0,1.0],\"title\":{\"text\":\"Danceability\"}},\"legend\":{\"tracegroupgap\":0},\"title\":{\"text\":\"Overall content release Trend\"}},                        {\"responsive\": true}                    ).then(function(){\n",
       "                            \n",
       "var gd = document.getElementById('8aa23400-fe3f-474f-a828-7b89619c6ccb');\n",
       "var x = new MutationObserver(function (mutations, observer) {{\n",
       "        var display = window.getComputedStyle(gd).display;\n",
       "        if (!display || display === 'none') {{\n",
       "            console.log([gd, 'removed!']);\n",
       "            Plotly.purge(gd);\n",
       "            observer.disconnect();\n",
       "        }}\n",
       "}});\n",
       "\n",
       "// Listen for the removal of the full notebook cells\n",
       "var notebookContainer = gd.closest('#notebook-container');\n",
       "if (notebookContainer) {{\n",
       "    x.observe(notebookContainer, {childList: true});\n",
       "}}\n",
       "\n",
       "// Listen for the clearing of the current output cell\n",
       "var outputEl = gd.closest('.output');\n",
       "if (outputEl) {{\n",
       "    x.observe(outputEl, {childList: true});\n",
       "}}\n",
       "\n",
       "                        })                };                });            </script>        </div>"
      ]
     },
     "metadata": {},
     "output_type": "display_data"
    }
   ],
   "source": [
    "df=spotify_df.query(\"Year>=1800\")\n",
    "df=df.groupby(\"Year\")[\"Danceability\"].count().reset_index()\n",
    "\n",
    "fig=px.area(df,x=\"Year\",y='Danceability',color_discrete_sequence=px.colors.sequential.RdBu,\n",
    "           title=\"Overall content release Trend\")\n",
    "fig.show()\n"
   ]
  },
  {
   "cell_type": "code",
   "execution_count": 72,
   "id": "b77a72c0",
   "metadata": {},
   "outputs": [
    {
     "data": {
      "application/vnd.plotly.v1+json": {
       "config": {
        "plotlyServerURL": "https://plot.ly"
       },
       "data": [
        {
         "hovertemplate": "Year=%{x}<br>Beats Per Minute (BPM)=%{y}<extra></extra>",
         "legendgroup": "",
         "line": {
          "color": "rgb(103,0,31)"
         },
         "marker": {
          "symbol": "circle"
         },
         "mode": "lines",
         "name": "",
         "orientation": "v",
         "showlegend": false,
         "stackgroup": "1",
         "type": "scatter",
         "x": [
          1956,
          1958,
          1959,
          1960,
          1961,
          1962,
          1963,
          1964,
          1965,
          1966,
          1967,
          1968,
          1969,
          1970,
          1971,
          1972,
          1973,
          1974,
          1975,
          1976,
          1977,
          1978,
          1979,
          1980,
          1981,
          1982,
          1983,
          1984,
          1985,
          1986,
          1987,
          1988,
          1989,
          1990,
          1991,
          1992,
          1993,
          1994,
          1995,
          1996,
          1997,
          1998,
          1999,
          2000,
          2001,
          2002,
          2003,
          2004,
          2005,
          2006,
          2007,
          2008,
          2009,
          2010,
          2011,
          2012,
          2013,
          2014,
          2015,
          2016,
          2017,
          2018,
          2019
         ],
         "xaxis": "x",
         "y": [
          1,
          5,
          3,
          1,
          1,
          3,
          7,
          9,
          15,
          20,
          37,
          27,
          38,
          40,
          43,
          29,
          29,
          23,
          36,
          31,
          51,
          31,
          40,
          37,
          15,
          32,
          30,
          44,
          34,
          42,
          46,
          30,
          34,
          19,
          52,
          35,
          28,
          25,
          39,
          24,
          35,
          45,
          29,
          33,
          30,
          47,
          28,
          45,
          44,
          40,
          36,
          54,
          43,
          33,
          46,
          41,
          41,
          43,
          42,
          35,
          45,
          52,
          21
         ],
         "yaxis": "y"
        }
       ],
       "layout": {
        "legend": {
         "tracegroupgap": 0
        },
        "template": {
         "data": {
          "bar": [
           {
            "error_x": {
             "color": "#2a3f5f"
            },
            "error_y": {
             "color": "#2a3f5f"
            },
            "marker": {
             "line": {
              "color": "#E5ECF6",
              "width": 0.5
             },
             "pattern": {
              "fillmode": "overlay",
              "size": 10,
              "solidity": 0.2
             }
            },
            "type": "bar"
           }
          ],
          "barpolar": [
           {
            "marker": {
             "line": {
              "color": "#E5ECF6",
              "width": 0.5
             },
             "pattern": {
              "fillmode": "overlay",
              "size": 10,
              "solidity": 0.2
             }
            },
            "type": "barpolar"
           }
          ],
          "carpet": [
           {
            "aaxis": {
             "endlinecolor": "#2a3f5f",
             "gridcolor": "white",
             "linecolor": "white",
             "minorgridcolor": "white",
             "startlinecolor": "#2a3f5f"
            },
            "baxis": {
             "endlinecolor": "#2a3f5f",
             "gridcolor": "white",
             "linecolor": "white",
             "minorgridcolor": "white",
             "startlinecolor": "#2a3f5f"
            },
            "type": "carpet"
           }
          ],
          "choropleth": [
           {
            "colorbar": {
             "outlinewidth": 0,
             "ticks": ""
            },
            "type": "choropleth"
           }
          ],
          "contour": [
           {
            "colorbar": {
             "outlinewidth": 0,
             "ticks": ""
            },
            "colorscale": [
             [
              0,
              "#0d0887"
             ],
             [
              0.1111111111111111,
              "#46039f"
             ],
             [
              0.2222222222222222,
              "#7201a8"
             ],
             [
              0.3333333333333333,
              "#9c179e"
             ],
             [
              0.4444444444444444,
              "#bd3786"
             ],
             [
              0.5555555555555556,
              "#d8576b"
             ],
             [
              0.6666666666666666,
              "#ed7953"
             ],
             [
              0.7777777777777778,
              "#fb9f3a"
             ],
             [
              0.8888888888888888,
              "#fdca26"
             ],
             [
              1,
              "#f0f921"
             ]
            ],
            "type": "contour"
           }
          ],
          "contourcarpet": [
           {
            "colorbar": {
             "outlinewidth": 0,
             "ticks": ""
            },
            "type": "contourcarpet"
           }
          ],
          "heatmap": [
           {
            "colorbar": {
             "outlinewidth": 0,
             "ticks": ""
            },
            "colorscale": [
             [
              0,
              "#0d0887"
             ],
             [
              0.1111111111111111,
              "#46039f"
             ],
             [
              0.2222222222222222,
              "#7201a8"
             ],
             [
              0.3333333333333333,
              "#9c179e"
             ],
             [
              0.4444444444444444,
              "#bd3786"
             ],
             [
              0.5555555555555556,
              "#d8576b"
             ],
             [
              0.6666666666666666,
              "#ed7953"
             ],
             [
              0.7777777777777778,
              "#fb9f3a"
             ],
             [
              0.8888888888888888,
              "#fdca26"
             ],
             [
              1,
              "#f0f921"
             ]
            ],
            "type": "heatmap"
           }
          ],
          "heatmapgl": [
           {
            "colorbar": {
             "outlinewidth": 0,
             "ticks": ""
            },
            "colorscale": [
             [
              0,
              "#0d0887"
             ],
             [
              0.1111111111111111,
              "#46039f"
             ],
             [
              0.2222222222222222,
              "#7201a8"
             ],
             [
              0.3333333333333333,
              "#9c179e"
             ],
             [
              0.4444444444444444,
              "#bd3786"
             ],
             [
              0.5555555555555556,
              "#d8576b"
             ],
             [
              0.6666666666666666,
              "#ed7953"
             ],
             [
              0.7777777777777778,
              "#fb9f3a"
             ],
             [
              0.8888888888888888,
              "#fdca26"
             ],
             [
              1,
              "#f0f921"
             ]
            ],
            "type": "heatmapgl"
           }
          ],
          "histogram": [
           {
            "marker": {
             "pattern": {
              "fillmode": "overlay",
              "size": 10,
              "solidity": 0.2
             }
            },
            "type": "histogram"
           }
          ],
          "histogram2d": [
           {
            "colorbar": {
             "outlinewidth": 0,
             "ticks": ""
            },
            "colorscale": [
             [
              0,
              "#0d0887"
             ],
             [
              0.1111111111111111,
              "#46039f"
             ],
             [
              0.2222222222222222,
              "#7201a8"
             ],
             [
              0.3333333333333333,
              "#9c179e"
             ],
             [
              0.4444444444444444,
              "#bd3786"
             ],
             [
              0.5555555555555556,
              "#d8576b"
             ],
             [
              0.6666666666666666,
              "#ed7953"
             ],
             [
              0.7777777777777778,
              "#fb9f3a"
             ],
             [
              0.8888888888888888,
              "#fdca26"
             ],
             [
              1,
              "#f0f921"
             ]
            ],
            "type": "histogram2d"
           }
          ],
          "histogram2dcontour": [
           {
            "colorbar": {
             "outlinewidth": 0,
             "ticks": ""
            },
            "colorscale": [
             [
              0,
              "#0d0887"
             ],
             [
              0.1111111111111111,
              "#46039f"
             ],
             [
              0.2222222222222222,
              "#7201a8"
             ],
             [
              0.3333333333333333,
              "#9c179e"
             ],
             [
              0.4444444444444444,
              "#bd3786"
             ],
             [
              0.5555555555555556,
              "#d8576b"
             ],
             [
              0.6666666666666666,
              "#ed7953"
             ],
             [
              0.7777777777777778,
              "#fb9f3a"
             ],
             [
              0.8888888888888888,
              "#fdca26"
             ],
             [
              1,
              "#f0f921"
             ]
            ],
            "type": "histogram2dcontour"
           }
          ],
          "mesh3d": [
           {
            "colorbar": {
             "outlinewidth": 0,
             "ticks": ""
            },
            "type": "mesh3d"
           }
          ],
          "parcoords": [
           {
            "line": {
             "colorbar": {
              "outlinewidth": 0,
              "ticks": ""
             }
            },
            "type": "parcoords"
           }
          ],
          "pie": [
           {
            "automargin": true,
            "type": "pie"
           }
          ],
          "scatter": [
           {
            "marker": {
             "colorbar": {
              "outlinewidth": 0,
              "ticks": ""
             }
            },
            "type": "scatter"
           }
          ],
          "scatter3d": [
           {
            "line": {
             "colorbar": {
              "outlinewidth": 0,
              "ticks": ""
             }
            },
            "marker": {
             "colorbar": {
              "outlinewidth": 0,
              "ticks": ""
             }
            },
            "type": "scatter3d"
           }
          ],
          "scattercarpet": [
           {
            "marker": {
             "colorbar": {
              "outlinewidth": 0,
              "ticks": ""
             }
            },
            "type": "scattercarpet"
           }
          ],
          "scattergeo": [
           {
            "marker": {
             "colorbar": {
              "outlinewidth": 0,
              "ticks": ""
             }
            },
            "type": "scattergeo"
           }
          ],
          "scattergl": [
           {
            "marker": {
             "colorbar": {
              "outlinewidth": 0,
              "ticks": ""
             }
            },
            "type": "scattergl"
           }
          ],
          "scattermapbox": [
           {
            "marker": {
             "colorbar": {
              "outlinewidth": 0,
              "ticks": ""
             }
            },
            "type": "scattermapbox"
           }
          ],
          "scatterpolar": [
           {
            "marker": {
             "colorbar": {
              "outlinewidth": 0,
              "ticks": ""
             }
            },
            "type": "scatterpolar"
           }
          ],
          "scatterpolargl": [
           {
            "marker": {
             "colorbar": {
              "outlinewidth": 0,
              "ticks": ""
             }
            },
            "type": "scatterpolargl"
           }
          ],
          "scatterternary": [
           {
            "marker": {
             "colorbar": {
              "outlinewidth": 0,
              "ticks": ""
             }
            },
            "type": "scatterternary"
           }
          ],
          "surface": [
           {
            "colorbar": {
             "outlinewidth": 0,
             "ticks": ""
            },
            "colorscale": [
             [
              0,
              "#0d0887"
             ],
             [
              0.1111111111111111,
              "#46039f"
             ],
             [
              0.2222222222222222,
              "#7201a8"
             ],
             [
              0.3333333333333333,
              "#9c179e"
             ],
             [
              0.4444444444444444,
              "#bd3786"
             ],
             [
              0.5555555555555556,
              "#d8576b"
             ],
             [
              0.6666666666666666,
              "#ed7953"
             ],
             [
              0.7777777777777778,
              "#fb9f3a"
             ],
             [
              0.8888888888888888,
              "#fdca26"
             ],
             [
              1,
              "#f0f921"
             ]
            ],
            "type": "surface"
           }
          ],
          "table": [
           {
            "cells": {
             "fill": {
              "color": "#EBF0F8"
             },
             "line": {
              "color": "white"
             }
            },
            "header": {
             "fill": {
              "color": "#C8D4E3"
             },
             "line": {
              "color": "white"
             }
            },
            "type": "table"
           }
          ]
         },
         "layout": {
          "annotationdefaults": {
           "arrowcolor": "#2a3f5f",
           "arrowhead": 0,
           "arrowwidth": 1
          },
          "autotypenumbers": "strict",
          "coloraxis": {
           "colorbar": {
            "outlinewidth": 0,
            "ticks": ""
           }
          },
          "colorscale": {
           "diverging": [
            [
             0,
             "#8e0152"
            ],
            [
             0.1,
             "#c51b7d"
            ],
            [
             0.2,
             "#de77ae"
            ],
            [
             0.3,
             "#f1b6da"
            ],
            [
             0.4,
             "#fde0ef"
            ],
            [
             0.5,
             "#f7f7f7"
            ],
            [
             0.6,
             "#e6f5d0"
            ],
            [
             0.7,
             "#b8e186"
            ],
            [
             0.8,
             "#7fbc41"
            ],
            [
             0.9,
             "#4d9221"
            ],
            [
             1,
             "#276419"
            ]
           ],
           "sequential": [
            [
             0,
             "#0d0887"
            ],
            [
             0.1111111111111111,
             "#46039f"
            ],
            [
             0.2222222222222222,
             "#7201a8"
            ],
            [
             0.3333333333333333,
             "#9c179e"
            ],
            [
             0.4444444444444444,
             "#bd3786"
            ],
            [
             0.5555555555555556,
             "#d8576b"
            ],
            [
             0.6666666666666666,
             "#ed7953"
            ],
            [
             0.7777777777777778,
             "#fb9f3a"
            ],
            [
             0.8888888888888888,
             "#fdca26"
            ],
            [
             1,
             "#f0f921"
            ]
           ],
           "sequentialminus": [
            [
             0,
             "#0d0887"
            ],
            [
             0.1111111111111111,
             "#46039f"
            ],
            [
             0.2222222222222222,
             "#7201a8"
            ],
            [
             0.3333333333333333,
             "#9c179e"
            ],
            [
             0.4444444444444444,
             "#bd3786"
            ],
            [
             0.5555555555555556,
             "#d8576b"
            ],
            [
             0.6666666666666666,
             "#ed7953"
            ],
            [
             0.7777777777777778,
             "#fb9f3a"
            ],
            [
             0.8888888888888888,
             "#fdca26"
            ],
            [
             1,
             "#f0f921"
            ]
           ]
          },
          "colorway": [
           "#636efa",
           "#EF553B",
           "#00cc96",
           "#ab63fa",
           "#FFA15A",
           "#19d3f3",
           "#FF6692",
           "#B6E880",
           "#FF97FF",
           "#FECB52"
          ],
          "font": {
           "color": "#2a3f5f"
          },
          "geo": {
           "bgcolor": "white",
           "lakecolor": "white",
           "landcolor": "#E5ECF6",
           "showlakes": true,
           "showland": true,
           "subunitcolor": "white"
          },
          "hoverlabel": {
           "align": "left"
          },
          "hovermode": "closest",
          "mapbox": {
           "style": "light"
          },
          "paper_bgcolor": "white",
          "plot_bgcolor": "#E5ECF6",
          "polar": {
           "angularaxis": {
            "gridcolor": "white",
            "linecolor": "white",
            "ticks": ""
           },
           "bgcolor": "#E5ECF6",
           "radialaxis": {
            "gridcolor": "white",
            "linecolor": "white",
            "ticks": ""
           }
          },
          "scene": {
           "xaxis": {
            "backgroundcolor": "#E5ECF6",
            "gridcolor": "white",
            "gridwidth": 2,
            "linecolor": "white",
            "showbackground": true,
            "ticks": "",
            "zerolinecolor": "white"
           },
           "yaxis": {
            "backgroundcolor": "#E5ECF6",
            "gridcolor": "white",
            "gridwidth": 2,
            "linecolor": "white",
            "showbackground": true,
            "ticks": "",
            "zerolinecolor": "white"
           },
           "zaxis": {
            "backgroundcolor": "#E5ECF6",
            "gridcolor": "white",
            "gridwidth": 2,
            "linecolor": "white",
            "showbackground": true,
            "ticks": "",
            "zerolinecolor": "white"
           }
          },
          "shapedefaults": {
           "line": {
            "color": "#2a3f5f"
           }
          },
          "ternary": {
           "aaxis": {
            "gridcolor": "white",
            "linecolor": "white",
            "ticks": ""
           },
           "baxis": {
            "gridcolor": "white",
            "linecolor": "white",
            "ticks": ""
           },
           "bgcolor": "#E5ECF6",
           "caxis": {
            "gridcolor": "white",
            "linecolor": "white",
            "ticks": ""
           }
          },
          "title": {
           "x": 0.05
          },
          "xaxis": {
           "automargin": true,
           "gridcolor": "white",
           "linecolor": "white",
           "ticks": "",
           "title": {
            "standoff": 15
           },
           "zerolinecolor": "white",
           "zerolinewidth": 2
          },
          "yaxis": {
           "automargin": true,
           "gridcolor": "white",
           "linecolor": "white",
           "ticks": "",
           "title": {
            "standoff": 15
           },
           "zerolinecolor": "white",
           "zerolinewidth": 2
          }
         }
        },
        "title": {
         "text": "Overall content release Trend"
        },
        "xaxis": {
         "anchor": "y",
         "domain": [
          0,
          1
         ],
         "title": {
          "text": "Year"
         }
        },
        "yaxis": {
         "anchor": "x",
         "domain": [
          0,
          1
         ],
         "title": {
          "text": "Beats Per Minute (BPM)"
         }
        }
       }
      },
      "text/html": [
       "<div>                            <div id=\"6cb07dd0-7bcb-4081-ae7f-7de5e5ad147b\" class=\"plotly-graph-div\" style=\"height:525px; width:100%;\"></div>            <script type=\"text/javascript\">                require([\"plotly\"], function(Plotly) {                    window.PLOTLYENV=window.PLOTLYENV || {};                                    if (document.getElementById(\"6cb07dd0-7bcb-4081-ae7f-7de5e5ad147b\")) {                    Plotly.newPlot(                        \"6cb07dd0-7bcb-4081-ae7f-7de5e5ad147b\",                        [{\"hovertemplate\":\"Year=%{x}<br>Beats Per Minute (BPM)=%{y}<extra></extra>\",\"legendgroup\":\"\",\"line\":{\"color\":\"rgb(103,0,31)\"},\"marker\":{\"symbol\":\"circle\"},\"mode\":\"lines\",\"name\":\"\",\"orientation\":\"v\",\"showlegend\":false,\"stackgroup\":\"1\",\"x\":[1956,1958,1959,1960,1961,1962,1963,1964,1965,1966,1967,1968,1969,1970,1971,1972,1973,1974,1975,1976,1977,1978,1979,1980,1981,1982,1983,1984,1985,1986,1987,1988,1989,1990,1991,1992,1993,1994,1995,1996,1997,1998,1999,2000,2001,2002,2003,2004,2005,2006,2007,2008,2009,2010,2011,2012,2013,2014,2015,2016,2017,2018,2019],\"xaxis\":\"x\",\"y\":[1,5,3,1,1,3,7,9,15,20,37,27,38,40,43,29,29,23,36,31,51,31,40,37,15,32,30,44,34,42,46,30,34,19,52,35,28,25,39,24,35,45,29,33,30,47,28,45,44,40,36,54,43,33,46,41,41,43,42,35,45,52,21],\"yaxis\":\"y\",\"type\":\"scatter\"}],                        {\"template\":{\"data\":{\"bar\":[{\"error_x\":{\"color\":\"#2a3f5f\"},\"error_y\":{\"color\":\"#2a3f5f\"},\"marker\":{\"line\":{\"color\":\"#E5ECF6\",\"width\":0.5},\"pattern\":{\"fillmode\":\"overlay\",\"size\":10,\"solidity\":0.2}},\"type\":\"bar\"}],\"barpolar\":[{\"marker\":{\"line\":{\"color\":\"#E5ECF6\",\"width\":0.5},\"pattern\":{\"fillmode\":\"overlay\",\"size\":10,\"solidity\":0.2}},\"type\":\"barpolar\"}],\"carpet\":[{\"aaxis\":{\"endlinecolor\":\"#2a3f5f\",\"gridcolor\":\"white\",\"linecolor\":\"white\",\"minorgridcolor\":\"white\",\"startlinecolor\":\"#2a3f5f\"},\"baxis\":{\"endlinecolor\":\"#2a3f5f\",\"gridcolor\":\"white\",\"linecolor\":\"white\",\"minorgridcolor\":\"white\",\"startlinecolor\":\"#2a3f5f\"},\"type\":\"carpet\"}],\"choropleth\":[{\"colorbar\":{\"outlinewidth\":0,\"ticks\":\"\"},\"type\":\"choropleth\"}],\"contour\":[{\"colorbar\":{\"outlinewidth\":0,\"ticks\":\"\"},\"colorscale\":[[0.0,\"#0d0887\"],[0.1111111111111111,\"#46039f\"],[0.2222222222222222,\"#7201a8\"],[0.3333333333333333,\"#9c179e\"],[0.4444444444444444,\"#bd3786\"],[0.5555555555555556,\"#d8576b\"],[0.6666666666666666,\"#ed7953\"],[0.7777777777777778,\"#fb9f3a\"],[0.8888888888888888,\"#fdca26\"],[1.0,\"#f0f921\"]],\"type\":\"contour\"}],\"contourcarpet\":[{\"colorbar\":{\"outlinewidth\":0,\"ticks\":\"\"},\"type\":\"contourcarpet\"}],\"heatmap\":[{\"colorbar\":{\"outlinewidth\":0,\"ticks\":\"\"},\"colorscale\":[[0.0,\"#0d0887\"],[0.1111111111111111,\"#46039f\"],[0.2222222222222222,\"#7201a8\"],[0.3333333333333333,\"#9c179e\"],[0.4444444444444444,\"#bd3786\"],[0.5555555555555556,\"#d8576b\"],[0.6666666666666666,\"#ed7953\"],[0.7777777777777778,\"#fb9f3a\"],[0.8888888888888888,\"#fdca26\"],[1.0,\"#f0f921\"]],\"type\":\"heatmap\"}],\"heatmapgl\":[{\"colorbar\":{\"outlinewidth\":0,\"ticks\":\"\"},\"colorscale\":[[0.0,\"#0d0887\"],[0.1111111111111111,\"#46039f\"],[0.2222222222222222,\"#7201a8\"],[0.3333333333333333,\"#9c179e\"],[0.4444444444444444,\"#bd3786\"],[0.5555555555555556,\"#d8576b\"],[0.6666666666666666,\"#ed7953\"],[0.7777777777777778,\"#fb9f3a\"],[0.8888888888888888,\"#fdca26\"],[1.0,\"#f0f921\"]],\"type\":\"heatmapgl\"}],\"histogram\":[{\"marker\":{\"pattern\":{\"fillmode\":\"overlay\",\"size\":10,\"solidity\":0.2}},\"type\":\"histogram\"}],\"histogram2d\":[{\"colorbar\":{\"outlinewidth\":0,\"ticks\":\"\"},\"colorscale\":[[0.0,\"#0d0887\"],[0.1111111111111111,\"#46039f\"],[0.2222222222222222,\"#7201a8\"],[0.3333333333333333,\"#9c179e\"],[0.4444444444444444,\"#bd3786\"],[0.5555555555555556,\"#d8576b\"],[0.6666666666666666,\"#ed7953\"],[0.7777777777777778,\"#fb9f3a\"],[0.8888888888888888,\"#fdca26\"],[1.0,\"#f0f921\"]],\"type\":\"histogram2d\"}],\"histogram2dcontour\":[{\"colorbar\":{\"outlinewidth\":0,\"ticks\":\"\"},\"colorscale\":[[0.0,\"#0d0887\"],[0.1111111111111111,\"#46039f\"],[0.2222222222222222,\"#7201a8\"],[0.3333333333333333,\"#9c179e\"],[0.4444444444444444,\"#bd3786\"],[0.5555555555555556,\"#d8576b\"],[0.6666666666666666,\"#ed7953\"],[0.7777777777777778,\"#fb9f3a\"],[0.8888888888888888,\"#fdca26\"],[1.0,\"#f0f921\"]],\"type\":\"histogram2dcontour\"}],\"mesh3d\":[{\"colorbar\":{\"outlinewidth\":0,\"ticks\":\"\"},\"type\":\"mesh3d\"}],\"parcoords\":[{\"line\":{\"colorbar\":{\"outlinewidth\":0,\"ticks\":\"\"}},\"type\":\"parcoords\"}],\"pie\":[{\"automargin\":true,\"type\":\"pie\"}],\"scatter\":[{\"marker\":{\"colorbar\":{\"outlinewidth\":0,\"ticks\":\"\"}},\"type\":\"scatter\"}],\"scatter3d\":[{\"line\":{\"colorbar\":{\"outlinewidth\":0,\"ticks\":\"\"}},\"marker\":{\"colorbar\":{\"outlinewidth\":0,\"ticks\":\"\"}},\"type\":\"scatter3d\"}],\"scattercarpet\":[{\"marker\":{\"colorbar\":{\"outlinewidth\":0,\"ticks\":\"\"}},\"type\":\"scattercarpet\"}],\"scattergeo\":[{\"marker\":{\"colorbar\":{\"outlinewidth\":0,\"ticks\":\"\"}},\"type\":\"scattergeo\"}],\"scattergl\":[{\"marker\":{\"colorbar\":{\"outlinewidth\":0,\"ticks\":\"\"}},\"type\":\"scattergl\"}],\"scattermapbox\":[{\"marker\":{\"colorbar\":{\"outlinewidth\":0,\"ticks\":\"\"}},\"type\":\"scattermapbox\"}],\"scatterpolar\":[{\"marker\":{\"colorbar\":{\"outlinewidth\":0,\"ticks\":\"\"}},\"type\":\"scatterpolar\"}],\"scatterpolargl\":[{\"marker\":{\"colorbar\":{\"outlinewidth\":0,\"ticks\":\"\"}},\"type\":\"scatterpolargl\"}],\"scatterternary\":[{\"marker\":{\"colorbar\":{\"outlinewidth\":0,\"ticks\":\"\"}},\"type\":\"scatterternary\"}],\"surface\":[{\"colorbar\":{\"outlinewidth\":0,\"ticks\":\"\"},\"colorscale\":[[0.0,\"#0d0887\"],[0.1111111111111111,\"#46039f\"],[0.2222222222222222,\"#7201a8\"],[0.3333333333333333,\"#9c179e\"],[0.4444444444444444,\"#bd3786\"],[0.5555555555555556,\"#d8576b\"],[0.6666666666666666,\"#ed7953\"],[0.7777777777777778,\"#fb9f3a\"],[0.8888888888888888,\"#fdca26\"],[1.0,\"#f0f921\"]],\"type\":\"surface\"}],\"table\":[{\"cells\":{\"fill\":{\"color\":\"#EBF0F8\"},\"line\":{\"color\":\"white\"}},\"header\":{\"fill\":{\"color\":\"#C8D4E3\"},\"line\":{\"color\":\"white\"}},\"type\":\"table\"}]},\"layout\":{\"annotationdefaults\":{\"arrowcolor\":\"#2a3f5f\",\"arrowhead\":0,\"arrowwidth\":1},\"autotypenumbers\":\"strict\",\"coloraxis\":{\"colorbar\":{\"outlinewidth\":0,\"ticks\":\"\"}},\"colorscale\":{\"diverging\":[[0,\"#8e0152\"],[0.1,\"#c51b7d\"],[0.2,\"#de77ae\"],[0.3,\"#f1b6da\"],[0.4,\"#fde0ef\"],[0.5,\"#f7f7f7\"],[0.6,\"#e6f5d0\"],[0.7,\"#b8e186\"],[0.8,\"#7fbc41\"],[0.9,\"#4d9221\"],[1,\"#276419\"]],\"sequential\":[[0.0,\"#0d0887\"],[0.1111111111111111,\"#46039f\"],[0.2222222222222222,\"#7201a8\"],[0.3333333333333333,\"#9c179e\"],[0.4444444444444444,\"#bd3786\"],[0.5555555555555556,\"#d8576b\"],[0.6666666666666666,\"#ed7953\"],[0.7777777777777778,\"#fb9f3a\"],[0.8888888888888888,\"#fdca26\"],[1.0,\"#f0f921\"]],\"sequentialminus\":[[0.0,\"#0d0887\"],[0.1111111111111111,\"#46039f\"],[0.2222222222222222,\"#7201a8\"],[0.3333333333333333,\"#9c179e\"],[0.4444444444444444,\"#bd3786\"],[0.5555555555555556,\"#d8576b\"],[0.6666666666666666,\"#ed7953\"],[0.7777777777777778,\"#fb9f3a\"],[0.8888888888888888,\"#fdca26\"],[1.0,\"#f0f921\"]]},\"colorway\":[\"#636efa\",\"#EF553B\",\"#00cc96\",\"#ab63fa\",\"#FFA15A\",\"#19d3f3\",\"#FF6692\",\"#B6E880\",\"#FF97FF\",\"#FECB52\"],\"font\":{\"color\":\"#2a3f5f\"},\"geo\":{\"bgcolor\":\"white\",\"lakecolor\":\"white\",\"landcolor\":\"#E5ECF6\",\"showlakes\":true,\"showland\":true,\"subunitcolor\":\"white\"},\"hoverlabel\":{\"align\":\"left\"},\"hovermode\":\"closest\",\"mapbox\":{\"style\":\"light\"},\"paper_bgcolor\":\"white\",\"plot_bgcolor\":\"#E5ECF6\",\"polar\":{\"angularaxis\":{\"gridcolor\":\"white\",\"linecolor\":\"white\",\"ticks\":\"\"},\"bgcolor\":\"#E5ECF6\",\"radialaxis\":{\"gridcolor\":\"white\",\"linecolor\":\"white\",\"ticks\":\"\"}},\"scene\":{\"xaxis\":{\"backgroundcolor\":\"#E5ECF6\",\"gridcolor\":\"white\",\"gridwidth\":2,\"linecolor\":\"white\",\"showbackground\":true,\"ticks\":\"\",\"zerolinecolor\":\"white\"},\"yaxis\":{\"backgroundcolor\":\"#E5ECF6\",\"gridcolor\":\"white\",\"gridwidth\":2,\"linecolor\":\"white\",\"showbackground\":true,\"ticks\":\"\",\"zerolinecolor\":\"white\"},\"zaxis\":{\"backgroundcolor\":\"#E5ECF6\",\"gridcolor\":\"white\",\"gridwidth\":2,\"linecolor\":\"white\",\"showbackground\":true,\"ticks\":\"\",\"zerolinecolor\":\"white\"}},\"shapedefaults\":{\"line\":{\"color\":\"#2a3f5f\"}},\"ternary\":{\"aaxis\":{\"gridcolor\":\"white\",\"linecolor\":\"white\",\"ticks\":\"\"},\"baxis\":{\"gridcolor\":\"white\",\"linecolor\":\"white\",\"ticks\":\"\"},\"bgcolor\":\"#E5ECF6\",\"caxis\":{\"gridcolor\":\"white\",\"linecolor\":\"white\",\"ticks\":\"\"}},\"title\":{\"x\":0.05},\"xaxis\":{\"automargin\":true,\"gridcolor\":\"white\",\"linecolor\":\"white\",\"ticks\":\"\",\"title\":{\"standoff\":15},\"zerolinecolor\":\"white\",\"zerolinewidth\":2},\"yaxis\":{\"automargin\":true,\"gridcolor\":\"white\",\"linecolor\":\"white\",\"ticks\":\"\",\"title\":{\"standoff\":15},\"zerolinecolor\":\"white\",\"zerolinewidth\":2}}},\"xaxis\":{\"anchor\":\"y\",\"domain\":[0.0,1.0],\"title\":{\"text\":\"Year\"}},\"yaxis\":{\"anchor\":\"x\",\"domain\":[0.0,1.0],\"title\":{\"text\":\"Beats Per Minute (BPM)\"}},\"legend\":{\"tracegroupgap\":0},\"title\":{\"text\":\"Overall content release Trend\"}},                        {\"responsive\": true}                    ).then(function(){\n",
       "                            \n",
       "var gd = document.getElementById('6cb07dd0-7bcb-4081-ae7f-7de5e5ad147b');\n",
       "var x = new MutationObserver(function (mutations, observer) {{\n",
       "        var display = window.getComputedStyle(gd).display;\n",
       "        if (!display || display === 'none') {{\n",
       "            console.log([gd, 'removed!']);\n",
       "            Plotly.purge(gd);\n",
       "            observer.disconnect();\n",
       "        }}\n",
       "}});\n",
       "\n",
       "// Listen for the removal of the full notebook cells\n",
       "var notebookContainer = gd.closest('#notebook-container');\n",
       "if (notebookContainer) {{\n",
       "    x.observe(notebookContainer, {childList: true});\n",
       "}}\n",
       "\n",
       "// Listen for the clearing of the current output cell\n",
       "var outputEl = gd.closest('.output');\n",
       "if (outputEl) {{\n",
       "    x.observe(outputEl, {childList: true});\n",
       "}}\n",
       "\n",
       "                        })                };                });            </script>        </div>"
      ]
     },
     "metadata": {},
     "output_type": "display_data"
    }
   ],
   "source": [
    "df=spotify_df.query(\"Year>=1800\")\n",
    "df=df.groupby(\"Year\")[\"Beats Per Minute (BPM)\"].count().reset_index()\n",
    "\n",
    "fig=px.area(df,x=\"Year\",y='Beats Per Minute (BPM)',color_discrete_sequence=px.colors.sequential.RdBu,\n",
    "           title=\"Overall content release Trend\")\n",
    "fig.show()\n"
   ]
  },
  {
   "cell_type": "code",
   "execution_count": 73,
   "id": "705c71cb",
   "metadata": {},
   "outputs": [
    {
     "data": {
      "application/vnd.plotly.v1+json": {
       "config": {
        "plotlyServerURL": "https://plot.ly"
       },
       "data": [
        {
         "hovertemplate": "Year=%{x}<br>Top Genre=%{y}<extra></extra>",
         "legendgroup": "",
         "line": {
          "color": "rgb(103,0,31)"
         },
         "marker": {
          "symbol": "circle"
         },
         "mode": "lines",
         "name": "",
         "orientation": "v",
         "showlegend": false,
         "stackgroup": "1",
         "type": "scatter",
         "x": [
          1956,
          1958,
          1959,
          1960,
          1961,
          1962,
          1963,
          1964,
          1965,
          1966,
          1967,
          1968,
          1969,
          1970,
          1971,
          1972,
          1973,
          1974,
          1975,
          1976,
          1977,
          1978,
          1979,
          1980,
          1981,
          1982,
          1983,
          1984,
          1985,
          1986,
          1987,
          1988,
          1989,
          1990,
          1991,
          1992,
          1993,
          1994,
          1995,
          1996,
          1997,
          1998,
          1999,
          2000,
          2001,
          2002,
          2003,
          2004,
          2005,
          2006,
          2007,
          2008,
          2009,
          2010,
          2011,
          2012,
          2013,
          2014,
          2015,
          2016,
          2017,
          2018,
          2019
         ],
         "xaxis": "x",
         "y": [
          1,
          5,
          3,
          1,
          1,
          3,
          7,
          9,
          15,
          20,
          37,
          27,
          38,
          40,
          43,
          29,
          29,
          23,
          36,
          31,
          51,
          31,
          40,
          37,
          15,
          32,
          30,
          44,
          34,
          42,
          46,
          30,
          34,
          19,
          52,
          35,
          28,
          25,
          39,
          24,
          35,
          45,
          29,
          33,
          30,
          47,
          28,
          45,
          44,
          40,
          36,
          54,
          43,
          33,
          46,
          41,
          41,
          43,
          42,
          35,
          45,
          52,
          21
         ],
         "yaxis": "y"
        }
       ],
       "layout": {
        "legend": {
         "tracegroupgap": 0
        },
        "template": {
         "data": {
          "bar": [
           {
            "error_x": {
             "color": "#2a3f5f"
            },
            "error_y": {
             "color": "#2a3f5f"
            },
            "marker": {
             "line": {
              "color": "#E5ECF6",
              "width": 0.5
             },
             "pattern": {
              "fillmode": "overlay",
              "size": 10,
              "solidity": 0.2
             }
            },
            "type": "bar"
           }
          ],
          "barpolar": [
           {
            "marker": {
             "line": {
              "color": "#E5ECF6",
              "width": 0.5
             },
             "pattern": {
              "fillmode": "overlay",
              "size": 10,
              "solidity": 0.2
             }
            },
            "type": "barpolar"
           }
          ],
          "carpet": [
           {
            "aaxis": {
             "endlinecolor": "#2a3f5f",
             "gridcolor": "white",
             "linecolor": "white",
             "minorgridcolor": "white",
             "startlinecolor": "#2a3f5f"
            },
            "baxis": {
             "endlinecolor": "#2a3f5f",
             "gridcolor": "white",
             "linecolor": "white",
             "minorgridcolor": "white",
             "startlinecolor": "#2a3f5f"
            },
            "type": "carpet"
           }
          ],
          "choropleth": [
           {
            "colorbar": {
             "outlinewidth": 0,
             "ticks": ""
            },
            "type": "choropleth"
           }
          ],
          "contour": [
           {
            "colorbar": {
             "outlinewidth": 0,
             "ticks": ""
            },
            "colorscale": [
             [
              0,
              "#0d0887"
             ],
             [
              0.1111111111111111,
              "#46039f"
             ],
             [
              0.2222222222222222,
              "#7201a8"
             ],
             [
              0.3333333333333333,
              "#9c179e"
             ],
             [
              0.4444444444444444,
              "#bd3786"
             ],
             [
              0.5555555555555556,
              "#d8576b"
             ],
             [
              0.6666666666666666,
              "#ed7953"
             ],
             [
              0.7777777777777778,
              "#fb9f3a"
             ],
             [
              0.8888888888888888,
              "#fdca26"
             ],
             [
              1,
              "#f0f921"
             ]
            ],
            "type": "contour"
           }
          ],
          "contourcarpet": [
           {
            "colorbar": {
             "outlinewidth": 0,
             "ticks": ""
            },
            "type": "contourcarpet"
           }
          ],
          "heatmap": [
           {
            "colorbar": {
             "outlinewidth": 0,
             "ticks": ""
            },
            "colorscale": [
             [
              0,
              "#0d0887"
             ],
             [
              0.1111111111111111,
              "#46039f"
             ],
             [
              0.2222222222222222,
              "#7201a8"
             ],
             [
              0.3333333333333333,
              "#9c179e"
             ],
             [
              0.4444444444444444,
              "#bd3786"
             ],
             [
              0.5555555555555556,
              "#d8576b"
             ],
             [
              0.6666666666666666,
              "#ed7953"
             ],
             [
              0.7777777777777778,
              "#fb9f3a"
             ],
             [
              0.8888888888888888,
              "#fdca26"
             ],
             [
              1,
              "#f0f921"
             ]
            ],
            "type": "heatmap"
           }
          ],
          "heatmapgl": [
           {
            "colorbar": {
             "outlinewidth": 0,
             "ticks": ""
            },
            "colorscale": [
             [
              0,
              "#0d0887"
             ],
             [
              0.1111111111111111,
              "#46039f"
             ],
             [
              0.2222222222222222,
              "#7201a8"
             ],
             [
              0.3333333333333333,
              "#9c179e"
             ],
             [
              0.4444444444444444,
              "#bd3786"
             ],
             [
              0.5555555555555556,
              "#d8576b"
             ],
             [
              0.6666666666666666,
              "#ed7953"
             ],
             [
              0.7777777777777778,
              "#fb9f3a"
             ],
             [
              0.8888888888888888,
              "#fdca26"
             ],
             [
              1,
              "#f0f921"
             ]
            ],
            "type": "heatmapgl"
           }
          ],
          "histogram": [
           {
            "marker": {
             "pattern": {
              "fillmode": "overlay",
              "size": 10,
              "solidity": 0.2
             }
            },
            "type": "histogram"
           }
          ],
          "histogram2d": [
           {
            "colorbar": {
             "outlinewidth": 0,
             "ticks": ""
            },
            "colorscale": [
             [
              0,
              "#0d0887"
             ],
             [
              0.1111111111111111,
              "#46039f"
             ],
             [
              0.2222222222222222,
              "#7201a8"
             ],
             [
              0.3333333333333333,
              "#9c179e"
             ],
             [
              0.4444444444444444,
              "#bd3786"
             ],
             [
              0.5555555555555556,
              "#d8576b"
             ],
             [
              0.6666666666666666,
              "#ed7953"
             ],
             [
              0.7777777777777778,
              "#fb9f3a"
             ],
             [
              0.8888888888888888,
              "#fdca26"
             ],
             [
              1,
              "#f0f921"
             ]
            ],
            "type": "histogram2d"
           }
          ],
          "histogram2dcontour": [
           {
            "colorbar": {
             "outlinewidth": 0,
             "ticks": ""
            },
            "colorscale": [
             [
              0,
              "#0d0887"
             ],
             [
              0.1111111111111111,
              "#46039f"
             ],
             [
              0.2222222222222222,
              "#7201a8"
             ],
             [
              0.3333333333333333,
              "#9c179e"
             ],
             [
              0.4444444444444444,
              "#bd3786"
             ],
             [
              0.5555555555555556,
              "#d8576b"
             ],
             [
              0.6666666666666666,
              "#ed7953"
             ],
             [
              0.7777777777777778,
              "#fb9f3a"
             ],
             [
              0.8888888888888888,
              "#fdca26"
             ],
             [
              1,
              "#f0f921"
             ]
            ],
            "type": "histogram2dcontour"
           }
          ],
          "mesh3d": [
           {
            "colorbar": {
             "outlinewidth": 0,
             "ticks": ""
            },
            "type": "mesh3d"
           }
          ],
          "parcoords": [
           {
            "line": {
             "colorbar": {
              "outlinewidth": 0,
              "ticks": ""
             }
            },
            "type": "parcoords"
           }
          ],
          "pie": [
           {
            "automargin": true,
            "type": "pie"
           }
          ],
          "scatter": [
           {
            "marker": {
             "colorbar": {
              "outlinewidth": 0,
              "ticks": ""
             }
            },
            "type": "scatter"
           }
          ],
          "scatter3d": [
           {
            "line": {
             "colorbar": {
              "outlinewidth": 0,
              "ticks": ""
             }
            },
            "marker": {
             "colorbar": {
              "outlinewidth": 0,
              "ticks": ""
             }
            },
            "type": "scatter3d"
           }
          ],
          "scattercarpet": [
           {
            "marker": {
             "colorbar": {
              "outlinewidth": 0,
              "ticks": ""
             }
            },
            "type": "scattercarpet"
           }
          ],
          "scattergeo": [
           {
            "marker": {
             "colorbar": {
              "outlinewidth": 0,
              "ticks": ""
             }
            },
            "type": "scattergeo"
           }
          ],
          "scattergl": [
           {
            "marker": {
             "colorbar": {
              "outlinewidth": 0,
              "ticks": ""
             }
            },
            "type": "scattergl"
           }
          ],
          "scattermapbox": [
           {
            "marker": {
             "colorbar": {
              "outlinewidth": 0,
              "ticks": ""
             }
            },
            "type": "scattermapbox"
           }
          ],
          "scatterpolar": [
           {
            "marker": {
             "colorbar": {
              "outlinewidth": 0,
              "ticks": ""
             }
            },
            "type": "scatterpolar"
           }
          ],
          "scatterpolargl": [
           {
            "marker": {
             "colorbar": {
              "outlinewidth": 0,
              "ticks": ""
             }
            },
            "type": "scatterpolargl"
           }
          ],
          "scatterternary": [
           {
            "marker": {
             "colorbar": {
              "outlinewidth": 0,
              "ticks": ""
             }
            },
            "type": "scatterternary"
           }
          ],
          "surface": [
           {
            "colorbar": {
             "outlinewidth": 0,
             "ticks": ""
            },
            "colorscale": [
             [
              0,
              "#0d0887"
             ],
             [
              0.1111111111111111,
              "#46039f"
             ],
             [
              0.2222222222222222,
              "#7201a8"
             ],
             [
              0.3333333333333333,
              "#9c179e"
             ],
             [
              0.4444444444444444,
              "#bd3786"
             ],
             [
              0.5555555555555556,
              "#d8576b"
             ],
             [
              0.6666666666666666,
              "#ed7953"
             ],
             [
              0.7777777777777778,
              "#fb9f3a"
             ],
             [
              0.8888888888888888,
              "#fdca26"
             ],
             [
              1,
              "#f0f921"
             ]
            ],
            "type": "surface"
           }
          ],
          "table": [
           {
            "cells": {
             "fill": {
              "color": "#EBF0F8"
             },
             "line": {
              "color": "white"
             }
            },
            "header": {
             "fill": {
              "color": "#C8D4E3"
             },
             "line": {
              "color": "white"
             }
            },
            "type": "table"
           }
          ]
         },
         "layout": {
          "annotationdefaults": {
           "arrowcolor": "#2a3f5f",
           "arrowhead": 0,
           "arrowwidth": 1
          },
          "autotypenumbers": "strict",
          "coloraxis": {
           "colorbar": {
            "outlinewidth": 0,
            "ticks": ""
           }
          },
          "colorscale": {
           "diverging": [
            [
             0,
             "#8e0152"
            ],
            [
             0.1,
             "#c51b7d"
            ],
            [
             0.2,
             "#de77ae"
            ],
            [
             0.3,
             "#f1b6da"
            ],
            [
             0.4,
             "#fde0ef"
            ],
            [
             0.5,
             "#f7f7f7"
            ],
            [
             0.6,
             "#e6f5d0"
            ],
            [
             0.7,
             "#b8e186"
            ],
            [
             0.8,
             "#7fbc41"
            ],
            [
             0.9,
             "#4d9221"
            ],
            [
             1,
             "#276419"
            ]
           ],
           "sequential": [
            [
             0,
             "#0d0887"
            ],
            [
             0.1111111111111111,
             "#46039f"
            ],
            [
             0.2222222222222222,
             "#7201a8"
            ],
            [
             0.3333333333333333,
             "#9c179e"
            ],
            [
             0.4444444444444444,
             "#bd3786"
            ],
            [
             0.5555555555555556,
             "#d8576b"
            ],
            [
             0.6666666666666666,
             "#ed7953"
            ],
            [
             0.7777777777777778,
             "#fb9f3a"
            ],
            [
             0.8888888888888888,
             "#fdca26"
            ],
            [
             1,
             "#f0f921"
            ]
           ],
           "sequentialminus": [
            [
             0,
             "#0d0887"
            ],
            [
             0.1111111111111111,
             "#46039f"
            ],
            [
             0.2222222222222222,
             "#7201a8"
            ],
            [
             0.3333333333333333,
             "#9c179e"
            ],
            [
             0.4444444444444444,
             "#bd3786"
            ],
            [
             0.5555555555555556,
             "#d8576b"
            ],
            [
             0.6666666666666666,
             "#ed7953"
            ],
            [
             0.7777777777777778,
             "#fb9f3a"
            ],
            [
             0.8888888888888888,
             "#fdca26"
            ],
            [
             1,
             "#f0f921"
            ]
           ]
          },
          "colorway": [
           "#636efa",
           "#EF553B",
           "#00cc96",
           "#ab63fa",
           "#FFA15A",
           "#19d3f3",
           "#FF6692",
           "#B6E880",
           "#FF97FF",
           "#FECB52"
          ],
          "font": {
           "color": "#2a3f5f"
          },
          "geo": {
           "bgcolor": "white",
           "lakecolor": "white",
           "landcolor": "#E5ECF6",
           "showlakes": true,
           "showland": true,
           "subunitcolor": "white"
          },
          "hoverlabel": {
           "align": "left"
          },
          "hovermode": "closest",
          "mapbox": {
           "style": "light"
          },
          "paper_bgcolor": "white",
          "plot_bgcolor": "#E5ECF6",
          "polar": {
           "angularaxis": {
            "gridcolor": "white",
            "linecolor": "white",
            "ticks": ""
           },
           "bgcolor": "#E5ECF6",
           "radialaxis": {
            "gridcolor": "white",
            "linecolor": "white",
            "ticks": ""
           }
          },
          "scene": {
           "xaxis": {
            "backgroundcolor": "#E5ECF6",
            "gridcolor": "white",
            "gridwidth": 2,
            "linecolor": "white",
            "showbackground": true,
            "ticks": "",
            "zerolinecolor": "white"
           },
           "yaxis": {
            "backgroundcolor": "#E5ECF6",
            "gridcolor": "white",
            "gridwidth": 2,
            "linecolor": "white",
            "showbackground": true,
            "ticks": "",
            "zerolinecolor": "white"
           },
           "zaxis": {
            "backgroundcolor": "#E5ECF6",
            "gridcolor": "white",
            "gridwidth": 2,
            "linecolor": "white",
            "showbackground": true,
            "ticks": "",
            "zerolinecolor": "white"
           }
          },
          "shapedefaults": {
           "line": {
            "color": "#2a3f5f"
           }
          },
          "ternary": {
           "aaxis": {
            "gridcolor": "white",
            "linecolor": "white",
            "ticks": ""
           },
           "baxis": {
            "gridcolor": "white",
            "linecolor": "white",
            "ticks": ""
           },
           "bgcolor": "#E5ECF6",
           "caxis": {
            "gridcolor": "white",
            "linecolor": "white",
            "ticks": ""
           }
          },
          "title": {
           "x": 0.05
          },
          "xaxis": {
           "automargin": true,
           "gridcolor": "white",
           "linecolor": "white",
           "ticks": "",
           "title": {
            "standoff": 15
           },
           "zerolinecolor": "white",
           "zerolinewidth": 2
          },
          "yaxis": {
           "automargin": true,
           "gridcolor": "white",
           "linecolor": "white",
           "ticks": "",
           "title": {
            "standoff": 15
           },
           "zerolinecolor": "white",
           "zerolinewidth": 2
          }
         }
        },
        "title": {
         "text": "Overall content release Trend"
        },
        "xaxis": {
         "anchor": "y",
         "domain": [
          0,
          1
         ],
         "title": {
          "text": "Year"
         }
        },
        "yaxis": {
         "anchor": "x",
         "domain": [
          0,
          1
         ],
         "title": {
          "text": "Top Genre"
         }
        }
       }
      },
      "text/html": [
       "<div>                            <div id=\"e17fea63-0862-4614-ba28-f76afe9ea0ce\" class=\"plotly-graph-div\" style=\"height:525px; width:100%;\"></div>            <script type=\"text/javascript\">                require([\"plotly\"], function(Plotly) {                    window.PLOTLYENV=window.PLOTLYENV || {};                                    if (document.getElementById(\"e17fea63-0862-4614-ba28-f76afe9ea0ce\")) {                    Plotly.newPlot(                        \"e17fea63-0862-4614-ba28-f76afe9ea0ce\",                        [{\"hovertemplate\":\"Year=%{x}<br>Top Genre=%{y}<extra></extra>\",\"legendgroup\":\"\",\"line\":{\"color\":\"rgb(103,0,31)\"},\"marker\":{\"symbol\":\"circle\"},\"mode\":\"lines\",\"name\":\"\",\"orientation\":\"v\",\"showlegend\":false,\"stackgroup\":\"1\",\"x\":[1956,1958,1959,1960,1961,1962,1963,1964,1965,1966,1967,1968,1969,1970,1971,1972,1973,1974,1975,1976,1977,1978,1979,1980,1981,1982,1983,1984,1985,1986,1987,1988,1989,1990,1991,1992,1993,1994,1995,1996,1997,1998,1999,2000,2001,2002,2003,2004,2005,2006,2007,2008,2009,2010,2011,2012,2013,2014,2015,2016,2017,2018,2019],\"xaxis\":\"x\",\"y\":[1,5,3,1,1,3,7,9,15,20,37,27,38,40,43,29,29,23,36,31,51,31,40,37,15,32,30,44,34,42,46,30,34,19,52,35,28,25,39,24,35,45,29,33,30,47,28,45,44,40,36,54,43,33,46,41,41,43,42,35,45,52,21],\"yaxis\":\"y\",\"type\":\"scatter\"}],                        {\"template\":{\"data\":{\"bar\":[{\"error_x\":{\"color\":\"#2a3f5f\"},\"error_y\":{\"color\":\"#2a3f5f\"},\"marker\":{\"line\":{\"color\":\"#E5ECF6\",\"width\":0.5},\"pattern\":{\"fillmode\":\"overlay\",\"size\":10,\"solidity\":0.2}},\"type\":\"bar\"}],\"barpolar\":[{\"marker\":{\"line\":{\"color\":\"#E5ECF6\",\"width\":0.5},\"pattern\":{\"fillmode\":\"overlay\",\"size\":10,\"solidity\":0.2}},\"type\":\"barpolar\"}],\"carpet\":[{\"aaxis\":{\"endlinecolor\":\"#2a3f5f\",\"gridcolor\":\"white\",\"linecolor\":\"white\",\"minorgridcolor\":\"white\",\"startlinecolor\":\"#2a3f5f\"},\"baxis\":{\"endlinecolor\":\"#2a3f5f\",\"gridcolor\":\"white\",\"linecolor\":\"white\",\"minorgridcolor\":\"white\",\"startlinecolor\":\"#2a3f5f\"},\"type\":\"carpet\"}],\"choropleth\":[{\"colorbar\":{\"outlinewidth\":0,\"ticks\":\"\"},\"type\":\"choropleth\"}],\"contour\":[{\"colorbar\":{\"outlinewidth\":0,\"ticks\":\"\"},\"colorscale\":[[0.0,\"#0d0887\"],[0.1111111111111111,\"#46039f\"],[0.2222222222222222,\"#7201a8\"],[0.3333333333333333,\"#9c179e\"],[0.4444444444444444,\"#bd3786\"],[0.5555555555555556,\"#d8576b\"],[0.6666666666666666,\"#ed7953\"],[0.7777777777777778,\"#fb9f3a\"],[0.8888888888888888,\"#fdca26\"],[1.0,\"#f0f921\"]],\"type\":\"contour\"}],\"contourcarpet\":[{\"colorbar\":{\"outlinewidth\":0,\"ticks\":\"\"},\"type\":\"contourcarpet\"}],\"heatmap\":[{\"colorbar\":{\"outlinewidth\":0,\"ticks\":\"\"},\"colorscale\":[[0.0,\"#0d0887\"],[0.1111111111111111,\"#46039f\"],[0.2222222222222222,\"#7201a8\"],[0.3333333333333333,\"#9c179e\"],[0.4444444444444444,\"#bd3786\"],[0.5555555555555556,\"#d8576b\"],[0.6666666666666666,\"#ed7953\"],[0.7777777777777778,\"#fb9f3a\"],[0.8888888888888888,\"#fdca26\"],[1.0,\"#f0f921\"]],\"type\":\"heatmap\"}],\"heatmapgl\":[{\"colorbar\":{\"outlinewidth\":0,\"ticks\":\"\"},\"colorscale\":[[0.0,\"#0d0887\"],[0.1111111111111111,\"#46039f\"],[0.2222222222222222,\"#7201a8\"],[0.3333333333333333,\"#9c179e\"],[0.4444444444444444,\"#bd3786\"],[0.5555555555555556,\"#d8576b\"],[0.6666666666666666,\"#ed7953\"],[0.7777777777777778,\"#fb9f3a\"],[0.8888888888888888,\"#fdca26\"],[1.0,\"#f0f921\"]],\"type\":\"heatmapgl\"}],\"histogram\":[{\"marker\":{\"pattern\":{\"fillmode\":\"overlay\",\"size\":10,\"solidity\":0.2}},\"type\":\"histogram\"}],\"histogram2d\":[{\"colorbar\":{\"outlinewidth\":0,\"ticks\":\"\"},\"colorscale\":[[0.0,\"#0d0887\"],[0.1111111111111111,\"#46039f\"],[0.2222222222222222,\"#7201a8\"],[0.3333333333333333,\"#9c179e\"],[0.4444444444444444,\"#bd3786\"],[0.5555555555555556,\"#d8576b\"],[0.6666666666666666,\"#ed7953\"],[0.7777777777777778,\"#fb9f3a\"],[0.8888888888888888,\"#fdca26\"],[1.0,\"#f0f921\"]],\"type\":\"histogram2d\"}],\"histogram2dcontour\":[{\"colorbar\":{\"outlinewidth\":0,\"ticks\":\"\"},\"colorscale\":[[0.0,\"#0d0887\"],[0.1111111111111111,\"#46039f\"],[0.2222222222222222,\"#7201a8\"],[0.3333333333333333,\"#9c179e\"],[0.4444444444444444,\"#bd3786\"],[0.5555555555555556,\"#d8576b\"],[0.6666666666666666,\"#ed7953\"],[0.7777777777777778,\"#fb9f3a\"],[0.8888888888888888,\"#fdca26\"],[1.0,\"#f0f921\"]],\"type\":\"histogram2dcontour\"}],\"mesh3d\":[{\"colorbar\":{\"outlinewidth\":0,\"ticks\":\"\"},\"type\":\"mesh3d\"}],\"parcoords\":[{\"line\":{\"colorbar\":{\"outlinewidth\":0,\"ticks\":\"\"}},\"type\":\"parcoords\"}],\"pie\":[{\"automargin\":true,\"type\":\"pie\"}],\"scatter\":[{\"marker\":{\"colorbar\":{\"outlinewidth\":0,\"ticks\":\"\"}},\"type\":\"scatter\"}],\"scatter3d\":[{\"line\":{\"colorbar\":{\"outlinewidth\":0,\"ticks\":\"\"}},\"marker\":{\"colorbar\":{\"outlinewidth\":0,\"ticks\":\"\"}},\"type\":\"scatter3d\"}],\"scattercarpet\":[{\"marker\":{\"colorbar\":{\"outlinewidth\":0,\"ticks\":\"\"}},\"type\":\"scattercarpet\"}],\"scattergeo\":[{\"marker\":{\"colorbar\":{\"outlinewidth\":0,\"ticks\":\"\"}},\"type\":\"scattergeo\"}],\"scattergl\":[{\"marker\":{\"colorbar\":{\"outlinewidth\":0,\"ticks\":\"\"}},\"type\":\"scattergl\"}],\"scattermapbox\":[{\"marker\":{\"colorbar\":{\"outlinewidth\":0,\"ticks\":\"\"}},\"type\":\"scattermapbox\"}],\"scatterpolar\":[{\"marker\":{\"colorbar\":{\"outlinewidth\":0,\"ticks\":\"\"}},\"type\":\"scatterpolar\"}],\"scatterpolargl\":[{\"marker\":{\"colorbar\":{\"outlinewidth\":0,\"ticks\":\"\"}},\"type\":\"scatterpolargl\"}],\"scatterternary\":[{\"marker\":{\"colorbar\":{\"outlinewidth\":0,\"ticks\":\"\"}},\"type\":\"scatterternary\"}],\"surface\":[{\"colorbar\":{\"outlinewidth\":0,\"ticks\":\"\"},\"colorscale\":[[0.0,\"#0d0887\"],[0.1111111111111111,\"#46039f\"],[0.2222222222222222,\"#7201a8\"],[0.3333333333333333,\"#9c179e\"],[0.4444444444444444,\"#bd3786\"],[0.5555555555555556,\"#d8576b\"],[0.6666666666666666,\"#ed7953\"],[0.7777777777777778,\"#fb9f3a\"],[0.8888888888888888,\"#fdca26\"],[1.0,\"#f0f921\"]],\"type\":\"surface\"}],\"table\":[{\"cells\":{\"fill\":{\"color\":\"#EBF0F8\"},\"line\":{\"color\":\"white\"}},\"header\":{\"fill\":{\"color\":\"#C8D4E3\"},\"line\":{\"color\":\"white\"}},\"type\":\"table\"}]},\"layout\":{\"annotationdefaults\":{\"arrowcolor\":\"#2a3f5f\",\"arrowhead\":0,\"arrowwidth\":1},\"autotypenumbers\":\"strict\",\"coloraxis\":{\"colorbar\":{\"outlinewidth\":0,\"ticks\":\"\"}},\"colorscale\":{\"diverging\":[[0,\"#8e0152\"],[0.1,\"#c51b7d\"],[0.2,\"#de77ae\"],[0.3,\"#f1b6da\"],[0.4,\"#fde0ef\"],[0.5,\"#f7f7f7\"],[0.6,\"#e6f5d0\"],[0.7,\"#b8e186\"],[0.8,\"#7fbc41\"],[0.9,\"#4d9221\"],[1,\"#276419\"]],\"sequential\":[[0.0,\"#0d0887\"],[0.1111111111111111,\"#46039f\"],[0.2222222222222222,\"#7201a8\"],[0.3333333333333333,\"#9c179e\"],[0.4444444444444444,\"#bd3786\"],[0.5555555555555556,\"#d8576b\"],[0.6666666666666666,\"#ed7953\"],[0.7777777777777778,\"#fb9f3a\"],[0.8888888888888888,\"#fdca26\"],[1.0,\"#f0f921\"]],\"sequentialminus\":[[0.0,\"#0d0887\"],[0.1111111111111111,\"#46039f\"],[0.2222222222222222,\"#7201a8\"],[0.3333333333333333,\"#9c179e\"],[0.4444444444444444,\"#bd3786\"],[0.5555555555555556,\"#d8576b\"],[0.6666666666666666,\"#ed7953\"],[0.7777777777777778,\"#fb9f3a\"],[0.8888888888888888,\"#fdca26\"],[1.0,\"#f0f921\"]]},\"colorway\":[\"#636efa\",\"#EF553B\",\"#00cc96\",\"#ab63fa\",\"#FFA15A\",\"#19d3f3\",\"#FF6692\",\"#B6E880\",\"#FF97FF\",\"#FECB52\"],\"font\":{\"color\":\"#2a3f5f\"},\"geo\":{\"bgcolor\":\"white\",\"lakecolor\":\"white\",\"landcolor\":\"#E5ECF6\",\"showlakes\":true,\"showland\":true,\"subunitcolor\":\"white\"},\"hoverlabel\":{\"align\":\"left\"},\"hovermode\":\"closest\",\"mapbox\":{\"style\":\"light\"},\"paper_bgcolor\":\"white\",\"plot_bgcolor\":\"#E5ECF6\",\"polar\":{\"angularaxis\":{\"gridcolor\":\"white\",\"linecolor\":\"white\",\"ticks\":\"\"},\"bgcolor\":\"#E5ECF6\",\"radialaxis\":{\"gridcolor\":\"white\",\"linecolor\":\"white\",\"ticks\":\"\"}},\"scene\":{\"xaxis\":{\"backgroundcolor\":\"#E5ECF6\",\"gridcolor\":\"white\",\"gridwidth\":2,\"linecolor\":\"white\",\"showbackground\":true,\"ticks\":\"\",\"zerolinecolor\":\"white\"},\"yaxis\":{\"backgroundcolor\":\"#E5ECF6\",\"gridcolor\":\"white\",\"gridwidth\":2,\"linecolor\":\"white\",\"showbackground\":true,\"ticks\":\"\",\"zerolinecolor\":\"white\"},\"zaxis\":{\"backgroundcolor\":\"#E5ECF6\",\"gridcolor\":\"white\",\"gridwidth\":2,\"linecolor\":\"white\",\"showbackground\":true,\"ticks\":\"\",\"zerolinecolor\":\"white\"}},\"shapedefaults\":{\"line\":{\"color\":\"#2a3f5f\"}},\"ternary\":{\"aaxis\":{\"gridcolor\":\"white\",\"linecolor\":\"white\",\"ticks\":\"\"},\"baxis\":{\"gridcolor\":\"white\",\"linecolor\":\"white\",\"ticks\":\"\"},\"bgcolor\":\"#E5ECF6\",\"caxis\":{\"gridcolor\":\"white\",\"linecolor\":\"white\",\"ticks\":\"\"}},\"title\":{\"x\":0.05},\"xaxis\":{\"automargin\":true,\"gridcolor\":\"white\",\"linecolor\":\"white\",\"ticks\":\"\",\"title\":{\"standoff\":15},\"zerolinecolor\":\"white\",\"zerolinewidth\":2},\"yaxis\":{\"automargin\":true,\"gridcolor\":\"white\",\"linecolor\":\"white\",\"ticks\":\"\",\"title\":{\"standoff\":15},\"zerolinecolor\":\"white\",\"zerolinewidth\":2}}},\"xaxis\":{\"anchor\":\"y\",\"domain\":[0.0,1.0],\"title\":{\"text\":\"Year\"}},\"yaxis\":{\"anchor\":\"x\",\"domain\":[0.0,1.0],\"title\":{\"text\":\"Top Genre\"}},\"legend\":{\"tracegroupgap\":0},\"title\":{\"text\":\"Overall content release Trend\"}},                        {\"responsive\": true}                    ).then(function(){\n",
       "                            \n",
       "var gd = document.getElementById('e17fea63-0862-4614-ba28-f76afe9ea0ce');\n",
       "var x = new MutationObserver(function (mutations, observer) {{\n",
       "        var display = window.getComputedStyle(gd).display;\n",
       "        if (!display || display === 'none') {{\n",
       "            console.log([gd, 'removed!']);\n",
       "            Plotly.purge(gd);\n",
       "            observer.disconnect();\n",
       "        }}\n",
       "}});\n",
       "\n",
       "// Listen for the removal of the full notebook cells\n",
       "var notebookContainer = gd.closest('#notebook-container');\n",
       "if (notebookContainer) {{\n",
       "    x.observe(notebookContainer, {childList: true});\n",
       "}}\n",
       "\n",
       "// Listen for the clearing of the current output cell\n",
       "var outputEl = gd.closest('.output');\n",
       "if (outputEl) {{\n",
       "    x.observe(outputEl, {childList: true});\n",
       "}}\n",
       "\n",
       "                        })                };                });            </script>        </div>"
      ]
     },
     "metadata": {},
     "output_type": "display_data"
    }
   ],
   "source": [
    "df=spotify_df.query(\"Year>=1800\")\n",
    "df=df.groupby(\"Year\")[\"Top Genre\"].count().reset_index()\n",
    "\n",
    "fig=px.area(df,x=\"Year\",y='Top Genre',color_discrete_sequence=px.colors.sequential.RdBu,\n",
    "           title=\"Overall content release Trend\")\n",
    "fig.show()\n"
   ]
  },
  {
   "cell_type": "code",
   "execution_count": null,
   "id": "f48460f8",
   "metadata": {},
   "outputs": [],
   "source": [
    "z=spotify_df.groupby([\"\"])"
   ]
  },
  {
   "cell_type": "code",
   "execution_count": 77,
   "id": "a220a9cc",
   "metadata": {},
   "outputs": [],
   "source": [
    "most_popular=spotify_df.query(\"Year>2000\",inplace=False).sort_values(\"Popularity\",ascending=False)\n",
    "\n",
    "less_popular=spotify_df.query(\"Year<=2000\",inplace=False).sort_values(\"Popularity\",ascending=False)\n",
    "dos=['most_popular','less_popular']\n"
   ]
  },
  {
   "cell_type": "code",
   "execution_count": null,
   "id": "5b3d0bfe",
   "metadata": {},
   "outputs": [],
   "source": [
    "z=spotify_df.groupby(\"Year\").size().reset_index(name=\"counts\")\n",
    "pieChart=px.pie(z,values='counts',names=\"Year\",\n",
    "               title=\"Distibution of Content Ratings on Netflix\")\n",
    "pieChart.show()"
   ]
  },
  {
   "cell_type": "code",
   "execution_count": 11,
   "id": "8b47e364",
   "metadata": {},
   "outputs": [
    {
     "data": {
      "image/png": "[encoded data removed]",
      "text/plain": [
       "<Figure size 432x432 with 3 Axes>"
      ]
     },
     "metadata": {
      "needs_background": "light"
     },
     "output_type": "display_data"
    }
   ],
   "source": [
    "sns.jointplot(x=\"Popularity\",y='Year',data=spotify_df,kind='reg')\n",
    "plt.show()"
   ]
  },
  {
   "cell_type": "code",
   "execution_count": 13,
   "id": "4c0771e8",
   "metadata": {},
   "outputs": [
    {
     "data": {
      "image/png": "[encoded data removed]",
      "text/plain": [
       "<Figure size 720x360 with 1 Axes>"
      ]
     },
     "metadata": {
      "needs_background": "light"
     },
     "output_type": "display_data"
    }
   ],
   "source": [
    "plt.figure(figsize=(10,5))\n",
    "plt.xlim(0,2000)\n",
    "plt.xlabel('Popularity')\n",
    "plt.ylabel('Year')\n",
    "sns.kdeplot(spotify_df['Popularity'],shade=True)\n",
    "plt.show()"
   ]
  },
  {
   "cell_type": "code",
   "execution_count": null,
   "id": "6719022e",
   "metadata": {},
   "outputs": [],
   "source": []
  }
 ],
 "metadata": {
  "kernelspec": {
   "display_name": "Python 3",
   "language": "python",
   "name": "python3"
  },
  "language_info": {
   "codemirror_mode": {
    "name": "ipython",
    "version": 3
   },
   "file_extension": ".py",
   "mimetype": "text/x-python",
   "name": "python",
   "nbconvert_exporter": "python",
   "pygments_lexer": "ipython3",
   "version": "3.8.8"
  }
 },
 "nbformat": 4,
 "nbformat_minor": 5
}
