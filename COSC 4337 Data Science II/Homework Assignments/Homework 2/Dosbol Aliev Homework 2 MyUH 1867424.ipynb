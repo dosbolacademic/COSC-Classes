{
 "cells": [
  {
   "cell_type": "markdown",
   "id": "9e9b9b38",
   "metadata": {},
   "source": [
    "# <center>Homework 2 Intro to Tensorflow</center>\n"
   ]
  },
  {
   "cell_type": "markdown",
   "id": "e2cbb684",
   "metadata": {},
   "source": [
    "# <center>COSC 4337</center>\n"
   ]
  },
  {
   "cell_type": "markdown",
   "id": "c7eb2f00",
   "metadata": {},
   "source": [
    "# <center>Dr. Rizk</center>"
   ]
  },
  {
   "cell_type": "markdown",
   "id": "7a8a95c8",
   "metadata": {},
   "source": [
    "# <center>Dosbol Aliev</center>"
   ]
  },
  {
   "cell_type": "markdown",
   "id": "6c527570",
   "metadata": {},
   "source": [
    "# <center>MyUH 1867424</center>"
   ]
  },
  {
   "cell_type": "markdown",
   "id": "19854ce2",
   "metadata": {},
   "source": [
    "### Introduction\n"
   ]
  },
  {
   "cell_type": "markdown",
   "id": "b81eec88",
   "metadata": {},
   "source": [
    "Until now, you may have used sklearn or numpy to build neural networks. Now we will\n",
    "step you through a deep learning framework that will allow you to build neural networks\n",
    "more easily. Machine learning frameworks like TensorFlow, Torch, Caffe, Keras, and\n",
    "many others can speed up your machine learning development significantly. All of these\n",
    "frameworks also have a lot of documentation, which you should feel free to read. In this\n",
    "assignment, you will learn to do the following in TensorFlow:<br>\n",
    "    \n",
    "● Initialize variables<br>\n",
    "● Perform operations with tensors<br>\n",
    "● Implement a Neural Network<br>\n",
    "Programing frameworks can not only shorten your coding time, but sometimes also<br>\n",
    "perform optimizations that speed up your code."
   ]
  },
  {
   "cell_type": "markdown",
   "id": "f5b2cba7",
   "metadata": {},
   "source": [
    "# <center>1 - Exploring the Tensorflow Library</center>"
   ]
  },
  {
   "cell_type": "markdown",
   "id": "562134be",
   "metadata": {},
   "source": [
    "To begin, you will need the following imports"
   ]
  },
  {
   "cell_type": "code",
   "execution_count": 1,
   "id": "62d964b1",
   "metadata": {},
   "outputs": [],
   "source": [
    "# Importing all needed libraries to our Jupiter Notebook\n",
    "import math\n",
    "import numpy as np\n",
    "import matplotlib.pyplot as plt\n",
    "import tensorflow as tf\n",
    "\n",
    "import warnings\n",
    "warnings.filterwarnings(\"ignore\") # Ignoring Warnings\n",
    "np.random.seed(1)"
   ]
  },
  {
   "cell_type": "markdown",
   "id": "16b0968a",
   "metadata": {},
   "source": [
    "### 1 - Exploring the Tensorflow Library Cont..."
   ]
  },
  {
   "cell_type": "markdown",
   "id": "41540672",
   "metadata": {},
   "source": [
    "Now that you have imported the library, we will walk you through its different\n",
    "applications. You will start with an example, where we compute for you the loss of\n",
    "one training example"
   ]
  },
  {
   "cell_type": "markdown",
   "id": "b1fe4583",
   "metadata": {},
   "source": [
    "Run the following lines of code. Given the formula above, does the output make\n",
    "sense?"
   ]
  },
  {
   "cell_type": "code",
   "execution_count": 2,
   "id": "9802d954",
   "metadata": {},
   "outputs": [
    {
     "name": "stdout",
     "output_type": "stream",
     "text": [
      "9\r\n"
     ]
    }
   ],
   "source": [
    "y_hat=tf.constant(36) #Define y_hat constant. Set to 36\n",
    "y=tf.constant(39) # Define y. Set to 39\n",
    "\n",
    "loss=(y-y_hat)**2 #Calculate the loss\n",
    "tf.print(loss)"
   ]
  },
  {
   "cell_type": "markdown",
   "id": "955addfa",
   "metadata": {},
   "source": [
    "### 1 - Exploring the Tensorflow Library Cont..."
   ]
  },
  {
   "cell_type": "markdown",
   "id": "87b85fc2",
   "metadata": {},
   "source": [
    "Note: Most functions that you could apply to a numpy array will also work on\n",
    "tensorflow tensors, but instead of np.function() it will be tf.function()"
   ]
  },
  {
   "cell_type": "markdown",
   "id": "5080c2bb",
   "metadata": {},
   "source": [
    "### 1.1 Initializing Tensors"
   ]
  },
  {
   "cell_type": "markdown",
   "id": "dfe3aa2e",
   "metadata": {},
   "source": [
    "Let's see some more examples of how we could initialize tensors. Run the\n",
    "following lines of code on your own and see what the output is. This should look\n",
    "very familiar if you’re used to numpy"
   ]
  },
  {
   "cell_type": "code",
   "execution_count": 3,
   "id": "d8e8a165",
   "metadata": {},
   "outputs": [
    {
     "name": "stdout",
     "output_type": "stream",
     "text": [
      "[[4]]\r\n"
     ]
    }
   ],
   "source": [
    "x=tf.constant(4,shape=(1,1), dtype=tf.float32)\n",
    "tf.print(x) # We are creating matrix of 4"
   ]
  },
  {
   "cell_type": "code",
   "execution_count": 4,
   "id": "dcff9abf",
   "metadata": {},
   "outputs": [
    {
     "name": "stdout",
     "output_type": "stream",
     "text": [
      "[[1 2 3]\n",
      " [4 5 6]]\r\n"
     ]
    }
   ],
   "source": [
    "x=tf.constant([[1,2,3],[4,5,6]])\n",
    "tf.print(x) # Since we have 2 matrices and they have the same number of rows, with tf.constant, \n",
    "# we are creating a new row to make a second matrix at the bottom of the first one"
   ]
  },
  {
   "cell_type": "code",
   "execution_count": 5,
   "id": "94b38eb9",
   "metadata": {},
   "outputs": [
    {
     "name": "stdout",
     "output_type": "stream",
     "text": [
      "[[1 1 1]\n",
      " [1 1 1]\n",
      " [1 1 1]]\r\n"
     ]
    }
   ],
   "source": [
    "x=tf.ones((3,3))\n",
    "tf.print(x) # We are creating a matrix of 3x3 full of 1's(each number is equal to 1)"
   ]
  },
  {
   "cell_type": "code",
   "execution_count": 6,
   "id": "fe485a9f",
   "metadata": {},
   "outputs": [
    {
     "name": "stdout",
     "output_type": "stream",
     "text": [
      "[[0 0 0]\n",
      " [0 0 0]\n",
      " [0 0 0]]\r\n"
     ]
    }
   ],
   "source": [
    "x=tf.zeros((3,3))\n",
    "tf.print(x) # We are creating a matrix of 3x3 full of 0's(each number is equal to 0)"
   ]
  },
  {
   "cell_type": "code",
   "execution_count": 7,
   "id": "b73975bb",
   "metadata": {},
   "outputs": [
    {
     "name": "stdout",
     "output_type": "stream",
     "text": [
      "[[1 0 0]\n",
      " [0 1 0]\n",
      " [0 0 1]]\r\n"
     ]
    }
   ],
   "source": [
    "x=tf.eye(3)\n",
    "tf.print(x) # We are creating a matrix by using tf.eye of 3x3 matrix and making diagonal numbers equal to 1"
   ]
  },
  {
   "cell_type": "markdown",
   "id": "d1a0d65f",
   "metadata": {},
   "source": [
    "### 1.2 Mathematical Operations\n"
   ]
  },
  {
   "cell_type": "markdown",
   "id": "988adb94",
   "metadata": {},
   "source": [
    "Now let's see some examples of mathematical operations that that we can\n",
    "perform with tensors. Run the following lines of code and see what the output is."
   ]
  },
  {
   "cell_type": "code",
   "execution_count": 8,
   "id": "bc8e3d33",
   "metadata": {},
   "outputs": [
    {
     "name": "stdout",
     "output_type": "stream",
     "text": [
      "[10 10 10]\r\n"
     ]
    }
   ],
   "source": [
    "x=tf.constant([1,2,3])\n",
    "y=tf.constant([9,8,7])\n",
    "\n",
    "z=x+y\n",
    "tf.print(z) # We are adding 1st-row numbers and 2nd-row numbers. For example, 1+9=10, 2+8=10, 3+7=10"
   ]
  },
  {
   "cell_type": "code",
   "execution_count": 9,
   "id": "55e06afb",
   "metadata": {},
   "outputs": [
    {
     "name": "stdout",
     "output_type": "stream",
     "text": [
      "[-8 -6 -4]\r\n"
     ]
    }
   ],
   "source": [
    "z=x-y\n",
    "tf.print(z) # We are subtracting 1st-row numbers from 2nd-row numbers. For example, 1-9=-8, 2-8=-6, 3-7=-4"
   ]
  },
  {
   "cell_type": "code",
   "execution_count": 10,
   "id": "ba312bc6",
   "metadata": {},
   "outputs": [
    {
     "name": "stdout",
     "output_type": "stream",
     "text": [
      "[0.1111111111111111 0.25 0.42857142857142855]\r\n"
     ]
    }
   ],
   "source": [
    "z=x/y\n",
    "tf.print(z) # We are dividing 1st-row numbers into 2nd-row numbers. For example, 1/9=0.1111111111111111, 2/8=0.25, 3/7=0.42857142857142855"
   ]
  },
  {
   "cell_type": "code",
   "execution_count": 11,
   "id": "df1c728f",
   "metadata": {},
   "outputs": [
    {
     "name": "stdout",
     "output_type": "stream",
     "text": [
      "[9 16 21]\r\n"
     ]
    }
   ],
   "source": [
    "z=x*y\n",
    "tf.print(z)# We are multiplying 1st-row numbers into 2nd-row numbers. For example, 1*9=9, 2*8=16, 3*7=21"
   ]
  },
  {
   "cell_type": "code",
   "execution_count": 12,
   "id": "4026aaa2",
   "metadata": {},
   "outputs": [
    {
     "name": "stdout",
     "output_type": "stream",
     "text": [
      "46\r\n"
     ]
    }
   ],
   "source": [
    "z=tf.tensordot(x,y,axes=1)\n",
    "tf.print(z) # So, here we multiply first and then add them together. For example\n",
    "# (1*9)=9\n",
    "# (2*8)=16\n",
    "# (3*7)=21\n",
    "#and then just adding them together 9+16+21= 46"
   ]
  },
  {
   "cell_type": "code",
   "execution_count": 13,
   "id": "0107ab2c",
   "metadata": {},
   "outputs": [
    {
     "name": "stdout",
     "output_type": "stream",
     "text": [
      "[1 32 243]\r\n"
     ]
    }
   ],
   "source": [
    "z=x**5\n",
    "tf.print(z) #---> x=tf.constant([1,2,3]). So, basically, we are powering numbers by 5. For example, 1^5=1, 2^5=32, 3^5=243"
   ]
  },
  {
   "cell_type": "code",
   "execution_count": 14,
   "id": "8b77e853",
   "metadata": {},
   "outputs": [
    {
     "name": "stdout",
     "output_type": "stream",
     "text": [
      "[[-4.14169121 3.72763848 3.07543683 -1.22759295]\n",
      " [2.54111814 -2.38830709 -2.22173452 0.809899926]]\r\n"
     ]
    }
   ],
   "source": [
    "x=tf.random.normal((2,3)) # We are randomized X\n",
    "y=tf.random.normal((3,4)) # We are randomized Y\n",
    "\n",
    "z=tf.matmul(x,y) # We are multiplying X matrix to Y matrix using special keyboard MATMUL\n",
    "tf.print(z)"
   ]
  },
  {
   "cell_type": "markdown",
   "id": "bec50cf9",
   "metadata": {},
   "source": [
    "### 1.3 Indexing\n"
   ]
  },
  {
   "cell_type": "markdown",
   "id": "e79fe8c0",
   "metadata": {},
   "source": [
    "To see how we can index tensors, run the following lines of code."
   ]
  },
  {
   "cell_type": "code",
   "execution_count": 15,
   "id": "d1a377ac",
   "metadata": {},
   "outputs": [
    {
     "name": "stdout",
     "output_type": "stream",
     "text": [
      "tf.Tensor([0 1 1 2 3 1 2 3], shape=(8,), dtype=int32)\n"
     ]
    }
   ],
   "source": [
    "x=tf.constant([0,1,1,2,3,1,2,3])\n",
    "print(x[:]) #We are getting all numbers with no expectations!"
   ]
  },
  {
   "cell_type": "code",
   "execution_count": 16,
   "id": "64d347a8",
   "metadata": {},
   "outputs": [
    {
     "name": "stdout",
     "output_type": "stream",
     "text": [
      "tf.Tensor([1 1 2 3 1 2 3], shape=(7,), dtype=int32)\n"
     ]
    }
   ],
   "source": [
    "print(x[1:]) #We are getting all numbers. EXPECT the first number whose index is 0 (number=0)"
   ]
  },
  {
   "cell_type": "code",
   "execution_count": 17,
   "id": "5754a8fb",
   "metadata": {},
   "outputs": [
    {
     "name": "stdout",
     "output_type": "stream",
     "text": [
      "tf.Tensor([1 1], shape=(2,), dtype=int32)\n"
     ]
    }
   ],
   "source": [
    "print(x[1:3]) #We are getting index of number between 1 and 3"
   ]
  },
  {
   "cell_type": "code",
   "execution_count": 18,
   "id": "f4e12954",
   "metadata": {},
   "outputs": [
    {
     "name": "stdout",
     "output_type": "stream",
     "text": [
      "tf.Tensor([0 1 3 2], shape=(4,), dtype=int32)\n"
     ]
    }
   ],
   "source": [
    "print(x[::2]) #We are getting even index of numbers (index: 0,2,4,6)"
   ]
  },
  {
   "cell_type": "code",
   "execution_count": 19,
   "id": "2f901676",
   "metadata": {},
   "outputs": [
    {
     "name": "stdout",
     "output_type": "stream",
     "text": [
      "tf.Tensor([3 2 1 3 2 1 1 0], shape=(8,), dtype=int32)\n"
     ]
    }
   ],
   "source": [
    "print(x[::-1]) #We are reversing the matrix. So, now it starts backward."
   ]
  },
  {
   "cell_type": "code",
   "execution_count": 20,
   "id": "89ccdba0",
   "metadata": {},
   "outputs": [
    {
     "name": "stdout",
     "output_type": "stream",
     "text": [
      "tf.Tensor([0 2], shape=(2,), dtype=int32)\n"
     ]
    }
   ],
   "source": [
    "indices =tf.constant([0,3])\n",
    "x_ind=tf.gather(x,indices)\n",
    "print(x_ind)# It gives us the numbers' index in x. \n",
    "#For Example, we have 0 and 3 and when will look at x matrix we can see index for number 0 is 0 and the index of number 3 is 2"
   ]
  },
  {
   "cell_type": "code",
   "execution_count": 21,
   "id": "81588aec",
   "metadata": {},
   "outputs": [
    {
     "name": "stdout",
     "output_type": "stream",
     "text": [
      "tf.Tensor([1 2], shape=(2,), dtype=int32)\n"
     ]
    }
   ],
   "source": [
    "x=tf.constant([[1,2],[3,4],[5,6],])\n",
    "print(x[0,:]) # We are choosing the first index of the matrix which is [1,2](a subset of the big matrix)"
   ]
  },
  {
   "cell_type": "code",
   "execution_count": 22,
   "id": "1f082460",
   "metadata": {},
   "outputs": [
    {
     "name": "stdout",
     "output_type": "stream",
     "text": [
      "tf.Tensor(\n",
      "[[1 2]\n",
      " [3 4]], shape=(2, 2), dtype=int32)\n"
     ]
    }
   ],
   "source": [
    "print(x[0:2,:]) # We are printing all index until index 2 so our first index(index=0) is [1,2] and second index(index=1) is [3,4]\n",
    "# and the shape says size should be 2 x2, so we are just making the second matrix at the bottom of the first one"
   ]
  },
  {
   "cell_type": "markdown",
   "id": "73a6d253",
   "metadata": {},
   "source": [
    "### 1.4 Reshaping"
   ]
  },
  {
   "cell_type": "markdown",
   "id": "29f4c310",
   "metadata": {},
   "source": [
    "Now let's see how we can reshape. This is something you'll do a lot when passing\n",
    "input into your models. Run the following lines of code to see what happens."
   ]
  },
  {
   "cell_type": "code",
   "execution_count": 23,
   "id": "d8246b44",
   "metadata": {},
   "outputs": [
    {
     "name": "stdout",
     "output_type": "stream",
     "text": [
      "tf.Tensor([0 1 2 3 4 5 6 7 8], shape=(9,), dtype=int32)\n"
     ]
    }
   ],
   "source": [
    "x=tf.range(9)\n",
    "print(x) #We are creating a range of numbers from 0 to 8, not including itself(number =9)"
   ]
  },
  {
   "cell_type": "code",
   "execution_count": 24,
   "id": "f7ad7b1c",
   "metadata": {},
   "outputs": [
    {
     "name": "stdout",
     "output_type": "stream",
     "text": [
      "tf.Tensor(\n",
      "[[0 1 2]\n",
      " [3 4 5]\n",
      " [6 7 8]], shape=(3, 3), dtype=int32)\n"
     ]
    }
   ],
   "source": [
    "x=tf.reshape(x,(3,3))\n",
    "print(x) # Reshaping means that we are now reshaping the previous matrix, which was only in 1 row, to 3x3 matrix"
   ]
  },
  {
   "cell_type": "code",
   "execution_count": 25,
   "id": "c6c34738",
   "metadata": {},
   "outputs": [
    {
     "name": "stdout",
     "output_type": "stream",
     "text": [
      "tf.Tensor(\n",
      "[[0 3 6]\n",
      " [1 4 7]\n",
      " [2 5 8]], shape=(3, 3), dtype=int32)\n"
     ]
    }
   ],
   "source": [
    "x=tf.transpose(x,perm=[1,0])\n",
    "print(x) # Transpose means it will change places of rows and columns. For example, in the first row, we have 0,1,2 after transposing\n",
    "# it will become  0\n",
    "            #     1\n",
    "            #     2"
   ]
  },
  {
   "cell_type": "markdown",
   "id": "2011f0a5",
   "metadata": {},
   "source": [
    "### Exercise\n"
   ]
  },
  {
   "cell_type": "markdown",
   "id": "00965aca",
   "metadata": {},
   "source": [
    "Let's start this programming exercise by computing the following equation:\n",
    "𝑌=𝑊𝑋+𝑏 , where 𝑊 and 𝑋 are random matrices and b is a random vector.\n",
    "<br>\n",
    "Exercise: Compute 𝑊𝑋+𝑏 where 𝑊,𝑋 , and 𝑏 are drawn from a random normal\n",
    "distribution. W is of shape (4, 3), X is (3,1) and b is (4,1).\n",
    "<br>\n",
    "You might find the following functions helpful:\n",
    "    <br><br>\n",
    "● tf.matmul(..., ...) to do a matrix multiplication<br>\n",
    "● tf.add(..., ...) to do an addition<br>\n",
    "● np.random.randn(...) to initialize randomly or tensorflow random<br>\n",
    "<br>\n",
    "See the next slide for how you should create this function"
   ]
  },
  {
   "cell_type": "code",
   "execution_count": 26,
   "id": "0b2cfaf2",
   "metadata": {},
   "outputs": [
    {
     "data": {
      "text/plain": [
       "<tf.Tensor: shape=(4, 1), dtype=float64, numpy=\n",
       "array([[-2.15657382],\n",
       "       [ 2.95891446],\n",
       "       [-1.08926781],\n",
       "       [-0.84538042]])>"
      ]
     },
     "execution_count": 26,
     "metadata": {},
     "output_type": "execute_result"
    }
   ],
   "source": [
    "def linear_function():\n",
    "    np.random.seed(1)\n",
    "    \n",
    "    X = tf.constant(np.random.randn(3, 1), name=\"X\") # First, we need to Initializes X to be a random tensor of shape (3,1)\n",
    "    W = tf.constant(np.random.randn(4, 3), name=\"W\") # Second, we need to Initializes W to be a random tensor of shape (4,3)\n",
    "    b = tf.constant(np.random.randn(4, 1), name=\"b\") # Third, we need to Initializes b to be a random tensor of shape (4,1)\n",
    "    Y = tf.add(tf.matmul(W, X), b) # Then we first using matmul to multiple W*X and the we are using add function to add b\n",
    "    # So our formula is Y = W * X + b\n",
    "    \n",
    "    \n",
    "    return Y # We are calling Y variable\n",
    "linear_function()"
   ]
  },
  {
   "cell_type": "markdown",
   "id": "bf3079f4",
   "metadata": {},
   "source": [
    "# <center>2 - Building your first neural network in tensorflow</center>\n"
   ]
  },
  {
   "cell_type": "markdown",
   "id": "3158f3cc",
   "metadata": {},
   "source": [
    "For this section, we’ll be showing you how to construct a neural network. Please\n",
    "refer back to lecture slides if you’re still iffy or rusty on how neural networks work\n",
    "and things like forward, backpropagation, cost functions, etc. To begin, we’ll need\n",
    "the following imports."
   ]
  },
  {
   "cell_type": "code",
   "execution_count": 27,
   "id": "6f4e1c48",
   "metadata": {},
   "outputs": [],
   "source": [
    "# Importing needed Libraries\n",
    "from tensorflow import keras \n",
    "from tensorflow.keras import layers\n",
    "from tensorflow.keras.datasets import mnist"
   ]
  },
  {
   "cell_type": "markdown",
   "id": "1b11bf92",
   "metadata": {},
   "source": [
    "### 2 - Building your first neural network in tensorflow Cont...\n"
   ]
  },
  {
   "cell_type": "markdown",
   "id": "17bed606",
   "metadata": {},
   "source": [
    "For this section we'll be working with the MNIST dataset. This dataset contains\n",
    "images of digits from 0 to 9. The images are grayscale meaning they only have\n",
    "one channel and the pixels are 28 x 28. Our goal will be to classify each image"
   ]
  },
  {
   "cell_type": "markdown",
   "id": "7d8449bd",
   "metadata": {},
   "source": [
    "Here we can see an\n",
    "example of the MNIST\n",
    "dataset and the type of\n",
    "images that we’ll be working\n",
    "with."
   ]
  },
  {
   "cell_type": "markdown",
   "id": "a15ac7a4",
   "metadata": {},
   "source": [
    "### 2.1 - Loading the data\n"
   ]
  },
  {
   "cell_type": "markdown",
   "id": "27b49b8d",
   "metadata": {},
   "source": [
    "Run the following lines of code"
   ]
  },
  {
   "cell_type": "code",
   "execution_count": 28,
   "id": "479cd8fa",
   "metadata": {},
   "outputs": [
    {
     "name": "stdout",
     "output_type": "stream",
     "text": [
      "(60000, 28, 28)\n"
     ]
    }
   ],
   "source": [
    "(x_train,y_train),(x_test,y_test) = mnist.load_data()\n",
    "print(x_train.shape) # We are training and test X and y"
   ]
  },
  {
   "cell_type": "markdown",
   "id": "bd844184",
   "metadata": {},
   "source": [
    "After loading the data and printing the shape of x_train, we can see that there are\n",
    "60,000 images, where each image is 28 x 28"
   ]
  },
  {
   "cell_type": "markdown",
   "id": "fb458836",
   "metadata": {},
   "source": [
    "#### Recall the general form of a neural network. Can we pass a whole image into this?"
   ]
  },
  {
   "cell_type": "markdown",
   "id": "e430f2e9",
   "metadata": {},
   "source": [
    "Yes, we can pass a whole image into this"
   ]
  },
  {
   "cell_type": "markdown",
   "id": "81716a3b",
   "metadata": {},
   "source": [
    "Since we're going to send this data into a neural network, we must flatten the data\n",
    "so that we have 1 long column with the feature values. In other words, if you recall\n",
    "how input is passed into the neural network, we'll have to make sure that all\n",
    "60,000 images are flattened into 1 long column. We'll later look into convolutional\n",
    "neural networks, which are much better at dealing with image data.\n",
    "\n",
    "Run the following lines of code to accomplish this\n",
    "\n",
    "Note, the -1 ensures that we keep the 1st dimension the same (60,000) because\n",
    "what we want to do is flatten each of the 60,000 images. And converting to float an\n",
    "normalizing (dividing by 255) are just so that we can have faster computations"
   ]
  },
  {
   "cell_type": "code",
   "execution_count": 29,
   "id": "20932657",
   "metadata": {},
   "outputs": [],
   "source": [
    "x_train = x_train.reshape(-1,28*28).astype(\"float32\")/255.0\n",
    "x_test = x_test.reshape(-1,28*28).astype(\"float32\")/255.0 # Explanations are above this line"
   ]
  },
  {
   "cell_type": "markdown",
   "id": "a61ee128",
   "metadata": {},
   "source": [
    "## Creating Our Simple Neural Net"
   ]
  },
  {
   "cell_type": "markdown",
   "id": "0b7b44fa",
   "metadata": {},
   "source": [
    "To start, we’ll create our simple neural network using the “sequential “ from Keras.\n",
    "The sequential is very convenient, but lacks flexibility. See the following slides for\n",
    "more details"
   ]
  },
  {
   "cell_type": "markdown",
   "id": "3dd1f82a",
   "metadata": {},
   "source": [
    "### Do’s and Dont’s of Sequential"
   ]
  },
  {
   "cell_type": "markdown",
   "id": "706b7845",
   "metadata": {},
   "source": [
    "When to use a Sequential model?\n",
    "\n",
    "A Sequential model is appropriate for a plain stack of layers where each layer has\n",
    "exactly one input tensor and one output tensor.\n",
    "\n",
    "\n",
    "A Sequential model is not appropriate when:\n",
    "    \n",
    "● Your model has multiple inputs or multiple outputs <br>\n",
    "● Any of your layers has multiple inputs or multiple outputs <br>\n",
    "● You need to do layer sharing <br>\n",
    "● You want non-linear topology (e.g. a residual connection, a multi-branch\n",
    "model)"
   ]
  },
  {
   "cell_type": "markdown",
   "id": "d529ca71",
   "metadata": {},
   "source": [
    "### Creating a Sequential model"
   ]
  },
  {
   "cell_type": "markdown",
   "id": "169eaf9a",
   "metadata": {},
   "source": [
    "You can create a Sequential model by passing a list of layers to the Sequential\n",
    "constructor:"
   ]
  },
  {
   "cell_type": "code",
   "execution_count": 30,
   "id": "cbf87ba6",
   "metadata": {},
   "outputs": [],
   "source": [
    "model = keras.Sequential ( [\n",
    "    layers.Dense(2,activation=\"relu\"),\n",
    "    layers.Dense(3,activation='relu'),\n",
    "    layers.Dense(4),\n",
    "])"
   ]
  },
  {
   "cell_type": "markdown",
   "id": "58a7c003",
   "metadata": {},
   "source": [
    "### Creating a Sequential model Continued..."
   ]
  },
  {
   "cell_type": "markdown",
   "id": "1bab46c5",
   "metadata": {},
   "source": [
    "Its layers are accessible via the layers attribute:"
   ]
  },
  {
   "cell_type": "code",
   "execution_count": 31,
   "id": "7b1938f8",
   "metadata": {},
   "outputs": [
    {
     "data": {
      "text/plain": [
       "[<keras.layers.core.dense.Dense at 0x14874fc3970>,\n",
       " <keras.layers.core.dense.Dense at 0x14871d88af0>,\n",
       " <keras.layers.core.dense.Dense at 0x14874f9d790>]"
      ]
     },
     "execution_count": 31,
     "metadata": {},
     "output_type": "execute_result"
    }
   ],
   "source": [
    "model.layers"
   ]
  },
  {
   "cell_type": "markdown",
   "id": "3f71a3eb",
   "metadata": {},
   "source": [
    "### Sequential for our neural network"
   ]
  },
  {
   "cell_type": "markdown",
   "id": "888a24de",
   "metadata": {},
   "source": [
    "#### Run the following lines of code and answer the questions on the next slide"
   ]
  },
  {
   "cell_type": "code",
   "execution_count": 32,
   "id": "83c28bf7",
   "metadata": {},
   "outputs": [
    {
     "name": "stdout",
     "output_type": "stream",
     "text": [
      "1875/1875 - 7s - loss: 1.5921 - accuracy: 0.6097 - 7s/epoch - 4ms/step\n",
      "313/313 - 1s - loss: 0.8887 - accuracy: 0.8330 - 1s/epoch - 4ms/step\n"
     ]
    },
    {
     "data": {
      "text/plain": [
       "[0.8886922597885132, 0.8330000042915344]"
      ]
     },
     "execution_count": 32,
     "metadata": {},
     "output_type": "execute_result"
    }
   ],
   "source": [
    "#creatunf our layers\n",
    "model = keras.Sequential([\n",
    "    \n",
    "    layers.Dense(200, activation='relu'),  #<---- FULLY connected layer\n",
    "    layers.Dense(100, activation=\"relu\"),\n",
    "    layers.Dense(10),\n",
    "])\n",
    "#telling keras how to configure the training part of our network. For example \n",
    "# What loss do you want to use for training etc\n",
    "model.compile(\n",
    "    loss=keras.losses.SparseCategoricalCrossentropy(from_logits=True),\n",
    "    optimizer = keras.optimizers.Adam(lr=0.00001),\n",
    "    metrics=['accuracy'],\n",
    ")\n",
    "\n",
    "#fit/train our model. similar to sklearn's fit\n",
    "model.fit(x_train,y_train,batch_size=32,epochs=1,verbose=2)\n",
    "\n",
    "#evaluate using the test data\n",
    "\n",
    "model.evaluate(x_test,y_test,batch_size=32,verbose=2)"
   ]
  },
  {
   "cell_type": "markdown",
   "id": "e4e24d8e",
   "metadata": {},
   "source": [
    "# <center> Questions:</center>\n"
   ]
  },
  {
   "cell_type": "markdown",
   "id": "b8aeffef",
   "metadata": {},
   "source": [
    "#### 1.Why is the last fully connected layer of size 10?<br>\n",
    "It is 10 because there are 10 digits we are trying to classify<br>\n",
    "#### 2.Is cross entropy a good loss function for our problem?<br>\n",
    "In our case, cross-entropy is a suitable loss function because it is frequently employed for \"optimizing classification models.\"\n",
    "\n",
    "#### 3.How can you get the model to perform greater than 95% accuracy on our images? Rewrite the model in a new cell."
   ]
  },
  {
   "cell_type": "code",
   "execution_count": 33,
   "id": "edc173f4",
   "metadata": {},
   "outputs": [
    {
     "name": "stdout",
     "output_type": "stream",
     "text": [
      "Epoch 1/10\n",
      "1875/1875 - 7s - loss: 0.2140 - accuracy: 0.9372 - 7s/epoch - 4ms/step\n",
      "Epoch 2/10\n",
      "1875/1875 - 7s - loss: 0.0893 - accuracy: 0.9732 - 7s/epoch - 4ms/step\n",
      "Epoch 3/10\n",
      "1875/1875 - 6s - loss: 0.0601 - accuracy: 0.9811 - 6s/epoch - 3ms/step\n",
      "Epoch 4/10\n",
      "1875/1875 - 7s - loss: 0.0457 - accuracy: 0.9853 - 7s/epoch - 4ms/step\n",
      "Epoch 5/10\n",
      "1875/1875 - 6s - loss: 0.0374 - accuracy: 0.9880 - 6s/epoch - 3ms/step\n",
      "Epoch 6/10\n",
      "1875/1875 - 6s - loss: 0.0282 - accuracy: 0.9906 - 6s/epoch - 3ms/step\n",
      "Epoch 7/10\n",
      "1875/1875 - 6s - loss: 0.0255 - accuracy: 0.9914 - 6s/epoch - 3ms/step\n",
      "Epoch 8/10\n",
      "1875/1875 - 6s - loss: 0.0219 - accuracy: 0.9925 - 6s/epoch - 3ms/step\n",
      "Epoch 9/10\n",
      "1875/1875 - 7s - loss: 0.0182 - accuracy: 0.9939 - 7s/epoch - 4ms/step\n",
      "Epoch 10/10\n",
      "1875/1875 - 6s - loss: 0.0149 - accuracy: 0.9955 - 6s/epoch - 3ms/step\n",
      "313/313 - 1s - loss: 0.0972 - accuracy: 0.9776 - 1s/epoch - 4ms/step\n"
     ]
    },
    {
     "data": {
      "text/plain": [
       "[0.09717962890863419, 0.9775999784469604]"
      ]
     },
     "execution_count": 33,
     "metadata": {},
     "output_type": "execute_result"
    }
   ],
   "source": [
    "#creatunf our layers\n",
    "model = keras.Sequential([\n",
    "    \n",
    "    layers.Dense(200, activation='relu'), #We are creating 200 layers #<---- FULLY connected layer\n",
    "    layers.Dense(100, activation=\"relu\"),#We are creating 100 layers\n",
    "    layers.Dense(10),#We are creating 10 layers\n",
    "])\n",
    "#telling keras how to configure the training part of our network. For example \n",
    "# What loss do you want to use for training etc\n",
    "model.compile(\n",
    "    loss=keras.losses.SparseCategoricalCrossentropy(from_logits=True),\n",
    "    optimizer = keras.optimizers.Adam(lr=0.001),\n",
    "    metrics=['accuracy'],\n",
    ")\n",
    "\n",
    "#fit/train our model. similar to sklearn's fit\n",
    "model.fit(x_train,y_train,batch_size=32,epochs=10,verbose=2)\n",
    "\n",
    "#evaluate using the test data\n",
    "\n",
    "model.evaluate(x_test,y_test,batch_size=32,verbose=2)"
   ]
  },
  {
   "cell_type": "markdown",
   "id": "80795efd",
   "metadata": {},
   "source": [
    "#### So, I used 10 epochs and increased the learning rate to 0.001 (from 0.00001). As We can see, our accuracy rate became higher than 95%(97.7%)"
   ]
  },
  {
   "cell_type": "markdown",
   "id": "02f22118",
   "metadata": {},
   "source": [
    "### <center>Using Functional API</center>"
   ]
  },
  {
   "cell_type": "code",
   "execution_count": 34,
   "id": "f0ddbcc5",
   "metadata": {},
   "outputs": [
    {
     "name": "stdout",
     "output_type": "stream",
     "text": [
      "Epoch 1/5\n",
      "1875/1875 - 10s - loss: 0.1851 - accuracy: 0.9441 - 10s/epoch - 5ms/step\n",
      "Epoch 2/5\n",
      "1875/1875 - 9s - loss: 0.0790 - accuracy: 0.9757 - 9s/epoch - 5ms/step\n",
      "Epoch 3/5\n",
      "1875/1875 - 9s - loss: 0.0532 - accuracy: 0.9834 - 9s/epoch - 5ms/step\n",
      "Epoch 4/5\n",
      "1875/1875 - 9s - loss: 0.0433 - accuracy: 0.9869 - 9s/epoch - 5ms/step\n",
      "Epoch 5/5\n",
      "1875/1875 - 9s - loss: 0.0324 - accuracy: 0.9893 - 9s/epoch - 5ms/step\n",
      "313/313 - 1s - loss: 0.0540 - accuracy: 0.9831 - 1s/epoch - 4ms/step\n"
     ]
    },
    {
     "data": {
      "text/plain": [
       "[0.05402835085988045, 0.9830999970436096]"
      ]
     },
     "execution_count": 34,
     "metadata": {},
     "output_type": "execute_result"
    }
   ],
   "source": [
    "inputs =keras.Input(shape=(28*28))\n",
    "x = layers.Dense(512, activation ='relu')(inputs)#pass in inputs\n",
    "x = layers.Dense(256, activation ='relu')(x) #pass in previous layer's output\n",
    "outputs=layers.Dense(10, activation =\"softmax\")(x)#pass in previus layer's output\n",
    "model = keras.Model(inputs=inputs,outputs=outputs)\n",
    "\n",
    "model.compile(\n",
    "    loss=keras.losses.SparseCategoricalCrossentropy(from_logits=False),\n",
    "    optimizer = keras.optimizers.Adam(lr=0.001),\n",
    "    metrics= ['accuracy'],\n",
    ")\n",
    "\n",
    "model.fit(x_train,y_train,batch_size=32, epochs=5, verbose=2)\n",
    "model.evaluate(x_test,y_test,batch_size=32,verbose=2)"
   ]
  },
  {
   "cell_type": "markdown",
   "id": "4a1db045",
   "metadata": {},
   "source": [
    "Please run the following and answer the questions on the next slide."
   ]
  },
  {
   "cell_type": "markdown",
   "id": "529553bd",
   "metadata": {},
   "source": [
    "# <center>Questions</center>\n"
   ]
  },
  {
   "cell_type": "markdown",
   "id": "fac4ffac",
   "metadata": {},
   "source": [
    "#### 1. How is functional different from sequential, and why is it considered more flexible?You may be able to tell by just looking at the code.<br>\n",
    "In Function API, we are using specific giving the size of images as 28 x 28 and using this as a variable, while in Sequential, we don't assign. Also, we are using \"Softmax.\" Also, the main difference, as I see in \"SparseCategoricalCrossentropy(from_logits=True)\" in Function API, it is False, while in the Sequential is TRUE, but other things in the \"model. compile\" everything is the same\n",
    "\n",
    "#### 2. What accuracy did you obtain, and how can it be improved if at all?\n",
    "For Sequential, with the number of epochs of 10 and a learning rate of 0.001, I got 97.7% accuracy, while in the Functional API, with only 5 epochs and the same learning rate, I got 98.3% accuracy. As we can see, Functional API gave us higher accuracy. And to improve it we should have more echoes and probably increase the learning rate as well\n"
   ]
  },
  {
   "cell_type": "markdown",
   "id": "931df4e5",
   "metadata": {},
   "source": [
    "# <center>Working with outside data</center>"
   ]
  },
  {
   "cell_type": "markdown",
   "id": "ac293b72",
   "metadata": {},
   "source": [
    "Congrats, you should now know how to build simple neural networks using tensorflow . Note, that the data we used\n",
    "here came form tensorflow. However, we’ll often have to load data from our own computer or other sources (typically\n",
    "images or CSV files). As the final part of this homework, please follow along with this excellent source that comes\n",
    "directly from tensorflow showing you how to work with CSV files.<br>\n",
    "\n",
    "https://www.tensorflow.org/tutorials/load_data/csv\n"
   ]
  },
  {
   "cell_type": "code",
   "execution_count": 35,
   "id": "65c3b481",
   "metadata": {},
   "outputs": [],
   "source": [
    "# Importing all needed Libraries \n",
    "import pandas as pd\n",
    "import numpy as np\n",
    "\n",
    "# Make numpy values easier to read.\n",
    "np.set_printoptions(precision=3, suppress=True)\n",
    "\n",
    "import tensorflow as tf\n",
    "from tensorflow.keras import layers"
   ]
  },
  {
   "cell_type": "code",
   "execution_count": 36,
   "id": "7c765d81",
   "metadata": {},
   "outputs": [
    {
     "data": {
      "text/html": [
       "<div>\n",
       "<style scoped>\n",
       "    .dataframe tbody tr th:only-of-type {\n",
       "        vertical-align: middle;\n",
       "    }\n",
       "\n",
       "    .dataframe tbody tr th {\n",
       "        vertical-align: top;\n",
       "    }\n",
       "\n",
       "    .dataframe thead th {\n",
       "        text-align: right;\n",
       "    }\n",
       "</style>\n",
       "<table border=\"1\" class=\"dataframe\">\n",
       "  <thead>\n",
       "    <tr style=\"text-align: right;\">\n",
       "      <th></th>\n",
       "      <th>Length</th>\n",
       "      <th>Diameter</th>\n",
       "      <th>Height</th>\n",
       "      <th>Whole weight</th>\n",
       "      <th>Shucked weight</th>\n",
       "      <th>Viscera weight</th>\n",
       "      <th>Shell weight</th>\n",
       "      <th>Age</th>\n",
       "    </tr>\n",
       "  </thead>\n",
       "  <tbody>\n",
       "    <tr>\n",
       "      <th>0</th>\n",
       "      <td>0.435</td>\n",
       "      <td>0.335</td>\n",
       "      <td>0.110</td>\n",
       "      <td>0.334</td>\n",
       "      <td>0.1355</td>\n",
       "      <td>0.0775</td>\n",
       "      <td>0.0965</td>\n",
       "      <td>7</td>\n",
       "    </tr>\n",
       "    <tr>\n",
       "      <th>1</th>\n",
       "      <td>0.585</td>\n",
       "      <td>0.450</td>\n",
       "      <td>0.125</td>\n",
       "      <td>0.874</td>\n",
       "      <td>0.3545</td>\n",
       "      <td>0.2075</td>\n",
       "      <td>0.2250</td>\n",
       "      <td>6</td>\n",
       "    </tr>\n",
       "    <tr>\n",
       "      <th>2</th>\n",
       "      <td>0.655</td>\n",
       "      <td>0.510</td>\n",
       "      <td>0.160</td>\n",
       "      <td>1.092</td>\n",
       "      <td>0.3960</td>\n",
       "      <td>0.2825</td>\n",
       "      <td>0.3700</td>\n",
       "      <td>14</td>\n",
       "    </tr>\n",
       "    <tr>\n",
       "      <th>3</th>\n",
       "      <td>0.545</td>\n",
       "      <td>0.425</td>\n",
       "      <td>0.125</td>\n",
       "      <td>0.768</td>\n",
       "      <td>0.2940</td>\n",
       "      <td>0.1495</td>\n",
       "      <td>0.2600</td>\n",
       "      <td>16</td>\n",
       "    </tr>\n",
       "    <tr>\n",
       "      <th>4</th>\n",
       "      <td>0.545</td>\n",
       "      <td>0.420</td>\n",
       "      <td>0.130</td>\n",
       "      <td>0.879</td>\n",
       "      <td>0.3740</td>\n",
       "      <td>0.1695</td>\n",
       "      <td>0.2300</td>\n",
       "      <td>13</td>\n",
       "    </tr>\n",
       "  </tbody>\n",
       "</table>\n",
       "</div>"
      ],
      "text/plain": [
       "   Length  Diameter  Height  Whole weight  Shucked weight  Viscera weight  \\\n",
       "0   0.435     0.335   0.110         0.334          0.1355          0.0775   \n",
       "1   0.585     0.450   0.125         0.874          0.3545          0.2075   \n",
       "2   0.655     0.510   0.160         1.092          0.3960          0.2825   \n",
       "3   0.545     0.425   0.125         0.768          0.2940          0.1495   \n",
       "4   0.545     0.420   0.130         0.879          0.3740          0.1695   \n",
       "\n",
       "   Shell weight  Age  \n",
       "0        0.0965    7  \n",
       "1        0.2250    6  \n",
       "2        0.3700   14  \n",
       "3        0.2600   16  \n",
       "4        0.2300   13  "
      ]
     },
     "execution_count": 36,
     "metadata": {},
     "output_type": "execute_result"
    }
   ],
   "source": [
    "# Getting Dataset Online and creating Labels for it\n",
    "abalone_train = pd.read_csv(\n",
    "    \"https://storage.googleapis.com/download.tensorflow.org/data/abalone_train.csv\",\n",
    "    names=[\"Length\", \"Diameter\", \"Height\", \"Whole weight\", \"Shucked weight\",\n",
    "           \"Viscera weight\", \"Shell weight\", \"Age\"])\n",
    "\n",
    "abalone_train.head()"
   ]
  },
  {
   "cell_type": "code",
   "execution_count": 37,
   "id": "b78808eb",
   "metadata": {},
   "outputs": [],
   "source": [
    "abalone_features = abalone_train.copy()\n",
    "abalone_labels = abalone_features.pop('Age') # We are removing Label called \"Age\""
   ]
  },
  {
   "cell_type": "code",
   "execution_count": 38,
   "id": "8b88d98b",
   "metadata": {},
   "outputs": [
    {
     "data": {
      "text/plain": [
       "array([[0.435, 0.335, 0.11 , ..., 0.136, 0.077, 0.097],\n",
       "       [0.585, 0.45 , 0.125, ..., 0.354, 0.207, 0.225],\n",
       "       [0.655, 0.51 , 0.16 , ..., 0.396, 0.282, 0.37 ],\n",
       "       ...,\n",
       "       [0.53 , 0.42 , 0.13 , ..., 0.374, 0.167, 0.249],\n",
       "       [0.395, 0.315, 0.105, ..., 0.118, 0.091, 0.119],\n",
       "       [0.45 , 0.355, 0.12 , ..., 0.115, 0.067, 0.16 ]])"
      ]
     },
     "execution_count": 38,
     "metadata": {},
     "output_type": "execute_result"
    }
   ],
   "source": [
    "abalone_features = np.array(abalone_features) # Putting them to Array list\n",
    "abalone_features #printing them"
   ]
  },
  {
   "cell_type": "code",
   "execution_count": 39,
   "id": "e5f84dc4",
   "metadata": {},
   "outputs": [],
   "source": [
    "abalone_model = tf.keras.Sequential([ # Here we are using Sequential \n",
    "  layers.Dense(64), # First, making label number 64\n",
    "  layers.Dense(1) # Then just one\n",
    "])\n",
    "\n",
    "abalone_model.compile(loss = tf.keras.losses.MeanSquaredError(), # We are telling here that we want to use MeanSquaredError for our loss function\n",
    "                      optimizer = tf.keras.optimizers.Adam()) # it is like previosly"
   ]
  },
  {
   "cell_type": "code",
   "execution_count": 40,
   "id": "6407df53",
   "metadata": {},
   "outputs": [
    {
     "name": "stdout",
     "output_type": "stream",
     "text": [
      "Epoch 1/10\n",
      "104/104 [==============================] - 1s 3ms/step - loss: 63.3268\n",
      "Epoch 2/10\n",
      "104/104 [==============================] - 0s 3ms/step - loss: 12.2554\n",
      "Epoch 3/10\n",
      "104/104 [==============================] - 0s 3ms/step - loss: 8.9297\n",
      "Epoch 4/10\n",
      "104/104 [==============================] - 0s 3ms/step - loss: 8.3404\n",
      "Epoch 5/10\n",
      "104/104 [==============================] - 0s 3ms/step - loss: 7.8196\n",
      "Epoch 6/10\n",
      "104/104 [==============================] - 0s 4ms/step - loss: 7.4004\n",
      "Epoch 7/10\n",
      "104/104 [==============================] - 0s 3ms/step - loss: 7.0814\n",
      "Epoch 8/10\n",
      "104/104 [==============================] - 0s 4ms/step - loss: 6.8521\n",
      "Epoch 9/10\n",
      "104/104 [==============================] - 0s 3ms/step - loss: 6.6833\n",
      "Epoch 10/10\n",
      "104/104 [==============================] - 0s 2ms/step - loss: 6.5586\n"
     ]
    },
    {
     "data": {
      "text/plain": [
       "<keras.callbacks.History at 0x14807931b20>"
      ]
     },
     "execution_count": 40,
     "metadata": {},
     "output_type": "execute_result"
    }
   ],
   "source": [
    "abalone_model.fit(abalone_features, abalone_labels, epochs=10)"
   ]
  },
  {
   "cell_type": "code",
   "execution_count": 41,
   "id": "a1054aae",
   "metadata": {},
   "outputs": [],
   "source": [
    "normalize = layers.Normalization() # a layer of preparation that normalizes continuous characteristics(Got from the link which you provided me)"
   ]
  },
  {
   "cell_type": "code",
   "execution_count": 42,
   "id": "5f1bfbbd",
   "metadata": {},
   "outputs": [],
   "source": [
    "normalize.adapt(abalone_features)(#The data's mean and variance will be computed by adapt() and stored as the layer's weights.)(Got from the link which you provided me)"
   ]
  },
  {
   "cell_type": "code",
   "execution_count": 43,
   "id": "b2bd2895",
   "metadata": {},
   "outputs": [
    {
     "name": "stdout",
     "output_type": "stream",
     "text": [
      "Epoch 1/10\n",
      "104/104 [==============================] - 1s 3ms/step - loss: 93.8425\n",
      "Epoch 2/10\n",
      "104/104 [==============================] - 0s 2ms/step - loss: 54.7680\n",
      "Epoch 3/10\n",
      "104/104 [==============================] - 0s 3ms/step - loss: 16.3701\n",
      "Epoch 4/10\n",
      "104/104 [==============================] - 0s 3ms/step - loss: 5.7662\n",
      "Epoch 5/10\n",
      "104/104 [==============================] - 0s 3ms/step - loss: 5.0682\n",
      "Epoch 6/10\n",
      "104/104 [==============================] - 0s 3ms/step - loss: 4.9980\n",
      "Epoch 7/10\n",
      "104/104 [==============================] - 0s 3ms/step - loss: 4.9882\n",
      "Epoch 8/10\n",
      "104/104 [==============================] - 0s 3ms/step - loss: 4.9691\n",
      "Epoch 9/10\n",
      "104/104 [==============================] - 0s 3ms/step - loss: 4.9514\n",
      "Epoch 10/10\n",
      "104/104 [==============================] - 0s 3ms/step - loss: 4.9320\n"
     ]
    },
    {
     "data": {
      "text/plain": [
       "<keras.callbacks.History at 0x14808b6f8e0>"
      ]
     },
     "execution_count": 43,
     "metadata": {},
     "output_type": "execute_result"
    }
   ],
   "source": [
    "norm_abalone_model = tf.keras.Sequential([\n",
    "  normalize,\n",
    "  layers.Dense(64),\n",
    "  layers.Dense(1)\n",
    "])\n",
    "\n",
    "norm_abalone_model.compile(loss = tf.keras.losses.MeanSquaredError(),# We are telling here that we want to use MeanSquaredError for our loss function\n",
    "                           optimizer = tf.keras.optimizers.Adam())\n",
    "\n",
    "norm_abalone_model.fit(abalone_features, abalone_labels, epochs=10)"
   ]
  }
 ],
 "metadata": {
  "kernelspec": {
   "display_name": "Python 3 (ipykernel)",
   "language": "python",
   "name": "python3"
  },
  "language_info": {
   "codemirror_mode": {
    "name": "ipython",
    "version": 3
   },
   "file_extension": ".py",
   "mimetype": "text/x-python",
   "name": "python",
   "nbconvert_exporter": "python",
   "pygments_lexer": "ipython3",
   "version": "3.9.12"
  }
 },
 "nbformat": 4,
 "nbformat_minor": 5
}
