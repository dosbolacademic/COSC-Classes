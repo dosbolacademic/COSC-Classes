{
  "cells": [
    {
      "cell_type": "code",
      "execution_count": null,
      "metadata": {
        "id": "qhvlRmM8PsJx"
      },
      "outputs": [],
      "source": [
        "### Cosc4337 Fall 2022 Rizk - HW5"
      ]
    },
    {
      "cell_type": "code",
      "source": [
        "# Dosbol Aliev\n",
        "# MyUH 1867424\n",
        "# Data SCience II"
      ],
      "metadata": {
        "id": "CrCLcxqNwMdk"
      },
      "execution_count": null,
      "outputs": []
    },
    {
      "cell_type": "code",
      "source": [
        "# For this homework, I have used Google Collab, so It was no need to install Libraries"
      ],
      "metadata": {
        "id": "RYFWKAeJwMsY"
      },
      "execution_count": null,
      "outputs": []
    },
    {
      "cell_type": "code",
      "source": [
        "import torch\n",
        "from torch import nn\n",
        "\n",
        "import math\n",
        "import matplotlib.pyplot as plt\n",
        "import torchvision\n",
        "import torchvision.transforms as transforms"
      ],
      "metadata": {
        "id": "va22IJtbwM0t"
      },
      "execution_count": null,
      "outputs": []
    },
    {
      "cell_type": "code",
      "execution_count": null,
      "metadata": {
        "id": "b6H2C2mWPu7d"
      },
      "outputs": [],
      "source": [
        "torch.manual_seed(111)"
      ]
    },
    {
      "cell_type": "code",
      "execution_count": null,
      "metadata": {
        "id": "lDbF-nIyPvEZ"
      },
      "outputs": [],
      "source": [
        "print(f\"Is CUDA supported by this system? {torch.cuda.is_available()}\")"
      ]
    },
    {
      "cell_type": "code",
      "execution_count": null,
      "metadata": {
        "id": "iCROan7gPvHE"
      },
      "outputs": [],
      "source": [
        "device = \"\"\n",
        "if torch.cuda.is_available():\n",
        "    device = torch.device(\"cuda\")\n",
        "else:\n",
        "    device = torch.device(\"cpu\")\n",
        "print(device)"
      ]
    },
    {
      "cell_type": "code",
      "execution_count": null,
      "metadata": {
        "id": "NrWzqMb-PvLm"
      },
      "outputs": [],
      "source": [
        "transform = transforms.Compose(\n",
        "    [transforms.ToTensor(), transforms.Normalize((0.5,), (0.5,))]\n",
        ")"
      ]
    },
    {
      "cell_type": "code",
      "execution_count": null,
      "metadata": {
        "id": "rt6P3rbQPvOC"
      },
      "outputs": [],
      "source": [
        "train_set = torchvision.datasets.MNIST(\n",
        "    root=\".\", train=True, download=True, transform=transform\n",
        ")"
      ]
    },
    {
      "cell_type": "code",
      "execution_count": null,
      "metadata": {
        "id": "V2ZGN1SfPvRd"
      },
      "outputs": [],
      "source": [
        "batch_size = 32\n",
        "train_loader = torch.utils.data.DataLoader(\n",
        "    train_set, batch_size=batch_size, shuffle=True\n",
        ")"
      ]
    },
    {
      "cell_type": "code",
      "execution_count": null,
      "metadata": {
        "id": "Tx11GzGhPvUI"
      },
      "outputs": [],
      "source": [
        "real_samples, mnist_labels = next(iter(train_loader))\n",
        "for i in range(16):\n",
        "    ax = plt.subplot(4, 4, i + 1)\n",
        "    plt.imshow(real_samples[i].reshape(28, 28), cmap=\"gray_r\")\n",
        "    plt.xticks([])\n",
        "    plt.yticks([])"
      ]
    },
    {
      "cell_type": "code",
      "execution_count": null,
      "metadata": {
        "id": "Cfzj89XzPvYZ"
      },
      "outputs": [],
      "source": [
        "class Discriminator(nn.Module):\n",
        "    def __init__(self):\n",
        "        super().__init__()\n",
        "        self.model = nn.Sequential(\n",
        "            nn.Linear(784, 1024),\n",
        "            nn.ReLU(),\n",
        "            nn.Dropout(0.5), # Making DropOut Rate 50%\n",
        "            nn.Linear(1024, 512),\n",
        "            nn.ReLU(),\n",
        "            nn.Dropout(0.5), # Making DropOut Rate 50%\n",
        "            nn.Linear(512, 256),\n",
        "            nn.ReLU(),\n",
        "            nn.Dropout(0.5), # Making DropOut Rate 50%\n",
        "            nn.Linear(256, 1),\n",
        "            nn.Sigmoid(),\n",
        "        )\n",
        "\n",
        "    def forward(self, x):\n",
        "        x = x.view(x.size(0), 784)\n",
        "        output = self.model(x)\n",
        "        return output\n",
        "discriminator=Discriminator().to(device=device)"
      ]
    },
    {
      "cell_type": "code",
      "execution_count": null,
      "metadata": {
        "id": "0umQh-oDPveY"
      },
      "outputs": [],
      "source": [
        "class Generator(nn.Module):\n",
        "    def __init__(self):\n",
        "        super().__init__()\n",
        "        self.model = nn.Sequential(\n",
        "            nn.Linear(100, 256),\n",
        "            nn.ReLU(),\n",
        "            nn.Linear(256, 512),\n",
        "            nn.ReLU(),\n",
        "            nn.Linear(512, 1024),\n",
        "            nn.ReLU(),\n",
        "            nn.Linear(1024, 784),\n",
        "            nn.Tanh(),\n",
        "        )\n",
        "\n",
        "    def forward(self, x):\n",
        "        output = self.model(x)\n",
        "        output = output.view(x.size(0), 1, 28, 28)\n",
        "        return output\n",
        "generator=Generator().to(device=device)"
      ]
    },
    {
      "cell_type": "code",
      "execution_count": null,
      "metadata": {
        "id": "FonYE0qoPvhA"
      },
      "outputs": [],
      "source": []
    },
    {
      "cell_type": "code",
      "execution_count": null,
      "metadata": {
        "id": "aCNTduYFPvjv"
      },
      "outputs": [],
      "source": [
        "lr = 1 * (10)**(-4)\n",
        "num_epochs = 50 # Making number of Epochs 50 because in pdf file also 50\n",
        "loss_function = nn.BCELoss()\n",
        "\n",
        "optimizer_discriminator = torch.optim.Adam(discriminator.parameters(), lr=lr)\n",
        "optimizer_generator = torch.optim.Adam(generator.parameters(), lr=lr)"
      ]
    },
    {
      "cell_type": "code",
      "execution_count": null,
      "metadata": {
        "id": "ID5irXSPPvqM"
      },
      "outputs": [],
      "source": [
        "for epoch in range(num_epochs):\n",
        "    for n,(real_samples,mnist_labels) in enumerate(train_loader):\n",
        "        \n",
        "        # Data for training the discriminator\n",
        "        real_samples=real_samples.to(device=device)\n",
        "        real_sample_labels=torch.ones((batch_size,1)).to(device=device)\n",
        "        \n",
        "        \n",
        "        latent_space_samples=torch.randn((batch_size,100)).to(device=device)\n",
        "        \n",
        "        \n",
        "        generated_samples=generator(latent_space_samples)\n",
        "        \n",
        "\n",
        "        generated_sample_labels=torch.zeros((batch_size,1)).to(device=device)\n",
        "        \n",
        "        \n",
        "        all_samples=torch.cat((real_samples,generated_samples))\n",
        "        all_sample_labels=torch.cat((real_sample_labels,generated_sample_labels))\n",
        "        \n",
        "        # Training the discriminator\n",
        "        \n",
        "        \n",
        "        discriminator.zero_grad()   \n",
        "        output_discriminator=discriminator(all_samples)\n",
        "        loss_discriminator=loss_function(output_discriminator,all_sample_labels)\n",
        "        loss_discriminator.backward()\n",
        "        optimizer_discriminator.step()\n",
        "        \n",
        "        \n",
        "        \n",
        "        latent_space_samples=torch.randn((batch_size,100)).to(device=device)\n",
        "        \n",
        "        \n",
        "        \n",
        "        generator.zero_grad()\n",
        "        generated_samples=generator(latent_space_samples)\n",
        "        output_discriminator_generated=discriminator(generated_samples)\n",
        "        loss_generator=loss_function(output_discriminator_generated,real_sample_labels)\n",
        "        loss_generator.backward()\n",
        "        optimizer_generator.step()\n",
        "        \n",
        "         # Show loss\n",
        "        if n==batch_size-1:\n",
        "            print(f\"Epoch: {epoch} Loss D.: {loss_discriminator}\")\n",
        "            print(f\"Epoch: {epoch} Loss G.: {loss_generator}\")\n",
        "            plt.show(epoch,loss_discriminator)\n",
        "            plt.show(epoch,loss_generator)\n",
        "        "
      ]
    },
    {
      "cell_type": "code",
      "execution_count": null,
      "metadata": {
        "id": "R9jlAM3IPvtY"
      },
      "outputs": [],
      "source": [
        "latent_space_samples = torch.randn(batch_size, 100).to(device=device)\n",
        "generated_samples = generator(latent_space_samples)"
      ]
    },
    {
      "cell_type": "code",
      "execution_count": null,
      "metadata": {
        "id": "K6A0noHTPvwe"
      },
      "outputs": [],
      "source": [
        "# Make sure your output is something like what is below and you should be good."
      ]
    },
    {
      "cell_type": "code",
      "execution_count": null,
      "metadata": {
        "id": "Rl9tYMIuPvzo"
      },
      "outputs": [],
      "source": [
        "generated_samples = generated_samples.cpu().detach()\n",
        "for i in range(16):\n",
        "    ax = plt.subplot(4, 4, i + 1)\n",
        "    plt.imshow(generated_samples[i].reshape(28, 28), cmap=\"gray_r\")\n",
        "    plt.xticks([])\n",
        "    plt.yticks([])"
      ]
    },
    {
      "cell_type": "code",
      "execution_count": null,
      "metadata": {
        "id": "D8Ta-MWzPv23"
      },
      "outputs": [],
      "source": []
    },
    {
      "cell_type": "code",
      "execution_count": null,
      "metadata": {
        "id": "-zFsHvfCPv6y"
      },
      "outputs": [],
      "source": []
    },
    {
      "cell_type": "code",
      "execution_count": null,
      "metadata": {
        "id": "0jhS2K5BPv9-"
      },
      "outputs": [],
      "source": []
    }
  ],
  "metadata": {
    "colab": {
      "provenance": [],
      "private_outputs": true
    },
    "kernelspec": {
      "display_name": "Python 3",
      "name": "python3"
    },
    "language_info": {
      "name": "python"
    },
    "accelerator": "GPU",
    "gpuClass": "standard"
  },
  "nbformat": 4,
  "nbformat_minor": 0
}